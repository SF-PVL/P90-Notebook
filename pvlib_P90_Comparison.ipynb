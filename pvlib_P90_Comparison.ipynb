{
 "cells": [
  {
   "cell_type": "code",
   "execution_count": 5,
   "metadata": {
    "executionInfo": {
     "elapsed": 14,
     "status": "ok",
     "timestamp": 1755552724879,
     "user": {
      "displayName": "Solomon Freer",
      "userId": "07757358301173662182"
     },
     "user_tz": -600
    },
    "id": "DD8Spbj4Flre"
   },
   "outputs": [],
   "source": [
    "# Comparison of pvlib's uncertainty modelling to SunSolve's new P90 tool.\n",
    "# Testing how adding error functions to pvlib inputs and then repeatedly simulating\n",
    "# the system with random error gives a distribution of yields."
   ]
  },
  {
   "cell_type": "code",
   "execution_count": 6,
   "metadata": {
    "colab": {
     "base_uri": "https://localhost:8080/"
    },
    "executionInfo": {
     "elapsed": 9009,
     "status": "ok",
     "timestamp": 1756792635058,
     "user": {
      "displayName": "Solomon Freer",
      "userId": "07757358301173662182"
     },
     "user_tz": -600
    },
    "id": "IDOaokCHGP8g",
    "outputId": "6e15533c-8b6b-413f-96fa-0236e5afc964"
   },
   "outputs": [
    {
     "name": "stdout",
     "output_type": "stream",
     "text": [
      "Note: you may need to restart the kernel to use updated packages.\n"
     ]
    }
   ],
   "source": [
    "# Set up working folder\n",
    "import os, sys\n",
    "if \"google.colab\" in sys.modules:\n",
    "    from google.colab import drive, data_table\n",
    "    # Mount Google Drive\n",
    "    drive.mount(\"/content/drive\")\n",
    "\n",
    "    # Change the working directory to wherever you have saved this file on your drive\n",
    "    folder = \"/content/drive/MyDrive/Colab Notebooks/Uncertainty Colabs\"\n",
    "    os.chdir(folder)\n",
    "else:\n",
    "    # If Google drive is not available, then run from the current folder\n",
    "    folder = os.getcwd()\n",
    "\n",
    "# Check if the necessary files/folders are available, or clone them from GitHub\n",
    "necessary_files = [\"Data\", \"SunSolveLogo.svg\", \"README.md\", \"pvl_p90_client-0.1.0.156+dev-py3-none-any.whl\", \"UncertaintyFunctions.ipynb\"]\n",
    "if not all(i in os.listdir() for i in necessary_files):\n",
    "    if not \"SunSolve P90\" in os.listdir() or not all(i in os.listdir(\"SunSolve P90\") for i in necessary_files):\n",
    "        os.mkdir(\"SunSolve P90\")\n",
    "        !git clone https://github.com/SF-PVL/P90-Notebook.git \"SunSolve P90\"\n",
    "    os.chdir(\"SunSolve P90\")\n",
    "\n",
    "# Install the P90 client (a pip dependency error may occur for protobuf, but can be ignored)\n",
    "%pip install pvl_p90_client-0.1.0.156+dev-py3-none-any.whl --quiet"
   ]
  },
  {
   "cell_type": "code",
   "execution_count": 194,
   "metadata": {
    "colab": {
     "base_uri": "https://localhost:8080/"
    },
    "executionInfo": {
     "elapsed": 18243,
     "status": "ok",
     "timestamp": 1756792654530,
     "user": {
      "displayName": "Solomon Freer",
      "userId": "07757358301173662182"
     },
     "user_tz": -600
    },
    "id": "e6OmuHUDGKA8",
    "outputId": "8b45fbc6-531f-434c-a619-a426b53bdf12"
   },
   "outputs": [
    {
     "name": "stderr",
     "output_type": "stream",
     "text": [
      "2025-10-09 21:31:21,952 - INFO - Connected to P90 service at middleware.pvlighthouse.com.au\n",
      "2025-10-09 21:31:22,075 - INFO - P90 client connection closed\n"
     ]
    },
    {
     "name": "stdout",
     "output_type": "stream",
     "text": [
      "Connecting to PV Lighthouse...\n",
      "Authenticating...\n",
      "Authentication successful!\n",
      "Loading time step data...\n",
      "Loaded 8760 weather data points\n"
     ]
    }
   ],
   "source": [
    "# Load helper file functions, log in to your PV Lighthouse account and start running a test simulation\n",
    "%run \"UncertaintyFunctions.ipynb\"\n",
    "\n",
    "# Set uncertainty simulation constants (time scales with N_SIMS*N_YEARS, 5000*5 ≈ 120 seconds in P90, but around 20 minutes in pvlib)\n",
    "N_SIMS = 6000    # Need to reduce this here, as pvlib will take hours to do thousands of simulations, generally.\n",
    "N_YEARS = 12\n",
    "simulation_options = build_simulation_options(number_of_years=N_YEARS, number_of_simulations=N_SIMS)\n",
    "\n",
    "# Set P-value preferences\n",
    "p_values = [10, 50, 90]     # e.g. [50, 90, 95] -> P50, P90, P95\n",
    "p_min = 0.30                # The minimum fraction of P50 to be binned on histograms (extreme here to help validation)\n",
    "p_delta = 0.02              # The bin size for histograms\n",
    "result_options = build_result_options(p_min=p_min, p_delta=p_delta, p_values=p_values)\n",
    "\n",
    "# Collect weather data: sydney.pvw file is provided as part of the source\n",
    "weather_file_path = \"Data/sydney.pvw\"\n",
    "weather_data = load_weather_data_from_pvw_file(weather_file_path)\n",
    "\n",
    "# Set up system\n",
    "module_info = build_module_info(length=2.0, width=1.0, bifaciality=0.8)\n",
    "\n",
    "system_info = build_system_info(\n",
    "    modules_per_string=1,\n",
    "    fallback_module_tilt_in_degrees=30,\n",
    "    number_of_inverters=1,\n",
    "    num_strings_per_inverter=1,\n",
    "    row_pitch_in_m=5.6,\n",
    "    azimuth_in_degrees=90            # Direction modules face for positive tilt. 0=North, 90=East, 180=South\n",
    ")\n",
    "\n",
    "electrical_settings = build_electrical_settings(\n",
    "    inverter_efficiency=0.98,\n",
    "    module_to_module_mismatch=0.01,\n",
    "    string_wiring_loss=0.01,\n",
    "    inverter_wiring_loss=0.01,\n",
    "    max_power_tracking_loss=0.0\n",
    ")\n",
    "\n",
    "thermal_settings = build_thermal_settings(uc=25, uv=1.2, alpha=0.9)\n",
    "\n",
    "optical_settings = build_optical_settings(fallback_albedo=0.2,\n",
    "    fallback_soiling_front=0.02, fallback_soiling_rear=0.002,\n",
    "    isotropic_multiplier_front=1)\n",
    "\n",
    "operational_settings = build_operational_settings(annual_degradation_rate=0.005,\n",
    "    curtailment=0.02, availability=0.98)"
   ]
  },
  {
   "cell_type": "code",
   "execution_count": 195,
   "metadata": {
    "colab": {
     "base_uri": "https://localhost:8080/",
     "height": 349,
     "referenced_widgets": [
      "1f10371ec96f485f81d674ee8a37e37b",
      "dd83b6e19bb74ea8b0a230c51b540c9b",
      "b52c6f619126435e9ce39ea8f45d92bd",
      "47269f5a34164b579d97fbc9a1f5423d",
      "a197ca1f466d4e2bb56b35d6a7a45134",
      "2344126a5e1b41be942146ddc287331f",
      "31d6605b6bd44129ae690b2a13718d3f"
     ]
    },
    "executionInfo": {
     "elapsed": 629,
     "status": "ok",
     "timestamp": 1756792657789,
     "user": {
      "displayName": "Solomon Freer",
      "userId": "07757358301173662182"
     },
     "user_tz": -600
    },
    "id": "PcAnA5ktGzTN",
    "outputId": "a0a23246-d083-459c-9f68-27dbf7043446"
   },
   "outputs": [
    {
     "data": {
      "application/vnd.jupyter.widget-view+json": {
       "model_id": "ad5fb86ccdaa429498dcef3854f0f8f3",
       "version_major": 2,
       "version_minor": 0
      },
      "text/plain": [
       "interactive(children=(IntSlider(value=1, description='Day of year:', max=365, min=1), Output()), _dom_classes=…"
      ]
     },
     "metadata": {},
     "output_type": "display_data"
    }
   ],
   "source": [
    "# View irradiance data for specific day. If plot is displayed multiple times, this is a VS Code issue. Try restarting the kernel.\n",
    "interactive_weather_plot(weather_file_path, weather_data)"
   ]
  },
  {
   "cell_type": "markdown",
   "metadata": {
    "id": "KtBpOUPSG9_V"
   },
   "source": [
    "## Set Up Modifiers to Introduce Uncertainty\n",
    "\n",
    "Set up input distributions (probability distribution functions)\n",
    "\n",
    "Targets: ('ModifierTarget.____')\n",
    "\n",
    "GHI, DiffuseFraction, WindSpeed, Temperature, etaSTC, FrontSpectral, FrontSoiling, RearSoiling, Uc, Uv, Alpha, Degradation, Availability, ExtraYearly, HayModel, UndulatingGround, OpticalTracking\n",
    "\n",
    "sim_pdf: site-to-site error, affecting all years; year_pdf: year-to-year error; time_pdf: hour-to-hour error\n",
    "\n",
    "Note: for Degradation, etaSTC, FrontSoiling and RearSoiling, the sim_pdf value is not a multiplier, but sets the distribution of values. Degradation is a rate/year and should be negative, soiling should be positive."
   ]
  },
  {
   "cell_type": "code",
   "execution_count": 196,
   "metadata": {
    "colab": {
     "base_uri": "https://localhost:8080/",
     "height": 545,
     "referenced_widgets": [
      "37a21d55f90b4d3db2d43ad23c20bf7c",
      "ae99dd0340424a5996a3f5feb01b4cf5",
      "c0a71ee6ea6d41aaa277c827b8f841c7",
      "ae40b793f83f44e9b021d8c47ce1830d",
      "4dfa253d96d340cb9c1a40ab64ec7806",
      "c7cf3f0405d44d3aa83eae24eb833817",
      "b37b1c8c93b0423b8753c97d87cc5ed8",
      "888f58843983413c9fe8748c7e6ed6de",
      "919ffe2814f14db0902d415c62a9fa57",
      "0748059e3b6842dba38e221613cbcf54",
      "a346c3d074954cb4a1e1c99713407f5b",
      "8be7660e3a2e43aebb146c476c6bd92a",
      "f194340683ba4d16a429d5373d433395",
      "a4ab8dd701fa41c28516a3303e31a753",
      "4e0eaa80b242453682fdc269437822bf",
      "586051211e0f49a488ac4046f0eebf03",
      "1980e2d93d024cb2951733b337b29bdf",
      "3b5b6f47618b4647965f2f5a99cbdf35",
      "60112cf5ccc4408182e0d9c6dad99f74",
      "22d3b0d03af74e85b1bf41b1fd3e649c",
      "860e09d51cfa45a68123b04d1a7ec9f3",
      "ae3fb5c5020a48ada7786cb128ef0d14",
      "acacaebb93f84d74a568eaef66a71ca1",
      "20ea8bf7d8984794aa6de0bc3182d114",
      "386f68528f4a4320af2354f19b74383f",
      "7a28ffb7740d496fbf7c69207c190c94",
      "ba5bbb6ae81c4b6890f1260d96f5eabb",
      "f3f8cc8b9e45427b956efe7ea27fb14d",
      "eb8238bcfd774aed9189f17aa04931ee",
      "70e233df402a49b68e8542016102bdad",
      "84e10fbb8c984ccf8a82703453c45100",
      "38cf2fd737ae4ce1bb3a5d22fd02c8cf",
      "97b29d316f3343578aeb0b34170b2954",
      "9f7b04b7d37f4f7fa8670c62ff659bef",
      "9c5f0f36d2f94fc785b6f07940ba61ba",
      "937c5f40a3ba4c8c87a99eb906bb5f9a",
      "3480129cf9904b06baa6daaee1fa8772",
      "36d1eea22ce840a89304ff9d7a89b347",
      "b176e3e613d84396a48dac5a694b1c53",
      "27e2cbc5621d48bc83fa75e051dcf2e2",
      "f7580669073449a8ad34515f7c2214f1",
      "75b97079786440d585d8c3bc4ec9bc39",
      "424c2f37ce7e4824b6dacec8c0fad243",
      "7e42940f5fcd4b84a906e79b43be7ded",
      "d7969d3b7b204e7e9f3e4ddd0e8704bb",
      "928d6c2cb16a40e687522f308919ef85",
      "156e8f3e053f4136b2e11dd0aa2bcd99",
      "ca64f3742d124298867385761c82e2c2",
      "63573651ab764cc29bdf3e61973df6dc",
      "0c6c27df4e8a4d01b44a2fa775d8f2f0",
      "9c166faa0ab3476e93c1a6915b088af4",
      "a7732ee9dc664a69b19c324988051730",
      "9ca46e52b3b14579a6711ddf30c0b791",
      "6d6206d815354366b60be29ca9a32109",
      "ba8210d3eab04822b58917a38700ccd4"
     ]
    },
    "executionInfo": {
     "elapsed": 458,
     "status": "ok",
     "timestamp": 1755838570453,
     "user": {
      "displayName": "Solomon Freer",
      "userId": "07757358301173662182"
     },
     "user_tz": -600
    },
    "id": "4C4DxRolG5_G",
    "outputId": "fe5f7c47-77dc-47de-dcc6-a912eb632956"
   },
   "outputs": [
    {
     "data": {
      "application/vnd.jupyter.widget-view+json": {
       "model_id": "ce18316ab24c45618cd9632de9e0ec8a",
       "version_major": 2,
       "version_minor": 0
      },
      "text/plain": [
       "VBox(children=(VBox(children=(Dropdown(description='Distribution:', layout=Layout(width='30%'), options=('Gaus…"
      ]
     },
     "metadata": {},
     "output_type": "display_data"
    }
   ],
   "source": [
    "# Interactive probability density function (pdf) viewer, to help define your error functions\n",
    "interactive_distribution_plot()"
   ]
  },
  {
   "cell_type": "code",
   "execution_count": 197,
   "metadata": {
    "executionInfo": {
     "elapsed": 7,
     "status": "ok",
     "timestamp": 1756792718172,
     "user": {
      "displayName": "Solomon Freer",
      "userId": "07757358301173662182"
     },
     "user_tz": -600
    },
    "id": "mCOvEjGdHCjB"
   },
   "outputs": [
    {
     "name": "stdout",
     "output_type": "stream",
     "text": [
      "Parsed distributions:\n",
      "GHI: {'sim_to_sim': None, 'yr_to_yr': ['Gaussian', 1.0, 0.04], 'step_to_step': None}\n",
      "AnnualDegradationRate: {'sim_to_sim': None, 'yr_to_yr': ['SkewedGaussian', -2.0, 1.0, 0.05], 'step_to_step': None}\n",
      "Temperature: {'sim_to_sim': ['SkewedGaussian', 2.0, 0.3, 0.1], 'yr_to_yr': None, 'step_to_step': None}\n",
      "Availability: {'sim_to_sim': ['Weibull', 1.0, 0.15, 1.2, False], 'yr_to_yr': None, 'step_to_step': None}\n"
     ]
    }
   ],
   "source": [
    "# Using unrealistic distributions here, for the comparison. Realistic distributions are harder to compare since they will simplify to a Gaussian (Central Limit Theorem).\n",
    "# Be careful if adding complexity here, as the pvlib code will take a long time when many distributions are applied\n",
    "distribution_list = [\n",
    "    create_distribution(DistributionInput.GHI, yearToYear=[\"Gaussian\", 1, 0.04]),\n",
    "    create_distribution(DistributionInput.AnnualDegradationRate, yearToYear=['SkewedGaussian', -2, 1, 0.05]),\n",
    "    create_distribution(DistributionInput.Temperature, simToSim=['SkewedGaussian', 2, 0.3, 0.1]),\n",
    "    create_distribution(DistributionInput.Availability, simToSim=['Weibull', 1, 0.15, 1.2, False])\n",
    "]\n",
    "distributions = parse_distribution_list(distribution_list)\n",
    "print(\"Parsed distributions:\")\n",
    "for key, value in distributions.items():\n",
    "    print(f\"{key}: {value}\")"
   ]
  },
  {
   "cell_type": "markdown",
   "metadata": {
    "id": "UkYFmwO3HHK0"
   },
   "source": [
    "## Send Request and Start SunSolve P90 Analysis"
   ]
  },
  {
   "cell_type": "code",
   "execution_count": 198,
   "metadata": {
    "colab": {
     "base_uri": "https://localhost:8080/"
    },
    "executionInfo": {
     "elapsed": 65479,
     "status": "ok",
     "timestamp": 1756792795084,
     "user": {
      "displayName": "Solomon Freer",
      "userId": "07757358301173662182"
     },
     "user_tz": -600
    },
    "id": "sVyGGELZHEo5",
    "outputId": "92dd9483-5649-45c7-d4ad-69ef7a458704"
   },
   "outputs": [
    {
     "name": "stderr",
     "output_type": "stream",
     "text": [
      "2025-10-09 21:31:22,321 - INFO - Connected to P90 service at middleware.pvlighthouse.com.au\n",
      "2025-10-09 21:31:22,328 - INFO - Starting P90 analysis request\n"
     ]
    },
    {
     "name": "stdout",
     "output_type": "stream",
     "text": [
      "Starting uncertainty analysis...\n"
     ]
    },
    {
     "name": "stderr",
     "output_type": "stream",
     "text": [
      "2025-10-09 21:31:30,220 - INFO - === P90 Analysis Inputs Used ===\n",
      "2025-10-09 21:31:30,221 - INFO - Module: Length=2.000m, Width=1.000m, HeightAboveGround=1.500m, PowerRatingAtSTC=460.0W, CellToCellMismatch=0.0040, EfficiencyTempCoeff=0.002950, Bifaciality=0.800\n",
      "2025-10-09 21:31:30,222 - INFO - System: ModulesPerString=1, StringsPerInverter=1, NumberOfInverters=1\n",
      "2025-10-09 21:31:30,222 - INFO - System Geometry: RowPitch=5.60m, ModuleAzimuth=90.0°, FallbackModuleTilt=30.0°\n",
      "2025-10-09 21:31:30,222 - INFO - System Tracking: TrackingCalculation=0, TiltLimit=0.0°\n",
      "2025-10-09 21:31:30,223 - INFO - Electrical Efficiencies: InverterEff=0.9800, ModuleToModuleMismatch=0.0100, StringWiringLoss=0.0100\n",
      "2025-10-09 21:31:30,223 - INFO - Electrical Losses: MaxPowerTracking=0.0000, InverterWiring=0.0100, StringToStringMismatch=0.0000, InverterToInverterMismatch=0.0000\n",
      "2025-10-09 21:31:30,224 - INFO - Optical Multipliers: BeamFront=1.000, BeamRear=1.000, IsotropicFront=1.000, IsotropicRear=1.000\n",
      "2025-10-09 21:31:30,224 - INFO - Optical Fallbacks: Albedo=0.200, SoilingFront=0.0200, SoilingRear=0.0020, SpectralCorrection=1.0000, ExtraIrradiance=1.0000, RearTransmissionFactor=0.000, RearStructuralShadingFactor=0.000\n",
      "2025-10-09 21:31:30,225 - INFO - Thermal: Uc=25.00°C, Uv=1.20°C, Alpha=0.900000\n",
      "2025-10-09 21:31:30,225 - INFO - Operational: AnnualDegradationRate=0.0050, Curtailment=0.0200, Availability=0.9800, DCHealth=1.0000, UndulatingGround=1.000000, YieldModifier=1.0000\n",
      "2025-10-09 21:31:30,226 - INFO - Simulation: 12 years, 6000 simulations\n",
      "2025-10-09 21:31:30,226 - INFO - Result Options: PMin=0.30, PDelta=0.02, PValues=[10,50,90]\n",
      "2025-10-09 21:31:30,227 - INFO - === End Inputs Used ===\n"
     ]
    },
    {
     "name": "stdout",
     "output_type": "stream",
     "text": [
      "Progress: 100.00%"
     ]
    },
    {
     "name": "stderr",
     "output_type": "stream",
     "text": [
      "2025-10-09 21:33:30,790 - INFO - Received P90 analysis summary\n"
     ]
    },
    {
     "name": "stdout",
     "output_type": "stream",
     "text": [
      "\n",
      "\n",
      "Analysis complete! Summary contains 36 yearly P-values\n"
     ]
    },
    {
     "name": "stderr",
     "output_type": "stream",
     "text": [
      "2025-10-09 21:33:30,839 - INFO - P90 client connection closed\n"
     ]
    },
    {
     "name": "stdout",
     "output_type": "stream",
     "text": [
      "Request took 129 s, running 72000 simulations in total (560 sims/s)\n"
     ]
    }
   ],
   "source": [
    "# Build and send request\n",
    "p90_request = build_request(\n",
    "    time_step_data=weather_data,\n",
    "    module=module_info,\n",
    "    system=system_info,\n",
    "    electrical=electrical_settings,\n",
    "    optical=optical_settings,\n",
    "    thermal=thermal_settings,\n",
    "    operational=operational_settings,\n",
    "    distributions=distribution_list,\n",
    "    simulation_options=simulation_options,\n",
    "    result_options=result_options\n",
    ")\n",
    "t_start = time.time()\n",
    "summary, used_inputs = request_analysis(p90_request)\n",
    "t_sunsolve = time.time()-t_start"
   ]
  },
  {
   "cell_type": "markdown",
   "metadata": {
    "id": "rj2NuN2jHNOW"
   },
   "source": [
    "## SunSolve P90 Results\n",
    "Results are expressed in terms of 'P50 deviation' (normalised yield), where a value of 1 is the P50 yield for that year.\n",
    "\n",
    "Absolute yield estimates are not provided, but [SunSolve Yield](https://sunsolve.info/yield/) can be used to estimate this accurately.\n",
    "\n",
    "A P90 might have a P50 deviation of '0.88' - this means that 90% of simulated yields were at least 88% of the P50 yield.\n",
    "\n",
    "The P50 yields of each year are also compared, where the P50 deviation is displayed relative to the year 1 P50 yield.\n",
    "\n",
    "[Useful reading](https://apvi.org.au/solar-research-conference/wp-content/uploads/2024/12/McIntosh_K_Asymmetry_in_the_energy_yield_forecasts_for_PV_power_plants.pdf)\n",
    "\n",
    "Note: The first and last bins of the histograms are wider than the others, including all values to their left and right, respectively."
   ]
  },
  {
   "cell_type": "code",
   "execution_count": 199,
   "metadata": {
    "colab": {
     "base_uri": "https://localhost:8080/",
     "height": 1000,
     "referenced_widgets": [
      "2a47ee7f3b774443ba86f213889afcd6",
      "8712b160225c44f8b9843b1aee67954b",
      "f559f41292c54a7f8575d59ee6096455",
      "73dfc4dd3fad49e680bfceb8dc94905c",
      "184d724e2b3a4ab99612bb3458c2d253",
      "b6565c47bbc847b8a736249db9a86f58",
      "4bdd3ff440fe404bb5fad68b3fc81200"
     ]
    },
    "executionInfo": {
     "elapsed": 104,
     "status": "ok",
     "timestamp": 1755645730681,
     "user": {
      "displayName": "Solomon Freer",
      "userId": "07757358301173662182"
     },
     "user_tz": -600
    },
    "id": "wg_mKbJ8HJ3F",
    "outputId": "a1f164d7-b1e6-4e40-b7b0-28ad229d737d"
   },
   "outputs": [
    {
     "data": {
      "application/vnd.plotly.v1+json": {
       "config": {
        "plotlyServerURL": "https://plot.ly"
       },
       "data": [
        {
         "marker": {
          "color": "#d2226a"
         },
         "type": "bar",
         "x": [
          1,
          2,
          3,
          4,
          5,
          6,
          7,
          8,
          9,
          10,
          11,
          12
         ],
         "y": [
          1,
          0.9914644845874668,
          0.9886457073786914,
          0.986055666852583,
          0.9768972425501707,
          0.9747549243570099,
          0.9697511453515293,
          0.9650916491269363,
          0.9577986433361502,
          0.9530937548299471,
          0.9497394876624613,
          0.9427468989810313
         ]
        }
       ],
       "layout": {
        "font": {
         "size": 16
        },
        "images": [
         {
          "sizex": 0.2,
          "sizey": 0.2,
          "source": "data:image/svg+xml;base64,PHN2ZyB3aWR0aD0iMjU1IiBoZWlnaHQ9IjcwIiB2aWV3Qm94PSIwIDAgMjU1IDcwIiBmaWxsPSJub25lIiB4bWxucz0iaHR0cDovL3d3dy53My5vcmcvMjAwMC9zdmciPgo8ZyBjbGlwLXBhdGg9InVybCgjY2xpcDBfMzk3XzM2NjIpIj4KPHBhdGggZD0iTTE3NS41MzEgMzcuMDA2QzE3Ni42NiAzOC4yODA2IDE3Ny4yMjYgMzkuODYwMiAxNzcuMjI2IDQxLjc0NDdDMTc3LjIyNiA0My4yOTggMTc2LjgzIDQ0LjY3NSAxNzYuMDQxIDQ1Ljg3MzRDMTc1LjI1IDQ3LjA3MTggMTc0LjE1OCA0OC4wMDgxIDE3Mi43NjQgNDguNjgyM0MxNzEuMzY5IDQ5LjM1NjUgMTY5Ljc1NyA0OS42OTQ4IDE2Ny45MjMgNDkuNjk0OEMxNjYuMDkgNDkuNjk0OCAxNjQuNTA4IDQ5LjM1NjUgMTYzLjAyNiA0OC42ODIzQzE2MS41NDUgNDguMDA4MSAxNjAuMjg5IDQ3LjA4MzcgMTU5LjI2MSA0NS45MTE1QzE1OC4yMzEgNDQuNzM5NCAxNTcuNDkxIDQzLjQyNjcgMTU3LjA0IDQxLjk3NThMMTYwLjI0MiA0MC42MzY4QzE2MC45MjEgNDIuNDcxMyAxNjEuOTMgNDMuODc5MyAxNjMuMjczIDQ0Ljg2MDlDMTY0LjYxNiA0NS44NDI0IDE2Ni4xOTEgNDYuMzMzMiAxNjguMDAxIDQ2LjMzMzJDMTY5LjEwNCA0Ni4zMzMyIDE3MC4wNzEgNDYuMTU0NSAxNzAuOSA0NS43OTcyQzE3MS43MjggNDUuNDM5OCAxNzIuMzc0IDQ0LjkzNzEgMTcyLjgzOSA0NC4yODY3QzE3My4zMDQgNDMuNjM2MyAxNzMuNTM2IDQyLjg3ODcgMTczLjUzNiA0Mi4wMTE1QzE3My41MzYgNDAuODEzMSAxNzMuMjAzIDM5Ljg2NDkgMTcyLjUzOCAzOS4xNjQ1QzE3MS44NzQgMzguNDY0IDE3MC45IDM3LjkzNTIgMTY5LjYyIDM3LjU3NzhMMTY0LjQ2MSAzNS45NzJDMTYyLjQyOCAzNS4zMzU5IDE2MC44NjkgMzQuMzI4MSAxNTkuNzkyIDMyLjk1MzVDMTU4LjcxMiAzMS41NzY0IDE1OC4xNzIgMjkuOTk2OSAxNTguMTcyIDI4LjIxNDhDMTU4LjE3MiAyNi42NjE1IDE1OC41NDMgMjUuMjkxNiAxNTkuMjgyIDI0LjEwNTFDMTYwLjAyMiAyMi45MjExIDE2MS4wNTIgMjEuOTg5NSAxNjIuMzcxIDIxLjMxNTNDMTYzLjY4OCAyMC42NDExIDE2NS4xODggMjAuMzAyOCAxNjYuODcyIDIwLjMwMjhDMTY4LjU1NSAyMC4zMDI4IDE3MC4wNzggMjAuNjA3NyAxNzEuNDQ3IDIxLjIyQzE3Mi44MTUgMjEuODMyMyAxNzMuOTc1IDIyLjY1NDIgMTc0LjkzIDIzLjY4NThDMTc1Ljg4MyAyNC43MTc0IDE3Ni41ODggMjUuODk2NyAxNzcuMDQxIDI3LjIyMTRMMTczLjg3NiAyOC41NjAzQzE3My4yNzMgMjYuOTU0NSAxNzIuMzY5IDI1LjczNzEgMTcxLjE2NSAyNC45MTA0QzE2OS45NjEgMjQuMDgzNyAxNjguNTQxIDIzLjY2OTEgMTY2LjkwOSAyMy42NjkxQzE2NS45MDQgMjMuNjY5MSAxNjUuMDE5IDIzLjg0MDcgMTY0LjI1NCAyNC4xODYxQzE2My40ODkgMjQuNTI5MiAxNjIuODk3IDI1LjAyNzEgMTYyLjQ4NCAyNS42Nzc1QzE2Mi4wNzEgMjYuMzI3OSAxNjEuODYyIDI3LjA5NzUgMTYxLjg2MiAyNy45OTA5QzE2MS44NjIgMjkuMDM2OCAxNjIuMTg4IDI5Ljk2NTkgMTYyLjg0MSAzMC43ODA3QzE2My40OTQgMzEuNTk1NSAxNjQuNDg0IDMyLjIxOTcgMTY1LjgxOCAzMi42NTMzTDE3MC41MjQgMzQuMDY4NUMxNzIuNzMzIDM0Ljc1NyAxNzQuNDAyIDM1LjczODUgMTc1LjUzNCAzNy4wMTA4TDE3NS41MzEgMzcuMDA2Wk0yMDcuNDE5IDQ5LjIzNzRIMjEwLjkyMlYyMC4zMDI4SDIwNy40MTlWNDkuMjM3NFpNMjU1IDM4LjA3ODFDMjU1IDM4LjM1OTIgMjU0Ljk4MSAzOC42NzEzIDI1NC45NDQgMzkuMDE0NEMyNTQuOTA2IDM5LjM1NzUgMjU0Ljg2MSAzOS42ODM5IDI1NC44MTIgMzkuOTg4OEgyMzkuMjgxQzIzOS4zMjggNDEuMDU2MSAyMzkuNTY1IDQyLjAxODYgMjM5Ljk5MyA0Mi44NzM5QzI0MC41NTggNDQuMDA4IDI0MS4zNjEgNDQuODg3MSAyNDIuNDAzIDQ1LjUxMTNDMjQzLjQ0NiA0Ni4xMzU1IDI0NC41ODIgNDYuNDQ3NiAyNDUuODEyIDQ2LjQ0NzZDMjQ3LjE2OSA0Ni40NDc2IDI0OC4zMSA0Ni4xMjgzIDI0OS4yMzkgNDUuNDkyMkMyNTAuMTY5IDQ0Ljg1NjEgMjUwLjkyIDQ0LjAzODkgMjUxLjUgNDMuMDQ1NUwyNTQuNDM3IDQ0LjU3NUMyNTQuMDM1IDQ1LjUxODQgMjUzLjQxMyA0Ni4zNzg1IDI1Mi41NzMgNDcuMTU1MkMyNTEuNzMyIDQ3LjkzMTggMjUwLjczOSA0OC41NTEzIDI0OS41OTggNDkuMDA4N0MyNDguNDU1IDQ5LjQ2NjEgMjQ3LjE4MyA0OS42OTcyIDI0NS43NzcgNDkuNjk3MkMyNDMuODE5IDQ5LjY5NzIgMjQyLjA3MiA0OS4yMjU1IDI0MC41NDIgNDguMjgyMUMyMzkuMDExIDQ3LjM0MSAyMzcuODA1IDQ2LjA0NzMgMjM2LjkyNyA0NC40MDM1QzIzNi4wNDcgNDIuNzU5NiAyMzUuNjEgNDAuOTIwMyAyMzUuNjEgMzguODgxQzIzNS42MSAzNi44NDE2IDIzNi4wNDIgMzQuOTgzMyAyMzYuOTA4IDMzLjM3NzZDMjM3Ljc3NCAzMS43NzE4IDIzOC45NTUgMzAuNTA0MyAyNDAuNDQ4IDI5LjU3NTJDMjQxLjk0MSAyOC42NDYgMjQzLjYxNyAyOC4xNzkxIDI0NS40NzYgMjguMTc5MUMyNDYuOTgzIDI4LjE3OTEgMjQ4LjMxOSAyOC40NTMxIDI0OS40ODggMjkuMDAxQzI1MC42NTUgMjkuNTQ5IDI1MS42NDggMzAuMjg3NSAyNTIuNDYyIDMxLjIxNjdDMjUzLjI3NyAzMi4xNDgyIDI1My45MDYgMzMuMjAzNiAyNTQuMzQ1IDM0LjM5MDFDMjU0Ljc4NCAzNS41NzQyIDI1NS4wMDUgMzYuODAzNSAyNTUuMDA1IDM4LjA3ODFIMjU1Wk0yMzkuOTU1IDM0Ljg4NTZDMjM5LjY2MiAzNS41MDUxIDIzOS40NjQgMzYuMTg2NCAyMzkuMzYxIDM2LjkyOThIMjUxLjIyOEMyNTEuMjExIDM2LjE0NTkgMjUxLjA1MiAzNS40MTkzIDI1MC43NDYgMzQuNzUyMkMyNTAuMjcgMzMuNzA4NyAyNDkuNTY2IDMyLjg3OTYgMjQ4LjYzOCAzMi4yNjczQzI0Ny43MDkgMzEuNjU1MSAyNDYuNjU1IDMxLjM1MDEgMjQ1LjQ3NCAzMS4zNTAxQzI0NC4yOTMgMzEuMzUwMSAyNDMuMjEzIDMxLjY1NTEgMjQyLjIzNCAzMi4yNjczQzI0MS4yNTYgMzIuODc5NiAyNDAuNDk1IDMzLjc1MTYgMjM5Ljk1NSAzNC44ODU2Wk0yMDEuMDA2IDMzLjM3NTJDMjAxLjkyMiAzNC45ODA5IDIwMi4zODIgMzYuODI3MyAyMDIuMzgyIDM4LjkxNjdDMjAyLjM4MiA0MS4wMDYxIDIwMS45MDUgNDIuODU5NiAyMDAuOTUgNDQuNDc3M0MxOTkuOTk0IDQ2LjA5NSAxOTguNzM0IDQ3LjM2OTYgMTk3LjE2NiA0OC4yOTg3QzE5NS41OTUgNDkuMjI3OSAxOTMuODU4IDQ5LjY5MjUgMTkxLjk1IDQ5LjY5MjVDMTkwLjA0MSA0OS42OTI1IDE4OC4yMjIgNDkuMjI3OSAxODYuNjQgNDguMjk4N0MxODUuMDU3IDQ3LjM2OTYgMTgzLjgwMSA0Ni4wODc4IDE4Mi44NzQgNDQuNDU4MkMxODEuOTQ1IDQyLjgyODcgMTgxLjQ4IDQwLjk3OTkgMTgxLjQ4IDM4LjkxNjdDMTgxLjQ4IDM2Ljg1MzUgMTgxLjkzOCAzNS4wMTkxIDE4Mi44NTUgMzMuNDEzM0MxODMuNzcxIDMxLjgwNzUgMTg1LjAyIDMwLjUzMjkgMTg2LjYwMiAyOS41OTE5QzE4OC4xODQgMjguNjQ4NCAxODkuOTY2IDI4LjE3NjcgMTkxLjk1IDI4LjE3NjdDMTkzLjkzMyAyOC4xNzY3IDE5NS42NzcgMjguNjQxMyAxOTcuMjU5IDI5LjU3MjhDMTk4Ljg0MiAzMC41MDQzIDIwMC4wOTEgMzEuNzY5NCAyMDEuMDA2IDMzLjM3NTJaTTE5OC42NTIgMzguOTE5MUMxOTguNjUyIDM3LjUxODIgMTk4LjM1NiAzNi4yNzQ2IDE5Ny43NjcgMzUuMTkzQzE5Ny4xNzUgMzQuMTExMyAxOTYuMzcyIDMzLjI0NDEgMTk1LjM1NiAzMi41OTM3QzE5NC4zMzkgMzEuOTQzMyAxOTMuMjAzIDMxLjYxOTMgMTkxLjk0NyAzMS42MTkzQzE5MC42OTEgMzEuNjE5MyAxODkuNTE4IDMxLjk0MzMgMTg4LjUwMSAzMi41OTM3QzE4Ny40ODUgMzMuMjQ0MSAxODYuNjc1IDM0LjEwOSAxODYuMDcxIDM1LjE5M0MxODUuNDY4IDM2LjI3NyAxODUuMTY4IDM3LjUxODIgMTg1LjE2OCAzOC45MTkxQzE4NS4xNjggNDAuMzIgMTg1LjQ2OCA0MS41NDQ1IDE4Ni4wNzEgNDIuNjY0M0MxODYuNjc1IDQzLjc4NjQgMTg3LjQ4NSA0NC42NjU1IDE4OC41MDEgNDUuMzAxNkMxODkuNTE4IDQ1LjkzNzcgMTkwLjY2OCA0Ni4yNTcgMTkxLjk0NyA0Ni4yNTdDMTkzLjIyNyA0Ni4yNTcgMTk0LjMzOSA0NS45Mzc3IDE5NS4zNTYgNDUuMzAxNkMxOTYuMzcyIDQ0LjY2NTUgMTk3LjE3NSA0My43ODY0IDE5Ny43NjcgNDIuNjY0M0MxOTguMzU2IDQxLjU0MjIgMTk4LjY1MiA0MC4yOTM4IDE5OC42NTIgMzguOTE5MVpNMjI0LjE3NSA0NC4yMTUyTDIxOC40ODggMjguNjM2NUgyMTQuNTdMMjIyLjUxNiA0OS4yMzc0SDIyNS44M0wyMzMuODE0IDI4LjYzNjVIMjI5Ljg5NkwyMjQuMTczIDQ0LjIxNTJIMjI0LjE3NVpNMTQ4LjgzOCAyOS4xNzI2QzE0Ny42OTUgMjguNTEwMiAxNDYuMzk3IDI4LjE3OTEgMTQ0Ljk0MiAyOC4xNzkxQzE0My40ODYgMjguMTc5MSAxNDIuMTIyIDI4LjU0MzYgMTQxLjAwNSAyOS4yNjc5QzE0MC4yMzcgMjkuNzY1OCAxMzkuNjE4IDMwLjQwNDMgMTM5LjE0MSAzMS4xNzM4VjI4LjYzNjVIMTM1LjcxNFY0OS4yMzc0SDEzOS4yMTZWMzcuMDQ0MUMxMzkuMjE2IDM1LjkyMiAxMzkuNDMgMzQuOTYxOSAxMzkuODU3IDM0LjE1OUMxNDAuMjg0IDMzLjM1NjEgMTQwLjg2NiAzMi43MzE5IDE0MS42MDggMzIuMjg2NEMxNDIuMzQ4IDMxLjg0MDkgMTQzLjE5NSAzMS42MTY5IDE0NC4xNTEgMzEuNjE2OUMxNDUuMTA2IDMxLjYxNjkgMTQ1Ljk1MSAzMS44NDA5IDE0Ni42OTMgMzIuMjg2NEMxNDcuNDMyIDMyLjczMTkgMTQ4LjAwNSAzMy4zNTEzIDE0OC40MDYgMzQuMTM5OUMxNDguODA4IDM0LjkzMDkgMTQ5LjAxIDM1Ljg5ODIgMTQ5LjAxIDM3LjA0NDFWNDkuMjM3NEgxNTIuNTVWMzUuODk4MkMxNTIuNTUgMzQuNDIxMSAxNTIuMjE2IDMzLjA5NjQgMTUxLjU1MiAzMS45MjQzQzE1MC44ODUgMzAuNzUyMSAxNDkuOTgyIDI5LjgzNDkgMTQ4Ljg0MSAyOS4xNzI2SDE0OC44MzhaTTEwMS4xNDUgMzQuMDYzN0w5Ni40Mzg0IDMyLjY0ODVDOTUuMTA3MyAzMi4yMTQ5IDk0LjExNjcgMzEuNTkwNyA5My40NjQxIDMwLjc3NTlDOTIuODExNSAyOS45NjExIDkyLjQ4NTIgMjkuMDI5NiA5Mi40ODUyIDI3Ljk4NjFDOTIuNDg1MiAyNy4wOTUxIDkyLjY5MTggMjYuMzIzMiA5My4xMDczIDI1LjY3MjhDOTMuNTIwNSAyNS4wMjI0IDk0LjExMiAyNC41MjY4IDk0Ljg3NzMgMjQuMTgxNEM5NS42NDI2IDIzLjgzODMgOTYuNTI3NiAyMy42NjQ0IDk3LjUzMjMgMjMuNjY0NEM5OS4xNjM4IDIzLjY2NDQgMTAwLjU4MiAyNC4wNzg5IDEwMS43ODggMjQuOTA1NkMxMDIuOTkyIDI1LjczNDcgMTAzLjg5NiAyNi45NDk4IDEwNC41IDI4LjU1NTVMMTA3LjY2NCAyNy4yMTY2QzEwNy4yMTEgMjUuODkyIDEwNi41MDkgMjQuNzEyNyAxMDUuNTU2IDIzLjY4MTFDMTA0LjYgMjIuNjQ5NSAxMDMuNDQxIDIxLjgyNzUgMTAyLjA3MiAyMS4yMTUyQzEwMC43MDQgMjAuNjAzIDk5LjE3NzggMjAuMjk4IDk3LjQ5NzEgMjAuMjk4Qzk1LjgxNjMgMjAuMjk4IDk0LjMxMzkgMjAuNjM2MyA5Mi45OTcgMjEuMzEwNUM5MS42ODAxIDIxLjk4NzEgOTAuNjQ5NSAyMi45MTYzIDg5LjkwNzcgMjQuMTAwNEM4OS4xNjU5IDI1LjI4NDQgODguNzk3NCAyNi42NTQzIDg4Ljc5NzQgMjguMjEwMUM4OC43OTc0IDI5Ljk5NDUgODkuMzM3MyAzMS41NzQxIDkwLjQxNzEgMzIuOTQ4N0M5MS40OTcgMzQuMzI1OCA5My4wNTMzIDM1LjMzMTEgOTUuMDg2MiAzNS45NjczTDEwMC4yNDYgMzcuNTczQzEwMS41MjggMzcuOTMwNCAxMDIuNDk5IDM4LjQ1OTMgMTAzLjE2NCAzOS4xNTk3QzEwMy44MjggMzkuODYwMiAxMDQuMTYyIDQwLjgxMDcgMTA0LjE2MiA0Mi4wMDY3QzEwNC4xNjIgNDIuODczOSAxMDMuOTI5IDQzLjYzMTUgMTAzLjQ2NCA0NC4yODE5QzEwMyA0NC45MzI0IDEwMi4zNTQgNDUuNDM1IDEwMS41MjUgNDUuNzkyNEMxMDAuNjk3IDQ2LjE0OTggOTkuNzI5NSA0Ni4zMjg1IDk4LjYyNjIgNDYuMzI4NUM5Ni44MTg2IDQ2LjMyODUgOTUuMjQzNSA0NS44Mzc3IDkzLjkwMDcgNDQuODU2MUM5Mi41NTggNDMuODc0NiA5MS41NDYyIDQyLjQ2NjUgOTAuODY3OCA0MC42MzIxTDg3LjY2NTkgNDEuOTcxQzg4LjExNjYgNDMuNDI0MyA4OC44NTg0IDQ0LjczNyA4OS44ODg5IDQ1LjkwNjhDOTAuOTE3MSA0Ny4wNzg5IDkyLjE3MyA0OC4wMDMzIDkzLjY1NDMgNDguNjc3NUM5NS4xMzU1IDQ5LjM1MTggOTYuNzY3IDQ5LjY5MDEgOTguNTUxMSA0OS42OTAxQzEwMC4zMzUgNDkuNjkwMSAxMDEuOTk3IDQ5LjM1MTggMTAzLjM5MiA0OC42Nzc1QzEwNC43ODYgNDguMDAzMyAxMDUuODc3IDQ3LjA2NyAxMDYuNjY5IDQ1Ljg2ODZDMTA3LjQ2IDQ0LjY3MDMgMTA3Ljg1NCA0My4yOTU2IDEwNy44NTQgNDEuNzM5OUMxMDcuODU0IDM5Ljg1NTQgMTA3LjI4OCAzOC4yNzU4IDEwNi4xNTkgMzcuMDAxMkMxMDUuMDMgMzUuNzI2NiAxMDMuMzU5IDM0Ljc0NTEgMTAxLjE1IDM0LjA1ODlMMTAxLjE0NSAzNC4wNjM3Wk0xMjYuMTcxIDQwLjgyOThDMTI2LjE3MSA0MS45NTE5IDEyNS45NjUgNDIuOTE5MiAxMjUuNTQ5IDQzLjczNEMxMjUuMTM2IDQ0LjU0ODggMTI0LjU1NiA0NS4xNzMgMTIzLjgxNyA0NS42MDY2QzEyMy4wNzUgNDYuMDQwMiAxMjIuMjI4IDQ2LjI1NyAxMjEuMjc0IDQ2LjI1N0MxMjAuMzIxIDQ2LjI1NyAxMTkuNDc0IDQ2LjA0MDIgMTE4LjczMiA0NS42MDY2QzExNy45OSA0NS4xNzMgMTE3LjQxNSA0NC41NzUgMTE3IDQzLjgxMDJDMTE2LjU4NCA0My4wNDU1IDExNi4zNzggNDIuMTU0NCAxMTYuMzc4IDQxLjEzNDhWMjguNjM2NUgxMTIuODc1VjQxLjUxODNDMTEyLjg3NSA0My4xMjQxIDExMy4xOTUgNDQuNTQ0IDExMy44MzUgNDUuNzgwNUMxMTQuNDc2IDQ3LjAxNyAxMTUuMzggNDcuOTc5NSAxMTYuNTQ3IDQ4LjY2NTZDMTE3LjcxMyA0OS4zNTQxIDExOS4wMjYgNDkuNjk3MiAxMjAuNDgzIDQ5LjY5NzJDMTIxLjk0MSA0OS42OTcyIDEyMy4yNzcgNDkuMzM1MSAxMjQuNDE4IDQ4LjYwODRDMTI1LjE5NSA0OC4xMTUzIDEyNS44MTIgNDcuNDg2MyAxMjYuMjgyIDQ2LjcyNjNWNDkuMjM3NEgxMjkuNzA5VjI4LjYzNjVIMTI2LjE2OVY0MC44Mjk4SDEyNi4xNzFaIiBmaWxsPSIjOUM5QzlDIi8+CjxwYXRoIGQ9Ik00MS43MDk3IDUwLjk3NjZMNTEuNjEzNiA0MC45MjUxQzUyLjk0MjMgMzkuNTc2NyA1Mi4wMDEgMzcuMjcwNSA1MC4xMjMgMzcuMjcwNUgyOC4yMDQ3QzI3LjUxOTMgMzcuMjcwNSAyNi44NjIgMzcuNTQ2OCAyNi4zNzYxIDM4LjAzNzZMMTYuNjI3MSA0Ny45MzE4QzE1LjI5ODQgNDkuMjgwMyAxNi4yMzk3IDUxLjU4NjUgMTguMTE3NyA1MS41ODY1SDQwLjI1NDNDNDAuNzk4OSA1MS41ODY1IDQxLjMyIDUxLjM2NzMgNDEuNzA1IDUwLjk3NjZNNDEuNzA5NyAzMi4zNzkzTDUxLjYxMzYgMjIuMzI3OEM1Mi45NDIzIDIwLjk3OTQgNTIuMDAxIDE4LjY3MzIgNTAuMTIzIDE4LjY3MzJIMjguMjA0N0MyNy41MTkzIDE4LjY3MzIgMjYuODYyIDE4Ljk0OTYgMjYuMzc2MSAxOS40NDI3TDE2LjYyNzEgMjkuMzM0NkMxNS4yOTg0IDMwLjY4MyAxNi4yMzk3IDMyLjk4OTIgMTguMTE3NyAzMi45ODkySDQwLjI1NDNDNDAuNzk4OSAzMi45ODkyIDQxLjMyIDMyLjc3IDQxLjcwNSAzMi4zNzkzTTMzLjk5MzYgMC41TDQ0LjI1NjcgOS44NTU4MUw1OC4wMzE2IDEwLjYwNjNMNTguNzcxIDI0LjU4NjRMNjcuOTg5NSAzNS4wMDI0TDU4Ljc3MSA0NS40MTg0TDU4LjAzMTYgNTkuMzk4NUw0NC4yNTY3IDYwLjE0OUwzMy45OTM2IDY5LjUwNDhMMjMuNzMwNSA2MC4xNDlMOS45NTU1OCA1OS4zOTg1TDkuMjE2MTMgNDUuNDE4NEwwIDM1TDkuMjE4NDggMjQuNTg0TDkuOTU3OTMgMTAuNjAzOUwyMy43MzI4IDkuODUzNDNMMzMuOTkzNiAwLjVaIiBmaWxsPSJ1cmwoI3BhaW50MF9saW5lYXJfMzk3XzM2NjIpIi8+CjwvZz4KPGRlZnM+CjxsaW5lYXJHcmFkaWVudCBpZD0icGFpbnQwX2xpbmVhcl8zOTdfMzY2MiIgeDE9Ii0wLjAzMTY2NzEiIHkxPSI2OS41MzI5IiB4Mj0iNjcuNzI0NSIgeTI9IjIuNzY5NzciIGdyYWRpZW50VW5pdHM9InVzZXJTcGFjZU9uVXNlIj4KPHN0b3Agc3RvcC1jb2xvcj0iI0QyMjI2QSIvPgo8c3RvcCBvZmZzZXQ9IjAuMTMiIHN0b3AtY29sb3I9IiNGRTY3MkUiLz4KPHN0b3Agb2Zmc2V0PSIwLjUiIHN0b3AtY29sb3I9IiNGRDlBMDgiLz4KPHN0b3Agb2Zmc2V0PSIwLjg3IiBzdG9wLWNvbG9yPSIjRkVCRjI0Ii8+CjwvbGluZWFyR3JhZGllbnQ+CjxjbGlwUGF0aCBpZD0iY2xpcDBfMzk3XzM2NjIiPgo8cmVjdCB3aWR0aD0iMjU1IiBoZWlnaHQ9IjY5IiBmaWxsPSJ3aGl0ZSIgdHJhbnNmb3JtPSJ0cmFuc2xhdGUoMCAwLjUpIi8+CjwvY2xpcFBhdGg+CjwvZGVmcz4KPC9zdmc+Cg==",
          "x": 0.4,
          "xanchor": "left",
          "xref": "paper",
          "y": 1.18,
          "yanchor": "top",
          "yref": "paper"
         }
        ],
        "paper_bgcolor": "white",
        "plot_bgcolor": "white",
        "template": {
         "data": {
          "bar": [
           {
            "error_x": {
             "color": "#2a3f5f"
            },
            "error_y": {
             "color": "#2a3f5f"
            },
            "marker": {
             "line": {
              "color": "#E5ECF6",
              "width": 0.5
             },
             "pattern": {
              "fillmode": "overlay",
              "size": 10,
              "solidity": 0.2
             }
            },
            "type": "bar"
           }
          ],
          "barpolar": [
           {
            "marker": {
             "line": {
              "color": "#E5ECF6",
              "width": 0.5
             },
             "pattern": {
              "fillmode": "overlay",
              "size": 10,
              "solidity": 0.2
             }
            },
            "type": "barpolar"
           }
          ],
          "carpet": [
           {
            "aaxis": {
             "endlinecolor": "#2a3f5f",
             "gridcolor": "white",
             "linecolor": "white",
             "minorgridcolor": "white",
             "startlinecolor": "#2a3f5f"
            },
            "baxis": {
             "endlinecolor": "#2a3f5f",
             "gridcolor": "white",
             "linecolor": "white",
             "minorgridcolor": "white",
             "startlinecolor": "#2a3f5f"
            },
            "type": "carpet"
           }
          ],
          "choropleth": [
           {
            "colorbar": {
             "outlinewidth": 0,
             "ticks": ""
            },
            "type": "choropleth"
           }
          ],
          "contour": [
           {
            "colorbar": {
             "outlinewidth": 0,
             "ticks": ""
            },
            "colorscale": [
             [
              0,
              "#0d0887"
             ],
             [
              0.1111111111111111,
              "#46039f"
             ],
             [
              0.2222222222222222,
              "#7201a8"
             ],
             [
              0.3333333333333333,
              "#9c179e"
             ],
             [
              0.4444444444444444,
              "#bd3786"
             ],
             [
              0.5555555555555556,
              "#d8576b"
             ],
             [
              0.6666666666666666,
              "#ed7953"
             ],
             [
              0.7777777777777778,
              "#fb9f3a"
             ],
             [
              0.8888888888888888,
              "#fdca26"
             ],
             [
              1,
              "#f0f921"
             ]
            ],
            "type": "contour"
           }
          ],
          "contourcarpet": [
           {
            "colorbar": {
             "outlinewidth": 0,
             "ticks": ""
            },
            "type": "contourcarpet"
           }
          ],
          "heatmap": [
           {
            "colorbar": {
             "outlinewidth": 0,
             "ticks": ""
            },
            "colorscale": [
             [
              0,
              "#0d0887"
             ],
             [
              0.1111111111111111,
              "#46039f"
             ],
             [
              0.2222222222222222,
              "#7201a8"
             ],
             [
              0.3333333333333333,
              "#9c179e"
             ],
             [
              0.4444444444444444,
              "#bd3786"
             ],
             [
              0.5555555555555556,
              "#d8576b"
             ],
             [
              0.6666666666666666,
              "#ed7953"
             ],
             [
              0.7777777777777778,
              "#fb9f3a"
             ],
             [
              0.8888888888888888,
              "#fdca26"
             ],
             [
              1,
              "#f0f921"
             ]
            ],
            "type": "heatmap"
           }
          ],
          "heatmapgl": [
           {
            "colorbar": {
             "outlinewidth": 0,
             "ticks": ""
            },
            "colorscale": [
             [
              0,
              "#0d0887"
             ],
             [
              0.1111111111111111,
              "#46039f"
             ],
             [
              0.2222222222222222,
              "#7201a8"
             ],
             [
              0.3333333333333333,
              "#9c179e"
             ],
             [
              0.4444444444444444,
              "#bd3786"
             ],
             [
              0.5555555555555556,
              "#d8576b"
             ],
             [
              0.6666666666666666,
              "#ed7953"
             ],
             [
              0.7777777777777778,
              "#fb9f3a"
             ],
             [
              0.8888888888888888,
              "#fdca26"
             ],
             [
              1,
              "#f0f921"
             ]
            ],
            "type": "heatmapgl"
           }
          ],
          "histogram": [
           {
            "marker": {
             "pattern": {
              "fillmode": "overlay",
              "size": 10,
              "solidity": 0.2
             }
            },
            "type": "histogram"
           }
          ],
          "histogram2d": [
           {
            "colorbar": {
             "outlinewidth": 0,
             "ticks": ""
            },
            "colorscale": [
             [
              0,
              "#0d0887"
             ],
             [
              0.1111111111111111,
              "#46039f"
             ],
             [
              0.2222222222222222,
              "#7201a8"
             ],
             [
              0.3333333333333333,
              "#9c179e"
             ],
             [
              0.4444444444444444,
              "#bd3786"
             ],
             [
              0.5555555555555556,
              "#d8576b"
             ],
             [
              0.6666666666666666,
              "#ed7953"
             ],
             [
              0.7777777777777778,
              "#fb9f3a"
             ],
             [
              0.8888888888888888,
              "#fdca26"
             ],
             [
              1,
              "#f0f921"
             ]
            ],
            "type": "histogram2d"
           }
          ],
          "histogram2dcontour": [
           {
            "colorbar": {
             "outlinewidth": 0,
             "ticks": ""
            },
            "colorscale": [
             [
              0,
              "#0d0887"
             ],
             [
              0.1111111111111111,
              "#46039f"
             ],
             [
              0.2222222222222222,
              "#7201a8"
             ],
             [
              0.3333333333333333,
              "#9c179e"
             ],
             [
              0.4444444444444444,
              "#bd3786"
             ],
             [
              0.5555555555555556,
              "#d8576b"
             ],
             [
              0.6666666666666666,
              "#ed7953"
             ],
             [
              0.7777777777777778,
              "#fb9f3a"
             ],
             [
              0.8888888888888888,
              "#fdca26"
             ],
             [
              1,
              "#f0f921"
             ]
            ],
            "type": "histogram2dcontour"
           }
          ],
          "mesh3d": [
           {
            "colorbar": {
             "outlinewidth": 0,
             "ticks": ""
            },
            "type": "mesh3d"
           }
          ],
          "parcoords": [
           {
            "line": {
             "colorbar": {
              "outlinewidth": 0,
              "ticks": ""
             }
            },
            "type": "parcoords"
           }
          ],
          "pie": [
           {
            "automargin": true,
            "type": "pie"
           }
          ],
          "scatter": [
           {
            "fillpattern": {
             "fillmode": "overlay",
             "size": 10,
             "solidity": 0.2
            },
            "type": "scatter"
           }
          ],
          "scatter3d": [
           {
            "line": {
             "colorbar": {
              "outlinewidth": 0,
              "ticks": ""
             }
            },
            "marker": {
             "colorbar": {
              "outlinewidth": 0,
              "ticks": ""
             }
            },
            "type": "scatter3d"
           }
          ],
          "scattercarpet": [
           {
            "marker": {
             "colorbar": {
              "outlinewidth": 0,
              "ticks": ""
             }
            },
            "type": "scattercarpet"
           }
          ],
          "scattergeo": [
           {
            "marker": {
             "colorbar": {
              "outlinewidth": 0,
              "ticks": ""
             }
            },
            "type": "scattergeo"
           }
          ],
          "scattergl": [
           {
            "marker": {
             "colorbar": {
              "outlinewidth": 0,
              "ticks": ""
             }
            },
            "type": "scattergl"
           }
          ],
          "scattermapbox": [
           {
            "marker": {
             "colorbar": {
              "outlinewidth": 0,
              "ticks": ""
             }
            },
            "type": "scattermapbox"
           }
          ],
          "scatterpolar": [
           {
            "marker": {
             "colorbar": {
              "outlinewidth": 0,
              "ticks": ""
             }
            },
            "type": "scatterpolar"
           }
          ],
          "scatterpolargl": [
           {
            "marker": {
             "colorbar": {
              "outlinewidth": 0,
              "ticks": ""
             }
            },
            "type": "scatterpolargl"
           }
          ],
          "scatterternary": [
           {
            "marker": {
             "colorbar": {
              "outlinewidth": 0,
              "ticks": ""
             }
            },
            "type": "scatterternary"
           }
          ],
          "surface": [
           {
            "colorbar": {
             "outlinewidth": 0,
             "ticks": ""
            },
            "colorscale": [
             [
              0,
              "#0d0887"
             ],
             [
              0.1111111111111111,
              "#46039f"
             ],
             [
              0.2222222222222222,
              "#7201a8"
             ],
             [
              0.3333333333333333,
              "#9c179e"
             ],
             [
              0.4444444444444444,
              "#bd3786"
             ],
             [
              0.5555555555555556,
              "#d8576b"
             ],
             [
              0.6666666666666666,
              "#ed7953"
             ],
             [
              0.7777777777777778,
              "#fb9f3a"
             ],
             [
              0.8888888888888888,
              "#fdca26"
             ],
             [
              1,
              "#f0f921"
             ]
            ],
            "type": "surface"
           }
          ],
          "table": [
           {
            "cells": {
             "fill": {
              "color": "#EBF0F8"
             },
             "line": {
              "color": "white"
             }
            },
            "header": {
             "fill": {
              "color": "#C8D4E3"
             },
             "line": {
              "color": "white"
             }
            },
            "type": "table"
           }
          ]
         },
         "layout": {
          "annotationdefaults": {
           "arrowcolor": "#2a3f5f",
           "arrowhead": 0,
           "arrowwidth": 1
          },
          "autotypenumbers": "strict",
          "coloraxis": {
           "colorbar": {
            "outlinewidth": 0,
            "ticks": ""
           }
          },
          "colorscale": {
           "diverging": [
            [
             0,
             "#8e0152"
            ],
            [
             0.1,
             "#c51b7d"
            ],
            [
             0.2,
             "#de77ae"
            ],
            [
             0.3,
             "#f1b6da"
            ],
            [
             0.4,
             "#fde0ef"
            ],
            [
             0.5,
             "#f7f7f7"
            ],
            [
             0.6,
             "#e6f5d0"
            ],
            [
             0.7,
             "#b8e186"
            ],
            [
             0.8,
             "#7fbc41"
            ],
            [
             0.9,
             "#4d9221"
            ],
            [
             1,
             "#276419"
            ]
           ],
           "sequential": [
            [
             0,
             "#0d0887"
            ],
            [
             0.1111111111111111,
             "#46039f"
            ],
            [
             0.2222222222222222,
             "#7201a8"
            ],
            [
             0.3333333333333333,
             "#9c179e"
            ],
            [
             0.4444444444444444,
             "#bd3786"
            ],
            [
             0.5555555555555556,
             "#d8576b"
            ],
            [
             0.6666666666666666,
             "#ed7953"
            ],
            [
             0.7777777777777778,
             "#fb9f3a"
            ],
            [
             0.8888888888888888,
             "#fdca26"
            ],
            [
             1,
             "#f0f921"
            ]
           ],
           "sequentialminus": [
            [
             0,
             "#0d0887"
            ],
            [
             0.1111111111111111,
             "#46039f"
            ],
            [
             0.2222222222222222,
             "#7201a8"
            ],
            [
             0.3333333333333333,
             "#9c179e"
            ],
            [
             0.4444444444444444,
             "#bd3786"
            ],
            [
             0.5555555555555556,
             "#d8576b"
            ],
            [
             0.6666666666666666,
             "#ed7953"
            ],
            [
             0.7777777777777778,
             "#fb9f3a"
            ],
            [
             0.8888888888888888,
             "#fdca26"
            ],
            [
             1,
             "#f0f921"
            ]
           ]
          },
          "colorway": [
           "#636efa",
           "#EF553B",
           "#00cc96",
           "#ab63fa",
           "#FFA15A",
           "#19d3f3",
           "#FF6692",
           "#B6E880",
           "#FF97FF",
           "#FECB52"
          ],
          "font": {
           "color": "#2a3f5f"
          },
          "geo": {
           "bgcolor": "white",
           "lakecolor": "white",
           "landcolor": "#E5ECF6",
           "showlakes": true,
           "showland": true,
           "subunitcolor": "white"
          },
          "hoverlabel": {
           "align": "left"
          },
          "hovermode": "closest",
          "mapbox": {
           "style": "light"
          },
          "paper_bgcolor": "white",
          "plot_bgcolor": "#E5ECF6",
          "polar": {
           "angularaxis": {
            "gridcolor": "white",
            "linecolor": "white",
            "ticks": ""
           },
           "bgcolor": "#E5ECF6",
           "radialaxis": {
            "gridcolor": "white",
            "linecolor": "white",
            "ticks": ""
           }
          },
          "scene": {
           "xaxis": {
            "backgroundcolor": "#E5ECF6",
            "gridcolor": "white",
            "gridwidth": 2,
            "linecolor": "white",
            "showbackground": true,
            "ticks": "",
            "zerolinecolor": "white"
           },
           "yaxis": {
            "backgroundcolor": "#E5ECF6",
            "gridcolor": "white",
            "gridwidth": 2,
            "linecolor": "white",
            "showbackground": true,
            "ticks": "",
            "zerolinecolor": "white"
           },
           "zaxis": {
            "backgroundcolor": "#E5ECF6",
            "gridcolor": "white",
            "gridwidth": 2,
            "linecolor": "white",
            "showbackground": true,
            "ticks": "",
            "zerolinecolor": "white"
           }
          },
          "shapedefaults": {
           "line": {
            "color": "#2a3f5f"
           }
          },
          "ternary": {
           "aaxis": {
            "gridcolor": "white",
            "linecolor": "white",
            "ticks": ""
           },
           "baxis": {
            "gridcolor": "white",
            "linecolor": "white",
            "ticks": ""
           },
           "bgcolor": "#E5ECF6",
           "caxis": {
            "gridcolor": "white",
            "linecolor": "white",
            "ticks": ""
           }
          },
          "title": {
           "x": 0.05
          },
          "xaxis": {
           "automargin": true,
           "gridcolor": "white",
           "linecolor": "white",
           "ticks": "",
           "title": {
            "standoff": 15
           },
           "zerolinecolor": "white",
           "zerolinewidth": 2
          },
          "yaxis": {
           "automargin": true,
           "gridcolor": "white",
           "linecolor": "white",
           "ticks": "",
           "title": {
            "standoff": 15
           },
           "zerolinecolor": "white",
           "zerolinewidth": 2
          }
         }
        },
        "title": {
         "font": {
          "size": 18
         },
         "text": "P50 Yield Relative to Year 1"
        },
        "width": 900,
        "xaxis": {
         "dtick": 1,
         "linecolor": "black",
         "linewidth": 1,
         "mirror": true,
         "ticks": "outside",
         "title": {
          "text": "Year"
         }
        },
        "yaxis": {
         "gridcolor": "LightGrey",
         "gridwidth": 0.1,
         "linecolor": "black",
         "linewidth": 1,
         "mirror": true,
         "range": [
          0.9129999999999999,
          1.029
         ],
         "showgrid": true,
         "ticks": "outside",
         "title": {
          "text": "Relative P50 yield"
         }
        }
       }
      },
      "text/html": [
       "<div>                            <div id=\"a975cf60-c146-4ca3-8093-a29daa8b1c95\" class=\"plotly-graph-div\" style=\"height:525px; width:900px;\"></div>            <script type=\"text/javascript\">                require([\"plotly\"], function(Plotly) {                    window.PLOTLYENV=window.PLOTLYENV || {};                                    if (document.getElementById(\"a975cf60-c146-4ca3-8093-a29daa8b1c95\")) {                    Plotly.newPlot(                        \"a975cf60-c146-4ca3-8093-a29daa8b1c95\",                        [{\"marker\":{\"color\":\"#d2226a\"},\"x\":[1,2,3,4,5,6,7,8,9,10,11,12],\"y\":[1.0,0.9914644845874668,0.9886457073786914,0.986055666852583,0.9768972425501707,0.9747549243570099,0.9697511453515293,0.9650916491269363,0.9577986433361502,0.9530937548299471,0.9497394876624613,0.9427468989810313],\"type\":\"bar\"}],                        {\"template\":{\"data\":{\"histogram2dcontour\":[{\"type\":\"histogram2dcontour\",\"colorbar\":{\"outlinewidth\":0,\"ticks\":\"\"},\"colorscale\":[[0.0,\"#0d0887\"],[0.1111111111111111,\"#46039f\"],[0.2222222222222222,\"#7201a8\"],[0.3333333333333333,\"#9c179e\"],[0.4444444444444444,\"#bd3786\"],[0.5555555555555556,\"#d8576b\"],[0.6666666666666666,\"#ed7953\"],[0.7777777777777778,\"#fb9f3a\"],[0.8888888888888888,\"#fdca26\"],[1.0,\"#f0f921\"]]}],\"choropleth\":[{\"type\":\"choropleth\",\"colorbar\":{\"outlinewidth\":0,\"ticks\":\"\"}}],\"histogram2d\":[{\"type\":\"histogram2d\",\"colorbar\":{\"outlinewidth\":0,\"ticks\":\"\"},\"colorscale\":[[0.0,\"#0d0887\"],[0.1111111111111111,\"#46039f\"],[0.2222222222222222,\"#7201a8\"],[0.3333333333333333,\"#9c179e\"],[0.4444444444444444,\"#bd3786\"],[0.5555555555555556,\"#d8576b\"],[0.6666666666666666,\"#ed7953\"],[0.7777777777777778,\"#fb9f3a\"],[0.8888888888888888,\"#fdca26\"],[1.0,\"#f0f921\"]]}],\"heatmap\":[{\"type\":\"heatmap\",\"colorbar\":{\"outlinewidth\":0,\"ticks\":\"\"},\"colorscale\":[[0.0,\"#0d0887\"],[0.1111111111111111,\"#46039f\"],[0.2222222222222222,\"#7201a8\"],[0.3333333333333333,\"#9c179e\"],[0.4444444444444444,\"#bd3786\"],[0.5555555555555556,\"#d8576b\"],[0.6666666666666666,\"#ed7953\"],[0.7777777777777778,\"#fb9f3a\"],[0.8888888888888888,\"#fdca26\"],[1.0,\"#f0f921\"]]}],\"heatmapgl\":[{\"type\":\"heatmapgl\",\"colorbar\":{\"outlinewidth\":0,\"ticks\":\"\"},\"colorscale\":[[0.0,\"#0d0887\"],[0.1111111111111111,\"#46039f\"],[0.2222222222222222,\"#7201a8\"],[0.3333333333333333,\"#9c179e\"],[0.4444444444444444,\"#bd3786\"],[0.5555555555555556,\"#d8576b\"],[0.6666666666666666,\"#ed7953\"],[0.7777777777777778,\"#fb9f3a\"],[0.8888888888888888,\"#fdca26\"],[1.0,\"#f0f921\"]]}],\"contourcarpet\":[{\"type\":\"contourcarpet\",\"colorbar\":{\"outlinewidth\":0,\"ticks\":\"\"}}],\"contour\":[{\"type\":\"contour\",\"colorbar\":{\"outlinewidth\":0,\"ticks\":\"\"},\"colorscale\":[[0.0,\"#0d0887\"],[0.1111111111111111,\"#46039f\"],[0.2222222222222222,\"#7201a8\"],[0.3333333333333333,\"#9c179e\"],[0.4444444444444444,\"#bd3786\"],[0.5555555555555556,\"#d8576b\"],[0.6666666666666666,\"#ed7953\"],[0.7777777777777778,\"#fb9f3a\"],[0.8888888888888888,\"#fdca26\"],[1.0,\"#f0f921\"]]}],\"surface\":[{\"type\":\"surface\",\"colorbar\":{\"outlinewidth\":0,\"ticks\":\"\"},\"colorscale\":[[0.0,\"#0d0887\"],[0.1111111111111111,\"#46039f\"],[0.2222222222222222,\"#7201a8\"],[0.3333333333333333,\"#9c179e\"],[0.4444444444444444,\"#bd3786\"],[0.5555555555555556,\"#d8576b\"],[0.6666666666666666,\"#ed7953\"],[0.7777777777777778,\"#fb9f3a\"],[0.8888888888888888,\"#fdca26\"],[1.0,\"#f0f921\"]]}],\"mesh3d\":[{\"type\":\"mesh3d\",\"colorbar\":{\"outlinewidth\":0,\"ticks\":\"\"}}],\"scatter\":[{\"fillpattern\":{\"fillmode\":\"overlay\",\"size\":10,\"solidity\":0.2},\"type\":\"scatter\"}],\"parcoords\":[{\"type\":\"parcoords\",\"line\":{\"colorbar\":{\"outlinewidth\":0,\"ticks\":\"\"}}}],\"scatterpolargl\":[{\"type\":\"scatterpolargl\",\"marker\":{\"colorbar\":{\"outlinewidth\":0,\"ticks\":\"\"}}}],\"bar\":[{\"error_x\":{\"color\":\"#2a3f5f\"},\"error_y\":{\"color\":\"#2a3f5f\"},\"marker\":{\"line\":{\"color\":\"#E5ECF6\",\"width\":0.5},\"pattern\":{\"fillmode\":\"overlay\",\"size\":10,\"solidity\":0.2}},\"type\":\"bar\"}],\"scattergeo\":[{\"type\":\"scattergeo\",\"marker\":{\"colorbar\":{\"outlinewidth\":0,\"ticks\":\"\"}}}],\"scatterpolar\":[{\"type\":\"scatterpolar\",\"marker\":{\"colorbar\":{\"outlinewidth\":0,\"ticks\":\"\"}}}],\"histogram\":[{\"marker\":{\"pattern\":{\"fillmode\":\"overlay\",\"size\":10,\"solidity\":0.2}},\"type\":\"histogram\"}],\"scattergl\":[{\"type\":\"scattergl\",\"marker\":{\"colorbar\":{\"outlinewidth\":0,\"ticks\":\"\"}}}],\"scatter3d\":[{\"type\":\"scatter3d\",\"line\":{\"colorbar\":{\"outlinewidth\":0,\"ticks\":\"\"}},\"marker\":{\"colorbar\":{\"outlinewidth\":0,\"ticks\":\"\"}}}],\"scattermapbox\":[{\"type\":\"scattermapbox\",\"marker\":{\"colorbar\":{\"outlinewidth\":0,\"ticks\":\"\"}}}],\"scatterternary\":[{\"type\":\"scatterternary\",\"marker\":{\"colorbar\":{\"outlinewidth\":0,\"ticks\":\"\"}}}],\"scattercarpet\":[{\"type\":\"scattercarpet\",\"marker\":{\"colorbar\":{\"outlinewidth\":0,\"ticks\":\"\"}}}],\"carpet\":[{\"aaxis\":{\"endlinecolor\":\"#2a3f5f\",\"gridcolor\":\"white\",\"linecolor\":\"white\",\"minorgridcolor\":\"white\",\"startlinecolor\":\"#2a3f5f\"},\"baxis\":{\"endlinecolor\":\"#2a3f5f\",\"gridcolor\":\"white\",\"linecolor\":\"white\",\"minorgridcolor\":\"white\",\"startlinecolor\":\"#2a3f5f\"},\"type\":\"carpet\"}],\"table\":[{\"cells\":{\"fill\":{\"color\":\"#EBF0F8\"},\"line\":{\"color\":\"white\"}},\"header\":{\"fill\":{\"color\":\"#C8D4E3\"},\"line\":{\"color\":\"white\"}},\"type\":\"table\"}],\"barpolar\":[{\"marker\":{\"line\":{\"color\":\"#E5ECF6\",\"width\":0.5},\"pattern\":{\"fillmode\":\"overlay\",\"size\":10,\"solidity\":0.2}},\"type\":\"barpolar\"}],\"pie\":[{\"automargin\":true,\"type\":\"pie\"}]},\"layout\":{\"autotypenumbers\":\"strict\",\"colorway\":[\"#636efa\",\"#EF553B\",\"#00cc96\",\"#ab63fa\",\"#FFA15A\",\"#19d3f3\",\"#FF6692\",\"#B6E880\",\"#FF97FF\",\"#FECB52\"],\"font\":{\"color\":\"#2a3f5f\"},\"hovermode\":\"closest\",\"hoverlabel\":{\"align\":\"left\"},\"paper_bgcolor\":\"white\",\"plot_bgcolor\":\"#E5ECF6\",\"polar\":{\"bgcolor\":\"#E5ECF6\",\"angularaxis\":{\"gridcolor\":\"white\",\"linecolor\":\"white\",\"ticks\":\"\"},\"radialaxis\":{\"gridcolor\":\"white\",\"linecolor\":\"white\",\"ticks\":\"\"}},\"ternary\":{\"bgcolor\":\"#E5ECF6\",\"aaxis\":{\"gridcolor\":\"white\",\"linecolor\":\"white\",\"ticks\":\"\"},\"baxis\":{\"gridcolor\":\"white\",\"linecolor\":\"white\",\"ticks\":\"\"},\"caxis\":{\"gridcolor\":\"white\",\"linecolor\":\"white\",\"ticks\":\"\"}},\"coloraxis\":{\"colorbar\":{\"outlinewidth\":0,\"ticks\":\"\"}},\"colorscale\":{\"sequential\":[[0.0,\"#0d0887\"],[0.1111111111111111,\"#46039f\"],[0.2222222222222222,\"#7201a8\"],[0.3333333333333333,\"#9c179e\"],[0.4444444444444444,\"#bd3786\"],[0.5555555555555556,\"#d8576b\"],[0.6666666666666666,\"#ed7953\"],[0.7777777777777778,\"#fb9f3a\"],[0.8888888888888888,\"#fdca26\"],[1.0,\"#f0f921\"]],\"sequentialminus\":[[0.0,\"#0d0887\"],[0.1111111111111111,\"#46039f\"],[0.2222222222222222,\"#7201a8\"],[0.3333333333333333,\"#9c179e\"],[0.4444444444444444,\"#bd3786\"],[0.5555555555555556,\"#d8576b\"],[0.6666666666666666,\"#ed7953\"],[0.7777777777777778,\"#fb9f3a\"],[0.8888888888888888,\"#fdca26\"],[1.0,\"#f0f921\"]],\"diverging\":[[0,\"#8e0152\"],[0.1,\"#c51b7d\"],[0.2,\"#de77ae\"],[0.3,\"#f1b6da\"],[0.4,\"#fde0ef\"],[0.5,\"#f7f7f7\"],[0.6,\"#e6f5d0\"],[0.7,\"#b8e186\"],[0.8,\"#7fbc41\"],[0.9,\"#4d9221\"],[1,\"#276419\"]]},\"xaxis\":{\"gridcolor\":\"white\",\"linecolor\":\"white\",\"ticks\":\"\",\"title\":{\"standoff\":15},\"zerolinecolor\":\"white\",\"automargin\":true,\"zerolinewidth\":2},\"yaxis\":{\"gridcolor\":\"white\",\"linecolor\":\"white\",\"ticks\":\"\",\"title\":{\"standoff\":15},\"zerolinecolor\":\"white\",\"automargin\":true,\"zerolinewidth\":2},\"scene\":{\"xaxis\":{\"backgroundcolor\":\"#E5ECF6\",\"gridcolor\":\"white\",\"linecolor\":\"white\",\"showbackground\":true,\"ticks\":\"\",\"zerolinecolor\":\"white\",\"gridwidth\":2},\"yaxis\":{\"backgroundcolor\":\"#E5ECF6\",\"gridcolor\":\"white\",\"linecolor\":\"white\",\"showbackground\":true,\"ticks\":\"\",\"zerolinecolor\":\"white\",\"gridwidth\":2},\"zaxis\":{\"backgroundcolor\":\"#E5ECF6\",\"gridcolor\":\"white\",\"linecolor\":\"white\",\"showbackground\":true,\"ticks\":\"\",\"zerolinecolor\":\"white\",\"gridwidth\":2}},\"shapedefaults\":{\"line\":{\"color\":\"#2a3f5f\"}},\"annotationdefaults\":{\"arrowcolor\":\"#2a3f5f\",\"arrowhead\":0,\"arrowwidth\":1},\"geo\":{\"bgcolor\":\"white\",\"landcolor\":\"#E5ECF6\",\"subunitcolor\":\"white\",\"showland\":true,\"showlakes\":true,\"lakecolor\":\"white\"},\"title\":{\"x\":0.05},\"mapbox\":{\"style\":\"light\"}}},\"yaxis\":{\"title\":{\"text\":\"Relative P50 yield\"},\"range\":[0.9129999999999999,1.029],\"linewidth\":1,\"linecolor\":\"black\",\"mirror\":true,\"ticks\":\"outside\",\"showgrid\":true,\"gridwidth\":0.1,\"gridcolor\":\"LightGrey\"},\"title\":{\"text\":\"P50 Yield Relative to Year 1\",\"font\":{\"size\":18}},\"xaxis\":{\"title\":{\"text\":\"Year\"},\"linewidth\":1,\"linecolor\":\"black\",\"mirror\":true,\"ticks\":\"outside\",\"dtick\":1},\"width\":900,\"font\":{\"size\":16},\"paper_bgcolor\":\"white\",\"plot_bgcolor\":\"white\",\"images\":[{\"sizex\":0.2,\"sizey\":0.2,\"source\":\"data:image\\u002fsvg+xml;base64,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\",\"x\":0.4,\"xanchor\":\"left\",\"xref\":\"paper\",\"y\":1.18,\"yanchor\":\"top\",\"yref\":\"paper\"}]},                        {\"responsive\": true}                    ).then(function(){\n",
       "                            \n",
       "var gd = document.getElementById('a975cf60-c146-4ca3-8093-a29daa8b1c95');\n",
       "var x = new MutationObserver(function (mutations, observer) {{\n",
       "        var display = window.getComputedStyle(gd).display;\n",
       "        if (!display || display === 'none') {{\n",
       "            console.log([gd, 'removed!']);\n",
       "            Plotly.purge(gd);\n",
       "            observer.disconnect();\n",
       "        }}\n",
       "}});\n",
       "\n",
       "// Listen for the removal of the full notebook cells\n",
       "var notebookContainer = gd.closest('#notebook-container');\n",
       "if (notebookContainer) {{\n",
       "    x.observe(notebookContainer, {childList: true});\n",
       "}}\n",
       "\n",
       "// Listen for the clearing of the current output cell\n",
       "var outputEl = gd.closest('.output');\n",
       "if (outputEl) {{\n",
       "    x.observe(outputEl, {childList: true});\n",
       "}}\n",
       "\n",
       "                        })                };                });            </script>        </div>"
      ]
     },
     "metadata": {},
     "output_type": "display_data"
    },
    {
     "data": {
      "application/vnd.jupyter.widget-view+json": {
       "model_id": "24785fdb91e44ea898732b2ae98cc6e0",
       "version_major": 2,
       "version_minor": 0
      },
      "text/plain": [
       "interactive(children=(IntSlider(value=1, description='Year:', max=12, min=1), Output()), _dom_classes=('widget…"
      ]
     },
     "metadata": {},
     "output_type": "display_data"
    }
   ],
   "source": [
    "plot_yearly_P50_Values(summary)\n",
    "plot_interactive_histogram(summary, p_min=p_min, p_delta=p_delta)"
   ]
  },
  {
   "cell_type": "code",
   "execution_count": 200,
   "metadata": {
    "colab": {
     "base_uri": "https://localhost:8080/",
     "height": 542
    },
    "executionInfo": {
     "elapsed": 286,
     "status": "ok",
     "timestamp": 1755553052428,
     "user": {
      "displayName": "Solomon Freer",
      "userId": "07757358301173662182"
     },
     "user_tz": -600
    },
    "id": "3A9u6Tl6HRWD",
    "outputId": "b5858ea3-aaba-4ed2-c645-7004e63c3546"
   },
   "outputs": [
    {
     "data": {
      "application/vnd.plotly.v1+json": {
       "config": {
        "plotlyServerURL": "https://plot.ly"
       },
       "data": [
        {
         "mode": "lines",
         "name": "P10",
         "type": "scatter",
         "x": [
          1,
          2,
          3,
          4,
          5,
          6,
          7,
          8,
          9,
          10,
          11,
          12
         ],
         "xaxis": "x",
         "y": [
          1.1328862592514701,
          1.1258955884270523,
          1.121608472225819,
          1.1158946556430507,
          1.1100707075352378,
          1.1050587477648135,
          1.0982633776399204,
          1.0917549733785985,
          1.0886230966302919,
          1.082156645281094,
          1.074323701009019,
          1.0704961038902128
         ],
         "yaxis": "y"
        },
        {
         "mode": "lines+markers",
         "name": "P90",
         "type": "scatter",
         "x": [
          1,
          2,
          3,
          4,
          5,
          6,
          7,
          8,
          9,
          10,
          11,
          12
         ],
         "xaxis": "x2",
         "y": [
          0.7820582467092614,
          0.7812663990138047,
          0.7760418865095291,
          0.771136555522981,
          0.77070099115513,
          0.7619623959884352,
          0.7619804982611077,
          0.7553790872849487,
          0.751676120236841,
          0.7505740743026408,
          0.7450701257205026,
          0.744098861702138
         ],
         "yaxis": "y2"
        }
       ],
       "layout": {
        "font": {
         "size": 16
        },
        "images": [
         {
          "sizex": 0.2,
          "sizey": 0.2,
          "source": "data:image/svg+xml;base64,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",
          "x": 0.4,
          "xanchor": "left",
          "xref": "paper",
          "y": 1.18,
          "yanchor": "top",
          "yref": "paper"
         }
        ],
        "paper_bgcolor": "white",
        "plot_bgcolor": "white",
        "showlegend": true,
        "template": {
         "data": {
          "bar": [
           {
            "error_x": {
             "color": "#2a3f5f"
            },
            "error_y": {
             "color": "#2a3f5f"
            },
            "marker": {
             "line": {
              "color": "#E5ECF6",
              "width": 0.5
             },
             "pattern": {
              "fillmode": "overlay",
              "size": 10,
              "solidity": 0.2
             }
            },
            "type": "bar"
           }
          ],
          "barpolar": [
           {
            "marker": {
             "line": {
              "color": "#E5ECF6",
              "width": 0.5
             },
             "pattern": {
              "fillmode": "overlay",
              "size": 10,
              "solidity": 0.2
             }
            },
            "type": "barpolar"
           }
          ],
          "carpet": [
           {
            "aaxis": {
             "endlinecolor": "#2a3f5f",
             "gridcolor": "white",
             "linecolor": "white",
             "minorgridcolor": "white",
             "startlinecolor": "#2a3f5f"
            },
            "baxis": {
             "endlinecolor": "#2a3f5f",
             "gridcolor": "white",
             "linecolor": "white",
             "minorgridcolor": "white",
             "startlinecolor": "#2a3f5f"
            },
            "type": "carpet"
           }
          ],
          "choropleth": [
           {
            "colorbar": {
             "outlinewidth": 0,
             "ticks": ""
            },
            "type": "choropleth"
           }
          ],
          "contour": [
           {
            "colorbar": {
             "outlinewidth": 0,
             "ticks": ""
            },
            "colorscale": [
             [
              0,
              "#0d0887"
             ],
             [
              0.1111111111111111,
              "#46039f"
             ],
             [
              0.2222222222222222,
              "#7201a8"
             ],
             [
              0.3333333333333333,
              "#9c179e"
             ],
             [
              0.4444444444444444,
              "#bd3786"
             ],
             [
              0.5555555555555556,
              "#d8576b"
             ],
             [
              0.6666666666666666,
              "#ed7953"
             ],
             [
              0.7777777777777778,
              "#fb9f3a"
             ],
             [
              0.8888888888888888,
              "#fdca26"
             ],
             [
              1,
              "#f0f921"
             ]
            ],
            "type": "contour"
           }
          ],
          "contourcarpet": [
           {
            "colorbar": {
             "outlinewidth": 0,
             "ticks": ""
            },
            "type": "contourcarpet"
           }
          ],
          "heatmap": [
           {
            "colorbar": {
             "outlinewidth": 0,
             "ticks": ""
            },
            "colorscale": [
             [
              0,
              "#0d0887"
             ],
             [
              0.1111111111111111,
              "#46039f"
             ],
             [
              0.2222222222222222,
              "#7201a8"
             ],
             [
              0.3333333333333333,
              "#9c179e"
             ],
             [
              0.4444444444444444,
              "#bd3786"
             ],
             [
              0.5555555555555556,
              "#d8576b"
             ],
             [
              0.6666666666666666,
              "#ed7953"
             ],
             [
              0.7777777777777778,
              "#fb9f3a"
             ],
             [
              0.8888888888888888,
              "#fdca26"
             ],
             [
              1,
              "#f0f921"
             ]
            ],
            "type": "heatmap"
           }
          ],
          "heatmapgl": [
           {
            "colorbar": {
             "outlinewidth": 0,
             "ticks": ""
            },
            "colorscale": [
             [
              0,
              "#0d0887"
             ],
             [
              0.1111111111111111,
              "#46039f"
             ],
             [
              0.2222222222222222,
              "#7201a8"
             ],
             [
              0.3333333333333333,
              "#9c179e"
             ],
             [
              0.4444444444444444,
              "#bd3786"
             ],
             [
              0.5555555555555556,
              "#d8576b"
             ],
             [
              0.6666666666666666,
              "#ed7953"
             ],
             [
              0.7777777777777778,
              "#fb9f3a"
             ],
             [
              0.8888888888888888,
              "#fdca26"
             ],
             [
              1,
              "#f0f921"
             ]
            ],
            "type": "heatmapgl"
           }
          ],
          "histogram": [
           {
            "marker": {
             "pattern": {
              "fillmode": "overlay",
              "size": 10,
              "solidity": 0.2
             }
            },
            "type": "histogram"
           }
          ],
          "histogram2d": [
           {
            "colorbar": {
             "outlinewidth": 0,
             "ticks": ""
            },
            "colorscale": [
             [
              0,
              "#0d0887"
             ],
             [
              0.1111111111111111,
              "#46039f"
             ],
             [
              0.2222222222222222,
              "#7201a8"
             ],
             [
              0.3333333333333333,
              "#9c179e"
             ],
             [
              0.4444444444444444,
              "#bd3786"
             ],
             [
              0.5555555555555556,
              "#d8576b"
             ],
             [
              0.6666666666666666,
              "#ed7953"
             ],
             [
              0.7777777777777778,
              "#fb9f3a"
             ],
             [
              0.8888888888888888,
              "#fdca26"
             ],
             [
              1,
              "#f0f921"
             ]
            ],
            "type": "histogram2d"
           }
          ],
          "histogram2dcontour": [
           {
            "colorbar": {
             "outlinewidth": 0,
             "ticks": ""
            },
            "colorscale": [
             [
              0,
              "#0d0887"
             ],
             [
              0.1111111111111111,
              "#46039f"
             ],
             [
              0.2222222222222222,
              "#7201a8"
             ],
             [
              0.3333333333333333,
              "#9c179e"
             ],
             [
              0.4444444444444444,
              "#bd3786"
             ],
             [
              0.5555555555555556,
              "#d8576b"
             ],
             [
              0.6666666666666666,
              "#ed7953"
             ],
             [
              0.7777777777777778,
              "#fb9f3a"
             ],
             [
              0.8888888888888888,
              "#fdca26"
             ],
             [
              1,
              "#f0f921"
             ]
            ],
            "type": "histogram2dcontour"
           }
          ],
          "mesh3d": [
           {
            "colorbar": {
             "outlinewidth": 0,
             "ticks": ""
            },
            "type": "mesh3d"
           }
          ],
          "parcoords": [
           {
            "line": {
             "colorbar": {
              "outlinewidth": 0,
              "ticks": ""
             }
            },
            "type": "parcoords"
           }
          ],
          "pie": [
           {
            "automargin": true,
            "type": "pie"
           }
          ],
          "scatter": [
           {
            "fillpattern": {
             "fillmode": "overlay",
             "size": 10,
             "solidity": 0.2
            },
            "type": "scatter"
           }
          ],
          "scatter3d": [
           {
            "line": {
             "colorbar": {
              "outlinewidth": 0,
              "ticks": ""
             }
            },
            "marker": {
             "colorbar": {
              "outlinewidth": 0,
              "ticks": ""
             }
            },
            "type": "scatter3d"
           }
          ],
          "scattercarpet": [
           {
            "marker": {
             "colorbar": {
              "outlinewidth": 0,
              "ticks": ""
             }
            },
            "type": "scattercarpet"
           }
          ],
          "scattergeo": [
           {
            "marker": {
             "colorbar": {
              "outlinewidth": 0,
              "ticks": ""
             }
            },
            "type": "scattergeo"
           }
          ],
          "scattergl": [
           {
            "marker": {
             "colorbar": {
              "outlinewidth": 0,
              "ticks": ""
             }
            },
            "type": "scattergl"
           }
          ],
          "scattermapbox": [
           {
            "marker": {
             "colorbar": {
              "outlinewidth": 0,
              "ticks": ""
             }
            },
            "type": "scattermapbox"
           }
          ],
          "scatterpolar": [
           {
            "marker": {
             "colorbar": {
              "outlinewidth": 0,
              "ticks": ""
             }
            },
            "type": "scatterpolar"
           }
          ],
          "scatterpolargl": [
           {
            "marker": {
             "colorbar": {
              "outlinewidth": 0,
              "ticks": ""
             }
            },
            "type": "scatterpolargl"
           }
          ],
          "scatterternary": [
           {
            "marker": {
             "colorbar": {
              "outlinewidth": 0,
              "ticks": ""
             }
            },
            "type": "scatterternary"
           }
          ],
          "surface": [
           {
            "colorbar": {
             "outlinewidth": 0,
             "ticks": ""
            },
            "colorscale": [
             [
              0,
              "#0d0887"
             ],
             [
              0.1111111111111111,
              "#46039f"
             ],
             [
              0.2222222222222222,
              "#7201a8"
             ],
             [
              0.3333333333333333,
              "#9c179e"
             ],
             [
              0.4444444444444444,
              "#bd3786"
             ],
             [
              0.5555555555555556,
              "#d8576b"
             ],
             [
              0.6666666666666666,
              "#ed7953"
             ],
             [
              0.7777777777777778,
              "#fb9f3a"
             ],
             [
              0.8888888888888888,
              "#fdca26"
             ],
             [
              1,
              "#f0f921"
             ]
            ],
            "type": "surface"
           }
          ],
          "table": [
           {
            "cells": {
             "fill": {
              "color": "#EBF0F8"
             },
             "line": {
              "color": "white"
             }
            },
            "header": {
             "fill": {
              "color": "#C8D4E3"
             },
             "line": {
              "color": "white"
             }
            },
            "type": "table"
           }
          ]
         },
         "layout": {
          "annotationdefaults": {
           "arrowcolor": "#2a3f5f",
           "arrowhead": 0,
           "arrowwidth": 1
          },
          "autotypenumbers": "strict",
          "coloraxis": {
           "colorbar": {
            "outlinewidth": 0,
            "ticks": ""
           }
          },
          "colorscale": {
           "diverging": [
            [
             0,
             "#8e0152"
            ],
            [
             0.1,
             "#c51b7d"
            ],
            [
             0.2,
             "#de77ae"
            ],
            [
             0.3,
             "#f1b6da"
            ],
            [
             0.4,
             "#fde0ef"
            ],
            [
             0.5,
             "#f7f7f7"
            ],
            [
             0.6,
             "#e6f5d0"
            ],
            [
             0.7,
             "#b8e186"
            ],
            [
             0.8,
             "#7fbc41"
            ],
            [
             0.9,
             "#4d9221"
            ],
            [
             1,
             "#276419"
            ]
           ],
           "sequential": [
            [
             0,
             "#0d0887"
            ],
            [
             0.1111111111111111,
             "#46039f"
            ],
            [
             0.2222222222222222,
             "#7201a8"
            ],
            [
             0.3333333333333333,
             "#9c179e"
            ],
            [
             0.4444444444444444,
             "#bd3786"
            ],
            [
             0.5555555555555556,
             "#d8576b"
            ],
            [
             0.6666666666666666,
             "#ed7953"
            ],
            [
             0.7777777777777778,
             "#fb9f3a"
            ],
            [
             0.8888888888888888,
             "#fdca26"
            ],
            [
             1,
             "#f0f921"
            ]
           ],
           "sequentialminus": [
            [
             0,
             "#0d0887"
            ],
            [
             0.1111111111111111,
             "#46039f"
            ],
            [
             0.2222222222222222,
             "#7201a8"
            ],
            [
             0.3333333333333333,
             "#9c179e"
            ],
            [
             0.4444444444444444,
             "#bd3786"
            ],
            [
             0.5555555555555556,
             "#d8576b"
            ],
            [
             0.6666666666666666,
             "#ed7953"
            ],
            [
             0.7777777777777778,
             "#fb9f3a"
            ],
            [
             0.8888888888888888,
             "#fdca26"
            ],
            [
             1,
             "#f0f921"
            ]
           ]
          },
          "colorway": [
           "#636efa",
           "#EF553B",
           "#00cc96",
           "#ab63fa",
           "#FFA15A",
           "#19d3f3",
           "#FF6692",
           "#B6E880",
           "#FF97FF",
           "#FECB52"
          ],
          "font": {
           "color": "#2a3f5f"
          },
          "geo": {
           "bgcolor": "white",
           "lakecolor": "white",
           "landcolor": "#E5ECF6",
           "showlakes": true,
           "showland": true,
           "subunitcolor": "white"
          },
          "hoverlabel": {
           "align": "left"
          },
          "hovermode": "closest",
          "mapbox": {
           "style": "light"
          },
          "paper_bgcolor": "white",
          "plot_bgcolor": "#E5ECF6",
          "polar": {
           "angularaxis": {
            "gridcolor": "white",
            "linecolor": "white",
            "ticks": ""
           },
           "bgcolor": "#E5ECF6",
           "radialaxis": {
            "gridcolor": "white",
            "linecolor": "white",
            "ticks": ""
           }
          },
          "scene": {
           "xaxis": {
            "backgroundcolor": "#E5ECF6",
            "gridcolor": "white",
            "gridwidth": 2,
            "linecolor": "white",
            "showbackground": true,
            "ticks": "",
            "zerolinecolor": "white"
           },
           "yaxis": {
            "backgroundcolor": "#E5ECF6",
            "gridcolor": "white",
            "gridwidth": 2,
            "linecolor": "white",
            "showbackground": true,
            "ticks": "",
            "zerolinecolor": "white"
           },
           "zaxis": {
            "backgroundcolor": "#E5ECF6",
            "gridcolor": "white",
            "gridwidth": 2,
            "linecolor": "white",
            "showbackground": true,
            "ticks": "",
            "zerolinecolor": "white"
           }
          },
          "shapedefaults": {
           "line": {
            "color": "#2a3f5f"
           }
          },
          "ternary": {
           "aaxis": {
            "gridcolor": "white",
            "linecolor": "white",
            "ticks": ""
           },
           "baxis": {
            "gridcolor": "white",
            "linecolor": "white",
            "ticks": ""
           },
           "bgcolor": "#E5ECF6",
           "caxis": {
            "gridcolor": "white",
            "linecolor": "white",
            "ticks": ""
           }
          },
          "title": {
           "x": 0.05
          },
          "xaxis": {
           "automargin": true,
           "gridcolor": "white",
           "linecolor": "white",
           "ticks": "",
           "title": {
            "standoff": 15
           },
           "zerolinecolor": "white",
           "zerolinewidth": 2
          },
          "yaxis": {
           "automargin": true,
           "gridcolor": "white",
           "linecolor": "white",
           "ticks": "",
           "title": {
            "standoff": 15
           },
           "zerolinecolor": "white",
           "zerolinewidth": 2
          }
         }
        },
        "title": {
         "font": {
          "size": 18
         },
         "text": "P-values < 50 and > 50, Relative to Year 1 P50 Yield"
        },
        "width": 900,
        "xaxis": {
         "anchor": "y",
         "domain": [
          0,
          0.45
         ],
         "linecolor": "black",
         "linewidth": 1,
         "mirror": true,
         "ticks": "outside",
         "title": {
          "text": "Year"
         },
         "type": "category"
        },
        "xaxis2": {
         "anchor": "y2",
         "domain": [
          0.55,
          1
         ],
         "linecolor": "black",
         "linewidth": 1,
         "mirror": true,
         "ticks": "outside",
         "title": {
          "text": "Year"
         },
         "type": "category"
        },
        "yaxis": {
         "anchor": "x",
         "domain": [
          0,
          1
         ],
         "gridcolor": "LightGrey",
         "gridwidth": 0.1,
         "linecolor": "black",
         "linewidth": 1,
         "mirror": true,
         "showgrid": true,
         "ticks": "outside",
         "title": {
          "text": "Relative PXX yield"
         }
        },
        "yaxis2": {
         "anchor": "x2",
         "domain": [
          0,
          1
         ],
         "gridcolor": "LightGrey",
         "gridwidth": 0.1,
         "linecolor": "black",
         "linewidth": 1,
         "mirror": true,
         "showgrid": true,
         "ticks": "outside"
        }
       }
      },
      "text/html": [
       "<div>                            <div id=\"de4276aa-9881-4885-a7ff-8ee0567fa782\" class=\"plotly-graph-div\" style=\"height:525px; width:900px;\"></div>            <script type=\"text/javascript\">                require([\"plotly\"], function(Plotly) {                    window.PLOTLYENV=window.PLOTLYENV || {};                                    if (document.getElementById(\"de4276aa-9881-4885-a7ff-8ee0567fa782\")) {                    Plotly.newPlot(                        \"de4276aa-9881-4885-a7ff-8ee0567fa782\",                        [{\"mode\":\"lines\",\"name\":\"P10\",\"x\":[1,2,3,4,5,6,7,8,9,10,11,12],\"y\":[1.1328862592514701,1.1258955884270523,1.121608472225819,1.1158946556430507,1.1100707075352378,1.1050587477648135,1.0982633776399204,1.0917549733785985,1.0886230966302919,1.082156645281094,1.074323701009019,1.0704961038902128],\"type\":\"scatter\",\"xaxis\":\"x\",\"yaxis\":\"y\"},{\"mode\":\"lines+markers\",\"name\":\"P90\",\"x\":[1,2,3,4,5,6,7,8,9,10,11,12],\"y\":[0.7820582467092614,0.7812663990138047,0.7760418865095291,0.771136555522981,0.77070099115513,0.7619623959884352,0.7619804982611077,0.7553790872849487,0.751676120236841,0.7505740743026408,0.7450701257205026,0.744098861702138],\"type\":\"scatter\",\"xaxis\":\"x2\",\"yaxis\":\"y2\"}],                        {\"template\":{\"data\":{\"histogram2dcontour\":[{\"type\":\"histogram2dcontour\",\"colorbar\":{\"outlinewidth\":0,\"ticks\":\"\"},\"colorscale\":[[0.0,\"#0d0887\"],[0.1111111111111111,\"#46039f\"],[0.2222222222222222,\"#7201a8\"],[0.3333333333333333,\"#9c179e\"],[0.4444444444444444,\"#bd3786\"],[0.5555555555555556,\"#d8576b\"],[0.6666666666666666,\"#ed7953\"],[0.7777777777777778,\"#fb9f3a\"],[0.8888888888888888,\"#fdca26\"],[1.0,\"#f0f921\"]]}],\"choropleth\":[{\"type\":\"choropleth\",\"colorbar\":{\"outlinewidth\":0,\"ticks\":\"\"}}],\"histogram2d\":[{\"type\":\"histogram2d\",\"colorbar\":{\"outlinewidth\":0,\"ticks\":\"\"},\"colorscale\":[[0.0,\"#0d0887\"],[0.1111111111111111,\"#46039f\"],[0.2222222222222222,\"#7201a8\"],[0.3333333333333333,\"#9c179e\"],[0.4444444444444444,\"#bd3786\"],[0.5555555555555556,\"#d8576b\"],[0.6666666666666666,\"#ed7953\"],[0.7777777777777778,\"#fb9f3a\"],[0.8888888888888888,\"#fdca26\"],[1.0,\"#f0f921\"]]}],\"heatmap\":[{\"type\":\"heatmap\",\"colorbar\":{\"outlinewidth\":0,\"ticks\":\"\"},\"colorscale\":[[0.0,\"#0d0887\"],[0.1111111111111111,\"#46039f\"],[0.2222222222222222,\"#7201a8\"],[0.3333333333333333,\"#9c179e\"],[0.4444444444444444,\"#bd3786\"],[0.5555555555555556,\"#d8576b\"],[0.6666666666666666,\"#ed7953\"],[0.7777777777777778,\"#fb9f3a\"],[0.8888888888888888,\"#fdca26\"],[1.0,\"#f0f921\"]]}],\"heatmapgl\":[{\"type\":\"heatmapgl\",\"colorbar\":{\"outlinewidth\":0,\"ticks\":\"\"},\"colorscale\":[[0.0,\"#0d0887\"],[0.1111111111111111,\"#46039f\"],[0.2222222222222222,\"#7201a8\"],[0.3333333333333333,\"#9c179e\"],[0.4444444444444444,\"#bd3786\"],[0.5555555555555556,\"#d8576b\"],[0.6666666666666666,\"#ed7953\"],[0.7777777777777778,\"#fb9f3a\"],[0.8888888888888888,\"#fdca26\"],[1.0,\"#f0f921\"]]}],\"contourcarpet\":[{\"type\":\"contourcarpet\",\"colorbar\":{\"outlinewidth\":0,\"ticks\":\"\"}}],\"contour\":[{\"type\":\"contour\",\"colorbar\":{\"outlinewidth\":0,\"ticks\":\"\"},\"colorscale\":[[0.0,\"#0d0887\"],[0.1111111111111111,\"#46039f\"],[0.2222222222222222,\"#7201a8\"],[0.3333333333333333,\"#9c179e\"],[0.4444444444444444,\"#bd3786\"],[0.5555555555555556,\"#d8576b\"],[0.6666666666666666,\"#ed7953\"],[0.7777777777777778,\"#fb9f3a\"],[0.8888888888888888,\"#fdca26\"],[1.0,\"#f0f921\"]]}],\"surface\":[{\"type\":\"surface\",\"colorbar\":{\"outlinewidth\":0,\"ticks\":\"\"},\"colorscale\":[[0.0,\"#0d0887\"],[0.1111111111111111,\"#46039f\"],[0.2222222222222222,\"#7201a8\"],[0.3333333333333333,\"#9c179e\"],[0.4444444444444444,\"#bd3786\"],[0.5555555555555556,\"#d8576b\"],[0.6666666666666666,\"#ed7953\"],[0.7777777777777778,\"#fb9f3a\"],[0.8888888888888888,\"#fdca26\"],[1.0,\"#f0f921\"]]}],\"mesh3d\":[{\"type\":\"mesh3d\",\"colorbar\":{\"outlinewidth\":0,\"ticks\":\"\"}}],\"scatter\":[{\"fillpattern\":{\"fillmode\":\"overlay\",\"size\":10,\"solidity\":0.2},\"type\":\"scatter\"}],\"parcoords\":[{\"type\":\"parcoords\",\"line\":{\"colorbar\":{\"outlinewidth\":0,\"ticks\":\"\"}}}],\"scatterpolargl\":[{\"type\":\"scatterpolargl\",\"marker\":{\"colorbar\":{\"outlinewidth\":0,\"ticks\":\"\"}}}],\"bar\":[{\"error_x\":{\"color\":\"#2a3f5f\"},\"error_y\":{\"color\":\"#2a3f5f\"},\"marker\":{\"line\":{\"color\":\"#E5ECF6\",\"width\":0.5},\"pattern\":{\"fillmode\":\"overlay\",\"size\":10,\"solidity\":0.2}},\"type\":\"bar\"}],\"scattergeo\":[{\"type\":\"scattergeo\",\"marker\":{\"colorbar\":{\"outlinewidth\":0,\"ticks\":\"\"}}}],\"scatterpolar\":[{\"type\":\"scatterpolar\",\"marker\":{\"colorbar\":{\"outlinewidth\":0,\"ticks\":\"\"}}}],\"histogram\":[{\"marker\":{\"pattern\":{\"fillmode\":\"overlay\",\"size\":10,\"solidity\":0.2}},\"type\":\"histogram\"}],\"scattergl\":[{\"type\":\"scattergl\",\"marker\":{\"colorbar\":{\"outlinewidth\":0,\"ticks\":\"\"}}}],\"scatter3d\":[{\"type\":\"scatter3d\",\"line\":{\"colorbar\":{\"outlinewidth\":0,\"ticks\":\"\"}},\"marker\":{\"colorbar\":{\"outlinewidth\":0,\"ticks\":\"\"}}}],\"scattermapbox\":[{\"type\":\"scattermapbox\",\"marker\":{\"colorbar\":{\"outlinewidth\":0,\"ticks\":\"\"}}}],\"scatterternary\":[{\"type\":\"scatterternary\",\"marker\":{\"colorbar\":{\"outlinewidth\":0,\"ticks\":\"\"}}}],\"scattercarpet\":[{\"type\":\"scattercarpet\",\"marker\":{\"colorbar\":{\"outlinewidth\":0,\"ticks\":\"\"}}}],\"carpet\":[{\"aaxis\":{\"endlinecolor\":\"#2a3f5f\",\"gridcolor\":\"white\",\"linecolor\":\"white\",\"minorgridcolor\":\"white\",\"startlinecolor\":\"#2a3f5f\"},\"baxis\":{\"endlinecolor\":\"#2a3f5f\",\"gridcolor\":\"white\",\"linecolor\":\"white\",\"minorgridcolor\":\"white\",\"startlinecolor\":\"#2a3f5f\"},\"type\":\"carpet\"}],\"table\":[{\"cells\":{\"fill\":{\"color\":\"#EBF0F8\"},\"line\":{\"color\":\"white\"}},\"header\":{\"fill\":{\"color\":\"#C8D4E3\"},\"line\":{\"color\":\"white\"}},\"type\":\"table\"}],\"barpolar\":[{\"marker\":{\"line\":{\"color\":\"#E5ECF6\",\"width\":0.5},\"pattern\":{\"fillmode\":\"overlay\",\"size\":10,\"solidity\":0.2}},\"type\":\"barpolar\"}],\"pie\":[{\"automargin\":true,\"type\":\"pie\"}]},\"layout\":{\"autotypenumbers\":\"strict\",\"colorway\":[\"#636efa\",\"#EF553B\",\"#00cc96\",\"#ab63fa\",\"#FFA15A\",\"#19d3f3\",\"#FF6692\",\"#B6E880\",\"#FF97FF\",\"#FECB52\"],\"font\":{\"color\":\"#2a3f5f\"},\"hovermode\":\"closest\",\"hoverlabel\":{\"align\":\"left\"},\"paper_bgcolor\":\"white\",\"plot_bgcolor\":\"#E5ECF6\",\"polar\":{\"bgcolor\":\"#E5ECF6\",\"angularaxis\":{\"gridcolor\":\"white\",\"linecolor\":\"white\",\"ticks\":\"\"},\"radialaxis\":{\"gridcolor\":\"white\",\"linecolor\":\"white\",\"ticks\":\"\"}},\"ternary\":{\"bgcolor\":\"#E5ECF6\",\"aaxis\":{\"gridcolor\":\"white\",\"linecolor\":\"white\",\"ticks\":\"\"},\"baxis\":{\"gridcolor\":\"white\",\"linecolor\":\"white\",\"ticks\":\"\"},\"caxis\":{\"gridcolor\":\"white\",\"linecolor\":\"white\",\"ticks\":\"\"}},\"coloraxis\":{\"colorbar\":{\"outlinewidth\":0,\"ticks\":\"\"}},\"colorscale\":{\"sequential\":[[0.0,\"#0d0887\"],[0.1111111111111111,\"#46039f\"],[0.2222222222222222,\"#7201a8\"],[0.3333333333333333,\"#9c179e\"],[0.4444444444444444,\"#bd3786\"],[0.5555555555555556,\"#d8576b\"],[0.6666666666666666,\"#ed7953\"],[0.7777777777777778,\"#fb9f3a\"],[0.8888888888888888,\"#fdca26\"],[1.0,\"#f0f921\"]],\"sequentialminus\":[[0.0,\"#0d0887\"],[0.1111111111111111,\"#46039f\"],[0.2222222222222222,\"#7201a8\"],[0.3333333333333333,\"#9c179e\"],[0.4444444444444444,\"#bd3786\"],[0.5555555555555556,\"#d8576b\"],[0.6666666666666666,\"#ed7953\"],[0.7777777777777778,\"#fb9f3a\"],[0.8888888888888888,\"#fdca26\"],[1.0,\"#f0f921\"]],\"diverging\":[[0,\"#8e0152\"],[0.1,\"#c51b7d\"],[0.2,\"#de77ae\"],[0.3,\"#f1b6da\"],[0.4,\"#fde0ef\"],[0.5,\"#f7f7f7\"],[0.6,\"#e6f5d0\"],[0.7,\"#b8e186\"],[0.8,\"#7fbc41\"],[0.9,\"#4d9221\"],[1,\"#276419\"]]},\"xaxis\":{\"gridcolor\":\"white\",\"linecolor\":\"white\",\"ticks\":\"\",\"title\":{\"standoff\":15},\"zerolinecolor\":\"white\",\"automargin\":true,\"zerolinewidth\":2},\"yaxis\":{\"gridcolor\":\"white\",\"linecolor\":\"white\",\"ticks\":\"\",\"title\":{\"standoff\":15},\"zerolinecolor\":\"white\",\"automargin\":true,\"zerolinewidth\":2},\"scene\":{\"xaxis\":{\"backgroundcolor\":\"#E5ECF6\",\"gridcolor\":\"white\",\"linecolor\":\"white\",\"showbackground\":true,\"ticks\":\"\",\"zerolinecolor\":\"white\",\"gridwidth\":2},\"yaxis\":{\"backgroundcolor\":\"#E5ECF6\",\"gridcolor\":\"white\",\"linecolor\":\"white\",\"showbackground\":true,\"ticks\":\"\",\"zerolinecolor\":\"white\",\"gridwidth\":2},\"zaxis\":{\"backgroundcolor\":\"#E5ECF6\",\"gridcolor\":\"white\",\"linecolor\":\"white\",\"showbackground\":true,\"ticks\":\"\",\"zerolinecolor\":\"white\",\"gridwidth\":2}},\"shapedefaults\":{\"line\":{\"color\":\"#2a3f5f\"}},\"annotationdefaults\":{\"arrowcolor\":\"#2a3f5f\",\"arrowhead\":0,\"arrowwidth\":1},\"geo\":{\"bgcolor\":\"white\",\"landcolor\":\"#E5ECF6\",\"subunitcolor\":\"white\",\"showland\":true,\"showlakes\":true,\"lakecolor\":\"white\"},\"title\":{\"x\":0.05},\"mapbox\":{\"style\":\"light\"}}},\"xaxis\":{\"anchor\":\"y\",\"domain\":[0.0,0.45],\"type\":\"category\",\"linewidth\":1,\"linecolor\":\"black\",\"mirror\":true,\"ticks\":\"outside\",\"title\":{\"text\":\"Year\"}},\"yaxis\":{\"anchor\":\"x\",\"domain\":[0.0,1.0],\"linewidth\":1,\"linecolor\":\"black\",\"mirror\":true,\"ticks\":\"outside\",\"showgrid\":true,\"gridwidth\":0.1,\"gridcolor\":\"LightGrey\",\"title\":{\"text\":\"Relative PXX yield\"}},\"xaxis2\":{\"anchor\":\"y2\",\"domain\":[0.55,1.0],\"type\":\"category\",\"linewidth\":1,\"linecolor\":\"black\",\"mirror\":true,\"ticks\":\"outside\",\"title\":{\"text\":\"Year\"}},\"yaxis2\":{\"anchor\":\"x2\",\"domain\":[0.0,1.0],\"linewidth\":1,\"linecolor\":\"black\",\"mirror\":true,\"ticks\":\"outside\",\"showgrid\":true,\"gridwidth\":0.1,\"gridcolor\":\"LightGrey\"},\"title\":{\"text\":\"P-values \\u003c 50 and \\u003e 50, Relative to Year 1 P50 Yield\",\"font\":{\"size\":18}},\"width\":900,\"showlegend\":true,\"font\":{\"size\":16},\"paper_bgcolor\":\"white\",\"plot_bgcolor\":\"white\",\"images\":[{\"sizex\":0.2,\"sizey\":0.2,\"source\":\"data:image\\u002fsvg+xml;base64,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\",\"x\":0.4,\"xanchor\":\"left\",\"xref\":\"paper\",\"y\":1.18,\"yanchor\":\"top\",\"yref\":\"paper\"}]},                        {\"responsive\": true}                    ).then(function(){\n",
       "                            \n",
       "var gd = document.getElementById('de4276aa-9881-4885-a7ff-8ee0567fa782');\n",
       "var x = new MutationObserver(function (mutations, observer) {{\n",
       "        var display = window.getComputedStyle(gd).display;\n",
       "        if (!display || display === 'none') {{\n",
       "            console.log([gd, 'removed!']);\n",
       "            Plotly.purge(gd);\n",
       "            observer.disconnect();\n",
       "        }}\n",
       "}});\n",
       "\n",
       "// Listen for the removal of the full notebook cells\n",
       "var notebookContainer = gd.closest('#notebook-container');\n",
       "if (notebookContainer) {{\n",
       "    x.observe(notebookContainer, {childList: true});\n",
       "}}\n",
       "\n",
       "// Listen for the clearing of the current output cell\n",
       "var outputEl = gd.closest('.output');\n",
       "if (outputEl) {{\n",
       "    x.observe(outputEl, {childList: true});\n",
       "}}\n",
       "\n",
       "                        })                };                });            </script>        </div>"
      ]
     },
     "metadata": {},
     "output_type": "display_data"
    }
   ],
   "source": [
    "plot_pvalues(summary)"
   ]
  },
  {
   "cell_type": "markdown",
   "metadata": {},
   "source": [
    "# pvlib Monte-Carlo Analysis"
   ]
  },
  {
   "cell_type": "code",
   "execution_count": 201,
   "metadata": {
    "id": "q7z64VX6KHbo"
   },
   "outputs": [
    {
     "name": "stdout",
     "output_type": "stream",
     "text": [
      "Parsed distributions:\n",
      "GHI: {'sim_to_sim': None, 'yr_to_yr': ['Gaussian', 1.0, 0.04], 'step_to_step': None}\n",
      "AnnualDegradationRate: {'sim_to_sim': None, 'yr_to_yr': ['SkewedGaussian', -2.0, 1.0, 0.05], 'step_to_step': None}\n",
      "Temperature: {'sim_to_sim': ['SkewedGaussian', 2.0, 0.3, 0.1], 'yr_to_yr': None, 'step_to_step': None}\n",
      "Availability: {'sim_to_sim': ['Weibull', 1.0, 0.15, 1.2, False], 'yr_to_yr': None, 'step_to_step': None}\n",
      "\n",
      "Running Monte Carlo analysis: 6000 simulations × 12 years...\n",
      "Simulation 1200/6000\n",
      "Simulation 2400/6000\n",
      "Simulation 3600/6000\n",
      "Simulation 4800/6000\n",
      "Simulation 6000/6000\n",
      "Monte Carlo analysis complete! Time now: 22:06:01\n",
      "Request (pvlib) took 1951 s, running 72000 simulations in total (36.91 sims/s)\n",
      "SunSolve P90 took 128.52 s (560.22 sims/s)\n",
      "\n",
      "=== pvlib Monte Carlo Results Summary ===\n",
      "Year 1 - Mean: 989.2 kWh, Std: 145.8 kWh\n",
      "Year 12 - Mean: 938.4 kWh, Std: 138.4 kWh\n",
      "Total degradation over 12 years: 5.1%\n"
     ]
    }
   ],
   "source": [
    "# Monte Carlo Yield Analysis with Uncertainties (Matching SunSolve P90)\n",
    "import pvlib\n",
    "from scipy.stats import norm, skewnorm\n",
    "from scipy.stats import weibull_min\n",
    "\n",
    "# Extract system parameters from used_inputs\n",
    "module_power = used_inputs.Module.PowerRatingAtSTCInW\n",
    "power_temp_coeff = used_inputs.Module.ModuleEfficiencyTemperatureCoefficient\n",
    "degradation_rate = used_inputs.Operation.AnnualDegradationRate\n",
    "soiling_front = used_inputs.Optical.FallbackSoilingFront\n",
    "soiling_rear = used_inputs.Optical.FallbackSoilingRear\n",
    "inverter_efficiency = used_inputs.Electrical.InverterEfficiency\n",
    "module_tilt = used_inputs.System.FallbackModuleTiltInDegrees\n",
    "module_azimuth = used_inputs.System.ModuleAzimuthInDegrees\n",
    "modules_per_string = used_inputs.System.ModulesPerString\n",
    "strings_per_inverter = used_inputs.System.StringsPerInverter\n",
    "num_inverters = used_inputs.System.NumberOfInverters\n",
    "Uc = used_inputs.Thermal.Uc\n",
    "Uv = used_inputs.Thermal.Uc\n",
    "alpha_absorption = used_inputs.Thermal.Alpha\n",
    "albedo = used_inputs.Optical.FallbackAlbedo\n",
    "cell_mismatch = used_inputs.Module.CellToCellMismatch\n",
    "module_mismatch = used_inputs.Electrical.ModuleToModuleMismatch\n",
    "string_mismatch = used_inputs.Electrical.StringToStringMismatch\n",
    "inverter_mismatch = used_inputs.Electrical.InverterToInverterMismatch\n",
    "string_wiring_loss = used_inputs.Electrical.StringWiringLoss\n",
    "inverter_wiring_loss = used_inputs.Electrical.InverterWiringLoss\n",
    "curtailment = used_inputs.Operation.Curtailment\n",
    "num_modules = modules_per_string * strings_per_inverter * num_inverters\n",
    "\n",
    "# Extract view factor shading calculation inputs\n",
    "module_length = used_inputs.Module.LengthInM\n",
    "module_width = used_inputs.Module.WidthInM\n",
    "module_height = used_inputs.Module.HeightAboveGroundInM\n",
    "bifaciality = used_inputs.Module.Bifaciality\n",
    "row_pitch = used_inputs.System.RowPitchInM\n",
    "gcr = module_width / row_pitch  # Ground coverage ratio\n",
    "module_efficiency = module_power / (1000*module_width*module_length)\n",
    "\n",
    "# Calculate diffuse shading factor now using view factor model\n",
    "# (since system is fixed, no need to solve it in-loop)\n",
    "masking_angle = pvlib.shading.masking_angle_passias(module_tilt, gcr)\n",
    "diffuse_shading_factor = pvlib.shading.sky_diffuse_passias(masking_angle)\n",
    "\n",
    "# Load base weather data\n",
    "weather_base = pd.read_csv(r\"Data/Sydney.csv\", skiprows=1, parse_dates=[0], date_format=\"%d/%m/%Y %H:%M\")\n",
    "weather_base.columns = [\"datetime\", \"solar_azimuth\", \"solar_zenith\", \"temp_air\", \"dhi\", \"ghi\", \"dni\", \"wind_speed\", \"tilt\"]\n",
    "weather_base.set_index(\"datetime\", inplace=True)\n",
    "\n",
    "\n",
    "# System parameters\n",
    "latitude, longitude, altitude = -33.865, 151.300, 50\n",
    "tz = \"Etc/GMT+10\"\n",
    "inverter_capacity = round(num_modules*module_power/1.2)\n",
    "module_specs = {\"pmp\": module_power, \"gamma_pmp\": -power_temp_coeff}\n",
    "inverter_specs = {\"pdc0\": inverter_capacity, \"eta_inv_nom\": inverter_efficiency}\n",
    "site_location = pvlib.location.Location(latitude, longitude, tz=tz, name=\"Sydney, AU\")\n",
    "solpos = site_location.get_solarposition(weather_base.index)\n",
    "cs = site_location.get_clearsky(weather_base.index)\n",
    "\n",
    "# Initialize results storage\n",
    "annual_yields = np.zeros((N_SIMS, N_YEARS))\n",
    "fig_cols = min(4, N_YEARS) if N_YEARS < 25 else 5\n",
    "\n",
    "# Create bin list from p_min and p_delta.\n",
    "n_p = len(summary.YearlyHistogram[0].bins)\n",
    "p_max = (1+(1-p_min))-p_delta       # -p_delta to avoid needing n_p+1 bins\n",
    "p_bins = np.linspace(p_min, p_max, n_p)\n",
    "\n",
    "t_start = time.time()    # get the start time\n",
    "\n",
    "print(\"Parsed distributions:\")\n",
    "for key, value in distributions.items():\n",
    "    print(f\"{key}: {value}\")\n",
    "\n",
    "print(f\"\\nRunning Monte Carlo analysis: {N_SIMS} simulations × {N_YEARS} years...\")\n",
    "\n",
    "# Monte Carlo simulation loops\n",
    "for sim in range(N_SIMS):\n",
    "    if N_SIMS > 5 and (sim + 1) % (N_SIMS//5) == 0:\n",
    "        print(f\"Simulation {sim + 1}/{N_SIMS}\")\n",
    "    \n",
    "    # Simulation-level uncertainties (same for all years in this simulation)\n",
    "    ghi_sim_factor = random_val(distributions,\"GHI\",\"sim_to_sim\")\n",
    "    diffuse_sim_factor = random_val(distributions,\"DiffuseFraction\",\"sim_to_sim\")\n",
    "    temp_sim_factor = random_val(distributions,\"Temperature\",\"sim_to_sim\")\n",
    "    wind_sim_factor = random_val(distributions,\"WindSpeed\",\"sim_to_sim\")\n",
    "    degradation_sim = random_val(distributions,\"AnnualDegradationRate\",\"sim_to_sim\")\n",
    "    soiling_front_sim = random_val(distributions,\"SoilingFront\",\"sim_to_sim\")\n",
    "    availability_sim = random_val(distributions,\"Availability\",\"sim_to_sim\")\n",
    "\n",
    "    for year in range(N_YEARS):\n",
    "        # Year-level uncertainties (vary each year)\n",
    "        ghi_year_factor = random_val(distributions,\"GHI\",\"yr_to_yr\")\n",
    "        diffuse_year_factor = random_val(distributions,\"DiffuseFraction\",\"yr_to_yr\")\n",
    "        temp_year_factor = random_val(distributions,\"Temperature\",\"yr_to_yr\")\n",
    "        wind_year_factor = random_val(distributions,\"WindSpeed\",\"yr_to_yr\")\n",
    "        degradation_year = random_val(distributions,\"AnnualDegradationRate\",\"yr_to_yr\")\n",
    "        soiling_front_year = random_val(distributions,\"SoilingFront\",\"yr_to_yr\")\n",
    "        availability_year = random_val(distributions,\"Availability\",\"yr_to_yr\")\n",
    "\n",
    "        # Copy weather data for modifications\n",
    "        modified_weather = weather_base.copy()\n",
    "        \n",
    "        # Apply step-to-step uncertainties to each timestep\n",
    "        n_timesteps = len(modified_weather)\n",
    "        ghi_step_factors = np.array([random_val(distributions,\"GHI\",\"step_to_step\") for _ in range(n_timesteps)])\n",
    "        diffuse_step_factors = np.array([random_val(distributions,\"DiffuseFraction\",\"step_to_step\") for _ in range(n_timesteps)])\n",
    "        temp_step_factors = np.array([random_val(distributions,\"Temperature\",\"step_to_step\") for _ in range(n_timesteps)])\n",
    "        wind_step_factors = np.array([random_val(distributions,\"WindSpeed\",\"step_to_step\") for _ in range(n_timesteps)])\n",
    "        availability_step_factors = np.array([random_val(distributions,\"Availability\",\"step_to_step\") for _ in range(n_timesteps)])\n",
    "\n",
    "        # Apply all uncertainties to weather data\n",
    "        modified_weather[\"ghi\"] = modified_weather[\"ghi\"] * ghi_sim_factor * ghi_year_factor * ghi_step_factors\n",
    "        modified_weather[\"temp_air\"] = modified_weather[\"temp_air\"] * temp_sim_factor * temp_year_factor * temp_step_factors - 273.15     # Convert from Kelvin to celsius at the end\n",
    "        modified_weather[\"wind_speed\"] = modified_weather[\"wind_speed\"] * wind_sim_factor * wind_year_factor * wind_step_factors\n",
    "        \n",
    "        # Apply diffuse fraction uncertainty (affects DHI relative to GHI; then DNI is calculated from both)\n",
    "        diffuse_fraction = modified_weather[\"dhi\"] / (modified_weather[\"ghi\"] + 1e-10)  # Avoid division by zero\n",
    "        diffuse_fraction_modified = diffuse_fraction * diffuse_sim_factor * diffuse_year_factor * diffuse_step_factors\n",
    "        diffuse_fraction_modified = np.clip(diffuse_fraction_modified, 0, 1)  # Keep between 0 and 1\n",
    "        modified_weather[\"dhi\"] = modified_weather[\"ghi\"] * diffuse_fraction_modified\n",
    "        modified_weather[\"dni\"] = (modified_weather[\"ghi\"]-modified_weather[\"dhi\"]) / np.cos(np.radians(solpos[\"apparent_zenith\"]))\n",
    "        \n",
    "        # Calculate row-to-row beam shading using shaded_fraction1d\n",
    "        shaded_fraction = pvlib.shading.shaded_fraction1d(\n",
    "            solar_zenith=solpos[\"apparent_zenith\"],\n",
    "            solar_azimuth=solpos[\"azimuth\"], \n",
    "            axis_azimuth=module_azimuth,\n",
    "            shaded_row_rotation=module_tilt,\n",
    "            collector_width=module_width,\n",
    "            pitch=row_pitch,\n",
    "            axis_tilt=module_tilt\n",
    "        )\n",
    "\n",
    "        # Apply beam shading to DNI and diffuse shading to DHI\n",
    "        beam_shading_factor = 1 - shaded_fraction\n",
    "        modified_weather[\"dni\"] *= beam_shading_factor\n",
    "        modified_weather[\"dhi\"] *= diffuse_shading_factor\n",
    "\n",
    "        # Calculate irradiance\n",
    "        extraterrestrial_dni = pvlib.irradiance.get_extra_radiation(modified_weather.index)\n",
    "        total_irradiance = pvlib.bifacial.infinite_sheds.get_irradiance(module_tilt, module_azimuth, solpos[\"apparent_zenith\"],\n",
    "            solpos[\"azimuth\"], gcr, module_width, row_pitch, modified_weather[\"ghi\"], modified_weather[\"dhi\"], modified_weather[\"dni\"],\n",
    "            albedo, model=\"haydavies\", dni_extra=extraterrestrial_dni, iam_front=1.0, iam_back=1.0, bifaciality=bifaciality,\n",
    "            shade_factor=-0.02, transmission_factor=0)\n",
    "        \n",
    "        # Apply soiling losses (use SunSolve values)\n",
    "        soiling_factor_front = 1 - (soiling_front * soiling_front_sim * soiling_front_year)\n",
    "        soiling_factor_rear = 1 - soiling_rear\n",
    "        effective_irradiance = total_irradiance[\"poa_front\"] * soiling_factor_front + \\\n",
    "              total_irradiance[\"poa_back\"] * bifaciality * soiling_factor_rear\n",
    "        \n",
    "        # Calculate cell temperature\n",
    "        cell_temp = pvlib.temperature.pvsyst_cell(\n",
    "            effective_irradiance, modified_weather[\"temp_air\"], modified_weather[\"wind_speed\"],\n",
    "            u_c=Uc, u_v=Uv, module_efficiency=module_efficiency, alpha_absorption=alpha_absorption)\n",
    "\n",
    "        # Calculate DC power\n",
    "        array_rated_power = module_power * modules_per_string * strings_per_inverter\n",
    "        module_power_dc = pvlib.pvsystem.pvwatts_dc(\n",
    "            effective_irradiance, cell_temp, module_power, \n",
    "            module_specs[\"gamma_pmp\"], temp_ref=25) * (1-cell_mismatch)\n",
    "        \n",
    "        string_power_dc = module_power_dc * modules_per_string * (1-module_mismatch) * (1-string_wiring_loss)\n",
    "        array_power_dc = string_power_dc * strings_per_inverter * num_inverters * (1-inverter_mismatch) * (1-string_mismatch) * (1-inverter_wiring_loss)\n",
    "\n",
    "        # Calculate AC power and apply step-wise availability\n",
    "        ac_power = array_power_dc * inverter_efficiency\n",
    "        ac_power *= availability_step_factors\n",
    "        \n",
    "        # Apply linear degradation (use SunSolve values)\n",
    "        degradation_factor = max(0, 1 - (degradation_rate * degradation_sim * degradation_year) * (year + 0.5))\n",
    "        ac_power_degraded = ac_power * degradation_factor\n",
    "        \n",
    "        # Apply sim+year availability factor and curtailment, apply limits to keep 0 <= availability <= 1\n",
    "        availability_factor = np.clip(availability_sim * availability_year, 0, 1)\n",
    "        ac_power_final = ac_power_degraded * availability_factor * (1-curtailment)\n",
    "        \n",
    "        annual_yields[sim, year] = ac_power_final.sum() / 1000  # kWh\n",
    "\n",
    "print(f\"Monte Carlo analysis complete! Time now: {time.strftime('%H:%M:%S', time.localtime())}\")\n",
    "\n",
    "t_pvlib = time.time()-t_start    # get the request time in seconds\n",
    "n_total = N_SIMS*N_YEARS\n",
    "print(f\"Request (pvlib) took {round(t_pvlib)} s, running {n_total} simulations in total ({round(n_total/t_pvlib, 2)} sims/s)\")\n",
    "print(f\"SunSolve P90 took {t_sunsolve:g} s ({round(n_total/t_sunsolve,2)} sims/s)\")\n",
    "\n",
    "# Calculate pvlib statistics\n",
    "yield_mean = np.mean(annual_yields, axis=0)\n",
    "yield_std = np.std(annual_yields, axis=0)\n",
    "yield_p10 = np.percentile(annual_yields, 90, axis=0)\n",
    "yield_p90 = np.percentile(annual_yields, 10, axis=0)\n",
    "\n",
    "print(f\"\\n=== pvlib Monte Carlo Results Summary ===\")\n",
    "print(f\"Year 1 - Mean: {yield_mean[0]:.1f} kWh, Std: {yield_std[0]:.1f} kWh\")\n",
    "if N_YEARS > 1:\n",
    "    print(f\"Year {N_YEARS} - Mean: {yield_mean[-1]:.1f} kWh, Std: {yield_std[-1]:.1f} kWh\")\n",
    "    print(f\"Total degradation over {N_YEARS} years: {((yield_mean[0] - yield_mean[-1])/yield_mean[0]*100):.1f}%\")"
   ]
  },
  {
   "cell_type": "code",
   "execution_count": 202,
   "metadata": {},
   "outputs": [
    {
     "data": {
      "application/vnd.jupyter.widget-view+json": {
       "model_id": "df1b8466b1b948a49a5839456d699536",
       "version_major": 2,
       "version_minor": 0
      },
      "text/plain": [
       "interactive(children=(IntSlider(value=1, description='Year:', max=12, min=1), Output()), _dom_classes=('widget…"
      ]
     },
     "metadata": {},
     "output_type": "display_data"
    },
    {
     "data": {
      "application/vnd.jupyter.widget-view+json": {
       "model_id": "bfb2f69a63cb42d08a825b8f61838ad8",
       "version_major": 2,
       "version_minor": 0
      },
      "text/plain": [
       "interactive(children=(IntSlider(value=1, description='Year:', max=12, min=1), Output()), _dom_classes=('widget…"
      ]
     },
     "metadata": {},
     "output_type": "display_data"
    }
   ],
   "source": [
    "# Convert pvlib data into an UncertaintySummary to match the SunSolve P90 data\n",
    "pvlib_summary = create_pvlib_summary(annual_yields, N_YEARS, p_bins)\n",
    "# Plot pvlib and SunSolve summaries\n",
    "plot_interactive_histogram(pvlib_summary, p_min=p_min, p_delta=p_delta, title=\"pvlib\")\n",
    "plot_interactive_histogram(summary, p_min=p_min, p_delta=p_delta, title=\"SunSolve P90\")"
   ]
  },
  {
   "cell_type": "markdown",
   "metadata": {},
   "source": [
    "# Analysis"
   ]
  },
  {
   "cell_type": "code",
   "execution_count": 203,
   "metadata": {},
   "outputs": [
    {
     "data": {
      "image/png": "[encoded data removed]",
      "text/plain": [
       "<Figure size 1600x1200 with 12 Axes>"
      ]
     },
     "metadata": {},
     "output_type": "display_data"
    },
    {
     "data": {
      "image/png": "[encoded data removed]",
      "text/plain": [
       "<Figure size 1600x1200 with 12 Axes>"
      ]
     },
     "metadata": {},
     "output_type": "display_data"
    }
   ],
   "source": [
    "#### P90-pvlib Histogram Comparison\n",
    "# Create pvlib histogram plots for each year\n",
    "fig_rows = math.ceil(N_YEARS/fig_cols)\n",
    "fig1, axes1 = plt.subplots(fig_rows, fig_cols, figsize=(16, 4*N_YEARS//fig_cols))\n",
    "if N_YEARS > 1:\n",
    "    axes1 = axes1.flatten()\n",
    "else:\n",
    "    axes1 = [axes1]\n",
    "\n",
    "years = range(1, N_YEARS + 1)\n",
    "for i, year in enumerate(years):\n",
    "    if i < len(pvlib_summary.YearlyHistogram):\n",
    "        # Get pvlib histogram data\n",
    "        hist_data = pvlib_summary.YearlyHistogram[i]\n",
    "        bin_counts = np.array(hist_data.bins)\n",
    "\n",
    "        # Plot pvlib histogram\n",
    "        axes1[i].bar(p_bins, bin_counts, alpha=0.7, color=f\"C{i%10}\", edgecolor=\"black\", width=0.01)\n",
    "        axes1[i].set_title(f\"pvlib Year {year}\")\n",
    "        axes1[i].set_xlabel(\"P50 Deviation\")\n",
    "        axes1[i].set_ylabel(\"Frequency\")\n",
    "        axes1[i].grid(True, alpha=0.3)\n",
    "\n",
    "plt.tight_layout()\n",
    "plt.suptitle(f\"pvlib Monte Carlo Annual Yield Distributions ({N_SIMS} simulations)\", y=1.02, fontsize=14)\n",
    "plt.show()\n",
    "\n",
    "\n",
    "# Store results for comparison\n",
    "pvlib_results = {\n",
    "    \"annual_yields\": annual_yields,\n",
    "    \"yield_mean\": yield_mean,\n",
    "    \"yield_p90\": yield_p90,\n",
    "    \"yield_p10\": yield_p10\n",
    "}\n",
    "\n",
    "# Plot SunSolve histograms data\n",
    "fig2, axes2 = plt.subplots(fig_rows, fig_cols, figsize=(16, 4*N_YEARS//fig_cols))\n",
    "if N_YEARS > 1:\n",
    "    axes2 = axes2.flatten()\n",
    "else:\n",
    "    axes2 = [axes2]\n",
    "\n",
    "years = range(1, N_YEARS + 1)\n",
    "for i, year in enumerate(years):\n",
    "    if i < len(summary.YearlyHistogram):\n",
    "        # Get SunSolve histogram data\n",
    "        hist_data = summary.YearlyHistogram[i]\n",
    "        bin_counts = np.array(hist_data.bins)\n",
    "        \n",
    "        # Plot SunSolve histogram\n",
    "        axes2[i].bar(p_bins, bin_counts, alpha=0.7, color=f\"C{i%10}\", edgecolor=\"black\", width=0.01)\n",
    "        axes2[i].set_title(f\"SunSolve Year {year}\")\n",
    "        axes2[i].set_xlabel(\"P50 Deviation\")\n",
    "        axes2[i].set_ylabel(\"Frequency\")\n",
    "        axes2[i].grid(True, alpha=0.3)\n",
    "\n",
    "plt.tight_layout()\n",
    "plt.suptitle(f\"SunSolve P90 Histogram Results ({N_SIMS} simulations)\", y=1.02, fontsize=14)\n",
    "plt.show()"
   ]
  },
  {
   "cell_type": "code",
   "execution_count": 204,
   "metadata": {},
   "outputs": [
    {
     "data": {
      "image/png": "[encoded data removed]",
      "text/plain": [
       "<Figure size 1500x1000 with 4 Axes>"
      ]
     },
     "metadata": {},
     "output_type": "display_data"
    },
    {
     "name": "stdout",
     "output_type": "stream",
     "text": [
      "\n",
      "=== Annual Statistics Comparison (kWh) ===\n",
      "Software\tYear\tMean\tS.D.\tP10\tP90\tRange\n",
      "SunSolve\t1\t989\t141\t1121\t774\t347\n",
      "pvlib\t\t1\t989\t146\t1147\t795\t352\n",
      "SunSolve\t2\t981\t140\t1114\t773\t341\n",
      "pvlib\t\t2\t985\t145\t1141\t790\t351\n",
      "SunSolve\t3\t978\t140\t1109\t768\t342\n",
      "pvlib\t\t3\t981\t146\t1141\t789\t352\n",
      "SunSolve\t4\t975\t139\t1104\t763\t341\n",
      "pvlib\t\t4\t976\t143\t1133\t786\t347\n",
      "SunSolve\t5\t966\t138\t1098\t762\t336\n",
      "pvlib\t\t5\t971\t143\t1126\t781\t344\n",
      "SunSolve\t6\t964\t137\t1093\t754\t339\n",
      "pvlib\t\t6\t967\t142\t1119\t776\t343\n",
      "SunSolve\t7\t959\t136\t1086\t754\t333\n",
      "pvlib\t\t7\t961\t142\t1114\t775\t339\n",
      "SunSolve\t8\t955\t136\t1080\t747\t333\n",
      "pvlib\t\t8\t957\t142\t1113\t770\t343\n",
      "SunSolve\t9\t947\t136\t1077\t744\t333\n",
      "pvlib\t\t9\t953\t139\t1103\t768\t335\n",
      "SunSolve\t10\t943\t135\t1070\t742\t328\n",
      "pvlib\t\t10\t947\t140\t1098\t758\t340\n",
      "SunSolve\t11\t939\t133\t1063\t737\t326\n",
      "pvlib\t\t11\t943\t140\t1092\t758\t334\n",
      "SunSolve\t12\t933\t133\t1059\t736\t323\n",
      "pvlib\t\t12\t938\t138\t1087\t758\t329\n",
      "\n",
      "=== Numerical Comparison ===\n",
      "Year\tSunSolve P90\tpvlib P90\tDiff90\n",
      "1\t0.782\t\t0.804\t\t0.022\n",
      "2\t0.788\t\t0.799\t\t0.011\n",
      "3\t0.785\t\t0.798\t\t0.013\n",
      "4\t0.782\t\t0.794\t\t0.012\n",
      "5\t0.789\t\t0.790\t\t0.001\n",
      "6\t0.782\t\t0.784\t\t0.002\n",
      "7\t0.786\t\t0.783\t\t-0.003\n",
      "8\t0.783\t\t0.779\t\t-0.004\n",
      "9\t0.785\t\t0.776\t\t-0.008\n",
      "10\t0.788\t\t0.766\t\t-0.021\n",
      "11\t0.784\t\t0.766\t\t-0.018\n",
      "12\t0.789\t\t0.766\t\t-0.023\n",
      "\n",
      "=== Summary Statistics ===\n",
      "P90 Mean Absolute Difference: 0.0116\n",
      "P10 Mean Absolute Difference: 0.0170\n",
      "P90 Max Difference: 0.0230\n",
      "P10 Max Difference: 0.0363\n",
      "\n",
      "=== Correlation Analysis ===\n",
      "P90 Correlation: -0.2946 (p-value: 0.3526)\n",
      "P10 Correlation: -0.0513 (p-value: 0.8742)\n"
     ]
    }
   ],
   "source": [
    "# Comparison between SunSolve P90 and pvlib Monte Carlo Results\n",
    "# Extract SunSolve P90 results (normalized values)\n",
    "sunsolve_p10_deviations = []\n",
    "sunsolve_p50_deviations = []\n",
    "sunsolve_p90_deviations = []\n",
    "\n",
    "# Parse the summary to extract P50 and P90 values for each year\n",
    "for year in range(N_YEARS):\n",
    "    # SunSolve results are normalized to P50 deviation\n",
    "    p50_dev = summary.YearlyP50Deviation[year].Value\n",
    "    sunsolve_p50_deviations.append(p50_dev)\n",
    "    \n",
    "    # Find P90 and P10 values from PValues\n",
    "    p90_dev, p10_dev = None, None\n",
    "    \n",
    "    # YearlyPValue is a flat list: [Y1P50, Y1P90, Y1P95, Y2P50, Y2P90, Y2P95, ...]\n",
    "    # pvals have '.Year', '.P', and '.P50Deviation' attributes\n",
    "    for pval in summary.YearlyPValue:\n",
    "        if pval.Year == year + 1:  # Year is 1-indexed\n",
    "            if pval.P == 90:\n",
    "                p90_dev = pval.P50Deviation\n",
    "            if pval.P == 10:\n",
    "                p10_dev = pval.P50Deviation\n",
    "            if p10_dev is not None and p90_dev is not None:\n",
    "                break\n",
    "    \n",
    "    sunsolve_p90_deviations.append(p90_dev)\n",
    "    sunsolve_p10_deviations.append(p10_dev)\n",
    "\n",
    "# Calculate pvlib P50 and P90 as deviations from Year 1 P50\n",
    "pvlib_year_one_p50 = pvlib_results[\"yield_mean\"][0]\n",
    "pvlib_p50_deviations = pvlib_results[\"yield_mean\"] / pvlib_year_one_p50\n",
    "pvlib_p10_deviations = pvlib_results[\"yield_p10\"] / pvlib_year_one_p50\n",
    "pvlib_p90_deviations = pvlib_results[\"yield_p90\"] / pvlib_year_one_p50\n",
    "\n",
    "p10_diff = np.array(pvlib_p10_deviations) - np.array(sunsolve_p10_deviations)\n",
    "p50_diff = np.array(pvlib_p50_deviations) - np.array(sunsolve_p50_deviations)\n",
    "p90_diff = np.array(pvlib_p90_deviations) - np.array(sunsolve_p90_deviations)\n",
    "\n",
    "# Create comparison plots\n",
    "# Only works if N_YEARS > 1\n",
    "if N_YEARS > 1:\n",
    "    fig, axes = plt.subplots(2, 2, figsize=(15, 10))\n",
    "\n",
    "    years = np.arange(1, N_YEARS + 1)\n",
    "\n",
    "    # Plot 1: P50 Comparison\n",
    "    axes[0,0].plot(years, sunsolve_p50_deviations, \"bo-\", label=\"SunSolve P50\", linewidth=2, markersize=6)\n",
    "    axes[0,0].plot(years, pvlib_p50_deviations, \"ro-\", label=\"pvlib P50\", linewidth=2, markersize=6)\n",
    "    axes[0,0].set_title(\"P50 Yield Comparison (Normalized to Year 1)\")\n",
    "    axes[0,0].set_xlabel(\"Year\")\n",
    "    axes[0,0].set_ylabel(\"P50 Deviation from Year 1\")\n",
    "    axes[0,0].set_xticks(years)  # Force integer ticks\n",
    "    all_y_vals = [*sunsolve_p50_deviations, *pvlib_p50_deviations]\n",
    "    half_y_range = (max(all_y_vals)-min(all_y_vals))/2\n",
    "    axes[0,0].set_ylim(min(0.9, min(all_y_vals)-half_y_range), max(all_y_vals)+half_y_range)\n",
    "    axes[0,0].legend()\n",
    "    axes[0,0].grid(True, alpha=0.3)\n",
    "\n",
    "    # Plot 2: P90 Comparison\n",
    "    axes[0,1].plot(years, sunsolve_p90_deviations, \"bo-\", label=\"SunSolve P90\", linewidth=2, markersize=6)\n",
    "    axes[0,1].plot(years, pvlib_p90_deviations, \"ro-\", label=\"pvlib P90\", linewidth=2, markersize=6)\n",
    "    axes[0,1].set_title(\"P90 Yield Comparison (Normalized to Year 1 P50)\")\n",
    "    axes[0,1].set_xlabel(\"Year\")\n",
    "    axes[0,1].set_ylabel(\"P90 Deviation from Year 1 P50\")\n",
    "    axes[0,1].set_xticks(years)  # Force integer ticks\n",
    "    all_y_vals = [*sunsolve_p90_deviations, *pvlib_p90_deviations]\n",
    "    half_y_range = (max(all_y_vals)-min(all_y_vals))/2\n",
    "    axes[0,1].set_ylim(min(0.7, min(all_y_vals)-half_y_range), max(1, max(all_y_vals)+half_y_range))\n",
    "    axes[0,1].legend()\n",
    "    axes[0,1].grid(True, alpha=0.3)\n",
    "\n",
    "    # Plot 3: P10 Comparison\n",
    "    axes[1,0].plot(years, sunsolve_p10_deviations, \"bo-\", label=\"SunSolve P10\", linewidth=2, markersize=6)\n",
    "    axes[1,0].plot(years, pvlib_p10_deviations, \"ro-\", label=\"pvlib P10\", linewidth=2, markersize=6)\n",
    "    axes[1,0].set_title(\"P10 Yield Comparison (Normalized to Year 1 P50)\")\n",
    "    axes[1,0].set_xlabel(\"Year\")\n",
    "    axes[1,0].set_ylabel(\"P10 Deviation from Year 1 P50\")\n",
    "    axes[1,0].set_xticks(years)  # Force integer ticks\n",
    "    all_y_vals = [*sunsolve_p10_deviations, *pvlib_p10_deviations]\n",
    "    half_y_range = (max(all_y_vals)-min(all_y_vals))/2\n",
    "    axes[1,0].set_ylim(min(1, min(all_y_vals)-half_y_range), max(1.3, max(all_y_vals)+half_y_range))\n",
    "    axes[1,0].legend()\n",
    "    axes[1,0].grid(True, alpha=0.3)\n",
    "\n",
    "    # Plot 4: Difference between methods\n",
    "    axes[1,1].plot(years, p50_diff, \"go-\", label=\"P50 Difference\", linewidth=2, markersize=6)\n",
    "    axes[1,1].plot(years, p90_diff, \"mo-\", label=\"P90 Difference\", linewidth=2, markersize=6)\n",
    "    axes[1,1].plot(years, p10_diff, \"co-\", label=\"P90 Difference\", linewidth=2, markersize=6)\n",
    "    axes[1,1].axhline(y=0, color=\"black\", linestyle=\"--\", alpha=0.5)\n",
    "    axes[1,1].set_title(\"Difference: pvlib - SunSolve\")\n",
    "    axes[1,1].set_xlabel(\"Year\")\n",
    "    axes[1,1].set_ylabel(\"Deviation Difference\")\n",
    "    axes[1,1].set_xticks(years)  # Force integer ticks\n",
    "    all_y_vals = [*p50_diff, *p90_diff, *p10_diff]\n",
    "    half_y_range = (max(all_y_vals)-min(all_y_vals))/2\n",
    "    axes[1,1].set_ylim(min(-0.1, min(all_y_vals)-half_y_range), max(0.1, max(all_y_vals)+half_y_range))\n",
    "    axes[1,1].legend()\n",
    "    axes[1,1].grid(True, alpha=0.3)\n",
    "\n",
    "    plt.tight_layout()\n",
    "    plt.suptitle(\"SunSolve P90 vs pvlib Monte Carlo Comparison\", y=1.02, fontsize=14)\n",
    "    plt.show()\n",
    "\n",
    "\n",
    "# SunSolve and pvlib summary statistics table (scale SunSolve results by the pvlib year 1 P50 to get to kWh)\n",
    "print(f\"\\n=== Annual Statistics Comparison (kWh) ===\")\n",
    "print(\"Software\\tYear\\tMean\\tS.D.\\tP10\\tP90\\tRange\")\n",
    "\n",
    "years = range(1, N_YEARS + 1)\n",
    "for i, year in enumerate(years):\n",
    "    # SunSolve row\n",
    "    sunsolve_mean = pvlib_year_one_p50 * summary.YearlyP50Deviation[i].Value  # SunSolve gives relative values, use pvlib's year 1 P50 and scale everything by it\n",
    "    # Calculate weighted standard deviation from histogram\n",
    "    bin_centers = np.array(p_bins)  # These are the bin centers\n",
    "    frequencies = np.array(summary.YearlyHistogram[i].bins)  # Frequency counts\n",
    "    total_samples = np.sum(frequencies)\n",
    "    # Calculate weighted mean and standard deviation\n",
    "    weighted_mean = np.sum(bin_centers * frequencies) / total_samples\n",
    "    weighted_variance = np.sum(frequencies * (bin_centers - weighted_mean)**2) / total_samples\n",
    "    sunsolve_std = np.sqrt(weighted_variance) * sunsolve_mean\n",
    "    # Scale P10 and P90 values\n",
    "    sunsolve_p10 = sunsolve_p10_deviations[i] * sunsolve_mean\n",
    "    sunsolve_p90 = sunsolve_p90_deviations[i] * sunsolve_mean\n",
    "    print(f\"SunSolve\\t{year}\\t{sunsolve_mean:.0f}\\t{sunsolve_std:.0f}\\t{sunsolve_p10:.0f}\\t{sunsolve_p90:.0f}\\t{sunsolve_p10-sunsolve_p90:.0f}\")\n",
    "    \n",
    "    # pvlib row\n",
    "    print(f\"pvlib\\t\\t{year}\\t{yield_mean[i]:.0f}\\t{yield_std[i]:.0f}\\t{yield_p10[i]:.0f}\\t{yield_p90[i]:.0f}\\t{yield_p10[i]-yield_p90[i]:.0f}\")\n",
    "\n",
    "# Print numerical comparison\n",
    "print(\"\\n=== Numerical Comparison ===\")\n",
    "print(\"Year\\tSunSolve P90\\tpvlib P90\\tDiff90\")\n",
    "for i, year in enumerate(years):\n",
    "    print(f\"{year}\\t{sunsolve_p90_deviations[i]:.3f}\\t\\t{pvlib_p90_deviations[i]:.3f}\\t\\t{p90_diff[i]:.3f}\")\n",
    "\n",
    "# Summary statistics\n",
    "print(f\"\\n=== Summary Statistics ===\")\n",
    "print(f\"P90 Mean Absolute Difference: {np.mean(np.abs(p90_diff)):.4f}\")\n",
    "print(f\"P10 Mean Absolute Difference: {np.mean(np.abs(p10_diff)):.4f}\")\n",
    "\n",
    "if N_YEARS > 1:\n",
    "    print(f\"P90 Max Difference: {np.max(np.abs(p90_diff)):.4f}\")\n",
    "    print(f\"P10 Max Difference: {np.max(np.abs(p10_diff)):.4f}\")\n",
    "    # Calculate correlation\n",
    "    from scipy.stats import pearsonr\n",
    "    p90_corr, p90_p_val = pearsonr(sunsolve_p90_deviations, pvlib_p90_deviations)\n",
    "    p10_corr, p10_p_val = pearsonr(sunsolve_p10_deviations, pvlib_p10_deviations)\n",
    "\n",
    "    print(f\"\\n=== Correlation Analysis ===\")\n",
    "    print(f\"P90 Correlation: {p90_corr:.4f} (p-value: {p90_p_val:.4f})\")\n",
    "    print(f\"P10 Correlation: {p10_corr:.4f} (p-value: {p10_p_val:.4f})\")"
   ]
  },
  {
   "cell_type": "code",
   "execution_count": 210,
   "metadata": {},
   "outputs": [
    {
     "name": "stdout",
     "output_type": "stream",
     "text": [
      "✅ Notebook successfully exported to PDF: P90 Results\\pvlib_P90_Comparison_251010_0915.pdf\n"
     ]
    }
   ],
   "source": [
    "# Print notebook to pdf (or html)\n",
    "# MAKE SURE to SAVE first\n",
    "import subprocess\n",
    "\n",
    "# Create results folder if it doesn't exist\n",
    "results_folder = \"P90 Results\"\n",
    "notebook_name = \"pvlib_P90_Comparison\"\n",
    "if not os.path.exists(results_folder):\n",
    "    os.makedirs(results_folder)\n",
    "\n",
    "# Generate timestamp for filename\n",
    "timestamp = time.strftime(\"%y%m%d_%H%M\")\n",
    "\n",
    "# Define notebook and output names\n",
    "pdf_filename = f\"{notebook_name}_{timestamp}.pdf\"\n",
    "pdf_path = os.path.join(results_folder, pdf_filename)\n",
    "\n",
    "try:\n",
    "    # Convert notebook to PDF using nbconvert\n",
    "    cmd = f'jupyter nbconvert --to pdf --output \"{pdf_path}\" \"{notebook_name}.ipynb\"'\n",
    "    result = subprocess.run(cmd, shell=True, capture_output=True, text=True)\n",
    "    \n",
    "    if result.returncode == 0:\n",
    "        print(f\"✅ Notebook successfully exported to PDF: {pdf_path}\")\n",
    "    else:\n",
    "        print(f\"❌ Error exporting to PDF: {result.stderr}\")\n",
    "        # Alternative method using HTML\n",
    "        print(\"Trying alternative method via HTML...\")\n",
    "        html_path = pdf_path.replace('.pdf', '.html')\n",
    "        cmd_html = f'jupyter nbconvert --to html --output \"{html_path}\" *.ipynb'\n",
    "        subprocess.run(cmd_html, shell=True)\n",
    "        print(f\"📄 HTML version created: {html_path}\")\n",
    "        \n",
    "except Exception as e:\n",
    "    print(f\"❌ Error: {e}\")\n",
    "    print(\"💡 Make sure you have nbconvert installed: pip install nbconvert\")\n",
    "    print(\"💡 For PDF output, you may also need: pip install nbconvert[webpdf]\")\n"
   ]
  }
 ],
 "metadata": {
  "colab": {
   "authorship_tag": "ABX9TyOw7jl+PHmpfvUXJhNwD/WY",
   "provenance": []
  },
  "kernelspec": {
   "display_name": "Python 3 (ipykernel)",
   "language": "python",
   "name": "python3"
  },
  "language_info": {
   "codemirror_mode": {
    "name": "ipython",
    "version": 3
   },
   "file_extension": ".py",
   "mimetype": "text/x-python",
   "name": "python",
   "nbconvert_exporter": "python",
   "pygments_lexer": "ipython3",
   "version": "3.13.5"
  },
  "widgets": {
   "application/vnd.jupyter.widget-state+json": {
    "0748059e3b6842dba38e221613cbcf54": {
     "model_module": "@jupyter-widgets/controls",
     "model_module_version": "1.5.0",
     "model_name": "HTMLModel",
     "state": {
      "_dom_classes": [],
      "_model_module": "@jupyter-widgets/controls",
      "_model_module_version": "1.5.0",
      "_model_name": "HTMLModel",
      "_view_count": null,
      "_view_module": "@jupyter-widgets/controls",
      "_view_module_version": "1.5.0",
      "_view_name": "HTMLView",
      "description": "",
      "description_tooltip": null,
      "layout": "IPY_MODEL_3b5b6f47618b4647965f2f5a99cbdf35",
      "placeholder": "​",
      "style": "IPY_MODEL_60112cf5ccc4408182e0d9c6dad99f74",
      "value": "<b>Plot controls:</b>"
     }
    },
    "0c6c27df4e8a4d01b44a2fa775d8f2f0": {
     "model_module": "@jupyter-widgets/base",
     "model_module_version": "1.2.0",
     "model_name": "LayoutModel",
     "state": {
      "_model_module": "@jupyter-widgets/base",
      "_model_module_version": "1.2.0",
      "_model_name": "LayoutModel",
      "_view_count": null,
      "_view_module": "@jupyter-widgets/base",
      "_view_module_version": "1.2.0",
      "_view_name": "LayoutView",
      "align_content": null,
      "align_items": null,
      "align_self": null,
      "border": null,
      "bottom": null,
      "display": "none",
      "flex": null,
      "flex_flow": null,
      "grid_area": null,
      "grid_auto_columns": null,
      "grid_auto_flow": null,
      "grid_auto_rows": null,
      "grid_column": null,
      "grid_gap": null,
      "grid_row": null,
      "grid_template_areas": null,
      "grid_template_columns": null,
      "grid_template_rows": null,
      "height": null,
      "justify_content": null,
      "justify_items": null,
      "left": null,
      "margin": null,
      "max_height": null,
      "max_width": null,
      "min_height": null,
      "min_width": null,
      "object_fit": null,
      "object_position": null,
      "order": null,
      "overflow": null,
      "overflow_x": null,
      "overflow_y": null,
      "padding": null,
      "right": null,
      "top": null,
      "visibility": null,
      "width": "70%"
     }
    },
    "156e8f3e053f4136b2e11dd0aa2bcd99": {
     "model_module": "@jupyter-widgets/controls",
     "model_module_version": "1.5.0",
     "model_name": "DescriptionStyleModel",
     "state": {
      "_model_module": "@jupyter-widgets/controls",
      "_model_module_version": "1.5.0",
      "_model_name": "DescriptionStyleModel",
      "_view_count": null,
      "_view_module": "@jupyter-widgets/base",
      "_view_module_version": "1.2.0",
      "_view_name": "StyleView",
      "description_width": ""
     }
    },
    "184d724e2b3a4ab99612bb3458c2d253": {
     "model_module": "@jupyter-widgets/base",
     "model_module_version": "1.2.0",
     "model_name": "LayoutModel",
     "state": {
      "_model_module": "@jupyter-widgets/base",
      "_model_module_version": "1.2.0",
      "_model_name": "LayoutModel",
      "_view_count": null,
      "_view_module": "@jupyter-widgets/base",
      "_view_module_version": "1.2.0",
      "_view_name": "LayoutView",
      "align_content": null,
      "align_items": null,
      "align_self": null,
      "border": null,
      "bottom": null,
      "display": null,
      "flex": null,
      "flex_flow": null,
      "grid_area": null,
      "grid_auto_columns": null,
      "grid_auto_flow": null,
      "grid_auto_rows": null,
      "grid_column": null,
      "grid_gap": null,
      "grid_row": null,
      "grid_template_areas": null,
      "grid_template_columns": null,
      "grid_template_rows": null,
      "height": null,
      "justify_content": null,
      "justify_items": null,
      "left": null,
      "margin": null,
      "max_height": null,
      "max_width": null,
      "min_height": null,
      "min_width": null,
      "object_fit": null,
      "object_position": null,
      "order": null,
      "overflow": null,
      "overflow_x": null,
      "overflow_y": null,
      "padding": null,
      "right": null,
      "top": null,
      "visibility": null,
      "width": null
     }
    },
    "1980e2d93d024cb2951733b337b29bdf": {
     "model_module": "@jupyter-widgets/base",
     "model_module_version": "1.2.0",
     "model_name": "LayoutModel",
     "state": {
      "_model_module": "@jupyter-widgets/base",
      "_model_module_version": "1.2.0",
      "_model_name": "LayoutModel",
      "_view_count": null,
      "_view_module": "@jupyter-widgets/base",
      "_view_module_version": "1.2.0",
      "_view_name": "LayoutView",
      "align_content": null,
      "align_items": null,
      "align_self": null,
      "border": null,
      "bottom": null,
      "display": null,
      "flex": null,
      "flex_flow": null,
      "grid_area": null,
      "grid_auto_columns": null,
      "grid_auto_flow": null,
      "grid_auto_rows": null,
      "grid_column": null,
      "grid_gap": null,
      "grid_row": null,
      "grid_template_areas": null,
      "grid_template_columns": null,
      "grid_template_rows": null,
      "height": null,
      "justify_content": null,
      "justify_items": null,
      "left": null,
      "margin": null,
      "max_height": null,
      "max_width": null,
      "min_height": null,
      "min_width": null,
      "object_fit": null,
      "object_position": null,
      "order": null,
      "overflow": null,
      "overflow_x": null,
      "overflow_y": null,
      "padding": null,
      "right": null,
      "top": null,
      "visibility": null,
      "width": null
     }
    },
    "1f10371ec96f485f81d674ee8a37e37b": {
     "model_module": "@jupyter-widgets/controls",
     "model_module_version": "1.5.0",
     "model_name": "VBoxModel",
     "state": {
      "_dom_classes": [
       "widget-interact"
      ],
      "_model_module": "@jupyter-widgets/controls",
      "_model_module_version": "1.5.0",
      "_model_name": "VBoxModel",
      "_view_count": null,
      "_view_module": "@jupyter-widgets/controls",
      "_view_module_version": "1.5.0",
      "_view_name": "VBoxView",
      "box_style": "",
      "children": [
       "IPY_MODEL_dd83b6e19bb74ea8b0a230c51b540c9b",
       "IPY_MODEL_b52c6f619126435e9ce39ea8f45d92bd"
      ],
      "layout": "IPY_MODEL_47269f5a34164b579d97fbc9a1f5423d"
     }
    },
    "20ea8bf7d8984794aa6de0bc3182d114": {
     "model_module": "@jupyter-widgets/controls",
     "model_module_version": "1.5.0",
     "model_name": "FloatTextModel",
     "state": {
      "_dom_classes": [],
      "_model_module": "@jupyter-widgets/controls",
      "_model_module_version": "1.5.0",
      "_model_name": "FloatTextModel",
      "_view_count": null,
      "_view_module": "@jupyter-widgets/controls",
      "_view_module_version": "1.5.0",
      "_view_name": "FloatTextView",
      "continuous_update": false,
      "description": "x0:",
      "description_tooltip": null,
      "disabled": false,
      "layout": "IPY_MODEL_27e2cbc5621d48bc83fa75e051dcf2e2",
      "step": 0.01,
      "style": "IPY_MODEL_f7580669073449a8ad34515f7c2214f1",
      "value": 1
     }
    },
    "22d3b0d03af74e85b1bf41b1fd3e649c": {
     "model_module": "@jupyter-widgets/controls",
     "model_module_version": "1.5.0",
     "model_name": "FloatTextModel",
     "state": {
      "_dom_classes": [],
      "_model_module": "@jupyter-widgets/controls",
      "_model_module_version": "1.5.0",
      "_model_name": "FloatTextModel",
      "_view_count": null,
      "_view_module": "@jupyter-widgets/controls",
      "_view_module_version": "1.5.0",
      "_view_name": "FloatTextView",
      "continuous_update": false,
      "description": "x_min:",
      "description_tooltip": null,
      "disabled": false,
      "layout": "IPY_MODEL_9f7b04b7d37f4f7fa8670c62ff659bef",
      "step": 0.1,
      "style": "IPY_MODEL_9c5f0f36d2f94fc785b6f07940ba61ba",
      "value": 0
     }
    },
    "2344126a5e1b41be942146ddc287331f": {
     "model_module": "@jupyter-widgets/controls",
     "model_module_version": "1.5.0",
     "model_name": "SliderStyleModel",
     "state": {
      "_model_module": "@jupyter-widgets/controls",
      "_model_module_version": "1.5.0",
      "_model_name": "SliderStyleModel",
      "_view_count": null,
      "_view_module": "@jupyter-widgets/base",
      "_view_module_version": "1.2.0",
      "_view_name": "StyleView",
      "description_width": "",
      "handle_color": null
     }
    },
    "27e2cbc5621d48bc83fa75e051dcf2e2": {
     "model_module": "@jupyter-widgets/base",
     "model_module_version": "1.2.0",
     "model_name": "LayoutModel",
     "state": {
      "_model_module": "@jupyter-widgets/base",
      "_model_module_version": "1.2.0",
      "_model_name": "LayoutModel",
      "_view_count": null,
      "_view_module": "@jupyter-widgets/base",
      "_view_module_version": "1.2.0",
      "_view_name": "LayoutView",
      "align_content": null,
      "align_items": null,
      "align_self": null,
      "border": null,
      "bottom": null,
      "display": "",
      "flex": null,
      "flex_flow": null,
      "grid_area": null,
      "grid_auto_columns": null,
      "grid_auto_flow": null,
      "grid_auto_rows": null,
      "grid_column": null,
      "grid_gap": null,
      "grid_row": null,
      "grid_template_areas": null,
      "grid_template_columns": null,
      "grid_template_rows": null,
      "height": null,
      "justify_content": null,
      "justify_items": null,
      "left": null,
      "margin": null,
      "max_height": null,
      "max_width": null,
      "min_height": null,
      "min_width": null,
      "object_fit": null,
      "object_position": null,
      "order": null,
      "overflow": null,
      "overflow_x": null,
      "overflow_y": null,
      "padding": null,
      "right": null,
      "top": null,
      "visibility": null,
      "width": "70%"
     }
    },
    "2a47ee7f3b774443ba86f213889afcd6": {
     "model_module": "@jupyter-widgets/controls",
     "model_module_version": "1.5.0",
     "model_name": "VBoxModel",
     "state": {
      "_dom_classes": [
       "widget-interact"
      ],
      "_model_module": "@jupyter-widgets/controls",
      "_model_module_version": "1.5.0",
      "_model_name": "VBoxModel",
      "_view_count": null,
      "_view_module": "@jupyter-widgets/controls",
      "_view_module_version": "1.5.0",
      "_view_name": "VBoxView",
      "box_style": "",
      "children": [
       "IPY_MODEL_8712b160225c44f8b9843b1aee67954b",
       "IPY_MODEL_f559f41292c54a7f8575d59ee6096455"
      ],
      "layout": "IPY_MODEL_73dfc4dd3fad49e680bfceb8dc94905c"
     }
    },
    "31d6605b6bd44129ae690b2a13718d3f": {
     "model_module": "@jupyter-widgets/base",
     "model_module_version": "1.2.0",
     "model_name": "LayoutModel",
     "state": {
      "_model_module": "@jupyter-widgets/base",
      "_model_module_version": "1.2.0",
      "_model_name": "LayoutModel",
      "_view_count": null,
      "_view_module": "@jupyter-widgets/base",
      "_view_module_version": "1.2.0",
      "_view_name": "LayoutView",
      "align_content": null,
      "align_items": null,
      "align_self": null,
      "border": null,
      "bottom": null,
      "display": null,
      "flex": null,
      "flex_flow": null,
      "grid_area": null,
      "grid_auto_columns": null,
      "grid_auto_flow": null,
      "grid_auto_rows": null,
      "grid_column": null,
      "grid_gap": null,
      "grid_row": null,
      "grid_template_areas": null,
      "grid_template_columns": null,
      "grid_template_rows": null,
      "height": null,
      "justify_content": null,
      "justify_items": null,
      "left": null,
      "margin": null,
      "max_height": null,
      "max_width": null,
      "min_height": null,
      "min_width": null,
      "object_fit": null,
      "object_position": null,
      "order": null,
      "overflow": null,
      "overflow_x": null,
      "overflow_y": null,
      "padding": null,
      "right": null,
      "top": null,
      "visibility": null,
      "width": null
     }
    },
    "3480129cf9904b06baa6daaee1fa8772": {
     "model_module": "@jupyter-widgets/controls",
     "model_module_version": "1.5.0",
     "model_name": "DescriptionStyleModel",
     "state": {
      "_model_module": "@jupyter-widgets/controls",
      "_model_module_version": "1.5.0",
      "_model_name": "DescriptionStyleModel",
      "_view_count": null,
      "_view_module": "@jupyter-widgets/base",
      "_view_module_version": "1.2.0",
      "_view_name": "StyleView",
      "description_width": ""
     }
    },
    "36d1eea22ce840a89304ff9d7a89b347": {
     "model_module": "@jupyter-widgets/base",
     "model_module_version": "1.2.0",
     "model_name": "LayoutModel",
     "state": {
      "_model_module": "@jupyter-widgets/base",
      "_model_module_version": "1.2.0",
      "_model_name": "LayoutModel",
      "_view_count": null,
      "_view_module": "@jupyter-widgets/base",
      "_view_module_version": "1.2.0",
      "_view_name": "LayoutView",
      "align_content": null,
      "align_items": null,
      "align_self": null,
      "border": null,
      "bottom": null,
      "display": null,
      "flex": null,
      "flex_flow": null,
      "grid_area": null,
      "grid_auto_columns": null,
      "grid_auto_flow": null,
      "grid_auto_rows": null,
      "grid_column": null,
      "grid_gap": null,
      "grid_row": null,
      "grid_template_areas": null,
      "grid_template_columns": null,
      "grid_template_rows": null,
      "height": null,
      "justify_content": null,
      "justify_items": null,
      "left": null,
      "margin": null,
      "max_height": null,
      "max_width": null,
      "min_height": null,
      "min_width": null,
      "object_fit": null,
      "object_position": null,
      "order": null,
      "overflow": null,
      "overflow_x": null,
      "overflow_y": null,
      "padding": null,
      "right": null,
      "top": null,
      "visibility": null,
      "width": "13%"
     }
    },
    "37a21d55f90b4d3db2d43ad23c20bf7c": {
     "model_module": "@jupyter-widgets/controls",
     "model_module_version": "1.5.0",
     "model_name": "VBoxModel",
     "state": {
      "_dom_classes": [],
      "_model_module": "@jupyter-widgets/controls",
      "_model_module_version": "1.5.0",
      "_model_name": "VBoxModel",
      "_view_count": null,
      "_view_module": "@jupyter-widgets/controls",
      "_view_module_version": "1.5.0",
      "_view_name": "VBoxView",
      "box_style": "",
      "children": [
       "IPY_MODEL_ae99dd0340424a5996a3f5feb01b4cf5",
       "IPY_MODEL_c0a71ee6ea6d41aaa277c827b8f841c7",
       "IPY_MODEL_ae40b793f83f44e9b021d8c47ce1830d"
      ],
      "layout": "IPY_MODEL_4dfa253d96d340cb9c1a40ab64ec7806"
     }
    },
    "386f68528f4a4320af2354f19b74383f": {
     "model_module": "@jupyter-widgets/controls",
     "model_module_version": "1.5.0",
     "model_name": "FloatTextModel",
     "state": {
      "_dom_classes": [],
      "_model_module": "@jupyter-widgets/controls",
      "_model_module_version": "1.5.0",
      "_model_name": "FloatTextModel",
      "_view_count": null,
      "_view_module": "@jupyter-widgets/controls",
      "_view_module_version": "1.5.0",
      "_view_name": "FloatTextView",
      "continuous_update": false,
      "description": "σ:",
      "description_tooltip": null,
      "disabled": false,
      "layout": "IPY_MODEL_75b97079786440d585d8c3bc4ec9bc39",
      "step": 0.01,
      "style": "IPY_MODEL_424c2f37ce7e4824b6dacec8c0fad243",
      "value": 0.05
     }
    },
    "38cf2fd737ae4ce1bb3a5d22fd02c8cf": {
     "model_module": "@jupyter-widgets/controls",
     "model_module_version": "1.5.0",
     "model_name": "FloatTextModel",
     "state": {
      "_dom_classes": [],
      "_model_module": "@jupyter-widgets/controls",
      "_model_module_version": "1.5.0",
      "_model_name": "FloatTextModel",
      "_view_count": null,
      "_view_module": "@jupyter-widgets/controls",
      "_view_module_version": "1.5.0",
      "_view_name": "FloatTextView",
      "continuous_update": false,
      "description": "value:",
      "description_tooltip": null,
      "disabled": false,
      "layout": "IPY_MODEL_6d6206d815354366b60be29ca9a32109",
      "step": 0.1,
      "style": "IPY_MODEL_ba8210d3eab04822b58917a38700ccd4",
      "value": 1
     }
    },
    "3b5b6f47618b4647965f2f5a99cbdf35": {
     "model_module": "@jupyter-widgets/base",
     "model_module_version": "1.2.0",
     "model_name": "LayoutModel",
     "state": {
      "_model_module": "@jupyter-widgets/base",
      "_model_module_version": "1.2.0",
      "_model_name": "LayoutModel",
      "_view_count": null,
      "_view_module": "@jupyter-widgets/base",
      "_view_module_version": "1.2.0",
      "_view_name": "LayoutView",
      "align_content": null,
      "align_items": null,
      "align_self": null,
      "border": null,
      "bottom": null,
      "display": null,
      "flex": null,
      "flex_flow": null,
      "grid_area": null,
      "grid_auto_columns": null,
      "grid_auto_flow": null,
      "grid_auto_rows": null,
      "grid_column": null,
      "grid_gap": null,
      "grid_row": null,
      "grid_template_areas": null,
      "grid_template_columns": null,
      "grid_template_rows": null,
      "height": null,
      "justify_content": null,
      "justify_items": null,
      "left": null,
      "margin": null,
      "max_height": null,
      "max_width": null,
      "min_height": null,
      "min_width": null,
      "object_fit": null,
      "object_position": null,
      "order": null,
      "overflow": null,
      "overflow_x": null,
      "overflow_y": null,
      "padding": null,
      "right": null,
      "top": null,
      "visibility": null,
      "width": null
     }
    },
    "424c2f37ce7e4824b6dacec8c0fad243": {
     "model_module": "@jupyter-widgets/controls",
     "model_module_version": "1.5.0",
     "model_name": "DescriptionStyleModel",
     "state": {
      "_model_module": "@jupyter-widgets/controls",
      "_model_module_version": "1.5.0",
      "_model_name": "DescriptionStyleModel",
      "_view_count": null,
      "_view_module": "@jupyter-widgets/base",
      "_view_module_version": "1.2.0",
      "_view_name": "StyleView",
      "description_width": ""
     }
    },
    "47269f5a34164b579d97fbc9a1f5423d": {
     "model_module": "@jupyter-widgets/base",
     "model_module_version": "1.2.0",
     "model_name": "LayoutModel",
     "state": {
      "_model_module": "@jupyter-widgets/base",
      "_model_module_version": "1.2.0",
      "_model_name": "LayoutModel",
      "_view_count": null,
      "_view_module": "@jupyter-widgets/base",
      "_view_module_version": "1.2.0",
      "_view_name": "LayoutView",
      "align_content": null,
      "align_items": null,
      "align_self": null,
      "border": null,
      "bottom": null,
      "display": null,
      "flex": null,
      "flex_flow": null,
      "grid_area": null,
      "grid_auto_columns": null,
      "grid_auto_flow": null,
      "grid_auto_rows": null,
      "grid_column": null,
      "grid_gap": null,
      "grid_row": null,
      "grid_template_areas": null,
      "grid_template_columns": null,
      "grid_template_rows": null,
      "height": null,
      "justify_content": null,
      "justify_items": null,
      "left": null,
      "margin": null,
      "max_height": null,
      "max_width": null,
      "min_height": null,
      "min_width": null,
      "object_fit": null,
      "object_position": null,
      "order": null,
      "overflow": null,
      "overflow_x": null,
      "overflow_y": null,
      "padding": null,
      "right": null,
      "top": null,
      "visibility": null,
      "width": null
     }
    },
    "4bdd3ff440fe404bb5fad68b3fc81200": {
     "model_module": "@jupyter-widgets/base",
     "model_module_version": "1.2.0",
     "model_name": "LayoutModel",
     "state": {
      "_model_module": "@jupyter-widgets/base",
      "_model_module_version": "1.2.0",
      "_model_name": "LayoutModel",
      "_view_count": null,
      "_view_module": "@jupyter-widgets/base",
      "_view_module_version": "1.2.0",
      "_view_name": "LayoutView",
      "align_content": null,
      "align_items": null,
      "align_self": null,
      "border": null,
      "bottom": null,
      "display": null,
      "flex": null,
      "flex_flow": null,
      "grid_area": null,
      "grid_auto_columns": null,
      "grid_auto_flow": null,
      "grid_auto_rows": null,
      "grid_column": null,
      "grid_gap": null,
      "grid_row": null,
      "grid_template_areas": null,
      "grid_template_columns": null,
      "grid_template_rows": null,
      "height": null,
      "justify_content": null,
      "justify_items": null,
      "left": null,
      "margin": null,
      "max_height": null,
      "max_width": null,
      "min_height": null,
      "min_width": null,
      "object_fit": null,
      "object_position": null,
      "order": null,
      "overflow": null,
      "overflow_x": null,
      "overflow_y": null,
      "padding": null,
      "right": null,
      "top": null,
      "visibility": null,
      "width": null
     }
    },
    "4dfa253d96d340cb9c1a40ab64ec7806": {
     "model_module": "@jupyter-widgets/base",
     "model_module_version": "1.2.0",
     "model_name": "LayoutModel",
     "state": {
      "_model_module": "@jupyter-widgets/base",
      "_model_module_version": "1.2.0",
      "_model_name": "LayoutModel",
      "_view_count": null,
      "_view_module": "@jupyter-widgets/base",
      "_view_module_version": "1.2.0",
      "_view_name": "LayoutView",
      "align_content": null,
      "align_items": null,
      "align_self": null,
      "border": null,
      "bottom": null,
      "display": null,
      "flex": null,
      "flex_flow": null,
      "grid_area": null,
      "grid_auto_columns": null,
      "grid_auto_flow": null,
      "grid_auto_rows": null,
      "grid_column": null,
      "grid_gap": null,
      "grid_row": null,
      "grid_template_areas": null,
      "grid_template_columns": null,
      "grid_template_rows": null,
      "height": null,
      "justify_content": null,
      "justify_items": null,
      "left": null,
      "margin": null,
      "max_height": null,
      "max_width": null,
      "min_height": null,
      "min_width": null,
      "object_fit": null,
      "object_position": null,
      "order": null,
      "overflow": null,
      "overflow_x": null,
      "overflow_y": null,
      "padding": null,
      "right": null,
      "top": null,
      "visibility": null,
      "width": null
     }
    },
    "4e0eaa80b242453682fdc269437822bf": {
     "model_module": "@jupyter-widgets/controls",
     "model_module_version": "1.5.0",
     "model_name": "VBoxModel",
     "state": {
      "_dom_classes": [],
      "_model_module": "@jupyter-widgets/controls",
      "_model_module_version": "1.5.0",
      "_model_name": "VBoxModel",
      "_view_count": null,
      "_view_module": "@jupyter-widgets/controls",
      "_view_module_version": "1.5.0",
      "_view_name": "VBoxView",
      "box_style": "",
      "children": [
       "IPY_MODEL_20ea8bf7d8984794aa6de0bc3182d114",
       "IPY_MODEL_386f68528f4a4320af2354f19b74383f",
       "IPY_MODEL_7a28ffb7740d496fbf7c69207c190c94",
       "IPY_MODEL_ba5bbb6ae81c4b6890f1260d96f5eabb"
      ],
      "layout": "IPY_MODEL_f3f8cc8b9e45427b956efe7ea27fb14d"
     }
    },
    "586051211e0f49a488ac4046f0eebf03": {
     "model_module": "@jupyter-widgets/controls",
     "model_module_version": "1.5.0",
     "model_name": "VBoxModel",
     "state": {
      "_dom_classes": [],
      "_model_module": "@jupyter-widgets/controls",
      "_model_module_version": "1.5.0",
      "_model_name": "VBoxModel",
      "_view_count": null,
      "_view_module": "@jupyter-widgets/controls",
      "_view_module_version": "1.5.0",
      "_view_name": "VBoxView",
      "box_style": "",
      "children": [
       "IPY_MODEL_eb8238bcfd774aed9189f17aa04931ee",
       "IPY_MODEL_70e233df402a49b68e8542016102bdad",
       "IPY_MODEL_84e10fbb8c984ccf8a82703453c45100",
       "IPY_MODEL_38cf2fd737ae4ce1bb3a5d22fd02c8cf"
      ],
      "layout": "IPY_MODEL_97b29d316f3343578aeb0b34170b2954"
     }
    },
    "60112cf5ccc4408182e0d9c6dad99f74": {
     "model_module": "@jupyter-widgets/controls",
     "model_module_version": "1.5.0",
     "model_name": "DescriptionStyleModel",
     "state": {
      "_model_module": "@jupyter-widgets/controls",
      "_model_module_version": "1.5.0",
      "_model_name": "DescriptionStyleModel",
      "_view_count": null,
      "_view_module": "@jupyter-widgets/base",
      "_view_module_version": "1.2.0",
      "_view_name": "StyleView",
      "description_width": ""
     }
    },
    "63573651ab764cc29bdf3e61973df6dc": {
     "model_module": "@jupyter-widgets/controls",
     "model_module_version": "1.5.0",
     "model_name": "DescriptionStyleModel",
     "state": {
      "_model_module": "@jupyter-widgets/controls",
      "_model_module_version": "1.5.0",
      "_model_name": "DescriptionStyleModel",
      "_view_count": null,
      "_view_module": "@jupyter-widgets/base",
      "_view_module_version": "1.2.0",
      "_view_name": "StyleView",
      "description_width": ""
     }
    },
    "6d6206d815354366b60be29ca9a32109": {
     "model_module": "@jupyter-widgets/base",
     "model_module_version": "1.2.0",
     "model_name": "LayoutModel",
     "state": {
      "_model_module": "@jupyter-widgets/base",
      "_model_module_version": "1.2.0",
      "_model_name": "LayoutModel",
      "_view_count": null,
      "_view_module": "@jupyter-widgets/base",
      "_view_module_version": "1.2.0",
      "_view_name": "LayoutView",
      "align_content": null,
      "align_items": null,
      "align_self": null,
      "border": null,
      "bottom": null,
      "display": "none",
      "flex": null,
      "flex_flow": null,
      "grid_area": null,
      "grid_auto_columns": null,
      "grid_auto_flow": null,
      "grid_auto_rows": null,
      "grid_column": null,
      "grid_gap": null,
      "grid_row": null,
      "grid_template_areas": null,
      "grid_template_columns": null,
      "grid_template_rows": null,
      "height": null,
      "justify_content": null,
      "justify_items": null,
      "left": null,
      "margin": null,
      "max_height": null,
      "max_width": null,
      "min_height": null,
      "min_width": null,
      "object_fit": null,
      "object_position": null,
      "order": null,
      "overflow": null,
      "overflow_x": null,
      "overflow_y": null,
      "padding": null,
      "right": null,
      "top": null,
      "visibility": null,
      "width": "70%"
     }
    },
    "70e233df402a49b68e8542016102bdad": {
     "model_module": "@jupyter-widgets/controls",
     "model_module_version": "1.5.0",
     "model_name": "FloatTextModel",
     "state": {
      "_dom_classes": [],
      "_model_module": "@jupyter-widgets/controls",
      "_model_module_version": "1.5.0",
      "_model_name": "FloatTextModel",
      "_view_count": null,
      "_view_module": "@jupyter-widgets/controls",
      "_view_module_version": "1.5.0",
      "_view_name": "FloatTextView",
      "continuous_update": false,
      "description": "skewness:",
      "description_tooltip": null,
      "disabled": false,
      "layout": "IPY_MODEL_0c6c27df4e8a4d01b44a2fa775d8f2f0",
      "step": 0.1,
      "style": "IPY_MODEL_9c166faa0ab3476e93c1a6915b088af4",
      "value": 2
     }
    },
    "73dfc4dd3fad49e680bfceb8dc94905c": {
     "model_module": "@jupyter-widgets/base",
     "model_module_version": "1.2.0",
     "model_name": "LayoutModel",
     "state": {
      "_model_module": "@jupyter-widgets/base",
      "_model_module_version": "1.2.0",
      "_model_name": "LayoutModel",
      "_view_count": null,
      "_view_module": "@jupyter-widgets/base",
      "_view_module_version": "1.2.0",
      "_view_name": "LayoutView",
      "align_content": null,
      "align_items": null,
      "align_self": null,
      "border": null,
      "bottom": null,
      "display": null,
      "flex": null,
      "flex_flow": null,
      "grid_area": null,
      "grid_auto_columns": null,
      "grid_auto_flow": null,
      "grid_auto_rows": null,
      "grid_column": null,
      "grid_gap": null,
      "grid_row": null,
      "grid_template_areas": null,
      "grid_template_columns": null,
      "grid_template_rows": null,
      "height": null,
      "justify_content": null,
      "justify_items": null,
      "left": null,
      "margin": null,
      "max_height": null,
      "max_width": null,
      "min_height": null,
      "min_width": null,
      "object_fit": null,
      "object_position": null,
      "order": null,
      "overflow": null,
      "overflow_x": null,
      "overflow_y": null,
      "padding": null,
      "right": null,
      "top": null,
      "visibility": null,
      "width": null
     }
    },
    "75b97079786440d585d8c3bc4ec9bc39": {
     "model_module": "@jupyter-widgets/base",
     "model_module_version": "1.2.0",
     "model_name": "LayoutModel",
     "state": {
      "_model_module": "@jupyter-widgets/base",
      "_model_module_version": "1.2.0",
      "_model_name": "LayoutModel",
      "_view_count": null,
      "_view_module": "@jupyter-widgets/base",
      "_view_module_version": "1.2.0",
      "_view_name": "LayoutView",
      "align_content": null,
      "align_items": null,
      "align_self": null,
      "border": null,
      "bottom": null,
      "display": "",
      "flex": null,
      "flex_flow": null,
      "grid_area": null,
      "grid_auto_columns": null,
      "grid_auto_flow": null,
      "grid_auto_rows": null,
      "grid_column": null,
      "grid_gap": null,
      "grid_row": null,
      "grid_template_areas": null,
      "grid_template_columns": null,
      "grid_template_rows": null,
      "height": null,
      "justify_content": null,
      "justify_items": null,
      "left": null,
      "margin": null,
      "max_height": null,
      "max_width": null,
      "min_height": null,
      "min_width": null,
      "object_fit": null,
      "object_position": null,
      "order": null,
      "overflow": null,
      "overflow_x": null,
      "overflow_y": null,
      "padding": null,
      "right": null,
      "top": null,
      "visibility": null,
      "width": "70%"
     }
    },
    "7a28ffb7740d496fbf7c69207c190c94": {
     "model_module": "@jupyter-widgets/controls",
     "model_module_version": "1.5.0",
     "model_name": "FloatTextModel",
     "state": {
      "_dom_classes": [],
      "_model_module": "@jupyter-widgets/controls",
      "_model_module_version": "1.5.0",
      "_model_name": "FloatTextModel",
      "_view_count": null,
      "_view_module": "@jupyter-widgets/controls",
      "_view_module_version": "1.5.0",
      "_view_name": "FloatTextView",
      "continuous_update": false,
      "description": "k:",
      "description_tooltip": null,
      "disabled": false,
      "layout": "IPY_MODEL_7e42940f5fcd4b84a906e79b43be7ded",
      "step": 0.1,
      "style": "IPY_MODEL_d7969d3b7b204e7e9f3e4ddd0e8704bb",
      "value": 2
     }
    },
    "7e42940f5fcd4b84a906e79b43be7ded": {
     "model_module": "@jupyter-widgets/base",
     "model_module_version": "1.2.0",
     "model_name": "LayoutModel",
     "state": {
      "_model_module": "@jupyter-widgets/base",
      "_model_module_version": "1.2.0",
      "_model_name": "LayoutModel",
      "_view_count": null,
      "_view_module": "@jupyter-widgets/base",
      "_view_module_version": "1.2.0",
      "_view_name": "LayoutView",
      "align_content": null,
      "align_items": null,
      "align_self": null,
      "border": null,
      "bottom": null,
      "display": "none",
      "flex": null,
      "flex_flow": null,
      "grid_area": null,
      "grid_auto_columns": null,
      "grid_auto_flow": null,
      "grid_auto_rows": null,
      "grid_column": null,
      "grid_gap": null,
      "grid_row": null,
      "grid_template_areas": null,
      "grid_template_columns": null,
      "grid_template_rows": null,
      "height": null,
      "justify_content": null,
      "justify_items": null,
      "left": null,
      "margin": null,
      "max_height": null,
      "max_width": null,
      "min_height": null,
      "min_width": null,
      "object_fit": null,
      "object_position": null,
      "order": null,
      "overflow": null,
      "overflow_x": null,
      "overflow_y": null,
      "padding": null,
      "right": null,
      "top": null,
      "visibility": null,
      "width": "70%"
     }
    },
    "84e10fbb8c984ccf8a82703453c45100": {
     "model_module": "@jupyter-widgets/controls",
     "model_module_version": "1.5.0",
     "model_name": "FloatTextModel",
     "state": {
      "_dom_classes": [],
      "_model_module": "@jupyter-widgets/controls",
      "_model_module_version": "1.5.0",
      "_model_name": "FloatTextModel",
      "_view_count": null,
      "_view_module": "@jupyter-widgets/controls",
      "_view_module_version": "1.5.0",
      "_view_name": "FloatTextView",
      "continuous_update": false,
      "description": "λ:",
      "description_tooltip": null,
      "disabled": false,
      "layout": "IPY_MODEL_a7732ee9dc664a69b19c324988051730",
      "step": 0.01,
      "style": "IPY_MODEL_9ca46e52b3b14579a6711ddf30c0b791",
      "value": 0.05
     }
    },
    "860e09d51cfa45a68123b04d1a7ec9f3": {
     "model_module": "@jupyter-widgets/controls",
     "model_module_version": "1.5.0",
     "model_name": "FloatTextModel",
     "state": {
      "_dom_classes": [],
      "_model_module": "@jupyter-widgets/controls",
      "_model_module_version": "1.5.0",
      "_model_name": "FloatTextModel",
      "_view_count": null,
      "_view_module": "@jupyter-widgets/controls",
      "_view_module_version": "1.5.0",
      "_view_name": "FloatTextView",
      "continuous_update": false,
      "description": "x_max:",
      "description_tooltip": null,
      "disabled": false,
      "layout": "IPY_MODEL_937c5f40a3ba4c8c87a99eb906bb5f9a",
      "step": 0.1,
      "style": "IPY_MODEL_3480129cf9904b06baa6daaee1fa8772",
      "value": 2
     }
    },
    "8712b160225c44f8b9843b1aee67954b": {
     "model_module": "@jupyter-widgets/controls",
     "model_module_version": "1.5.0",
     "model_name": "IntSliderModel",
     "state": {
      "_dom_classes": [],
      "_model_module": "@jupyter-widgets/controls",
      "_model_module_version": "1.5.0",
      "_model_name": "IntSliderModel",
      "_view_count": null,
      "_view_module": "@jupyter-widgets/controls",
      "_view_module_version": "1.5.0",
      "_view_name": "IntSliderView",
      "continuous_update": true,
      "description": "Year:",
      "description_tooltip": null,
      "disabled": false,
      "layout": "IPY_MODEL_184d724e2b3a4ab99612bb3458c2d253",
      "max": 15,
      "min": 1,
      "orientation": "horizontal",
      "readout": true,
      "readout_format": "d",
      "step": 1,
      "style": "IPY_MODEL_b6565c47bbc847b8a736249db9a86f58",
      "value": 1
     }
    },
    "888f58843983413c9fe8748c7e6ed6de": {
     "model_module": "@jupyter-widgets/base",
     "model_module_version": "1.2.0",
     "model_name": "LayoutModel",
     "state": {
      "_model_module": "@jupyter-widgets/base",
      "_model_module_version": "1.2.0",
      "_model_name": "LayoutModel",
      "_view_count": null,
      "_view_module": "@jupyter-widgets/base",
      "_view_module_version": "1.2.0",
      "_view_name": "LayoutView",
      "align_content": null,
      "align_items": null,
      "align_self": null,
      "border": null,
      "bottom": null,
      "display": null,
      "flex": null,
      "flex_flow": null,
      "grid_area": null,
      "grid_auto_columns": null,
      "grid_auto_flow": null,
      "grid_auto_rows": null,
      "grid_column": null,
      "grid_gap": null,
      "grid_row": null,
      "grid_template_areas": null,
      "grid_template_columns": null,
      "grid_template_rows": null,
      "height": null,
      "justify_content": null,
      "justify_items": null,
      "left": null,
      "margin": null,
      "max_height": null,
      "max_width": null,
      "min_height": null,
      "min_width": null,
      "object_fit": null,
      "object_position": null,
      "order": null,
      "overflow": null,
      "overflow_x": null,
      "overflow_y": null,
      "padding": null,
      "right": null,
      "top": null,
      "visibility": null,
      "width": null
     }
    },
    "8be7660e3a2e43aebb146c476c6bd92a": {
     "model_module": "@jupyter-widgets/base",
     "model_module_version": "1.2.0",
     "model_name": "LayoutModel",
     "state": {
      "_model_module": "@jupyter-widgets/base",
      "_model_module_version": "1.2.0",
      "_model_name": "LayoutModel",
      "_view_count": null,
      "_view_module": "@jupyter-widgets/base",
      "_view_module_version": "1.2.0",
      "_view_name": "LayoutView",
      "align_content": null,
      "align_items": null,
      "align_self": null,
      "border": null,
      "bottom": null,
      "display": null,
      "flex": null,
      "flex_flow": null,
      "grid_area": null,
      "grid_auto_columns": null,
      "grid_auto_flow": null,
      "grid_auto_rows": null,
      "grid_column": null,
      "grid_gap": null,
      "grid_row": null,
      "grid_template_areas": null,
      "grid_template_columns": null,
      "grid_template_rows": null,
      "height": null,
      "justify_content": null,
      "justify_items": null,
      "left": null,
      "margin": null,
      "max_height": null,
      "max_width": null,
      "min_height": null,
      "min_width": null,
      "object_fit": null,
      "object_position": null,
      "order": null,
      "overflow": null,
      "overflow_x": null,
      "overflow_y": null,
      "padding": null,
      "right": null,
      "top": null,
      "visibility": null,
      "width": null
     }
    },
    "919ffe2814f14db0902d415c62a9fa57": {
     "model_module": "@jupyter-widgets/base",
     "model_module_version": "1.2.0",
     "model_name": "LayoutModel",
     "state": {
      "_model_module": "@jupyter-widgets/base",
      "_model_module_version": "1.2.0",
      "_model_name": "LayoutModel",
      "_view_count": null,
      "_view_module": "@jupyter-widgets/base",
      "_view_module_version": "1.2.0",
      "_view_name": "LayoutView",
      "align_content": null,
      "align_items": null,
      "align_self": null,
      "border": null,
      "bottom": null,
      "display": null,
      "flex": null,
      "flex_flow": null,
      "grid_area": null,
      "grid_auto_columns": null,
      "grid_auto_flow": null,
      "grid_auto_rows": null,
      "grid_column": null,
      "grid_gap": null,
      "grid_row": null,
      "grid_template_areas": null,
      "grid_template_columns": null,
      "grid_template_rows": null,
      "height": null,
      "justify_content": null,
      "justify_items": null,
      "left": null,
      "margin": null,
      "max_height": null,
      "max_width": null,
      "min_height": null,
      "min_width": null,
      "object_fit": null,
      "object_position": null,
      "order": null,
      "overflow": null,
      "overflow_x": null,
      "overflow_y": null,
      "padding": null,
      "right": null,
      "top": null,
      "visibility": null,
      "width": null
     }
    },
    "928d6c2cb16a40e687522f308919ef85": {
     "model_module": "@jupyter-widgets/base",
     "model_module_version": "1.2.0",
     "model_name": "LayoutModel",
     "state": {
      "_model_module": "@jupyter-widgets/base",
      "_model_module_version": "1.2.0",
      "_model_name": "LayoutModel",
      "_view_count": null,
      "_view_module": "@jupyter-widgets/base",
      "_view_module_version": "1.2.0",
      "_view_name": "LayoutView",
      "align_content": null,
      "align_items": null,
      "align_self": null,
      "border": null,
      "bottom": null,
      "display": "none",
      "flex": null,
      "flex_flow": null,
      "grid_area": null,
      "grid_auto_columns": null,
      "grid_auto_flow": null,
      "grid_auto_rows": null,
      "grid_column": null,
      "grid_gap": null,
      "grid_row": null,
      "grid_template_areas": null,
      "grid_template_columns": null,
      "grid_template_rows": null,
      "height": null,
      "justify_content": null,
      "justify_items": null,
      "left": null,
      "margin": null,
      "max_height": null,
      "max_width": null,
      "min_height": null,
      "min_width": null,
      "object_fit": null,
      "object_position": null,
      "order": null,
      "overflow": null,
      "overflow_x": null,
      "overflow_y": null,
      "padding": null,
      "right": null,
      "top": null,
      "visibility": null,
      "width": "70%"
     }
    },
    "937c5f40a3ba4c8c87a99eb906bb5f9a": {
     "model_module": "@jupyter-widgets/base",
     "model_module_version": "1.2.0",
     "model_name": "LayoutModel",
     "state": {
      "_model_module": "@jupyter-widgets/base",
      "_model_module_version": "1.2.0",
      "_model_name": "LayoutModel",
      "_view_count": null,
      "_view_module": "@jupyter-widgets/base",
      "_view_module_version": "1.2.0",
      "_view_name": "LayoutView",
      "align_content": null,
      "align_items": null,
      "align_self": null,
      "border": null,
      "bottom": null,
      "display": null,
      "flex": null,
      "flex_flow": null,
      "grid_area": null,
      "grid_auto_columns": null,
      "grid_auto_flow": null,
      "grid_auto_rows": null,
      "grid_column": null,
      "grid_gap": null,
      "grid_row": null,
      "grid_template_areas": null,
      "grid_template_columns": null,
      "grid_template_rows": null,
      "height": null,
      "justify_content": null,
      "justify_items": null,
      "left": null,
      "margin": null,
      "max_height": null,
      "max_width": null,
      "min_height": null,
      "min_width": null,
      "object_fit": null,
      "object_position": null,
      "order": null,
      "overflow": null,
      "overflow_x": null,
      "overflow_y": null,
      "padding": null,
      "right": null,
      "top": null,
      "visibility": null,
      "width": "13%"
     }
    },
    "97b29d316f3343578aeb0b34170b2954": {
     "model_module": "@jupyter-widgets/base",
     "model_module_version": "1.2.0",
     "model_name": "LayoutModel",
     "state": {
      "_model_module": "@jupyter-widgets/base",
      "_model_module_version": "1.2.0",
      "_model_name": "LayoutModel",
      "_view_count": null,
      "_view_module": "@jupyter-widgets/base",
      "_view_module_version": "1.2.0",
      "_view_name": "LayoutView",
      "align_content": null,
      "align_items": null,
      "align_self": null,
      "border": null,
      "bottom": null,
      "display": null,
      "flex": null,
      "flex_flow": null,
      "grid_area": null,
      "grid_auto_columns": null,
      "grid_auto_flow": null,
      "grid_auto_rows": null,
      "grid_column": null,
      "grid_gap": null,
      "grid_row": null,
      "grid_template_areas": null,
      "grid_template_columns": null,
      "grid_template_rows": null,
      "height": null,
      "justify_content": null,
      "justify_items": null,
      "left": null,
      "margin": null,
      "max_height": null,
      "max_width": null,
      "min_height": null,
      "min_width": null,
      "object_fit": null,
      "object_position": null,
      "order": null,
      "overflow": null,
      "overflow_x": null,
      "overflow_y": null,
      "padding": null,
      "right": null,
      "top": null,
      "visibility": null,
      "width": null
     }
    },
    "9c166faa0ab3476e93c1a6915b088af4": {
     "model_module": "@jupyter-widgets/controls",
     "model_module_version": "1.5.0",
     "model_name": "DescriptionStyleModel",
     "state": {
      "_model_module": "@jupyter-widgets/controls",
      "_model_module_version": "1.5.0",
      "_model_name": "DescriptionStyleModel",
      "_view_count": null,
      "_view_module": "@jupyter-widgets/base",
      "_view_module_version": "1.2.0",
      "_view_name": "StyleView",
      "description_width": ""
     }
    },
    "9c5f0f36d2f94fc785b6f07940ba61ba": {
     "model_module": "@jupyter-widgets/controls",
     "model_module_version": "1.5.0",
     "model_name": "DescriptionStyleModel",
     "state": {
      "_model_module": "@jupyter-widgets/controls",
      "_model_module_version": "1.5.0",
      "_model_name": "DescriptionStyleModel",
      "_view_count": null,
      "_view_module": "@jupyter-widgets/base",
      "_view_module_version": "1.2.0",
      "_view_name": "StyleView",
      "description_width": ""
     }
    },
    "9ca46e52b3b14579a6711ddf30c0b791": {
     "model_module": "@jupyter-widgets/controls",
     "model_module_version": "1.5.0",
     "model_name": "DescriptionStyleModel",
     "state": {
      "_model_module": "@jupyter-widgets/controls",
      "_model_module_version": "1.5.0",
      "_model_name": "DescriptionStyleModel",
      "_view_count": null,
      "_view_module": "@jupyter-widgets/base",
      "_view_module_version": "1.2.0",
      "_view_name": "StyleView",
      "description_width": ""
     }
    },
    "9f7b04b7d37f4f7fa8670c62ff659bef": {
     "model_module": "@jupyter-widgets/base",
     "model_module_version": "1.2.0",
     "model_name": "LayoutModel",
     "state": {
      "_model_module": "@jupyter-widgets/base",
      "_model_module_version": "1.2.0",
      "_model_name": "LayoutModel",
      "_view_count": null,
      "_view_module": "@jupyter-widgets/base",
      "_view_module_version": "1.2.0",
      "_view_name": "LayoutView",
      "align_content": null,
      "align_items": null,
      "align_self": null,
      "border": null,
      "bottom": null,
      "display": null,
      "flex": null,
      "flex_flow": null,
      "grid_area": null,
      "grid_auto_columns": null,
      "grid_auto_flow": null,
      "grid_auto_rows": null,
      "grid_column": null,
      "grid_gap": null,
      "grid_row": null,
      "grid_template_areas": null,
      "grid_template_columns": null,
      "grid_template_rows": null,
      "height": null,
      "justify_content": null,
      "justify_items": null,
      "left": null,
      "margin": null,
      "max_height": null,
      "max_width": null,
      "min_height": null,
      "min_width": null,
      "object_fit": null,
      "object_position": null,
      "order": null,
      "overflow": null,
      "overflow_x": null,
      "overflow_y": null,
      "padding": null,
      "right": null,
      "top": null,
      "visibility": null,
      "width": "13%"
     }
    },
    "a197ca1f466d4e2bb56b35d6a7a45134": {
     "model_module": "@jupyter-widgets/base",
     "model_module_version": "1.2.0",
     "model_name": "LayoutModel",
     "state": {
      "_model_module": "@jupyter-widgets/base",
      "_model_module_version": "1.2.0",
      "_model_name": "LayoutModel",
      "_view_count": null,
      "_view_module": "@jupyter-widgets/base",
      "_view_module_version": "1.2.0",
      "_view_name": "LayoutView",
      "align_content": null,
      "align_items": null,
      "align_self": null,
      "border": null,
      "bottom": null,
      "display": null,
      "flex": null,
      "flex_flow": null,
      "grid_area": null,
      "grid_auto_columns": null,
      "grid_auto_flow": null,
      "grid_auto_rows": null,
      "grid_column": null,
      "grid_gap": null,
      "grid_row": null,
      "grid_template_areas": null,
      "grid_template_columns": null,
      "grid_template_rows": null,
      "height": null,
      "justify_content": null,
      "justify_items": null,
      "left": null,
      "margin": null,
      "max_height": null,
      "max_width": null,
      "min_height": null,
      "min_width": null,
      "object_fit": null,
      "object_position": null,
      "order": null,
      "overflow": null,
      "overflow_x": null,
      "overflow_y": null,
      "padding": null,
      "right": null,
      "top": null,
      "visibility": null,
      "width": null
     }
    },
    "a346c3d074954cb4a1e1c99713407f5b": {
     "model_module": "@jupyter-widgets/controls",
     "model_module_version": "1.5.0",
     "model_name": "HBoxModel",
     "state": {
      "_dom_classes": [],
      "_model_module": "@jupyter-widgets/controls",
      "_model_module_version": "1.5.0",
      "_model_name": "HBoxModel",
      "_view_count": null,
      "_view_module": "@jupyter-widgets/controls",
      "_view_module_version": "1.5.0",
      "_view_name": "HBoxView",
      "box_style": "",
      "children": [
       "IPY_MODEL_22d3b0d03af74e85b1bf41b1fd3e649c",
       "IPY_MODEL_860e09d51cfa45a68123b04d1a7ec9f3",
       "IPY_MODEL_ae3fb5c5020a48ada7786cb128ef0d14"
      ],
      "layout": "IPY_MODEL_acacaebb93f84d74a568eaef66a71ca1"
     }
    },
    "a4ab8dd701fa41c28516a3303e31a753": {
     "model_module": "@jupyter-widgets/controls",
     "model_module_version": "1.5.0",
     "model_name": "DescriptionStyleModel",
     "state": {
      "_model_module": "@jupyter-widgets/controls",
      "_model_module_version": "1.5.0",
      "_model_name": "DescriptionStyleModel",
      "_view_count": null,
      "_view_module": "@jupyter-widgets/base",
      "_view_module_version": "1.2.0",
      "_view_name": "StyleView",
      "description_width": ""
     }
    },
    "a7732ee9dc664a69b19c324988051730": {
     "model_module": "@jupyter-widgets/base",
     "model_module_version": "1.2.0",
     "model_name": "LayoutModel",
     "state": {
      "_model_module": "@jupyter-widgets/base",
      "_model_module_version": "1.2.0",
      "_model_name": "LayoutModel",
      "_view_count": null,
      "_view_module": "@jupyter-widgets/base",
      "_view_module_version": "1.2.0",
      "_view_name": "LayoutView",
      "align_content": null,
      "align_items": null,
      "align_self": null,
      "border": null,
      "bottom": null,
      "display": "none",
      "flex": null,
      "flex_flow": null,
      "grid_area": null,
      "grid_auto_columns": null,
      "grid_auto_flow": null,
      "grid_auto_rows": null,
      "grid_column": null,
      "grid_gap": null,
      "grid_row": null,
      "grid_template_areas": null,
      "grid_template_columns": null,
      "grid_template_rows": null,
      "height": null,
      "justify_content": null,
      "justify_items": null,
      "left": null,
      "margin": null,
      "max_height": null,
      "max_width": null,
      "min_height": null,
      "min_width": null,
      "object_fit": null,
      "object_position": null,
      "order": null,
      "overflow": null,
      "overflow_x": null,
      "overflow_y": null,
      "padding": null,
      "right": null,
      "top": null,
      "visibility": null,
      "width": "70%"
     }
    },
    "acacaebb93f84d74a568eaef66a71ca1": {
     "model_module": "@jupyter-widgets/base",
     "model_module_version": "1.2.0",
     "model_name": "LayoutModel",
     "state": {
      "_model_module": "@jupyter-widgets/base",
      "_model_module_version": "1.2.0",
      "_model_name": "LayoutModel",
      "_view_count": null,
      "_view_module": "@jupyter-widgets/base",
      "_view_module_version": "1.2.0",
      "_view_name": "LayoutView",
      "align_content": null,
      "align_items": null,
      "align_self": null,
      "border": null,
      "bottom": null,
      "display": null,
      "flex": null,
      "flex_flow": null,
      "grid_area": null,
      "grid_auto_columns": null,
      "grid_auto_flow": null,
      "grid_auto_rows": null,
      "grid_column": null,
      "grid_gap": null,
      "grid_row": null,
      "grid_template_areas": null,
      "grid_template_columns": null,
      "grid_template_rows": null,
      "height": null,
      "justify_content": null,
      "justify_items": null,
      "left": null,
      "margin": null,
      "max_height": null,
      "max_width": null,
      "min_height": null,
      "min_width": null,
      "object_fit": null,
      "object_position": null,
      "order": null,
      "overflow": null,
      "overflow_x": null,
      "overflow_y": null,
      "padding": null,
      "right": null,
      "top": null,
      "visibility": null,
      "width": "95%"
     }
    },
    "ae3fb5c5020a48ada7786cb128ef0d14": {
     "model_module": "@jupyter-widgets/controls",
     "model_module_version": "1.5.0",
     "model_name": "IntTextModel",
     "state": {
      "_dom_classes": [],
      "_model_module": "@jupyter-widgets/controls",
      "_model_module_version": "1.5.0",
      "_model_name": "IntTextModel",
      "_view_count": null,
      "_view_module": "@jupyter-widgets/controls",
      "_view_module_version": "1.5.0",
      "_view_name": "IntTextView",
      "continuous_update": false,
      "description": "n_points:",
      "description_tooltip": null,
      "disabled": false,
      "layout": "IPY_MODEL_36d1eea22ce840a89304ff9d7a89b347",
      "step": 50,
      "style": "IPY_MODEL_b176e3e613d84396a48dac5a694b1c53",
      "value": 200
     }
    },
    "ae40b793f83f44e9b021d8c47ce1830d": {
     "model_module": "@jupyter-widgets/controls",
     "model_module_version": "1.5.0",
     "model_name": "VBoxModel",
     "state": {
      "_dom_classes": [],
      "_model_module": "@jupyter-widgets/controls",
      "_model_module_version": "1.5.0",
      "_model_name": "VBoxModel",
      "_view_count": null,
      "_view_module": "@jupyter-widgets/controls",
      "_view_module_version": "1.5.0",
      "_view_name": "VBoxView",
      "box_style": "",
      "children": [
       "IPY_MODEL_0748059e3b6842dba38e221613cbcf54",
       "IPY_MODEL_a346c3d074954cb4a1e1c99713407f5b"
      ],
      "layout": "IPY_MODEL_8be7660e3a2e43aebb146c476c6bd92a"
     }
    },
    "ae99dd0340424a5996a3f5feb01b4cf5": {
     "model_module": "@jupyter-widgets/controls",
     "model_module_version": "1.5.0",
     "model_name": "VBoxModel",
     "state": {
      "_dom_classes": [],
      "_model_module": "@jupyter-widgets/controls",
      "_model_module_version": "1.5.0",
      "_model_name": "VBoxModel",
      "_view_count": null,
      "_view_module": "@jupyter-widgets/controls",
      "_view_module_version": "1.5.0",
      "_view_name": "VBoxView",
      "box_style": "",
      "children": [
       "IPY_MODEL_c7cf3f0405d44d3aa83eae24eb833817",
       "IPY_MODEL_b37b1c8c93b0423b8753c97d87cc5ed8"
      ],
      "layout": "IPY_MODEL_888f58843983413c9fe8748c7e6ed6de"
     }
    },
    "b176e3e613d84396a48dac5a694b1c53": {
     "model_module": "@jupyter-widgets/controls",
     "model_module_version": "1.5.0",
     "model_name": "DescriptionStyleModel",
     "state": {
      "_model_module": "@jupyter-widgets/controls",
      "_model_module_version": "1.5.0",
      "_model_name": "DescriptionStyleModel",
      "_view_count": null,
      "_view_module": "@jupyter-widgets/base",
      "_view_module_version": "1.2.0",
      "_view_name": "StyleView",
      "description_width": ""
     }
    },
    "b37b1c8c93b0423b8753c97d87cc5ed8": {
     "model_module": "@jupyter-widgets/controls",
     "model_module_version": "1.5.0",
     "model_name": "HBoxModel",
     "state": {
      "_dom_classes": [],
      "_model_module": "@jupyter-widgets/controls",
      "_model_module_version": "1.5.0",
      "_model_name": "HBoxModel",
      "_view_count": null,
      "_view_module": "@jupyter-widgets/controls",
      "_view_module_version": "1.5.0",
      "_view_name": "HBoxView",
      "box_style": "",
      "children": [
       "IPY_MODEL_4e0eaa80b242453682fdc269437822bf",
       "IPY_MODEL_586051211e0f49a488ac4046f0eebf03"
      ],
      "layout": "IPY_MODEL_1980e2d93d024cb2951733b337b29bdf"
     }
    },
    "b52c6f619126435e9ce39ea8f45d92bd": {
     "model_module": "@jupyter-widgets/output",
     "model_module_version": "1.0.0",
     "model_name": "OutputModel",
     "state": {
      "_dom_classes": [],
      "_model_module": "@jupyter-widgets/output",
      "_model_module_version": "1.0.0",
      "_model_name": "OutputModel",
      "_view_count": null,
      "_view_module": "@jupyter-widgets/output",
      "_view_module_version": "1.0.0",
      "_view_name": "OutputView",
      "layout": "IPY_MODEL_31d6605b6bd44129ae690b2a13718d3f",
      "msg_id": "",
      "outputs": [
       {
        "data": {
         "text/html": "<html>\n<head><meta charset=\"utf-8\" /></head>\n<body>\n    <div>            <script src=\"https://cdnjs.cloudflare.com/ajax/libs/mathjax/2.7.5/MathJax.js?config=TeX-AMS-MML_SVG\"></script><script type=\"text/javascript\">if (window.MathJax && window.MathJax.Hub && window.MathJax.Hub.Config) {window.MathJax.Hub.Config({SVG: {font: \"STIX-Web\"}});}</script>                <script type=\"text/javascript\">window.PlotlyConfig = {MathJaxConfig: 'local'};</script>\n        <script charset=\"utf-8\" src=\"https://cdn.plot.ly/plotly-2.35.2.min.js\"></script>                <div id=\"1e46316a-d35f-4849-b9fe-325fac5345d2\" class=\"plotly-graph-div\" style=\"height:300px; width:500px;\"></div>            <script type=\"text/javascript\">                                    window.PLOTLYENV=window.PLOTLYENV || {};                                    if (document.getElementById(\"1e46316a-d35f-4849-b9fe-325fac5345d2\")) {                    Plotly.newPlot(                        \"1e46316a-d35f-4849-b9fe-325fac5345d2\",                        [{\"marker\":{\"color\":\"#d2226a\"},\"mode\":\"lines\",\"name\":\"GHI\",\"x\":[4,5,6,7,8,9,10,11,12,13,14,15,16,17,18,19,20],\"y\":[0.0,35.75,261.25,475.04998779296875,683.8499755859375,883.7999877929688,965.4500122070312,960.2000122070312,925.6500244140625,864.3499755859375,668.0,539.0499877929688,374.25,171.35000610351562,39.20000076293945,0.20000000298023224,0.0],\"type\":\"scatter\"},{\"marker\":{\"color\":\"#27cfff\"},\"mode\":\"lines\",\"name\":\"DHI\",\"x\":[4,5,6,7,8,9,10,11,12,13,14,15,16,17,18,19,20],\"y\":[0.0,35.75,82.05000305175781,120.5,138.3000030517578,120.80000305175781,112.8499984741211,170.4499969482422,213.9499969482422,120.75,108.4000015258789,136.35000610351562,109.0999984741211,81.3499984741211,30.450000762939453,0.20000000298023224,0.0],\"type\":\"scatter\"},{\"marker\":{\"color\":\"#febf24\"},\"mode\":\"lines\",\"name\":\"DNI\",\"x\":[4,5,6,7,8,9,10,11,12,13,14,15,16,17,18,19,20],\"y\":[0.0,0.0,795.3099975585938,838.6699829101562,899.8400268554688,999.5,966.5999755859375,825.010009765625,724.6900024414062,778.7999877929688,637.8599853515625,533.469970703125,445.0,218.9499969482422,41.060001373291016,0.0,0.0],\"type\":\"scatter\"}],                        {\"template\":{\"data\":{\"histogram2dcontour\":[{\"type\":\"histogram2dcontour\",\"colorbar\":{\"outlinewidth\":0,\"ticks\":\"\"},\"colorscale\":[[0.0,\"#0d0887\"],[0.1111111111111111,\"#46039f\"],[0.2222222222222222,\"#7201a8\"],[0.3333333333333333,\"#9c179e\"],[0.4444444444444444,\"#bd3786\"],[0.5555555555555556,\"#d8576b\"],[0.6666666666666666,\"#ed7953\"],[0.7777777777777778,\"#fb9f3a\"],[0.8888888888888888,\"#fdca26\"],[1.0,\"#f0f921\"]]}],\"choropleth\":[{\"type\":\"choropleth\",\"colorbar\":{\"outlinewidth\":0,\"ticks\":\"\"}}],\"histogram2d\":[{\"type\":\"histogram2d\",\"colorbar\":{\"outlinewidth\":0,\"ticks\":\"\"},\"colorscale\":[[0.0,\"#0d0887\"],[0.1111111111111111,\"#46039f\"],[0.2222222222222222,\"#7201a8\"],[0.3333333333333333,\"#9c179e\"],[0.4444444444444444,\"#bd3786\"],[0.5555555555555556,\"#d8576b\"],[0.6666666666666666,\"#ed7953\"],[0.7777777777777778,\"#fb9f3a\"],[0.8888888888888888,\"#fdca26\"],[1.0,\"#f0f921\"]]}],\"heatmap\":[{\"type\":\"heatmap\",\"colorbar\":{\"outlinewidth\":0,\"ticks\":\"\"},\"colorscale\":[[0.0,\"#0d0887\"],[0.1111111111111111,\"#46039f\"],[0.2222222222222222,\"#7201a8\"],[0.3333333333333333,\"#9c179e\"],[0.4444444444444444,\"#bd3786\"],[0.5555555555555556,\"#d8576b\"],[0.6666666666666666,\"#ed7953\"],[0.7777777777777778,\"#fb9f3a\"],[0.8888888888888888,\"#fdca26\"],[1.0,\"#f0f921\"]]}],\"heatmapgl\":[{\"type\":\"heatmapgl\",\"colorbar\":{\"outlinewidth\":0,\"ticks\":\"\"},\"colorscale\":[[0.0,\"#0d0887\"],[0.1111111111111111,\"#46039f\"],[0.2222222222222222,\"#7201a8\"],[0.3333333333333333,\"#9c179e\"],[0.4444444444444444,\"#bd3786\"],[0.5555555555555556,\"#d8576b\"],[0.6666666666666666,\"#ed7953\"],[0.7777777777777778,\"#fb9f3a\"],[0.8888888888888888,\"#fdca26\"],[1.0,\"#f0f921\"]]}],\"contourcarpet\":[{\"type\":\"contourcarpet\",\"colorbar\":{\"outlinewidth\":0,\"ticks\":\"\"}}],\"contour\":[{\"type\":\"contour\",\"colorbar\":{\"outlinewidth\":0,\"ticks\":\"\"},\"colorscale\":[[0.0,\"#0d0887\"],[0.1111111111111111,\"#46039f\"],[0.2222222222222222,\"#7201a8\"],[0.3333333333333333,\"#9c179e\"],[0.4444444444444444,\"#bd3786\"],[0.5555555555555556,\"#d8576b\"],[0.6666666666666666,\"#ed7953\"],[0.7777777777777778,\"#fb9f3a\"],[0.8888888888888888,\"#fdca26\"],[1.0,\"#f0f921\"]]}],\"surface\":[{\"type\":\"surface\",\"colorbar\":{\"outlinewidth\":0,\"ticks\":\"\"},\"colorscale\":[[0.0,\"#0d0887\"],[0.1111111111111111,\"#46039f\"],[0.2222222222222222,\"#7201a8\"],[0.3333333333333333,\"#9c179e\"],[0.4444444444444444,\"#bd3786\"],[0.5555555555555556,\"#d8576b\"],[0.6666666666666666,\"#ed7953\"],[0.7777777777777778,\"#fb9f3a\"],[0.8888888888888888,\"#fdca26\"],[1.0,\"#f0f921\"]]}],\"mesh3d\":[{\"type\":\"mesh3d\",\"colorbar\":{\"outlinewidth\":0,\"ticks\":\"\"}}],\"scatter\":[{\"fillpattern\":{\"fillmode\":\"overlay\",\"size\":10,\"solidity\":0.2},\"type\":\"scatter\"}],\"parcoords\":[{\"type\":\"parcoords\",\"line\":{\"colorbar\":{\"outlinewidth\":0,\"ticks\":\"\"}}}],\"scatterpolargl\":[{\"type\":\"scatterpolargl\",\"marker\":{\"colorbar\":{\"outlinewidth\":0,\"ticks\":\"\"}}}],\"bar\":[{\"error_x\":{\"color\":\"#2a3f5f\"},\"error_y\":{\"color\":\"#2a3f5f\"},\"marker\":{\"line\":{\"color\":\"#E5ECF6\",\"width\":0.5},\"pattern\":{\"fillmode\":\"overlay\",\"size\":10,\"solidity\":0.2}},\"type\":\"bar\"}],\"scattergeo\":[{\"type\":\"scattergeo\",\"marker\":{\"colorbar\":{\"outlinewidth\":0,\"ticks\":\"\"}}}],\"scatterpolar\":[{\"type\":\"scatterpolar\",\"marker\":{\"colorbar\":{\"outlinewidth\":0,\"ticks\":\"\"}}}],\"histogram\":[{\"marker\":{\"pattern\":{\"fillmode\":\"overlay\",\"size\":10,\"solidity\":0.2}},\"type\":\"histogram\"}],\"scattergl\":[{\"type\":\"scattergl\",\"marker\":{\"colorbar\":{\"outlinewidth\":0,\"ticks\":\"\"}}}],\"scatter3d\":[{\"type\":\"scatter3d\",\"line\":{\"colorbar\":{\"outlinewidth\":0,\"ticks\":\"\"}},\"marker\":{\"colorbar\":{\"outlinewidth\":0,\"ticks\":\"\"}}}],\"scattermapbox\":[{\"type\":\"scattermapbox\",\"marker\":{\"colorbar\":{\"outlinewidth\":0,\"ticks\":\"\"}}}],\"scatterternary\":[{\"type\":\"scatterternary\",\"marker\":{\"colorbar\":{\"outlinewidth\":0,\"ticks\":\"\"}}}],\"scattercarpet\":[{\"type\":\"scattercarpet\",\"marker\":{\"colorbar\":{\"outlinewidth\":0,\"ticks\":\"\"}}}],\"carpet\":[{\"aaxis\":{\"endlinecolor\":\"#2a3f5f\",\"gridcolor\":\"white\",\"linecolor\":\"white\",\"minorgridcolor\":\"white\",\"startlinecolor\":\"#2a3f5f\"},\"baxis\":{\"endlinecolor\":\"#2a3f5f\",\"gridcolor\":\"white\",\"linecolor\":\"white\",\"minorgridcolor\":\"white\",\"startlinecolor\":\"#2a3f5f\"},\"type\":\"carpet\"}],\"table\":[{\"cells\":{\"fill\":{\"color\":\"#EBF0F8\"},\"line\":{\"color\":\"white\"}},\"header\":{\"fill\":{\"color\":\"#C8D4E3\"},\"line\":{\"color\":\"white\"}},\"type\":\"table\"}],\"barpolar\":[{\"marker\":{\"line\":{\"color\":\"#E5ECF6\",\"width\":0.5},\"pattern\":{\"fillmode\":\"overlay\",\"size\":10,\"solidity\":0.2}},\"type\":\"barpolar\"}],\"pie\":[{\"automargin\":true,\"type\":\"pie\"}]},\"layout\":{\"autotypenumbers\":\"strict\",\"colorway\":[\"#636efa\",\"#EF553B\",\"#00cc96\",\"#ab63fa\",\"#FFA15A\",\"#19d3f3\",\"#FF6692\",\"#B6E880\",\"#FF97FF\",\"#FECB52\"],\"font\":{\"color\":\"#2a3f5f\"},\"hovermode\":\"closest\",\"hoverlabel\":{\"align\":\"left\"},\"paper_bgcolor\":\"white\",\"plot_bgcolor\":\"#E5ECF6\",\"polar\":{\"bgcolor\":\"#E5ECF6\",\"angularaxis\":{\"gridcolor\":\"white\",\"linecolor\":\"white\",\"ticks\":\"\"},\"radialaxis\":{\"gridcolor\":\"white\",\"linecolor\":\"white\",\"ticks\":\"\"}},\"ternary\":{\"bgcolor\":\"#E5ECF6\",\"aaxis\":{\"gridcolor\":\"white\",\"linecolor\":\"white\",\"ticks\":\"\"},\"baxis\":{\"gridcolor\":\"white\",\"linecolor\":\"white\",\"ticks\":\"\"},\"caxis\":{\"gridcolor\":\"white\",\"linecolor\":\"white\",\"ticks\":\"\"}},\"coloraxis\":{\"colorbar\":{\"outlinewidth\":0,\"ticks\":\"\"}},\"colorscale\":{\"sequential\":[[0.0,\"#0d0887\"],[0.1111111111111111,\"#46039f\"],[0.2222222222222222,\"#7201a8\"],[0.3333333333333333,\"#9c179e\"],[0.4444444444444444,\"#bd3786\"],[0.5555555555555556,\"#d8576b\"],[0.6666666666666666,\"#ed7953\"],[0.7777777777777778,\"#fb9f3a\"],[0.8888888888888888,\"#fdca26\"],[1.0,\"#f0f921\"]],\"sequentialminus\":[[0.0,\"#0d0887\"],[0.1111111111111111,\"#46039f\"],[0.2222222222222222,\"#7201a8\"],[0.3333333333333333,\"#9c179e\"],[0.4444444444444444,\"#bd3786\"],[0.5555555555555556,\"#d8576b\"],[0.6666666666666666,\"#ed7953\"],[0.7777777777777778,\"#fb9f3a\"],[0.8888888888888888,\"#fdca26\"],[1.0,\"#f0f921\"]],\"diverging\":[[0,\"#8e0152\"],[0.1,\"#c51b7d\"],[0.2,\"#de77ae\"],[0.3,\"#f1b6da\"],[0.4,\"#fde0ef\"],[0.5,\"#f7f7f7\"],[0.6,\"#e6f5d0\"],[0.7,\"#b8e186\"],[0.8,\"#7fbc41\"],[0.9,\"#4d9221\"],[1,\"#276419\"]]},\"xaxis\":{\"gridcolor\":\"white\",\"linecolor\":\"white\",\"ticks\":\"\",\"title\":{\"standoff\":15},\"zerolinecolor\":\"white\",\"automargin\":true,\"zerolinewidth\":2},\"yaxis\":{\"gridcolor\":\"white\",\"linecolor\":\"white\",\"ticks\":\"\",\"title\":{\"standoff\":15},\"zerolinecolor\":\"white\",\"automargin\":true,\"zerolinewidth\":2},\"scene\":{\"xaxis\":{\"backgroundcolor\":\"#E5ECF6\",\"gridcolor\":\"white\",\"linecolor\":\"white\",\"showbackground\":true,\"ticks\":\"\",\"zerolinecolor\":\"white\",\"gridwidth\":2},\"yaxis\":{\"backgroundcolor\":\"#E5ECF6\",\"gridcolor\":\"white\",\"linecolor\":\"white\",\"showbackground\":true,\"ticks\":\"\",\"zerolinecolor\":\"white\",\"gridwidth\":2},\"zaxis\":{\"backgroundcolor\":\"#E5ECF6\",\"gridcolor\":\"white\",\"linecolor\":\"white\",\"showbackground\":true,\"ticks\":\"\",\"zerolinecolor\":\"white\",\"gridwidth\":2}},\"shapedefaults\":{\"line\":{\"color\":\"#2a3f5f\"}},\"annotationdefaults\":{\"arrowcolor\":\"#2a3f5f\",\"arrowhead\":0,\"arrowwidth\":1},\"geo\":{\"bgcolor\":\"white\",\"landcolor\":\"#E5ECF6\",\"subunitcolor\":\"white\",\"showland\":true,\"showlakes\":true,\"lakecolor\":\"white\"},\"title\":{\"x\":0.05},\"mapbox\":{\"style\":\"light\"}}},\"xaxis\":{\"title\":{\"text\":\"Hour of Day\"},\"range\":[4,20],\"linewidth\":1,\"linecolor\":\"black\",\"mirror\":true,\"ticks\":\"outside\",\"dtick\":2},\"yaxis\":{\"title\":{\"text\":\"Irradiance (W\\u002fm²)\"},\"range\":[0,1130],\"linewidth\":1,\"linecolor\":\"black\",\"mirror\":true,\"ticks\":\"outside\",\"showgrid\":true,\"gridwidth\":0.1,\"gridcolor\":\"LightGrey\"},\"title\":{\"text\":\"Irradiance on 1990-01-01\",\"x\":0.5,\"font\":{\"size\":18}},\"margin\":{\"l\":20,\"r\":20,\"t\":35,\"b\":20},\"height\":300,\"width\":500,\"font\":{\"size\":16},\"paper_bgcolor\":\"rgba(0,0,0,0)\",\"plot_bgcolor\":\"rgba(0,0,0,0)\"},                        {\"responsive\": true}                    ).then(function(){\n                            \nvar gd = document.getElementById('1e46316a-d35f-4849-b9fe-325fac5345d2');\nvar x = new MutationObserver(function (mutations, observer) {{\n        var display = window.getComputedStyle(gd).display;\n        if (!display || display === 'none') {{\n            console.log([gd, 'removed!']);\n            Plotly.purge(gd);\n            observer.disconnect();\n        }}\n}});\n\n// Listen for the removal of the full notebook cells\nvar notebookContainer = gd.closest('#notebook-container');\nif (notebookContainer) {{\n    x.observe(notebookContainer, {childList: true});\n}}\n\n// Listen for the clearing of the current output cell\nvar outputEl = gd.closest('.output');\nif (outputEl) {{\n    x.observe(outputEl, {childList: true});\n}}\n\n                        })                };                            </script>        </div>\n</body>\n</html>"
        },
        "metadata": {},
        "output_type": "display_data"
       }
      ]
     }
    },
    "b6565c47bbc847b8a736249db9a86f58": {
     "model_module": "@jupyter-widgets/controls",
     "model_module_version": "1.5.0",
     "model_name": "SliderStyleModel",
     "state": {
      "_model_module": "@jupyter-widgets/controls",
      "_model_module_version": "1.5.0",
      "_model_name": "SliderStyleModel",
      "_view_count": null,
      "_view_module": "@jupyter-widgets/base",
      "_view_module_version": "1.2.0",
      "_view_name": "StyleView",
      "description_width": "",
      "handle_color": null
     }
    },
    "ba5bbb6ae81c4b6890f1260d96f5eabb": {
     "model_module": "@jupyter-widgets/controls",
     "model_module_version": "1.5.0",
     "model_name": "FloatTextModel",
     "state": {
      "_dom_classes": [],
      "_model_module": "@jupyter-widgets/controls",
      "_model_module_version": "1.5.0",
      "_model_name": "FloatTextModel",
      "_view_count": null,
      "_view_module": "@jupyter-widgets/controls",
      "_view_module_version": "1.5.0",
      "_view_name": "FloatTextView",
      "continuous_update": false,
      "description": "height:",
      "description_tooltip": null,
      "disabled": false,
      "layout": "IPY_MODEL_928d6c2cb16a40e687522f308919ef85",
      "step": 0.1,
      "style": "IPY_MODEL_156e8f3e053f4136b2e11dd0aa2bcd99",
      "value": 1
     }
    },
    "ba8210d3eab04822b58917a38700ccd4": {
     "model_module": "@jupyter-widgets/controls",
     "model_module_version": "1.5.0",
     "model_name": "DescriptionStyleModel",
     "state": {
      "_model_module": "@jupyter-widgets/controls",
      "_model_module_version": "1.5.0",
      "_model_name": "DescriptionStyleModel",
      "_view_count": null,
      "_view_module": "@jupyter-widgets/base",
      "_view_module_version": "1.2.0",
      "_view_name": "StyleView",
      "description_width": ""
     }
    },
    "c0a71ee6ea6d41aaa277c827b8f841c7": {
     "model_module": "@jupyter-widgets/output",
     "model_module_version": "1.0.0",
     "model_name": "OutputModel",
     "state": {
      "_dom_classes": [],
      "_model_module": "@jupyter-widgets/output",
      "_model_module_version": "1.0.0",
      "_model_name": "OutputModel",
      "_view_count": null,
      "_view_module": "@jupyter-widgets/output",
      "_view_module_version": "1.0.0",
      "_view_name": "OutputView",
      "layout": "IPY_MODEL_919ffe2814f14db0902d415c62a9fa57",
      "msg_id": "",
      "outputs": [
       {
        "name": "stdout",
        "output_type": "stream",
        "text": [
         "\t\t['Gaussian', 1, 0.05]\n"
        ]
       },
       {
        "data": {
         "text/html": "<html>\n<head><meta charset=\"utf-8\" /></head>\n<body>\n    <div>            <script src=\"https://cdnjs.cloudflare.com/ajax/libs/mathjax/2.7.5/MathJax.js?config=TeX-AMS-MML_SVG\"></script><script type=\"text/javascript\">if (window.MathJax && window.MathJax.Hub && window.MathJax.Hub.Config) {window.MathJax.Hub.Config({SVG: {font: \"STIX-Web\"}});}</script>                <script type=\"text/javascript\">window.PlotlyConfig = {MathJaxConfig: 'local'};</script>\n        <script charset=\"utf-8\" src=\"https://cdn.plot.ly/plotly-2.35.2.min.js\"></script>                <div id=\"cb9331e1-6fbd-421f-8fb2-b6bc2ba946cd\" class=\"plotly-graph-div\" style=\"height:350px; width:400px;\"></div>            <script type=\"text/javascript\">                                    window.PLOTLYENV=window.PLOTLYENV || {};                                    if (document.getElementById(\"cb9331e1-6fbd-421f-8fb2-b6bc2ba946cd\")) {                    Plotly.newPlot(                        \"cb9331e1-6fbd-421f-8fb2-b6bc2ba946cd\",                        [{\"marker\":{\"color\":\"#d2226a\"},\"mode\":\"lines\",\"name\":\"Relative frequency\",\"x\":[0.0,0.01,0.02,0.03,0.04,0.05,0.06,0.07,0.08,0.09,0.1,0.11,0.12,0.13,0.14,0.15,0.16,0.17,0.18,0.19,0.2,0.21,0.22,0.23,0.24,0.25,0.26,0.27,0.28,0.29,0.3,0.31,0.32,0.33,0.34,0.35000000000000003,0.36,0.37,0.38,0.39,0.4,0.41000000000000003,0.42,0.43,0.44,0.45,0.46,0.47000000000000003,0.48,0.49,0.5,0.51,0.52,0.53,0.54,0.55,0.56,0.5700000000000001,0.58,0.59,0.6,0.61,0.62,0.63,0.64,0.65,0.66,0.67,0.68,0.6900000000000001,0.7000000000000001,0.71,0.72,0.73,0.74,0.75,0.76,0.77,0.78,0.79,0.8,0.81,0.8200000000000001,0.8300000000000001,0.84,0.85,0.86,0.87,0.88,0.89,0.9,0.91,0.92,0.93,0.9400000000000001,0.9500000000000001,0.96,0.97,0.98,0.99,1.0,1.01,1.02,1.03,1.04,1.05,1.06,1.07,1.08,1.09,1.1,1.11,1.12,1.1300000000000001,1.1400000000000001,1.1500000000000001,1.16,1.17,1.18,1.19,1.2,1.21,1.22,1.23,1.24,1.25,1.26,1.27,1.28,1.29,1.3,1.31,1.32,1.33,1.34,1.35,1.36,1.37,1.3800000000000001,1.3900000000000001,1.4000000000000001,1.41,1.42,1.43,1.44,1.45,1.46,1.47,1.48,1.49,1.5,1.51,1.52,1.53,1.54,1.55,1.56,1.57,1.58,1.59,1.6,1.61,1.62,1.6300000000000001,1.6400000000000001,1.6500000000000001,1.6600000000000001,1.67,1.68,1.69,1.7,1.71,1.72,1.73,1.74,1.75,1.76,1.77,1.78,1.79,1.8,1.81,1.82,1.83,1.84,1.85,1.86,1.87,1.8800000000000001,1.8900000000000001,1.9000000000000001,1.9100000000000001,1.92,1.93,1.94,1.95,1.96,1.97,1.98,1.99,2.0],\"y\":[1.3838965267367376e-87,7.406203778867958e-86,3.8081663925606643e-84,1.8813274639386436e-82,8.929786911572053e-81,4.072358625761408e-79,1.784346355085867e-77,7.511739530735145e-76,3.0382961507319073e-74,1.1807226845824186e-72,4.408531331463226e-71,1.581496287947995e-69,5.450930475734714e-68,1.8051002629936473e-66,5.743283267428818e-65,1.7556880978548268e-63,5.156591326842331e-62,1.4551450402017122e-60,3.9452822052174554e-59,1.0277277534252784e-57,2.572209372642415e-56,6.185328486824212e-55,1.4290500583705025e-53,3.1721983574449105e-52,6.765524179769529e-51,1.3863432936411706e-49,2.7294072571903864e-48,5.162904820056606e-47,9.38313827283089e-46,1.6384392170068878e-44,2.7487850079102936e-43,4.43077231241295e-42,6.86193047676156e-41,1.021036846089396e-39,1.4597037932096358e-38,2.005008781961711e-37,2.64603779068766e-36,3.355088856231146e-35,4.087334972866004e-34,4.784148555816903e-33,5.380186160021215e-32,5.813238884889629e-31,6.034860805970919e-30,6.019280276816486e-29,5.768329961247802e-28,5.311092249679096e-27,4.6983548608979803e-26,3.993337409857663e-25,3.261027180711029e-24,2.558592081048686e-23,1.9287498479639178e-22,1.3969439431471188e-21,9.72098502030078e-21,6.499347972070986e-20,4.175010055850544e-19,2.5767571091550176e-18,1.5279799682873156e-17,8.705426622296374e-17,4.765304735299088e-16,2.5062218871452745e-15,1.2664165549094176e-14,6.148396412704777e-14,2.867975008888098e-13,1.2853372251336548e-12,5.534610071701052e-12,2.2897348456455695e-11,9.101470764488e-11,3.475891281239959e-10,1.2754076295260578e-9,4.4963494622809015e-9,1.522997974471279e-8,4.95640531917248e-8,1.5497531357028912e-7,4.655715715783078e-7,1.343812277631519e-6,3.7266531720786714e-6,9.929504305851081e-6,0.000025419346516199295,0.00006252150377482037,0.00014774836023203415,0.00033546262790251305,0.0007318024188804755,0.0015338106793244715,0.0030887154082367856,0.005976022895005932,0.011108996538242287,0.01984109474437027,0.03404745473459933,0.056134762834133725,0.08892161745938638,0.1353352832366128,0.19789869908361493,0.27803730045319447,0.37531109885140007,0.48675225595997235,0.6065306597126342,0.7261490370736905,0.8352702114112718,0.9231163463866356,0.9801986733067553,1.0,0.9801986733067553,0.9231163463866356,0.8352702114112718,0.7261490370736905,0.6065306597126329,0.486752255959971,0.37531109885139896,0.27803730045319347,0.19789869908361413,0.1353352832366122,0.08892161745938594,0.05613476283413343,0.034047454734599136,0.019841094744370145,0.011108996538242218,0.005976022895005975,0.0030887154082367856,0.0015338106793244715,0.0007318024188804755,0.00033546262790251305,0.00014774836023203415,0.00006252150377482037,0.000025419346516199295,9.929504305851081e-6,3.7266531720786714e-6,1.343812277631519e-6,4.655715715783078e-7,1.5497531357028912e-7,4.95640531917248e-8,1.522997974471252e-8,4.496349462280838e-9,1.275407629526035e-9,3.4758912812398977e-10,9.101470764487838e-11,2.2897348456455203e-11,5.5346100717009545e-12,1.2853372251336275e-12,2.8679750088880473e-13,6.148396412704648e-14,1.2664165549093996e-14,2.506221887145328e-15,4.765304735299156e-16,8.705426622296374e-17,1.5279799682873156e-17,2.5767571091550176e-18,4.175010055850544e-19,6.499347972070986e-20,9.72098502030078e-21,1.3969439431471188e-21,1.9287498479639178e-22,2.558592081048686e-23,3.261027180711029e-24,3.993337409857663e-25,4.6983548608979803e-26,5.311092249679096e-27,5.768329961247802e-28,6.019280276816486e-29,6.034860805970919e-30,5.813238884889547e-31,5.380186160020985e-32,4.784148555816768e-33,4.0873349728658285e-34,3.3550888562310496e-35,2.646037790687547e-36,2.005008781961597e-37,1.459703793209532e-38,1.021036846089396e-39,6.86193047676156e-41,4.43077231241295e-42,2.7487850079102936e-43,1.6384392170068878e-44,9.38313827283089e-46,5.162904820056606e-47,2.7294072571903864e-48,1.3863432936411706e-49,6.765524179769529e-51,3.1721983574449105e-52,1.4290500583705025e-53,6.185328486824212e-55,2.572209372642415e-56,1.0277277534252784e-57,3.9452822052174554e-59,1.4551450402016293e-60,5.156591326842038e-62,1.7556880978548268e-63,5.743283267428818e-65,1.8051002629935448e-66,5.450930475734405e-68,1.581496287947995e-69,4.408531331463226e-71,1.1807226845823178e-72,3.0382961507319073e-74,7.511739530735145e-76,1.784346355085867e-77,4.072358625761408e-79,8.929786911572053e-81,1.8813274639386436e-82,3.8081663925606643e-84,7.406203778867958e-86,1.3838965267367376e-87],\"type\":\"scatter\"}],                        {\"template\":{\"data\":{\"histogram2dcontour\":[{\"type\":\"histogram2dcontour\",\"colorbar\":{\"outlinewidth\":0,\"ticks\":\"\"},\"colorscale\":[[0.0,\"#0d0887\"],[0.1111111111111111,\"#46039f\"],[0.2222222222222222,\"#7201a8\"],[0.3333333333333333,\"#9c179e\"],[0.4444444444444444,\"#bd3786\"],[0.5555555555555556,\"#d8576b\"],[0.6666666666666666,\"#ed7953\"],[0.7777777777777778,\"#fb9f3a\"],[0.8888888888888888,\"#fdca26\"],[1.0,\"#f0f921\"]]}],\"choropleth\":[{\"type\":\"choropleth\",\"colorbar\":{\"outlinewidth\":0,\"ticks\":\"\"}}],\"histogram2d\":[{\"type\":\"histogram2d\",\"colorbar\":{\"outlinewidth\":0,\"ticks\":\"\"},\"colorscale\":[[0.0,\"#0d0887\"],[0.1111111111111111,\"#46039f\"],[0.2222222222222222,\"#7201a8\"],[0.3333333333333333,\"#9c179e\"],[0.4444444444444444,\"#bd3786\"],[0.5555555555555556,\"#d8576b\"],[0.6666666666666666,\"#ed7953\"],[0.7777777777777778,\"#fb9f3a\"],[0.8888888888888888,\"#fdca26\"],[1.0,\"#f0f921\"]]}],\"heatmap\":[{\"type\":\"heatmap\",\"colorbar\":{\"outlinewidth\":0,\"ticks\":\"\"},\"colorscale\":[[0.0,\"#0d0887\"],[0.1111111111111111,\"#46039f\"],[0.2222222222222222,\"#7201a8\"],[0.3333333333333333,\"#9c179e\"],[0.4444444444444444,\"#bd3786\"],[0.5555555555555556,\"#d8576b\"],[0.6666666666666666,\"#ed7953\"],[0.7777777777777778,\"#fb9f3a\"],[0.8888888888888888,\"#fdca26\"],[1.0,\"#f0f921\"]]}],\"heatmapgl\":[{\"type\":\"heatmapgl\",\"colorbar\":{\"outlinewidth\":0,\"ticks\":\"\"},\"colorscale\":[[0.0,\"#0d0887\"],[0.1111111111111111,\"#46039f\"],[0.2222222222222222,\"#7201a8\"],[0.3333333333333333,\"#9c179e\"],[0.4444444444444444,\"#bd3786\"],[0.5555555555555556,\"#d8576b\"],[0.6666666666666666,\"#ed7953\"],[0.7777777777777778,\"#fb9f3a\"],[0.8888888888888888,\"#fdca26\"],[1.0,\"#f0f921\"]]}],\"contourcarpet\":[{\"type\":\"contourcarpet\",\"colorbar\":{\"outlinewidth\":0,\"ticks\":\"\"}}],\"contour\":[{\"type\":\"contour\",\"colorbar\":{\"outlinewidth\":0,\"ticks\":\"\"},\"colorscale\":[[0.0,\"#0d0887\"],[0.1111111111111111,\"#46039f\"],[0.2222222222222222,\"#7201a8\"],[0.3333333333333333,\"#9c179e\"],[0.4444444444444444,\"#bd3786\"],[0.5555555555555556,\"#d8576b\"],[0.6666666666666666,\"#ed7953\"],[0.7777777777777778,\"#fb9f3a\"],[0.8888888888888888,\"#fdca26\"],[1.0,\"#f0f921\"]]}],\"surface\":[{\"type\":\"surface\",\"colorbar\":{\"outlinewidth\":0,\"ticks\":\"\"},\"colorscale\":[[0.0,\"#0d0887\"],[0.1111111111111111,\"#46039f\"],[0.2222222222222222,\"#7201a8\"],[0.3333333333333333,\"#9c179e\"],[0.4444444444444444,\"#bd3786\"],[0.5555555555555556,\"#d8576b\"],[0.6666666666666666,\"#ed7953\"],[0.7777777777777778,\"#fb9f3a\"],[0.8888888888888888,\"#fdca26\"],[1.0,\"#f0f921\"]]}],\"mesh3d\":[{\"type\":\"mesh3d\",\"colorbar\":{\"outlinewidth\":0,\"ticks\":\"\"}}],\"scatter\":[{\"fillpattern\":{\"fillmode\":\"overlay\",\"size\":10,\"solidity\":0.2},\"type\":\"scatter\"}],\"parcoords\":[{\"type\":\"parcoords\",\"line\":{\"colorbar\":{\"outlinewidth\":0,\"ticks\":\"\"}}}],\"scatterpolargl\":[{\"type\":\"scatterpolargl\",\"marker\":{\"colorbar\":{\"outlinewidth\":0,\"ticks\":\"\"}}}],\"bar\":[{\"error_x\":{\"color\":\"#2a3f5f\"},\"error_y\":{\"color\":\"#2a3f5f\"},\"marker\":{\"line\":{\"color\":\"#E5ECF6\",\"width\":0.5},\"pattern\":{\"fillmode\":\"overlay\",\"size\":10,\"solidity\":0.2}},\"type\":\"bar\"}],\"scattergeo\":[{\"type\":\"scattergeo\",\"marker\":{\"colorbar\":{\"outlinewidth\":0,\"ticks\":\"\"}}}],\"scatterpolar\":[{\"type\":\"scatterpolar\",\"marker\":{\"colorbar\":{\"outlinewidth\":0,\"ticks\":\"\"}}}],\"histogram\":[{\"marker\":{\"pattern\":{\"fillmode\":\"overlay\",\"size\":10,\"solidity\":0.2}},\"type\":\"histogram\"}],\"scattergl\":[{\"type\":\"scattergl\",\"marker\":{\"colorbar\":{\"outlinewidth\":0,\"ticks\":\"\"}}}],\"scatter3d\":[{\"type\":\"scatter3d\",\"line\":{\"colorbar\":{\"outlinewidth\":0,\"ticks\":\"\"}},\"marker\":{\"colorbar\":{\"outlinewidth\":0,\"ticks\":\"\"}}}],\"scattermapbox\":[{\"type\":\"scattermapbox\",\"marker\":{\"colorbar\":{\"outlinewidth\":0,\"ticks\":\"\"}}}],\"scatterternary\":[{\"type\":\"scatterternary\",\"marker\":{\"colorbar\":{\"outlinewidth\":0,\"ticks\":\"\"}}}],\"scattercarpet\":[{\"type\":\"scattercarpet\",\"marker\":{\"colorbar\":{\"outlinewidth\":0,\"ticks\":\"\"}}}],\"carpet\":[{\"aaxis\":{\"endlinecolor\":\"#2a3f5f\",\"gridcolor\":\"white\",\"linecolor\":\"white\",\"minorgridcolor\":\"white\",\"startlinecolor\":\"#2a3f5f\"},\"baxis\":{\"endlinecolor\":\"#2a3f5f\",\"gridcolor\":\"white\",\"linecolor\":\"white\",\"minorgridcolor\":\"white\",\"startlinecolor\":\"#2a3f5f\"},\"type\":\"carpet\"}],\"table\":[{\"cells\":{\"fill\":{\"color\":\"#EBF0F8\"},\"line\":{\"color\":\"white\"}},\"header\":{\"fill\":{\"color\":\"#C8D4E3\"},\"line\":{\"color\":\"white\"}},\"type\":\"table\"}],\"barpolar\":[{\"marker\":{\"line\":{\"color\":\"#E5ECF6\",\"width\":0.5},\"pattern\":{\"fillmode\":\"overlay\",\"size\":10,\"solidity\":0.2}},\"type\":\"barpolar\"}],\"pie\":[{\"automargin\":true,\"type\":\"pie\"}]},\"layout\":{\"autotypenumbers\":\"strict\",\"colorway\":[\"#636efa\",\"#EF553B\",\"#00cc96\",\"#ab63fa\",\"#FFA15A\",\"#19d3f3\",\"#FF6692\",\"#B6E880\",\"#FF97FF\",\"#FECB52\"],\"font\":{\"color\":\"#2a3f5f\"},\"hovermode\":\"closest\",\"hoverlabel\":{\"align\":\"left\"},\"paper_bgcolor\":\"white\",\"plot_bgcolor\":\"#E5ECF6\",\"polar\":{\"bgcolor\":\"#E5ECF6\",\"angularaxis\":{\"gridcolor\":\"white\",\"linecolor\":\"white\",\"ticks\":\"\"},\"radialaxis\":{\"gridcolor\":\"white\",\"linecolor\":\"white\",\"ticks\":\"\"}},\"ternary\":{\"bgcolor\":\"#E5ECF6\",\"aaxis\":{\"gridcolor\":\"white\",\"linecolor\":\"white\",\"ticks\":\"\"},\"baxis\":{\"gridcolor\":\"white\",\"linecolor\":\"white\",\"ticks\":\"\"},\"caxis\":{\"gridcolor\":\"white\",\"linecolor\":\"white\",\"ticks\":\"\"}},\"coloraxis\":{\"colorbar\":{\"outlinewidth\":0,\"ticks\":\"\"}},\"colorscale\":{\"sequential\":[[0.0,\"#0d0887\"],[0.1111111111111111,\"#46039f\"],[0.2222222222222222,\"#7201a8\"],[0.3333333333333333,\"#9c179e\"],[0.4444444444444444,\"#bd3786\"],[0.5555555555555556,\"#d8576b\"],[0.6666666666666666,\"#ed7953\"],[0.7777777777777778,\"#fb9f3a\"],[0.8888888888888888,\"#fdca26\"],[1.0,\"#f0f921\"]],\"sequentialminus\":[[0.0,\"#0d0887\"],[0.1111111111111111,\"#46039f\"],[0.2222222222222222,\"#7201a8\"],[0.3333333333333333,\"#9c179e\"],[0.4444444444444444,\"#bd3786\"],[0.5555555555555556,\"#d8576b\"],[0.6666666666666666,\"#ed7953\"],[0.7777777777777778,\"#fb9f3a\"],[0.8888888888888888,\"#fdca26\"],[1.0,\"#f0f921\"]],\"diverging\":[[0,\"#8e0152\"],[0.1,\"#c51b7d\"],[0.2,\"#de77ae\"],[0.3,\"#f1b6da\"],[0.4,\"#fde0ef\"],[0.5,\"#f7f7f7\"],[0.6,\"#e6f5d0\"],[0.7,\"#b8e186\"],[0.8,\"#7fbc41\"],[0.9,\"#4d9221\"],[1,\"#276419\"]]},\"xaxis\":{\"gridcolor\":\"white\",\"linecolor\":\"white\",\"ticks\":\"\",\"title\":{\"standoff\":15},\"zerolinecolor\":\"white\",\"automargin\":true,\"zerolinewidth\":2},\"yaxis\":{\"gridcolor\":\"white\",\"linecolor\":\"white\",\"ticks\":\"\",\"title\":{\"standoff\":15},\"zerolinecolor\":\"white\",\"automargin\":true,\"zerolinewidth\":2},\"scene\":{\"xaxis\":{\"backgroundcolor\":\"#E5ECF6\",\"gridcolor\":\"white\",\"linecolor\":\"white\",\"showbackground\":true,\"ticks\":\"\",\"zerolinecolor\":\"white\",\"gridwidth\":2},\"yaxis\":{\"backgroundcolor\":\"#E5ECF6\",\"gridcolor\":\"white\",\"linecolor\":\"white\",\"showbackground\":true,\"ticks\":\"\",\"zerolinecolor\":\"white\",\"gridwidth\":2},\"zaxis\":{\"backgroundcolor\":\"#E5ECF6\",\"gridcolor\":\"white\",\"linecolor\":\"white\",\"showbackground\":true,\"ticks\":\"\",\"zerolinecolor\":\"white\",\"gridwidth\":2}},\"shapedefaults\":{\"line\":{\"color\":\"#2a3f5f\"}},\"annotationdefaults\":{\"arrowcolor\":\"#2a3f5f\",\"arrowhead\":0,\"arrowwidth\":1},\"geo\":{\"bgcolor\":\"white\",\"landcolor\":\"#E5ECF6\",\"subunitcolor\":\"white\",\"showland\":true,\"showlakes\":true,\"lakecolor\":\"white\"},\"title\":{\"x\":0.05},\"mapbox\":{\"style\":\"light\"}}},\"margin\":{\"l\":20,\"r\":20,\"t\":15,\"b\":20},\"xaxis\":{\"title\":{\"text\":\"x\"},\"minor\":{\"ticks\":\"outside\"},\"linewidth\":1,\"linecolor\":\"black\",\"mirror\":false,\"ticks\":\"outside\"},\"yaxis\":{\"title\":{\"text\":\"Relative frequency\"},\"linewidth\":1,\"linecolor\":\"black\",\"mirror\":false,\"ticks\":\"outside\",\"showgrid\":true,\"gridwidth\":0.1,\"gridcolor\":\"LightGrey\"},\"width\":400,\"height\":350,\"font\":{\"size\":16},\"title\":{\"font\":{\"size\":18}},\"paper_bgcolor\":\"rgba(0,0,0,0)\",\"plot_bgcolor\":\"rgba(0,0,0,0)\"},                        {\"responsive\": true}                    ).then(function(){\n                            \nvar gd = document.getElementById('cb9331e1-6fbd-421f-8fb2-b6bc2ba946cd');\nvar x = new MutationObserver(function (mutations, observer) {{\n        var display = window.getComputedStyle(gd).display;\n        if (!display || display === 'none') {{\n            console.log([gd, 'removed!']);\n            Plotly.purge(gd);\n            observer.disconnect();\n        }}\n}});\n\n// Listen for the removal of the full notebook cells\nvar notebookContainer = gd.closest('#notebook-container');\nif (notebookContainer) {{\n    x.observe(notebookContainer, {childList: true});\n}}\n\n// Listen for the clearing of the current output cell\nvar outputEl = gd.closest('.output');\nif (outputEl) {{\n    x.observe(outputEl, {childList: true});\n}}\n\n                        })                };                            </script>        </div>\n</body>\n</html>"
        },
        "metadata": {},
        "output_type": "display_data"
       }
      ]
     }
    },
    "c7cf3f0405d44d3aa83eae24eb833817": {
     "model_module": "@jupyter-widgets/controls",
     "model_module_version": "1.5.0",
     "model_name": "DropdownModel",
     "state": {
      "_dom_classes": [],
      "_model_module": "@jupyter-widgets/controls",
      "_model_module_version": "1.5.0",
      "_model_name": "DropdownModel",
      "_options_labels": [
       "Gaussian",
       "Skewed Gaussian",
       "Weibull"
      ],
      "_view_count": null,
      "_view_module": "@jupyter-widgets/controls",
      "_view_module_version": "1.5.0",
      "_view_name": "DropdownView",
      "description": "Distribution:",
      "description_tooltip": null,
      "disabled": false,
      "index": 0,
      "layout": "IPY_MODEL_f194340683ba4d16a429d5373d433395",
      "style": "IPY_MODEL_a4ab8dd701fa41c28516a3303e31a753"
     }
    },
    "ca64f3742d124298867385761c82e2c2": {
     "model_module": "@jupyter-widgets/base",
     "model_module_version": "1.2.0",
     "model_name": "LayoutModel",
     "state": {
      "_model_module": "@jupyter-widgets/base",
      "_model_module_version": "1.2.0",
      "_model_name": "LayoutModel",
      "_view_count": null,
      "_view_module": "@jupyter-widgets/base",
      "_view_module_version": "1.2.0",
      "_view_name": "LayoutView",
      "align_content": null,
      "align_items": null,
      "align_self": null,
      "border": null,
      "bottom": null,
      "display": "none",
      "flex": null,
      "flex_flow": null,
      "grid_area": null,
      "grid_auto_columns": null,
      "grid_auto_flow": null,
      "grid_auto_rows": null,
      "grid_column": null,
      "grid_gap": null,
      "grid_row": null,
      "grid_template_areas": null,
      "grid_template_columns": null,
      "grid_template_rows": null,
      "height": null,
      "justify_content": null,
      "justify_items": null,
      "left": null,
      "margin": null,
      "max_height": null,
      "max_width": null,
      "min_height": null,
      "min_width": null,
      "object_fit": null,
      "object_position": null,
      "order": null,
      "overflow": null,
      "overflow_x": null,
      "overflow_y": null,
      "padding": null,
      "right": null,
      "top": null,
      "visibility": null,
      "width": "70%"
     }
    },
    "d7969d3b7b204e7e9f3e4ddd0e8704bb": {
     "model_module": "@jupyter-widgets/controls",
     "model_module_version": "1.5.0",
     "model_name": "DescriptionStyleModel",
     "state": {
      "_model_module": "@jupyter-widgets/controls",
      "_model_module_version": "1.5.0",
      "_model_name": "DescriptionStyleModel",
      "_view_count": null,
      "_view_module": "@jupyter-widgets/base",
      "_view_module_version": "1.2.0",
      "_view_name": "StyleView",
      "description_width": ""
     }
    },
    "dd83b6e19bb74ea8b0a230c51b540c9b": {
     "model_module": "@jupyter-widgets/controls",
     "model_module_version": "1.5.0",
     "model_name": "IntSliderModel",
     "state": {
      "_dom_classes": [],
      "_model_module": "@jupyter-widgets/controls",
      "_model_module_version": "1.5.0",
      "_model_name": "IntSliderModel",
      "_view_count": null,
      "_view_module": "@jupyter-widgets/controls",
      "_view_module_version": "1.5.0",
      "_view_name": "IntSliderView",
      "continuous_update": true,
      "description": "Day of year:",
      "description_tooltip": null,
      "disabled": false,
      "layout": "IPY_MODEL_a197ca1f466d4e2bb56b35d6a7a45134",
      "max": 365,
      "min": 1,
      "orientation": "horizontal",
      "readout": true,
      "readout_format": "d",
      "step": 1,
      "style": "IPY_MODEL_2344126a5e1b41be942146ddc287331f",
      "value": 1
     }
    },
    "eb8238bcfd774aed9189f17aa04931ee": {
     "model_module": "@jupyter-widgets/controls",
     "model_module_version": "1.5.0",
     "model_name": "FloatTextModel",
     "state": {
      "_dom_classes": [],
      "_model_module": "@jupyter-widgets/controls",
      "_model_module_version": "1.5.0",
      "_model_name": "FloatTextModel",
      "_view_count": null,
      "_view_module": "@jupyter-widgets/controls",
      "_view_module_version": "1.5.0",
      "_view_name": "FloatTextView",
      "continuous_update": false,
      "description": "x1:",
      "description_tooltip": null,
      "disabled": false,
      "layout": "IPY_MODEL_ca64f3742d124298867385761c82e2c2",
      "step": 0.1,
      "style": "IPY_MODEL_63573651ab764cc29bdf3e61973df6dc",
      "value": 1.2
     }
    },
    "f194340683ba4d16a429d5373d433395": {
     "model_module": "@jupyter-widgets/base",
     "model_module_version": "1.2.0",
     "model_name": "LayoutModel",
     "state": {
      "_model_module": "@jupyter-widgets/base",
      "_model_module_version": "1.2.0",
      "_model_name": "LayoutModel",
      "_view_count": null,
      "_view_module": "@jupyter-widgets/base",
      "_view_module_version": "1.2.0",
      "_view_name": "LayoutView",
      "align_content": null,
      "align_items": null,
      "align_self": null,
      "border": null,
      "bottom": null,
      "display": null,
      "flex": null,
      "flex_flow": null,
      "grid_area": null,
      "grid_auto_columns": null,
      "grid_auto_flow": null,
      "grid_auto_rows": null,
      "grid_column": null,
      "grid_gap": null,
      "grid_row": null,
      "grid_template_areas": null,
      "grid_template_columns": null,
      "grid_template_rows": null,
      "height": null,
      "justify_content": null,
      "justify_items": null,
      "left": null,
      "margin": null,
      "max_height": null,
      "max_width": null,
      "min_height": null,
      "min_width": null,
      "object_fit": null,
      "object_position": null,
      "order": null,
      "overflow": null,
      "overflow_x": null,
      "overflow_y": null,
      "padding": null,
      "right": null,
      "top": null,
      "visibility": null,
      "width": "30%"
     }
    },
    "f3f8cc8b9e45427b956efe7ea27fb14d": {
     "model_module": "@jupyter-widgets/base",
     "model_module_version": "1.2.0",
     "model_name": "LayoutModel",
     "state": {
      "_model_module": "@jupyter-widgets/base",
      "_model_module_version": "1.2.0",
      "_model_name": "LayoutModel",
      "_view_count": null,
      "_view_module": "@jupyter-widgets/base",
      "_view_module_version": "1.2.0",
      "_view_name": "LayoutView",
      "align_content": null,
      "align_items": null,
      "align_self": null,
      "border": null,
      "bottom": null,
      "display": null,
      "flex": null,
      "flex_flow": null,
      "grid_area": null,
      "grid_auto_columns": null,
      "grid_auto_flow": null,
      "grid_auto_rows": null,
      "grid_column": null,
      "grid_gap": null,
      "grid_row": null,
      "grid_template_areas": null,
      "grid_template_columns": null,
      "grid_template_rows": null,
      "height": null,
      "justify_content": null,
      "justify_items": null,
      "left": null,
      "margin": null,
      "max_height": null,
      "max_width": null,
      "min_height": null,
      "min_width": null,
      "object_fit": null,
      "object_position": null,
      "order": null,
      "overflow": null,
      "overflow_x": null,
      "overflow_y": null,
      "padding": null,
      "right": null,
      "top": null,
      "visibility": null,
      "width": null
     }
    },
    "f559f41292c54a7f8575d59ee6096455": {
     "model_module": "@jupyter-widgets/output",
     "model_module_version": "1.0.0",
     "model_name": "OutputModel",
     "state": {
      "_dom_classes": [],
      "_model_module": "@jupyter-widgets/output",
      "_model_module_version": "1.0.0",
      "_model_name": "OutputModel",
      "_view_count": null,
      "_view_module": "@jupyter-widgets/output",
      "_view_module_version": "1.0.0",
      "_view_name": "OutputView",
      "layout": "IPY_MODEL_4bdd3ff440fe404bb5fad68b3fc81200",
      "msg_id": "",
      "outputs": [
       {
        "data": {
         "text/html": "<html>\n<head><meta charset=\"utf-8\" /></head>\n<body>\n    <div>            <script src=\"https://cdnjs.cloudflare.com/ajax/libs/mathjax/2.7.5/MathJax.js?config=TeX-AMS-MML_SVG\"></script><script type=\"text/javascript\">if (window.MathJax && window.MathJax.Hub && window.MathJax.Hub.Config) {window.MathJax.Hub.Config({SVG: {font: \"STIX-Web\"}});}</script>                <script type=\"text/javascript\">window.PlotlyConfig = {MathJaxConfig: 'local'};</script>\n        <script charset=\"utf-8\" src=\"https://cdn.plot.ly/plotly-2.35.2.min.js\"></script>                <div id=\"793edb7f-16cd-431b-b57c-170aae4a8d1f\" class=\"plotly-graph-div\" style=\"height:525px; width:900px;\"></div>            <script type=\"text/javascript\">                                    window.PLOTLYENV=window.PLOTLYENV || {};                                    if (document.getElementById(\"793edb7f-16cd-431b-b57c-170aae4a8d1f\")) {                    Plotly.newPlot(                        \"793edb7f-16cd-431b-b57c-170aae4a8d1f\",                        [{\"marker\":{\"color\":\"#d2226a\"},\"x\":[0.75,0.76,0.77,0.78,0.79,0.8,0.81,0.8200000000000001,0.83,0.84,0.85,0.86,0.87,0.88,0.89,0.9,0.91,0.92,0.9299999999999999,0.94,0.95,0.96,0.97,0.98,0.99,1.0,1.01,1.02,1.03,1.04,1.05,1.06,1.07,1.08,1.09,1.1,1.1099999999999999,1.12,1.13,1.1400000000000001,1.15,1.1600000000000001,1.17,1.18,1.19,1.2,1.21,1.22,1.23,1.24],\"y\":[0.2,0.2,0.1,0.5,0.5,0.3,0.8999999999999999,0.4,1.0999999999999999,1.2,1.6,1.6,1.3,2.0,3.0,2.6,4.2,2.7,3.3000000000000003,2.9000000000000004,2.1999999999999997,3.9,3.9,4.1000000000000005,3.5000000000000004,4.2,4.8,3.9,4.5,4.0,2.9000000000000004,4.0,2.7,2.7,2.4,2.3,1.7999999999999998,2.3,1.4000000000000001,0.8999999999999999,1.2,1.0,0.3,1.3,0.7000000000000001,0.4,0.2,0.2,0.4,1.3],\"type\":\"bar\"}],                        {\"template\":{\"data\":{\"histogram2dcontour\":[{\"type\":\"histogram2dcontour\",\"colorbar\":{\"outlinewidth\":0,\"ticks\":\"\"},\"colorscale\":[[0.0,\"#0d0887\"],[0.1111111111111111,\"#46039f\"],[0.2222222222222222,\"#7201a8\"],[0.3333333333333333,\"#9c179e\"],[0.4444444444444444,\"#bd3786\"],[0.5555555555555556,\"#d8576b\"],[0.6666666666666666,\"#ed7953\"],[0.7777777777777778,\"#fb9f3a\"],[0.8888888888888888,\"#fdca26\"],[1.0,\"#f0f921\"]]}],\"choropleth\":[{\"type\":\"choropleth\",\"colorbar\":{\"outlinewidth\":0,\"ticks\":\"\"}}],\"histogram2d\":[{\"type\":\"histogram2d\",\"colorbar\":{\"outlinewidth\":0,\"ticks\":\"\"},\"colorscale\":[[0.0,\"#0d0887\"],[0.1111111111111111,\"#46039f\"],[0.2222222222222222,\"#7201a8\"],[0.3333333333333333,\"#9c179e\"],[0.4444444444444444,\"#bd3786\"],[0.5555555555555556,\"#d8576b\"],[0.6666666666666666,\"#ed7953\"],[0.7777777777777778,\"#fb9f3a\"],[0.8888888888888888,\"#fdca26\"],[1.0,\"#f0f921\"]]}],\"heatmap\":[{\"type\":\"heatmap\",\"colorbar\":{\"outlinewidth\":0,\"ticks\":\"\"},\"colorscale\":[[0.0,\"#0d0887\"],[0.1111111111111111,\"#46039f\"],[0.2222222222222222,\"#7201a8\"],[0.3333333333333333,\"#9c179e\"],[0.4444444444444444,\"#bd3786\"],[0.5555555555555556,\"#d8576b\"],[0.6666666666666666,\"#ed7953\"],[0.7777777777777778,\"#fb9f3a\"],[0.8888888888888888,\"#fdca26\"],[1.0,\"#f0f921\"]]}],\"heatmapgl\":[{\"type\":\"heatmapgl\",\"colorbar\":{\"outlinewidth\":0,\"ticks\":\"\"},\"colorscale\":[[0.0,\"#0d0887\"],[0.1111111111111111,\"#46039f\"],[0.2222222222222222,\"#7201a8\"],[0.3333333333333333,\"#9c179e\"],[0.4444444444444444,\"#bd3786\"],[0.5555555555555556,\"#d8576b\"],[0.6666666666666666,\"#ed7953\"],[0.7777777777777778,\"#fb9f3a\"],[0.8888888888888888,\"#fdca26\"],[1.0,\"#f0f921\"]]}],\"contourcarpet\":[{\"type\":\"contourcarpet\",\"colorbar\":{\"outlinewidth\":0,\"ticks\":\"\"}}],\"contour\":[{\"type\":\"contour\",\"colorbar\":{\"outlinewidth\":0,\"ticks\":\"\"},\"colorscale\":[[0.0,\"#0d0887\"],[0.1111111111111111,\"#46039f\"],[0.2222222222222222,\"#7201a8\"],[0.3333333333333333,\"#9c179e\"],[0.4444444444444444,\"#bd3786\"],[0.5555555555555556,\"#d8576b\"],[0.6666666666666666,\"#ed7953\"],[0.7777777777777778,\"#fb9f3a\"],[0.8888888888888888,\"#fdca26\"],[1.0,\"#f0f921\"]]}],\"surface\":[{\"type\":\"surface\",\"colorbar\":{\"outlinewidth\":0,\"ticks\":\"\"},\"colorscale\":[[0.0,\"#0d0887\"],[0.1111111111111111,\"#46039f\"],[0.2222222222222222,\"#7201a8\"],[0.3333333333333333,\"#9c179e\"],[0.4444444444444444,\"#bd3786\"],[0.5555555555555556,\"#d8576b\"],[0.6666666666666666,\"#ed7953\"],[0.7777777777777778,\"#fb9f3a\"],[0.8888888888888888,\"#fdca26\"],[1.0,\"#f0f921\"]]}],\"mesh3d\":[{\"type\":\"mesh3d\",\"colorbar\":{\"outlinewidth\":0,\"ticks\":\"\"}}],\"scatter\":[{\"fillpattern\":{\"fillmode\":\"overlay\",\"size\":10,\"solidity\":0.2},\"type\":\"scatter\"}],\"parcoords\":[{\"type\":\"parcoords\",\"line\":{\"colorbar\":{\"outlinewidth\":0,\"ticks\":\"\"}}}],\"scatterpolargl\":[{\"type\":\"scatterpolargl\",\"marker\":{\"colorbar\":{\"outlinewidth\":0,\"ticks\":\"\"}}}],\"bar\":[{\"error_x\":{\"color\":\"#2a3f5f\"},\"error_y\":{\"color\":\"#2a3f5f\"},\"marker\":{\"line\":{\"color\":\"#E5ECF6\",\"width\":0.5},\"pattern\":{\"fillmode\":\"overlay\",\"size\":10,\"solidity\":0.2}},\"type\":\"bar\"}],\"scattergeo\":[{\"type\":\"scattergeo\",\"marker\":{\"colorbar\":{\"outlinewidth\":0,\"ticks\":\"\"}}}],\"scatterpolar\":[{\"type\":\"scatterpolar\",\"marker\":{\"colorbar\":{\"outlinewidth\":0,\"ticks\":\"\"}}}],\"histogram\":[{\"marker\":{\"pattern\":{\"fillmode\":\"overlay\",\"size\":10,\"solidity\":0.2}},\"type\":\"histogram\"}],\"scattergl\":[{\"type\":\"scattergl\",\"marker\":{\"colorbar\":{\"outlinewidth\":0,\"ticks\":\"\"}}}],\"scatter3d\":[{\"type\":\"scatter3d\",\"line\":{\"colorbar\":{\"outlinewidth\":0,\"ticks\":\"\"}},\"marker\":{\"colorbar\":{\"outlinewidth\":0,\"ticks\":\"\"}}}],\"scattermapbox\":[{\"type\":\"scattermapbox\",\"marker\":{\"colorbar\":{\"outlinewidth\":0,\"ticks\":\"\"}}}],\"scatterternary\":[{\"type\":\"scatterternary\",\"marker\":{\"colorbar\":{\"outlinewidth\":0,\"ticks\":\"\"}}}],\"scattercarpet\":[{\"type\":\"scattercarpet\",\"marker\":{\"colorbar\":{\"outlinewidth\":0,\"ticks\":\"\"}}}],\"carpet\":[{\"aaxis\":{\"endlinecolor\":\"#2a3f5f\",\"gridcolor\":\"white\",\"linecolor\":\"white\",\"minorgridcolor\":\"white\",\"startlinecolor\":\"#2a3f5f\"},\"baxis\":{\"endlinecolor\":\"#2a3f5f\",\"gridcolor\":\"white\",\"linecolor\":\"white\",\"minorgridcolor\":\"white\",\"startlinecolor\":\"#2a3f5f\"},\"type\":\"carpet\"}],\"table\":[{\"cells\":{\"fill\":{\"color\":\"#EBF0F8\"},\"line\":{\"color\":\"white\"}},\"header\":{\"fill\":{\"color\":\"#C8D4E3\"},\"line\":{\"color\":\"white\"}},\"type\":\"table\"}],\"barpolar\":[{\"marker\":{\"line\":{\"color\":\"#E5ECF6\",\"width\":0.5},\"pattern\":{\"fillmode\":\"overlay\",\"size\":10,\"solidity\":0.2}},\"type\":\"barpolar\"}],\"pie\":[{\"automargin\":true,\"type\":\"pie\"}]},\"layout\":{\"autotypenumbers\":\"strict\",\"colorway\":[\"#636efa\",\"#EF553B\",\"#00cc96\",\"#ab63fa\",\"#FFA15A\",\"#19d3f3\",\"#FF6692\",\"#B6E880\",\"#FF97FF\",\"#FECB52\"],\"font\":{\"color\":\"#2a3f5f\"},\"hovermode\":\"closest\",\"hoverlabel\":{\"align\":\"left\"},\"paper_bgcolor\":\"white\",\"plot_bgcolor\":\"#E5ECF6\",\"polar\":{\"bgcolor\":\"#E5ECF6\",\"angularaxis\":{\"gridcolor\":\"white\",\"linecolor\":\"white\",\"ticks\":\"\"},\"radialaxis\":{\"gridcolor\":\"white\",\"linecolor\":\"white\",\"ticks\":\"\"}},\"ternary\":{\"bgcolor\":\"#E5ECF6\",\"aaxis\":{\"gridcolor\":\"white\",\"linecolor\":\"white\",\"ticks\":\"\"},\"baxis\":{\"gridcolor\":\"white\",\"linecolor\":\"white\",\"ticks\":\"\"},\"caxis\":{\"gridcolor\":\"white\",\"linecolor\":\"white\",\"ticks\":\"\"}},\"coloraxis\":{\"colorbar\":{\"outlinewidth\":0,\"ticks\":\"\"}},\"colorscale\":{\"sequential\":[[0.0,\"#0d0887\"],[0.1111111111111111,\"#46039f\"],[0.2222222222222222,\"#7201a8\"],[0.3333333333333333,\"#9c179e\"],[0.4444444444444444,\"#bd3786\"],[0.5555555555555556,\"#d8576b\"],[0.6666666666666666,\"#ed7953\"],[0.7777777777777778,\"#fb9f3a\"],[0.8888888888888888,\"#fdca26\"],[1.0,\"#f0f921\"]],\"sequentialminus\":[[0.0,\"#0d0887\"],[0.1111111111111111,\"#46039f\"],[0.2222222222222222,\"#7201a8\"],[0.3333333333333333,\"#9c179e\"],[0.4444444444444444,\"#bd3786\"],[0.5555555555555556,\"#d8576b\"],[0.6666666666666666,\"#ed7953\"],[0.7777777777777778,\"#fb9f3a\"],[0.8888888888888888,\"#fdca26\"],[1.0,\"#f0f921\"]],\"diverging\":[[0,\"#8e0152\"],[0.1,\"#c51b7d\"],[0.2,\"#de77ae\"],[0.3,\"#f1b6da\"],[0.4,\"#fde0ef\"],[0.5,\"#f7f7f7\"],[0.6,\"#e6f5d0\"],[0.7,\"#b8e186\"],[0.8,\"#7fbc41\"],[0.9,\"#4d9221\"],[1,\"#276419\"]]},\"xaxis\":{\"gridcolor\":\"white\",\"linecolor\":\"white\",\"ticks\":\"\",\"title\":{\"standoff\":15},\"zerolinecolor\":\"white\",\"automargin\":true,\"zerolinewidth\":2},\"yaxis\":{\"gridcolor\":\"white\",\"linecolor\":\"white\",\"ticks\":\"\",\"title\":{\"standoff\":15},\"zerolinecolor\":\"white\",\"automargin\":true,\"zerolinewidth\":2},\"scene\":{\"xaxis\":{\"backgroundcolor\":\"#E5ECF6\",\"gridcolor\":\"white\",\"linecolor\":\"white\",\"showbackground\":true,\"ticks\":\"\",\"zerolinecolor\":\"white\",\"gridwidth\":2},\"yaxis\":{\"backgroundcolor\":\"#E5ECF6\",\"gridcolor\":\"white\",\"linecolor\":\"white\",\"showbackground\":true,\"ticks\":\"\",\"zerolinecolor\":\"white\",\"gridwidth\":2},\"zaxis\":{\"backgroundcolor\":\"#E5ECF6\",\"gridcolor\":\"white\",\"linecolor\":\"white\",\"showbackground\":true,\"ticks\":\"\",\"zerolinecolor\":\"white\",\"gridwidth\":2}},\"shapedefaults\":{\"line\":{\"color\":\"#2a3f5f\"}},\"annotationdefaults\":{\"arrowcolor\":\"#2a3f5f\",\"arrowhead\":0,\"arrowwidth\":1},\"geo\":{\"bgcolor\":\"white\",\"landcolor\":\"#E5ECF6\",\"subunitcolor\":\"white\",\"showland\":true,\"showlakes\":true,\"lakecolor\":\"white\"},\"title\":{\"x\":0.05},\"mapbox\":{\"style\":\"light\"}}},\"yaxis\":{\"title\":{\"text\":\"Probability (%)\"},\"range\":[0,7],\"linewidth\":1,\"linecolor\":\"black\",\"mirror\":false,\"showgrid\":true,\"gridwidth\":0.1,\"gridcolor\":\"LightGrey\"},\"title\":{\"text\":\"Year 1 Histogram\"},\"xaxis\":{\"title\":{\"text\":\"Relative yield\"},\"linewidth\":1,\"linecolor\":\"black\",\"mirror\":false},\"width\":900,\"images\":[{\"sizex\":0.2,\"sizey\":0.2,\"source\":\"data:image\\u002fsvg+xml;base64,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\",\"x\":0.4,\"xanchor\":\"left\",\"xref\":\"paper\",\"y\":1.2,\"yanchor\":\"top\",\"yref\":\"paper\"}],\"paper_bgcolor\":\"rgba(0,0,0,0)\",\"plot_bgcolor\":\"rgba(0,0,0,0)\"},                        {\"responsive\": true}                    ).then(function(){\n                            \nvar gd = document.getElementById('793edb7f-16cd-431b-b57c-170aae4a8d1f');\nvar x = new MutationObserver(function (mutations, observer) {{\n        var display = window.getComputedStyle(gd).display;\n        if (!display || display === 'none') {{\n            console.log([gd, 'removed!']);\n            Plotly.purge(gd);\n            observer.disconnect();\n        }}\n}});\n\n// Listen for the removal of the full notebook cells\nvar notebookContainer = gd.closest('#notebook-container');\nif (notebookContainer) {{\n    x.observe(notebookContainer, {childList: true});\n}}\n\n// Listen for the clearing of the current output cell\nvar outputEl = gd.closest('.output');\nif (outputEl) {{\n    x.observe(outputEl, {childList: true});\n}}\n\n                        })                };                            </script>        </div>\n</body>\n</html>"
        },
        "metadata": {},
        "output_type": "display_data"
       }
      ]
     }
    },
    "f7580669073449a8ad34515f7c2214f1": {
     "model_module": "@jupyter-widgets/controls",
     "model_module_version": "1.5.0",
     "model_name": "DescriptionStyleModel",
     "state": {
      "_model_module": "@jupyter-widgets/controls",
      "_model_module_version": "1.5.0",
      "_model_name": "DescriptionStyleModel",
      "_view_count": null,
      "_view_module": "@jupyter-widgets/base",
      "_view_module_version": "1.2.0",
      "_view_name": "StyleView",
      "description_width": ""
     }
    }
   }
  }
 },
 "nbformat": 4,
 "nbformat_minor": 4
}
