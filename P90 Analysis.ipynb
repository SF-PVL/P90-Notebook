{
 "cells": [
  {
   "cell_type": "markdown",
   "id": "pLt8VtvJ-Jl-",
   "metadata": {
    "id": "pLt8VtvJ-Jl-"
   },
   "source": [
    "# <img src=\"https://stage.sunsolve.com/_astro/SunSolveLogo.BnIkxJwG_ZSGGx1.svg\">\n",
    "# P90 Analysis Tool\n",
    "This notebook provides a tool for simulating uncertainty in PV systems using the PV Lighthouse 'P90' client."
   ]
  },
  {
   "cell_type": "code",
   "execution_count": 16,
   "id": "7d5ff77c-24f1-41b3-9fbb-89ed2ee637b3",
   "metadata": {
    "colab": {
     "base_uri": "https://localhost:8080/"
    },
    "executionInfo": {
     "elapsed": 46301,
     "status": "ok",
     "timestamp": 1758250059262,
     "user": {
      "displayName": "Solomon Freer",
      "userId": "07757358301173662182"
     },
     "user_tz": -600
    },
    "id": "7d5ff77c-24f1-41b3-9fbb-89ed2ee637b3",
    "outputId": "6397a46f-f4b8-4195-a8a0-80d8d6756a14"
   },
   "outputs": [
    {
     "name": "stdout",
     "output_type": "stream",
     "text": [
      "Note: you may need to restart the kernel to use updated packages.\n"
     ]
    }
   ],
   "source": [
    "import os, sys\n",
    "USING_COLAB = False  # Set to True if using Google Colab and Drive (Colab doesn't save files unless using Drive)\n",
    "REQUIRED_FILES = [\"Data\", \"SunSolveLogo.svg\", \"README.md\",\n",
    "    \"pvl_p90_client-0.1.0.156+dev-py3-none-any.whl\", \"UncertaintyFunctions.ipynb\"]\n",
    "\n",
    "# Set up Drive folder if using Colab + Drive (must enter folder path below)\n",
    "if USING_COLAB and \"google.colab\" in sys.modules:\n",
    "    # Change this to wherever you have saved this file on your Google Drive\n",
    "    folder = \"/content/G/MyDrive/Colab Notebooks/Uncertainty Colabs\"    # G:\\\\ will be handled below\n",
    "    folder = folder.replace(\"G://\", \"/content/G/\").replace(\"G:\\\\\\\\\", \"\\\\content\\\\G\\\\\").replace(\"\\\\\",\"/\")\n",
    "    from google.colab import drive\n",
    "    drive.mount(\"G\")   # Mount Google Drive to \"content/G\" (Will ask for authorization)\n",
    "    # Change the working directory to wherever you have saved this file on your drive\n",
    "    os.chdir(folder)\n",
    "# Otherwise, we keep the current directory.\n",
    "\n",
    "# Check if the required files/folders are available, or clone them into a \"SunSolve P90\" folder\n",
    "if not all(i in os.listdir() for i in REQUIRED_FILES):\n",
    "    if not \"SunSolve P90\" in os.listdir() or not all(i in os.listdir(\"SunSolve P90\") for i in REQUIRED_FILES):\n",
    "        os.makedirs(\"SunSolve P90\", exist_ok=True)\n",
    "        os.system(\"git clone --depth 1 https://github.com/SF-PVL/P90-Notebook.git 'SunSolve P90'\")\n",
    "    os.chdir(\"SunSolve P90\")\n",
    "\n",
    "# Install the P90 client (Colab: the pip dependency error can be ignored)\n",
    "%pip install pvl_p90_client-0.1.0.156+dev-py3-none-any.whl --quiet"
   ]
  },
  {
   "cell_type": "code",
   "execution_count": 17,
   "id": "_GSgjPN_6wA4",
   "metadata": {
    "colab": {
     "base_uri": "https://localhost:8080/"
    },
    "executionInfo": {
     "elapsed": 1254,
     "status": "ok",
     "timestamp": 1758163174876,
     "user": {
      "displayName": "Solomon Freer",
      "userId": "07757358301173662182"
     },
     "user_tz": -600
    },
    "id": "_GSgjPN_6wA4",
    "outputId": "8e4b6767-0330-498c-d3b1-785d889483c6"
   },
   "outputs": [
    {
     "name": "stderr",
     "output_type": "stream",
     "text": [
      "2025-10-09 16:24:34,292 - INFO - Connected to P90 service at middleware.pvlighthouse.com.au\n"
     ]
    },
    {
     "name": "stdout",
     "output_type": "stream",
     "text": [
      "Connecting to PV Lighthouse...\n",
      "Authenticating...\n",
      "Authentication successful!\n",
      "Loading time step data...\n"
     ]
    },
    {
     "name": "stderr",
     "output_type": "stream",
     "text": [
      "2025-10-09 16:24:34,489 - INFO - P90 client connection closed\n"
     ]
    },
    {
     "name": "stdout",
     "output_type": "stream",
     "text": [
      "Loaded 8760 weather data points\n"
     ]
    }
   ],
   "source": [
    "# Load helper file functions, log in to your PV Lighthouse account and start running a test simulation\n",
    "%run \"UncertaintyFunctions.ipynb\"   # If this fails, try restarting the kernel and re-running this cell\n",
    "\n",
    "# Set uncertainty simulation constants (time scales with N_SIMS*N_YEARS, 5000*5 ≈ 120 seconds)\n",
    "N_SIMS = 1000\n",
    "N_YEARS = 12\n",
    "simulation_options = build_simulation_options(number_of_years=N_YEARS, number_of_simulations=N_SIMS)\n",
    "\n",
    "# Set P-value preferences\n",
    "p_values = [50, 90, 95]     # e.g. [50, 90, 95] -> P50, P90, P95\n",
    "p_min = 0.75                # The minimum fraction of P50 to be binned on histograms\n",
    "p_delta = 0.01              # The bin size for histograms\n",
    "result_options = build_result_options(p_min=p_min, p_delta=p_delta, p_values=p_values)\n",
    "\n",
    "# Collect weather data: sydney.pvw file is provided as part of the source\n",
    "weather_file_path = \"Data/sydney.pvw\"\n",
    "weather_data = load_weather_data_from_pvw_file(weather_file_path)\n",
    "\n",
    "# Set up system\n",
    "module_info = build_module_info(length=2.0, width=1.0, bifaciality=0.8)\n",
    "\n",
    "system_info = build_system_info(\n",
    "    modules_per_string=1,\n",
    "    fallback_module_tilt_in_degrees=30,\n",
    "    number_of_inverters=1,\n",
    "    num_strings_per_inverter=1,\n",
    "    row_pitch_in_m=5.6,\n",
    "    azimuth_in_degrees=90            # Direction modules face for positive tilt. 0=North, 90=East, 180=South\n",
    ")\n",
    "\n",
    "electrical_settings = build_electrical_settings(\n",
    "    inverter_efficiency=0.98,\n",
    "    module_to_module_mismatch=0.01,\n",
    "    string_wiring_loss=0.01,\n",
    "    inverter_wiring_loss=0.01,\n",
    "    max_power_tracking_loss=0.0\n",
    ")\n",
    "\n",
    "thermal_settings = build_thermal_settings(uc=25, uv=1.2, alpha=0.9)\n",
    "\n",
    "optical_settings = build_optical_settings(fallback_albedo=0.2,\n",
    "    fallback_soiling_front=0.02, fallback_soiling_rear=0.002)\n",
    "\n",
    "operational_settings = build_operational_settings(annual_degradation_rate=0.005,\n",
    "    curtailment=0.02, availability=0.98)"
   ]
  },
  {
   "cell_type": "code",
   "execution_count": 18,
   "id": "3w3t-_qRsX6R",
   "metadata": {
    "colab": {
     "base_uri": "https://localhost:8080/",
     "height": 349,
     "referenced_widgets": [
      "811b06b676504d2ebd29671c6da0a9f8",
      "17b6047d99d34076b59ee6cf696900ad",
      "945f3aa63fc947018f479b3cae14593e",
      "ebd7b9ea7b6e4dfbacc1fe1c5b9697ae",
      "85f9e286b65a4fac8c81511ba7ea4886",
      "497e22a63315470e8cd894a82b081b1a",
      "68cf0e5b37fa41f0ac6062da308850bb"
     ]
    },
    "executionInfo": {
     "elapsed": 680,
     "status": "ok",
     "timestamp": 1758084947434,
     "user": {
      "displayName": "Solomon Freer",
      "userId": "07757358301173662182"
     },
     "user_tz": -600
    },
    "id": "3w3t-_qRsX6R",
    "outputId": "23e0923f-5a65-4e58-b2c7-2382b4e2a8b6"
   },
   "outputs": [
    {
     "data": {
      "application/vnd.jupyter.widget-view+json": {
       "model_id": "dab35a018c594631bbf5971cbb0f0300",
       "version_major": 2,
       "version_minor": 0
      },
      "text/plain": [
       "interactive(children=(IntSlider(value=1, description='Day of year:', max=365, min=1), Output()), _dom_classes=…"
      ]
     },
     "metadata": {},
     "output_type": "display_data"
    }
   ],
   "source": [
    "# View irradiance data for specific day\n",
    "interactive_weather_plot(weather_file_path, weather_data)"
   ]
  },
  {
   "cell_type": "markdown",
   "id": "LpFMzrv7402Z",
   "metadata": {
    "id": "LpFMzrv7402Z"
   },
   "source": [
    "## Set Up Modifiers to Introduce Uncertainty"
   ]
  },
  {
   "cell_type": "markdown",
   "id": "MLFlfLZDBYv-",
   "metadata": {
    "id": "MLFlfLZDBYv-"
   },
   "source": [
    "Set up input distributions (probability density functions applied to inputs)\n",
    "\n",
    "**Target Inputs**: ('DistributionInput.____')\n",
    "\n",
    "GHI, DiffuseFraction, WindSpeed, Temperature, ModulePower, SpectralCorrection, SoilingFront, SoilingRear, Uc, Uv, Alpha, AnnualDegradationRate, Availability, YieldModifier, CircumsolarFraction, UndulatingGround, ExtraIrradiance, Curtailment, DCHealth, InverterToInverterMismatch, StringToStringMismatch, ModuleToModuleMismatch, CellToCellMismatch, InverterEfficiency, ModuleEfficiencyTemperatureCoefficient, Albedo\n",
    "\n",
    "**simToSim**: sim-to-sim variability, affecting all years for that simulation; **yearToYear**: year-to-year variability; **stepToStep**: hour-to-hour variability\n",
    "\n",
    "Note: AnnualDegradationRate is a rate/year and should be positive, soiling should be positive."
   ]
  },
  {
   "cell_type": "code",
   "execution_count": 19,
   "id": "1i1rtZ2e5BNx",
   "metadata": {
    "colab": {
     "base_uri": "https://localhost:8080/",
     "height": 544,
     "referenced_widgets": [
      "2a28907842f4428e9f397618fde49977",
      "1fe7cbca377f495fadfff511a2d1f835",
      "cfdabd99ee58480aa0932b86d76233a9",
      "e89c8ce23aef480882a73508e4cadf0f",
      "268ef1e7025d48feb91a9fcbe6656c33",
      "c9e5cf0c56f34ad7b481171a9243f849",
      "a9406355b3564238978c82a7f0465441",
      "bab86dd017c54823b01de015a91dbabb",
      "31f84b4b7a914739b1ed4061be49f479",
      "5b9d0c0432994973a41f8267a97aca8b",
      "4c19cbc612c0488bb38a2553adc348d5",
      "41b3e82310314cc1b8b7d1d8122c9dff",
      "37c7eb9e966c473b90132b8d5b864597",
      "01566dea1e754185b5eb6be57fb3e65d",
      "9918703946f9475da7d8449d5941fe29",
      "9bc35332a9c44880942ce3ea9d778583",
      "670aa4a24dfb438e9a4bcc33b7ed64e3",
      "623edc5cb1ec4336b02a4ccd0e502e5b",
      "55da9a8b06ec4205808794704dff1838",
      "12c2126172ae40ef948547b3dfd763b1",
      "03cfe615c9fe4f618f541782cbc243ff",
      "742280947e5e4d538804e16d4182dc76",
      "81744888b9b84073993f4547b1a4c73a",
      "d1559228ff9346b99d53caff767596e3",
      "61c28a35931c41c5914c597b5a9d62f6",
      "a0cf098e51484f38ada54085dda166c7",
      "eec2cccf6f964cfb9e741b0350683c71",
      "4a71208f255e44ae958831473f514585",
      "63380b1cf8cf4a648f80bd91ebf52b7a",
      "e6aaacfb0d22470c9dcdc307f5d5f089",
      "4eb830e9f9e7433eb46e9cec1ffeee1b",
      "01cca1f76dfc469f9abb9ba3c2a2ca7d",
      "ddc4574c05064b05a92b9240d2af718c",
      "8b615f133dbc492b95780e2096cfe179",
      "9ab92614c9d24cdf962912fbb42fc58c",
      "404c8f29aad145f89cddc0e8fbc241b0",
      "5b50c46b7d3a4eea8a7fdf495659274e",
      "af634f28e8a04c769a348625bd77ec58",
      "4ad125b547e044aea3f14c088cd02bae",
      "1f510be95d43417b820c678ba091b352",
      "3e65724aff1147f1bd3fe3e7bafca8f6",
      "8d12d7678f8b4a99806a346f213e7b85",
      "c26666af2dd34216bbda3991401cb28e",
      "9f5921851d4d4518a2b89d68e364e938",
      "9fdebe93701e49889dd16c5abdaea0e9",
      "fa88320f0e854db88968435bc4535da4",
      "8887c6436ed3421fa7e95edf985f73d2",
      "0c17d50bd63f40af98f2fe7437704117",
      "46c7e3f15c8144ee9abad13461d4edbb",
      "c25c9ed93a78472bba9c4b440b2946d7",
      "04ecb642cccc4837baa99f00522a447a",
      "5ae6780260434fe7a1cf3408790e5241",
      "0dd1f17d8fde4a1c80a30ffadd3f1c67",
      "634fbed189ae4b0ba539ace26e36dfca",
      "d7ee9756ee9343ebad76c82bed42642d"
     ]
    },
    "executionInfo": {
     "elapsed": 225,
     "status": "ok",
     "timestamp": 1758084958437,
     "user": {
      "displayName": "Solomon Freer",
      "userId": "07757358301173662182"
     },
     "user_tz": -600
    },
    "id": "1i1rtZ2e5BNx",
    "outputId": "f8749e7a-b97a-4f78-d0a0-aa65258b93ee"
   },
   "outputs": [
    {
     "data": {
      "application/vnd.jupyter.widget-view+json": {
       "model_id": "d5c463bae23e431683ca757ffe7a2abd",
       "version_major": 2,
       "version_minor": 0
      },
      "text/plain": [
       "VBox(children=(VBox(children=(Dropdown(description='Distribution:', layout=Layout(width='30%'), options=('Gaus…"
      ]
     },
     "metadata": {},
     "output_type": "display_data"
    }
   ],
   "source": [
    "# Interactive probability density function (pdf) viewer, to help define your distributions\n",
    "interactive_distribution_plot()"
   ]
  },
  {
   "cell_type": "code",
   "execution_count": 20,
   "id": "WErVgmg44Pz0",
   "metadata": {
    "id": "WErVgmg44Pz0"
   },
   "outputs": [],
   "source": [
    "distribution_list = [\n",
    "    create_distribution(DistributionInput.AnnualDegradationRate, simToSim=[\"SkewedGaussian\", 6, 1, 0.002], yearToYear=[\"Gaussian\", 1, 0.02]),\n",
    "    create_distribution(DistributionInput.GHI, simToSim=[\"Gaussian\", 1, 0.06], yearToYear=[\"Gaussian\", 1, 0.04], stepToStep=[\"SkewedGaussian\", -2, 0.95, 0.05]),\n",
    "    create_distribution(DistributionInput.Temperature, simToSim=[\"Gaussian\", 1, 0.06], yearToYear=[\"Gaussian\", 1, 0.04], stepToStep=[\"SkewedGaussian\", -2, 0.95, 0.05]),\n",
    "    create_distribution(DistributionInput.SoilingFront, simToSim=[\"Weibull\", 0, 0.04, 2], yearToYear=[\"Gaussian\", 0.08, 0.04]),\n",
    "]"
   ]
  },
  {
   "cell_type": "markdown",
   "id": "S4Y3ycTB_jWs",
   "metadata": {
    "id": "S4Y3ycTB_jWs"
   },
   "source": [
    "## Send Request and Start Analysis"
   ]
  },
  {
   "cell_type": "code",
   "execution_count": 21,
   "id": "v6pfDVjyr6CU",
   "metadata": {
    "colab": {
     "base_uri": "https://localhost:8080/"
    },
    "executionInfo": {
     "elapsed": 3757,
     "status": "ok",
     "timestamp": 1758087885489,
     "user": {
      "displayName": "Solomon Freer",
      "userId": "07757358301173662182"
     },
     "user_tz": -600
    },
    "id": "v6pfDVjyr6CU",
    "outputId": "9eace431-0bc0-4527-f14b-5d9b4b649ec4"
   },
   "outputs": [
    {
     "name": "stderr",
     "output_type": "stream",
     "text": [
      "2025-10-09 16:24:35,958 - INFO - Connected to P90 service at middleware.pvlighthouse.com.au\n",
      "2025-10-09 16:24:35,975 - INFO - Starting P90 analysis request\n"
     ]
    },
    {
     "name": "stdout",
     "output_type": "stream",
     "text": [
      "Starting uncertainty analysis...\n"
     ]
    },
    {
     "name": "stderr",
     "output_type": "stream",
     "text": [
      "2025-10-09 16:24:44,923 - INFO - === P90 Analysis Inputs Used ===\n",
      "2025-10-09 16:24:44,924 - INFO - Module: Length=2.000m, Width=1.000m, HeightAboveGround=1.500m, PowerRatingAtSTC=460.0W, CellToCellMismatch=0.0040, EfficiencyTempCoeff=0.002950, Bifaciality=0.800\n",
      "2025-10-09 16:24:44,925 - INFO - System: ModulesPerString=1, StringsPerInverter=1, NumberOfInverters=1\n",
      "2025-10-09 16:24:44,927 - INFO - System Geometry: RowPitch=5.60m, ModuleAzimuth=90.0°, FallbackModuleTilt=30.0°\n",
      "2025-10-09 16:24:44,930 - INFO - System Tracking: TrackingCalculation=0, TiltLimit=0.0°\n",
      "2025-10-09 16:24:44,932 - INFO - Electrical Efficiencies: InverterEff=0.9800, ModuleToModuleMismatch=0.0100, StringWiringLoss=0.0100\n",
      "2025-10-09 16:24:44,937 - INFO - Electrical Losses: MaxPowerTracking=0.0000, InverterWiring=0.0100, StringToStringMismatch=0.0000, InverterToInverterMismatch=0.0000\n",
      "2025-10-09 16:24:44,939 - INFO - Optical Multipliers: BeamFront=1.000, BeamRear=1.000, IsotropicFront=1.010, IsotropicRear=1.000\n",
      "2025-10-09 16:24:44,943 - INFO - Optical Fallbacks: Albedo=0.200, SoilingFront=0.0200, SoilingRear=0.0020, SpectralCorrection=1.0000, ExtraIrradiance=1.0000, RearTransmissionFactor=0.000, RearStructuralShadingFactor=0.000\n",
      "2025-10-09 16:24:44,945 - INFO - Thermal: Uc=25.00°C, Uv=1.20°C, Alpha=0.900000\n",
      "2025-10-09 16:24:44,947 - INFO - Operational: AnnualDegradationRate=0.0050, Curtailment=0.0200, Availability=0.9800, DCHealth=1.0000, UndulatingGround=1.000000, YieldModifier=1.0000\n",
      "2025-10-09 16:24:44,954 - INFO - Simulation: 12 years, 1000 simulations\n",
      "2025-10-09 16:24:44,960 - INFO - Result Options: PMin=0.75, PDelta=0.01, PValues=[50,90,95]\n",
      "2025-10-09 16:24:44,962 - INFO - === End Inputs Used ===\n"
     ]
    },
    {
     "name": "stdout",
     "output_type": "stream",
     "text": [
      "Progress: 100.00%\n",
      "\n"
     ]
    },
    {
     "name": "stderr",
     "output_type": "stream",
     "text": [
      "2025-10-09 16:25:10,696 - INFO - Received P90 analysis summary\n"
     ]
    },
    {
     "name": "stdout",
     "output_type": "stream",
     "text": [
      "Analysis complete! Summary contains 36 yearly P-values\n"
     ]
    },
    {
     "name": "stderr",
     "output_type": "stream",
     "text": [
      "2025-10-09 16:25:10,770 - INFO - P90 client connection closed\n"
     ]
    },
    {
     "name": "stdout",
     "output_type": "stream",
     "text": [
      "Request took 35 s, running 12000 simulations in total (345 sims/s)\n"
     ]
    }
   ],
   "source": [
    "# Build and send request\n",
    "p90_request = build_request(\n",
    "    time_step_data=weather_data,\n",
    "    module=module_info,\n",
    "    system=system_info,\n",
    "    electrical=electrical_settings,\n",
    "    optical=optical_settings,\n",
    "    thermal=thermal_settings,\n",
    "    operational=operational_settings,\n",
    "    distributions=distribution_list,\n",
    "    simulation_options=simulation_options,\n",
    "    result_options=result_options\n",
    ")\n",
    "\n",
    "summary, used_inputs = request_analysis(p90_request)"
   ]
  },
  {
   "cell_type": "markdown",
   "id": "AHlFarvaisjX",
   "metadata": {
    "id": "AHlFarvaisjX"
   },
   "source": [
    "## Results\n",
    "Results are expressed in terms of 'P50 deviation' (normalised yield), where a value of 1 is the P50 yield for that year.\n",
    "\n",
    "A P90 might have a P50 deviation of '0.88' - this means that 90% of simulated yields were at least 88% of the P50 yield.\n",
    "\n",
    "The P50 yields of each year are also compared, where the P50 deviation is displayed relative to the year 1 P50 yield.\n",
    "\n",
    "[Useful reading](https://apvi.org.au/solar-research-conference/wp-content/uploads/2024/12/McIntosh_K_Asymmetry_in_the_energy_yield_forecasts_for_PV_power_plants.pdf)\n",
    "\n",
    "Absolute yield estimates are not provided, but [SunSolve Yield](https://sunsolve.info/yield/) can be used to estimate this accurately. You can also supply an absolute yield estimate for year one below, which will then scale all of the relative yields to absolute yields with this year 1 P50 value as the basis. It is assumed to be in 'MWh' if so, but can be changed by supplying a 'yield_units' string to the plotting functions.\n",
    "\n",
    "Note: The first and last bins of the histograms are larger than the others, including all values to their left and right, respectively."
   ]
  },
  {
   "cell_type": "code",
   "execution_count": 22,
   "id": "_gvZGbd_v64p",
   "metadata": {
    "colab": {
     "base_uri": "https://localhost:8080/",
     "height": 280
    },
    "executionInfo": {
     "elapsed": 71,
     "status": "error",
     "timestamp": 1758087887941,
     "user": {
      "displayName": "Solomon Freer",
      "userId": "07757358301173662182"
     },
     "user_tz": -600
    },
    "id": "_gvZGbd_v64p",
    "outputId": "cf9152b5-8dd9-4ed9-e58d-f036c687db34"
   },
   "outputs": [
    {
     "data": {
      "application/vnd.plotly.v1+json": {
       "config": {
        "plotlyServerURL": "https://plot.ly"
       },
       "data": [
        {
         "marker": {
          "color": "#d2226a"
         },
         "type": "bar",
         "x": [
          1,
          2,
          3,
          4,
          5,
          6,
          7,
          8,
          9,
          10,
          11,
          12
         ],
         "y": [
          1,
          0.9968778745721796,
          0.9925515873698967,
          0.9853176509530559,
          0.982737177564454,
          0.9793564068782571,
          0.9668264443511753,
          0.9628806278100002,
          0.9602384566536284,
          0.955119134027851,
          0.9521796238528932,
          0.9459712047620844
         ]
        }
       ],
       "layout": {
        "font": {
         "size": 16
        },
        "images": [
         {
          "sizex": 0.2,
          "sizey": 0.2,
          "source": "data:image/svg+xml;base64,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",
          "x": 0.4,
          "xanchor": "left",
          "xref": "paper",
          "y": 1.18,
          "yanchor": "top",
          "yref": "paper"
         }
        ],
        "paper_bgcolor": "white",
        "plot_bgcolor": "white",
        "template": {
         "data": {
          "bar": [
           {
            "error_x": {
             "color": "#2a3f5f"
            },
            "error_y": {
             "color": "#2a3f5f"
            },
            "marker": {
             "line": {
              "color": "#E5ECF6",
              "width": 0.5
             },
             "pattern": {
              "fillmode": "overlay",
              "size": 10,
              "solidity": 0.2
             }
            },
            "type": "bar"
           }
          ],
          "barpolar": [
           {
            "marker": {
             "line": {
              "color": "#E5ECF6",
              "width": 0.5
             },
             "pattern": {
              "fillmode": "overlay",
              "size": 10,
              "solidity": 0.2
             }
            },
            "type": "barpolar"
           }
          ],
          "carpet": [
           {
            "aaxis": {
             "endlinecolor": "#2a3f5f",
             "gridcolor": "white",
             "linecolor": "white",
             "minorgridcolor": "white",
             "startlinecolor": "#2a3f5f"
            },
            "baxis": {
             "endlinecolor": "#2a3f5f",
             "gridcolor": "white",
             "linecolor": "white",
             "minorgridcolor": "white",
             "startlinecolor": "#2a3f5f"
            },
            "type": "carpet"
           }
          ],
          "choropleth": [
           {
            "colorbar": {
             "outlinewidth": 0,
             "ticks": ""
            },
            "type": "choropleth"
           }
          ],
          "contour": [
           {
            "colorbar": {
             "outlinewidth": 0,
             "ticks": ""
            },
            "colorscale": [
             [
              0,
              "#0d0887"
             ],
             [
              0.1111111111111111,
              "#46039f"
             ],
             [
              0.2222222222222222,
              "#7201a8"
             ],
             [
              0.3333333333333333,
              "#9c179e"
             ],
             [
              0.4444444444444444,
              "#bd3786"
             ],
             [
              0.5555555555555556,
              "#d8576b"
             ],
             [
              0.6666666666666666,
              "#ed7953"
             ],
             [
              0.7777777777777778,
              "#fb9f3a"
             ],
             [
              0.8888888888888888,
              "#fdca26"
             ],
             [
              1,
              "#f0f921"
             ]
            ],
            "type": "contour"
           }
          ],
          "contourcarpet": [
           {
            "colorbar": {
             "outlinewidth": 0,
             "ticks": ""
            },
            "type": "contourcarpet"
           }
          ],
          "heatmap": [
           {
            "colorbar": {
             "outlinewidth": 0,
             "ticks": ""
            },
            "colorscale": [
             [
              0,
              "#0d0887"
             ],
             [
              0.1111111111111111,
              "#46039f"
             ],
             [
              0.2222222222222222,
              "#7201a8"
             ],
             [
              0.3333333333333333,
              "#9c179e"
             ],
             [
              0.4444444444444444,
              "#bd3786"
             ],
             [
              0.5555555555555556,
              "#d8576b"
             ],
             [
              0.6666666666666666,
              "#ed7953"
             ],
             [
              0.7777777777777778,
              "#fb9f3a"
             ],
             [
              0.8888888888888888,
              "#fdca26"
             ],
             [
              1,
              "#f0f921"
             ]
            ],
            "type": "heatmap"
           }
          ],
          "heatmapgl": [
           {
            "colorbar": {
             "outlinewidth": 0,
             "ticks": ""
            },
            "colorscale": [
             [
              0,
              "#0d0887"
             ],
             [
              0.1111111111111111,
              "#46039f"
             ],
             [
              0.2222222222222222,
              "#7201a8"
             ],
             [
              0.3333333333333333,
              "#9c179e"
             ],
             [
              0.4444444444444444,
              "#bd3786"
             ],
             [
              0.5555555555555556,
              "#d8576b"
             ],
             [
              0.6666666666666666,
              "#ed7953"
             ],
             [
              0.7777777777777778,
              "#fb9f3a"
             ],
             [
              0.8888888888888888,
              "#fdca26"
             ],
             [
              1,
              "#f0f921"
             ]
            ],
            "type": "heatmapgl"
           }
          ],
          "histogram": [
           {
            "marker": {
             "pattern": {
              "fillmode": "overlay",
              "size": 10,
              "solidity": 0.2
             }
            },
            "type": "histogram"
           }
          ],
          "histogram2d": [
           {
            "colorbar": {
             "outlinewidth": 0,
             "ticks": ""
            },
            "colorscale": [
             [
              0,
              "#0d0887"
             ],
             [
              0.1111111111111111,
              "#46039f"
             ],
             [
              0.2222222222222222,
              "#7201a8"
             ],
             [
              0.3333333333333333,
              "#9c179e"
             ],
             [
              0.4444444444444444,
              "#bd3786"
             ],
             [
              0.5555555555555556,
              "#d8576b"
             ],
             [
              0.6666666666666666,
              "#ed7953"
             ],
             [
              0.7777777777777778,
              "#fb9f3a"
             ],
             [
              0.8888888888888888,
              "#fdca26"
             ],
             [
              1,
              "#f0f921"
             ]
            ],
            "type": "histogram2d"
           }
          ],
          "histogram2dcontour": [
           {
            "colorbar": {
             "outlinewidth": 0,
             "ticks": ""
            },
            "colorscale": [
             [
              0,
              "#0d0887"
             ],
             [
              0.1111111111111111,
              "#46039f"
             ],
             [
              0.2222222222222222,
              "#7201a8"
             ],
             [
              0.3333333333333333,
              "#9c179e"
             ],
             [
              0.4444444444444444,
              "#bd3786"
             ],
             [
              0.5555555555555556,
              "#d8576b"
             ],
             [
              0.6666666666666666,
              "#ed7953"
             ],
             [
              0.7777777777777778,
              "#fb9f3a"
             ],
             [
              0.8888888888888888,
              "#fdca26"
             ],
             [
              1,
              "#f0f921"
             ]
            ],
            "type": "histogram2dcontour"
           }
          ],
          "mesh3d": [
           {
            "colorbar": {
             "outlinewidth": 0,
             "ticks": ""
            },
            "type": "mesh3d"
           }
          ],
          "parcoords": [
           {
            "line": {
             "colorbar": {
              "outlinewidth": 0,
              "ticks": ""
             }
            },
            "type": "parcoords"
           }
          ],
          "pie": [
           {
            "automargin": true,
            "type": "pie"
           }
          ],
          "scatter": [
           {
            "fillpattern": {
             "fillmode": "overlay",
             "size": 10,
             "solidity": 0.2
            },
            "type": "scatter"
           }
          ],
          "scatter3d": [
           {
            "line": {
             "colorbar": {
              "outlinewidth": 0,
              "ticks": ""
             }
            },
            "marker": {
             "colorbar": {
              "outlinewidth": 0,
              "ticks": ""
             }
            },
            "type": "scatter3d"
           }
          ],
          "scattercarpet": [
           {
            "marker": {
             "colorbar": {
              "outlinewidth": 0,
              "ticks": ""
             }
            },
            "type": "scattercarpet"
           }
          ],
          "scattergeo": [
           {
            "marker": {
             "colorbar": {
              "outlinewidth": 0,
              "ticks": ""
             }
            },
            "type": "scattergeo"
           }
          ],
          "scattergl": [
           {
            "marker": {
             "colorbar": {
              "outlinewidth": 0,
              "ticks": ""
             }
            },
            "type": "scattergl"
           }
          ],
          "scattermapbox": [
           {
            "marker": {
             "colorbar": {
              "outlinewidth": 0,
              "ticks": ""
             }
            },
            "type": "scattermapbox"
           }
          ],
          "scatterpolar": [
           {
            "marker": {
             "colorbar": {
              "outlinewidth": 0,
              "ticks": ""
             }
            },
            "type": "scatterpolar"
           }
          ],
          "scatterpolargl": [
           {
            "marker": {
             "colorbar": {
              "outlinewidth": 0,
              "ticks": ""
             }
            },
            "type": "scatterpolargl"
           }
          ],
          "scatterternary": [
           {
            "marker": {
             "colorbar": {
              "outlinewidth": 0,
              "ticks": ""
             }
            },
            "type": "scatterternary"
           }
          ],
          "surface": [
           {
            "colorbar": {
             "outlinewidth": 0,
             "ticks": ""
            },
            "colorscale": [
             [
              0,
              "#0d0887"
             ],
             [
              0.1111111111111111,
              "#46039f"
             ],
             [
              0.2222222222222222,
              "#7201a8"
             ],
             [
              0.3333333333333333,
              "#9c179e"
             ],
             [
              0.4444444444444444,
              "#bd3786"
             ],
             [
              0.5555555555555556,
              "#d8576b"
             ],
             [
              0.6666666666666666,
              "#ed7953"
             ],
             [
              0.7777777777777778,
              "#fb9f3a"
             ],
             [
              0.8888888888888888,
              "#fdca26"
             ],
             [
              1,
              "#f0f921"
             ]
            ],
            "type": "surface"
           }
          ],
          "table": [
           {
            "cells": {
             "fill": {
              "color": "#EBF0F8"
             },
             "line": {
              "color": "white"
             }
            },
            "header": {
             "fill": {
              "color": "#C8D4E3"
             },
             "line": {
              "color": "white"
             }
            },
            "type": "table"
           }
          ]
         },
         "layout": {
          "annotationdefaults": {
           "arrowcolor": "#2a3f5f",
           "arrowhead": 0,
           "arrowwidth": 1
          },
          "autotypenumbers": "strict",
          "coloraxis": {
           "colorbar": {
            "outlinewidth": 0,
            "ticks": ""
           }
          },
          "colorscale": {
           "diverging": [
            [
             0,
             "#8e0152"
            ],
            [
             0.1,
             "#c51b7d"
            ],
            [
             0.2,
             "#de77ae"
            ],
            [
             0.3,
             "#f1b6da"
            ],
            [
             0.4,
             "#fde0ef"
            ],
            [
             0.5,
             "#f7f7f7"
            ],
            [
             0.6,
             "#e6f5d0"
            ],
            [
             0.7,
             "#b8e186"
            ],
            [
             0.8,
             "#7fbc41"
            ],
            [
             0.9,
             "#4d9221"
            ],
            [
             1,
             "#276419"
            ]
           ],
           "sequential": [
            [
             0,
             "#0d0887"
            ],
            [
             0.1111111111111111,
             "#46039f"
            ],
            [
             0.2222222222222222,
             "#7201a8"
            ],
            [
             0.3333333333333333,
             "#9c179e"
            ],
            [
             0.4444444444444444,
             "#bd3786"
            ],
            [
             0.5555555555555556,
             "#d8576b"
            ],
            [
             0.6666666666666666,
             "#ed7953"
            ],
            [
             0.7777777777777778,
             "#fb9f3a"
            ],
            [
             0.8888888888888888,
             "#fdca26"
            ],
            [
             1,
             "#f0f921"
            ]
           ],
           "sequentialminus": [
            [
             0,
             "#0d0887"
            ],
            [
             0.1111111111111111,
             "#46039f"
            ],
            [
             0.2222222222222222,
             "#7201a8"
            ],
            [
             0.3333333333333333,
             "#9c179e"
            ],
            [
             0.4444444444444444,
             "#bd3786"
            ],
            [
             0.5555555555555556,
             "#d8576b"
            ],
            [
             0.6666666666666666,
             "#ed7953"
            ],
            [
             0.7777777777777778,
             "#fb9f3a"
            ],
            [
             0.8888888888888888,
             "#fdca26"
            ],
            [
             1,
             "#f0f921"
            ]
           ]
          },
          "colorway": [
           "#636efa",
           "#EF553B",
           "#00cc96",
           "#ab63fa",
           "#FFA15A",
           "#19d3f3",
           "#FF6692",
           "#B6E880",
           "#FF97FF",
           "#FECB52"
          ],
          "font": {
           "color": "#2a3f5f"
          },
          "geo": {
           "bgcolor": "white",
           "lakecolor": "white",
           "landcolor": "#E5ECF6",
           "showlakes": true,
           "showland": true,
           "subunitcolor": "white"
          },
          "hoverlabel": {
           "align": "left"
          },
          "hovermode": "closest",
          "mapbox": {
           "style": "light"
          },
          "paper_bgcolor": "white",
          "plot_bgcolor": "#E5ECF6",
          "polar": {
           "angularaxis": {
            "gridcolor": "white",
            "linecolor": "white",
            "ticks": ""
           },
           "bgcolor": "#E5ECF6",
           "radialaxis": {
            "gridcolor": "white",
            "linecolor": "white",
            "ticks": ""
           }
          },
          "scene": {
           "xaxis": {
            "backgroundcolor": "#E5ECF6",
            "gridcolor": "white",
            "gridwidth": 2,
            "linecolor": "white",
            "showbackground": true,
            "ticks": "",
            "zerolinecolor": "white"
           },
           "yaxis": {
            "backgroundcolor": "#E5ECF6",
            "gridcolor": "white",
            "gridwidth": 2,
            "linecolor": "white",
            "showbackground": true,
            "ticks": "",
            "zerolinecolor": "white"
           },
           "zaxis": {
            "backgroundcolor": "#E5ECF6",
            "gridcolor": "white",
            "gridwidth": 2,
            "linecolor": "white",
            "showbackground": true,
            "ticks": "",
            "zerolinecolor": "white"
           }
          },
          "shapedefaults": {
           "line": {
            "color": "#2a3f5f"
           }
          },
          "ternary": {
           "aaxis": {
            "gridcolor": "white",
            "linecolor": "white",
            "ticks": ""
           },
           "baxis": {
            "gridcolor": "white",
            "linecolor": "white",
            "ticks": ""
           },
           "bgcolor": "#E5ECF6",
           "caxis": {
            "gridcolor": "white",
            "linecolor": "white",
            "ticks": ""
           }
          },
          "title": {
           "x": 0.05
          },
          "xaxis": {
           "automargin": true,
           "gridcolor": "white",
           "linecolor": "white",
           "ticks": "",
           "title": {
            "standoff": 15
           },
           "zerolinecolor": "white",
           "zerolinewidth": 2
          },
          "yaxis": {
           "automargin": true,
           "gridcolor": "white",
           "linecolor": "white",
           "ticks": "",
           "title": {
            "standoff": 15
           },
           "zerolinecolor": "white",
           "zerolinewidth": 2
          }
         }
        },
        "title": {
         "font": {
          "size": 18
         },
         "text": "P50 Yield Relative to Year 1"
        },
        "width": 900,
        "xaxis": {
         "dtick": 1,
         "linecolor": "black",
         "linewidth": 1,
         "mirror": true,
         "ticks": "outside",
         "title": {
          "text": "Year"
         }
        },
        "yaxis": {
         "gridcolor": "LightGrey",
         "gridwidth": 0.1,
         "linecolor": "black",
         "linewidth": 1,
         "mirror": true,
         "range": [
          0.9179999999999999,
          1.028
         ],
         "showgrid": true,
         "ticks": "outside",
         "title": {
          "text": "Relative P50 yield"
         }
        }
       }
      }
     },
     "metadata": {},
     "output_type": "display_data"
    },
    {
     "data": {
      "application/vnd.jupyter.widget-view+json": {
       "model_id": "81e83d2bb0824c46960da7c1f42098b8",
       "version_major": 2,
       "version_minor": 0
      },
      "text/plain": [
       "interactive(children=(IntSlider(value=1, description='Year:', max=12, min=1), Output()), _dom_classes=('widget…"
      ]
     },
     "metadata": {},
     "output_type": "display_data"
    }
   ],
   "source": [
    "year_one_yield = 1              # Change this to plot absolute yields, if you know what the first year yield should be in MWh\n",
    "plot_yearly_P50_Values(summary, year_one_yield=year_one_yield)\n",
    "plot_interactive_histogram(summary, p_min=p_min, p_delta=p_delta, year_one_yield=year_one_yield)"
   ]
  },
  {
   "cell_type": "code",
   "execution_count": 29,
   "id": "Rg-R3tzRyEqq",
   "metadata": {
    "colab": {
     "base_uri": "https://localhost:8080/",
     "height": 542
    },
    "executionInfo": {
     "elapsed": 5,
     "status": "ok",
     "timestamp": 1757652256684,
     "user": {
      "displayName": "Solomon Freer",
      "userId": "07757358301173662182"
     },
     "user_tz": -600
    },
    "id": "Rg-R3tzRyEqq",
    "outputId": "dfee6719-7a27-455e-9eb0-c93dc67b7b90"
   },
   "outputs": [
    {
     "data": {
      "application/vnd.plotly.v1+json": {
       "config": {
        "plotlyServerURL": "https://plot.ly"
       },
       "data": [
        {
         "mode": "lines+markers",
         "name": "P90",
         "type": "scatter",
         "x": [
          1,
          2,
          3,
          4,
          5,
          6,
          7,
          8,
          9,
          10,
          11,
          12
         ],
         "xaxis": "x",
         "y": [
          0.892382346243739,
          0.8834553184211779,
          0.8791497686663747,
          0.8723926838366951,
          0.866745888282115,
          0.8685397133070536,
          0.8662273196086757,
          0.8578636881496912,
          0.8546522019395787,
          0.8423920030312179,
          0.8466058676052175,
          0.8430895167214381
         ],
         "yaxis": "y"
        },
        {
         "mode": "lines+markers",
         "name": "P95",
         "type": "scatter",
         "x": [
          1,
          2,
          3,
          4,
          5,
          6,
          7,
          8,
          9,
          10,
          11,
          12
         ],
         "xaxis": "x",
         "y": [
          0.8584418141234818,
          0.8488968126981759,
          0.8540730153751128,
          0.84528841824782,
          0.8313265958847444,
          0.8391780211631469,
          0.8339918166950484,
          0.8288943531306824,
          0.8201224448984671,
          0.8181953630376101,
          0.8191303098723279,
          0.8120593680350371
         ],
         "yaxis": "y"
        }
       ],
       "layout": {
        "font": {
         "size": 16
        },
        "images": [
         {
          "sizex": 0.2,
          "sizey": 0.2,
          "source": "data:image/svg+xml;base64,PHN2ZyB3aWR0aD0iMjU1IiBoZWlnaHQ9IjcwIiB2aWV3Qm94PSIwIDAgMjU1IDcwIiBmaWxsPSJub25lIiB4bWxucz0iaHR0cDovL3d3dy53My5vcmcvMjAwMC9zdmciPgo8ZyBjbGlwLXBhdGg9InVybCgjY2xpcDBfMzk3XzM2NjIpIj4KPHBhdGggZD0iTTE3NS41MzEgMzcuMDA2QzE3Ni42NiAzOC4yODA2IDE3Ny4yMjYgMzkuODYwMiAxNzcuMjI2IDQxLjc0NDdDMTc3LjIyNiA0My4yOTggMTc2LjgzIDQ0LjY3NSAxNzYuMDQxIDQ1Ljg3MzRDMTc1LjI1IDQ3LjA3MTggMTc0LjE1OCA0OC4wMDgxIDE3Mi43NjQgNDguNjgyM0MxNzEuMzY5IDQ5LjM1NjUgMTY5Ljc1NyA0OS42OTQ4IDE2Ny45MjMgNDkuNjk0OEMxNjYuMDkgNDkuNjk0OCAxNjQuNTA4IDQ5LjM1NjUgMTYzLjAyNiA0OC42ODIzQzE2MS41NDUgNDguMDA4MSAxNjAuMjg5IDQ3LjA4MzcgMTU5LjI2MSA0NS45MTE1QzE1OC4yMzEgNDQuNzM5NCAxNTcuNDkxIDQzLjQyNjcgMTU3LjA0IDQxLjk3NThMMTYwLjI0MiA0MC42MzY4QzE2MC45MjEgNDIuNDcxMyAxNjEuOTMgNDMuODc5MyAxNjMuMjczIDQ0Ljg2MDlDMTY0LjYxNiA0NS44NDI0IDE2Ni4xOTEgNDYuMzMzMiAxNjguMDAxIDQ2LjMzMzJDMTY5LjEwNCA0Ni4zMzMyIDE3MC4wNzEgNDYuMTU0NSAxNzAuOSA0NS43OTcyQzE3MS43MjggNDUuNDM5OCAxNzIuMzc0IDQ0LjkzNzEgMTcyLjgzOSA0NC4yODY3QzE3My4zMDQgNDMuNjM2MyAxNzMuNTM2IDQyLjg3ODcgMTczLjUzNiA0Mi4wMTE1QzE3My41MzYgNDAuODEzMSAxNzMuMjAzIDM5Ljg2NDkgMTcyLjUzOCAzOS4xNjQ1QzE3MS44NzQgMzguNDY0IDE3MC45IDM3LjkzNTIgMTY5LjYyIDM3LjU3NzhMMTY0LjQ2MSAzNS45NzJDMTYyLjQyOCAzNS4zMzU5IDE2MC44NjkgMzQuMzI4MSAxNTkuNzkyIDMyLjk1MzVDMTU4LjcxMiAzMS41NzY0IDE1OC4xNzIgMjkuOTk2OSAxNTguMTcyIDI4LjIxNDhDMTU4LjE3MiAyNi42NjE1IDE1OC41NDMgMjUuMjkxNiAxNTkuMjgyIDI0LjEwNTFDMTYwLjAyMiAyMi45MjExIDE2MS4wNTIgMjEuOTg5NSAxNjIuMzcxIDIxLjMxNTNDMTYzLjY4OCAyMC42NDExIDE2NS4xODggMjAuMzAyOCAxNjYuODcyIDIwLjMwMjhDMTY4LjU1NSAyMC4zMDI4IDE3MC4wNzggMjAuNjA3NyAxNzEuNDQ3IDIxLjIyQzE3Mi44MTUgMjEuODMyMyAxNzMuOTc1IDIyLjY1NDIgMTc0LjkzIDIzLjY4NThDMTc1Ljg4MyAyNC43MTc0IDE3Ni41ODggMjUuODk2NyAxNzcuMDQxIDI3LjIyMTRMMTczLjg3NiAyOC41NjAzQzE3My4yNzMgMjYuOTU0NSAxNzIuMzY5IDI1LjczNzEgMTcxLjE2NSAyNC45MTA0QzE2OS45NjEgMjQuMDgzNyAxNjguNTQxIDIzLjY2OTEgMTY2LjkwOSAyMy42NjkxQzE2NS45MDQgMjMuNjY5MSAxNjUuMDE5IDIzLjg0MDcgMTY0LjI1NCAyNC4xODYxQzE2My40ODkgMjQuNTI5MiAxNjIuODk3IDI1LjAyNzEgMTYyLjQ4NCAyNS42Nzc1QzE2Mi4wNzEgMjYuMzI3OSAxNjEuODYyIDI3LjA5NzUgMTYxLjg2MiAyNy45OTA5QzE2MS44NjIgMjkuMDM2OCAxNjIuMTg4IDI5Ljk2NTkgMTYyLjg0MSAzMC43ODA3QzE2My40OTQgMzEuNTk1NSAxNjQuNDg0IDMyLjIxOTcgMTY1LjgxOCAzMi42NTMzTDE3MC41MjQgMzQuMDY4NUMxNzIuNzMzIDM0Ljc1NyAxNzQuNDAyIDM1LjczODUgMTc1LjUzNCAzNy4wMTA4TDE3NS41MzEgMzcuMDA2Wk0yMDcuNDE5IDQ5LjIzNzRIMjEwLjkyMlYyMC4zMDI4SDIwNy40MTlWNDkuMjM3NFpNMjU1IDM4LjA3ODFDMjU1IDM4LjM1OTIgMjU0Ljk4MSAzOC42NzEzIDI1NC45NDQgMzkuMDE0NEMyNTQuOTA2IDM5LjM1NzUgMjU0Ljg2MSAzOS42ODM5IDI1NC44MTIgMzkuOTg4OEgyMzkuMjgxQzIzOS4zMjggNDEuMDU2MSAyMzkuNTY1IDQyLjAxODYgMjM5Ljk5MyA0Mi44NzM5QzI0MC41NTggNDQuMDA4IDI0MS4zNjEgNDQuODg3MSAyNDIuNDAzIDQ1LjUxMTNDMjQzLjQ0NiA0Ni4xMzU1IDI0NC41ODIgNDYuNDQ3NiAyNDUuODEyIDQ2LjQ0NzZDMjQ3LjE2OSA0Ni40NDc2IDI0OC4zMSA0Ni4xMjgzIDI0OS4yMzkgNDUuNDkyMkMyNTAuMTY5IDQ0Ljg1NjEgMjUwLjkyIDQ0LjAzODkgMjUxLjUgNDMuMDQ1NUwyNTQuNDM3IDQ0LjU3NUMyNTQuMDM1IDQ1LjUxODQgMjUzLjQxMyA0Ni4zNzg1IDI1Mi41NzMgNDcuMTU1MkMyNTEuNzMyIDQ3LjkzMTggMjUwLjczOSA0OC41NTEzIDI0OS41OTggNDkuMDA4N0MyNDguNDU1IDQ5LjQ2NjEgMjQ3LjE4MyA0OS42OTcyIDI0NS43NzcgNDkuNjk3MkMyNDMuODE5IDQ5LjY5NzIgMjQyLjA3MiA0OS4yMjU1IDI0MC41NDIgNDguMjgyMUMyMzkuMDExIDQ3LjM0MSAyMzcuODA1IDQ2LjA0NzMgMjM2LjkyNyA0NC40MDM1QzIzNi4wNDcgNDIuNzU5NiAyMzUuNjEgNDAuOTIwMyAyMzUuNjEgMzguODgxQzIzNS42MSAzNi44NDE2IDIzNi4wNDIgMzQuOTgzMyAyMzYuOTA4IDMzLjM3NzZDMjM3Ljc3NCAzMS43NzE4IDIzOC45NTUgMzAuNTA0MyAyNDAuNDQ4IDI5LjU3NTJDMjQxLjk0MSAyOC42NDYgMjQzLjYxNyAyOC4xNzkxIDI0NS40NzYgMjguMTc5MUMyNDYuOTgzIDI4LjE3OTEgMjQ4LjMxOSAyOC40NTMxIDI0OS40ODggMjkuMDAxQzI1MC42NTUgMjkuNTQ5IDI1MS42NDggMzAuMjg3NSAyNTIuNDYyIDMxLjIxNjdDMjUzLjI3NyAzMi4xNDgyIDI1My45MDYgMzMuMjAzNiAyNTQuMzQ1IDM0LjM5MDFDMjU0Ljc4NCAzNS41NzQyIDI1NS4wMDUgMzYuODAzNSAyNTUuMDA1IDM4LjA3ODFIMjU1Wk0yMzkuOTU1IDM0Ljg4NTZDMjM5LjY2MiAzNS41MDUxIDIzOS40NjQgMzYuMTg2NCAyMzkuMzYxIDM2LjkyOThIMjUxLjIyOEMyNTEuMjExIDM2LjE0NTkgMjUxLjA1MiAzNS40MTkzIDI1MC43NDYgMzQuNzUyMkMyNTAuMjcgMzMuNzA4NyAyNDkuNTY2IDMyLjg3OTYgMjQ4LjYzOCAzMi4yNjczQzI0Ny43MDkgMzEuNjU1MSAyNDYuNjU1IDMxLjM1MDEgMjQ1LjQ3NCAzMS4zNTAxQzI0NC4yOTMgMzEuMzUwMSAyNDMuMjEzIDMxLjY1NTEgMjQyLjIzNCAzMi4yNjczQzI0MS4yNTYgMzIuODc5NiAyNDAuNDk1IDMzLjc1MTYgMjM5Ljk1NSAzNC44ODU2Wk0yMDEuMDA2IDMzLjM3NTJDMjAxLjkyMiAzNC45ODA5IDIwMi4zODIgMzYuODI3MyAyMDIuMzgyIDM4LjkxNjdDMjAyLjM4MiA0MS4wMDYxIDIwMS45MDUgNDIuODU5NiAyMDAuOTUgNDQuNDc3M0MxOTkuOTk0IDQ2LjA5NSAxOTguNzM0IDQ3LjM2OTYgMTk3LjE2NiA0OC4yOTg3QzE5NS41OTUgNDkuMjI3OSAxOTMuODU4IDQ5LjY5MjUgMTkxLjk1IDQ5LjY5MjVDMTkwLjA0MSA0OS42OTI1IDE4OC4yMjIgNDkuMjI3OSAxODYuNjQgNDguMjk4N0MxODUuMDU3IDQ3LjM2OTYgMTgzLjgwMSA0Ni4wODc4IDE4Mi44NzQgNDQuNDU4MkMxODEuOTQ1IDQyLjgyODcgMTgxLjQ4IDQwLjk3OTkgMTgxLjQ4IDM4LjkxNjdDMTgxLjQ4IDM2Ljg1MzUgMTgxLjkzOCAzNS4wMTkxIDE4Mi44NTUgMzMuNDEzM0MxODMuNzcxIDMxLjgwNzUgMTg1LjAyIDMwLjUzMjkgMTg2LjYwMiAyOS41OTE5QzE4OC4xODQgMjguNjQ4NCAxODkuOTY2IDI4LjE3NjcgMTkxLjk1IDI4LjE3NjdDMTkzLjkzMyAyOC4xNzY3IDE5NS42NzcgMjguNjQxMyAxOTcuMjU5IDI5LjU3MjhDMTk4Ljg0MiAzMC41MDQzIDIwMC4wOTEgMzEuNzY5NCAyMDEuMDA2IDMzLjM3NTJaTTE5OC42NTIgMzguOTE5MUMxOTguNjUyIDM3LjUxODIgMTk4LjM1NiAzNi4yNzQ2IDE5Ny43NjcgMzUuMTkzQzE5Ny4xNzUgMzQuMTExMyAxOTYuMzcyIDMzLjI0NDEgMTk1LjM1NiAzMi41OTM3QzE5NC4zMzkgMzEuOTQzMyAxOTMuMjAzIDMxLjYxOTMgMTkxLjk0NyAzMS42MTkzQzE5MC42OTEgMzEuNjE5MyAxODkuNTE4IDMxLjk0MzMgMTg4LjUwMSAzMi41OTM3QzE4Ny40ODUgMzMuMjQ0MSAxODYuNjc1IDM0LjEwOSAxODYuMDcxIDM1LjE5M0MxODUuNDY4IDM2LjI3NyAxODUuMTY4IDM3LjUxODIgMTg1LjE2OCAzOC45MTkxQzE4NS4xNjggNDAuMzIgMTg1LjQ2OCA0MS41NDQ1IDE4Ni4wNzEgNDIuNjY0M0MxODYuNjc1IDQzLjc4NjQgMTg3LjQ4NSA0NC42NjU1IDE4OC41MDEgNDUuMzAxNkMxODkuNTE4IDQ1LjkzNzcgMTkwLjY2OCA0Ni4yNTcgMTkxLjk0NyA0Ni4yNTdDMTkzLjIyNyA0Ni4yNTcgMTk0LjMzOSA0NS45Mzc3IDE5NS4zNTYgNDUuMzAxNkMxOTYuMzcyIDQ0LjY2NTUgMTk3LjE3NSA0My43ODY0IDE5Ny43NjcgNDIuNjY0M0MxOTguMzU2IDQxLjU0MjIgMTk4LjY1MiA0MC4yOTM4IDE5OC42NTIgMzguOTE5MVpNMjI0LjE3NSA0NC4yMTUyTDIxOC40ODggMjguNjM2NUgyMTQuNTdMMjIyLjUxNiA0OS4yMzc0SDIyNS44M0wyMzMuODE0IDI4LjYzNjVIMjI5Ljg5NkwyMjQuMTczIDQ0LjIxNTJIMjI0LjE3NVpNMTQ4LjgzOCAyOS4xNzI2QzE0Ny42OTUgMjguNTEwMiAxNDYuMzk3IDI4LjE3OTEgMTQ0Ljk0MiAyOC4xNzkxQzE0My40ODYgMjguMTc5MSAxNDIuMTIyIDI4LjU0MzYgMTQxLjAwNSAyOS4yNjc5QzE0MC4yMzcgMjkuNzY1OCAxMzkuNjE4IDMwLjQwNDMgMTM5LjE0MSAzMS4xNzM4VjI4LjYzNjVIMTM1LjcxNFY0OS4yMzc0SDEzOS4yMTZWMzcuMDQ0MUMxMzkuMjE2IDM1LjkyMiAxMzkuNDMgMzQuOTYxOSAxMzkuODU3IDM0LjE1OUMxNDAuMjg0IDMzLjM1NjEgMTQwLjg2NiAzMi43MzE5IDE0MS42MDggMzIuMjg2NEMxNDIuMzQ4IDMxLjg0MDkgMTQzLjE5NSAzMS42MTY5IDE0NC4xNTEgMzEuNjE2OUMxNDUuMTA2IDMxLjYxNjkgMTQ1Ljk1MSAzMS44NDA5IDE0Ni42OTMgMzIuMjg2NEMxNDcuNDMyIDMyLjczMTkgMTQ4LjAwNSAzMy4zNTEzIDE0OC40MDYgMzQuMTM5OUMxNDguODA4IDM0LjkzMDkgMTQ5LjAxIDM1Ljg5ODIgMTQ5LjAxIDM3LjA0NDFWNDkuMjM3NEgxNTIuNTVWMzUuODk4MkMxNTIuNTUgMzQuNDIxMSAxNTIuMjE2IDMzLjA5NjQgMTUxLjU1MiAzMS45MjQzQzE1MC44ODUgMzAuNzUyMSAxNDkuOTgyIDI5LjgzNDkgMTQ4Ljg0MSAyOS4xNzI2SDE0OC44MzhaTTEwMS4xNDUgMzQuMDYzN0w5Ni40Mzg0IDMyLjY0ODVDOTUuMTA3MyAzMi4yMTQ5IDk0LjExNjcgMzEuNTkwNyA5My40NjQxIDMwLjc3NTlDOTIuODExNSAyOS45NjExIDkyLjQ4NTIgMjkuMDI5NiA5Mi40ODUyIDI3Ljk4NjFDOTIuNDg1MiAyNy4wOTUxIDkyLjY5MTggMjYuMzIzMiA5My4xMDczIDI1LjY3MjhDOTMuNTIwNSAyNS4wMjI0IDk0LjExMiAyNC41MjY4IDk0Ljg3NzMgMjQuMTgxNEM5NS42NDI2IDIzLjgzODMgOTYuNTI3NiAyMy42NjQ0IDk3LjUzMjMgMjMuNjY0NEM5OS4xNjM4IDIzLjY2NDQgMTAwLjU4MiAyNC4wNzg5IDEwMS43ODggMjQuOTA1NkMxMDIuOTkyIDI1LjczNDcgMTAzLjg5NiAyNi45NDk4IDEwNC41IDI4LjU1NTVMMTA3LjY2NCAyNy4yMTY2QzEwNy4yMTEgMjUuODkyIDEwNi41MDkgMjQuNzEyNyAxMDUuNTU2IDIzLjY4MTFDMTA0LjYgMjIuNjQ5NSAxMDMuNDQxIDIxLjgyNzUgMTAyLjA3MiAyMS4yMTUyQzEwMC43MDQgMjAuNjAzIDk5LjE3NzggMjAuMjk4IDk3LjQ5NzEgMjAuMjk4Qzk1LjgxNjMgMjAuMjk4IDk0LjMxMzkgMjAuNjM2MyA5Mi45OTcgMjEuMzEwNUM5MS42ODAxIDIxLjk4NzEgOTAuNjQ5NSAyMi45MTYzIDg5LjkwNzcgMjQuMTAwNEM4OS4xNjU5IDI1LjI4NDQgODguNzk3NCAyNi42NTQzIDg4Ljc5NzQgMjguMjEwMUM4OC43OTc0IDI5Ljk5NDUgODkuMzM3MyAzMS41NzQxIDkwLjQxNzEgMzIuOTQ4N0M5MS40OTcgMzQuMzI1OCA5My4wNTMzIDM1LjMzMTEgOTUuMDg2MiAzNS45NjczTDEwMC4yNDYgMzcuNTczQzEwMS41MjggMzcuOTMwNCAxMDIuNDk5IDM4LjQ1OTMgMTAzLjE2NCAzOS4xNTk3QzEwMy44MjggMzkuODYwMiAxMDQuMTYyIDQwLjgxMDcgMTA0LjE2MiA0Mi4wMDY3QzEwNC4xNjIgNDIuODczOSAxMDMuOTI5IDQzLjYzMTUgMTAzLjQ2NCA0NC4yODE5QzEwMyA0NC45MzI0IDEwMi4zNTQgNDUuNDM1IDEwMS41MjUgNDUuNzkyNEMxMDAuNjk3IDQ2LjE0OTggOTkuNzI5NSA0Ni4zMjg1IDk4LjYyNjIgNDYuMzI4NUM5Ni44MTg2IDQ2LjMyODUgOTUuMjQzNSA0NS44Mzc3IDkzLjkwMDcgNDQuODU2MUM5Mi41NTggNDMuODc0NiA5MS41NDYyIDQyLjQ2NjUgOTAuODY3OCA0MC42MzIxTDg3LjY2NTkgNDEuOTcxQzg4LjExNjYgNDMuNDI0MyA4OC44NTg0IDQ0LjczNyA4OS44ODg5IDQ1LjkwNjhDOTAuOTE3MSA0Ny4wNzg5IDkyLjE3MyA0OC4wMDMzIDkzLjY1NDMgNDguNjc3NUM5NS4xMzU1IDQ5LjM1MTggOTYuNzY3IDQ5LjY5MDEgOTguNTUxMSA0OS42OTAxQzEwMC4zMzUgNDkuNjkwMSAxMDEuOTk3IDQ5LjM1MTggMTAzLjM5MiA0OC42Nzc1QzEwNC43ODYgNDguMDAzMyAxMDUuODc3IDQ3LjA2NyAxMDYuNjY5IDQ1Ljg2ODZDMTA3LjQ2IDQ0LjY3MDMgMTA3Ljg1NCA0My4yOTU2IDEwNy44NTQgNDEuNzM5OUMxMDcuODU0IDM5Ljg1NTQgMTA3LjI4OCAzOC4yNzU4IDEwNi4xNTkgMzcuMDAxMkMxMDUuMDMgMzUuNzI2NiAxMDMuMzU5IDM0Ljc0NTEgMTAxLjE1IDM0LjA1ODlMMTAxLjE0NSAzNC4wNjM3Wk0xMjYuMTcxIDQwLjgyOThDMTI2LjE3MSA0MS45NTE5IDEyNS45NjUgNDIuOTE5MiAxMjUuNTQ5IDQzLjczNEMxMjUuMTM2IDQ0LjU0ODggMTI0LjU1NiA0NS4xNzMgMTIzLjgxNyA0NS42MDY2QzEyMy4wNzUgNDYuMDQwMiAxMjIuMjI4IDQ2LjI1NyAxMjEuMjc0IDQ2LjI1N0MxMjAuMzIxIDQ2LjI1NyAxMTkuNDc0IDQ2LjA0MDIgMTE4LjczMiA0NS42MDY2QzExNy45OSA0NS4xNzMgMTE3LjQxNSA0NC41NzUgMTE3IDQzLjgxMDJDMTE2LjU4NCA0My4wNDU1IDExNi4zNzggNDIuMTU0NCAxMTYuMzc4IDQxLjEzNDhWMjguNjM2NUgxMTIuODc1VjQxLjUxODNDMTEyLjg3NSA0My4xMjQxIDExMy4xOTUgNDQuNTQ0IDExMy44MzUgNDUuNzgwNUMxMTQuNDc2IDQ3LjAxNyAxMTUuMzggNDcuOTc5NSAxMTYuNTQ3IDQ4LjY2NTZDMTE3LjcxMyA0OS4zNTQxIDExOS4wMjYgNDkuNjk3MiAxMjAuNDgzIDQ5LjY5NzJDMTIxLjk0MSA0OS42OTcyIDEyMy4yNzcgNDkuMzM1MSAxMjQuNDE4IDQ4LjYwODRDMTI1LjE5NSA0OC4xMTUzIDEyNS44MTIgNDcuNDg2MyAxMjYuMjgyIDQ2LjcyNjNWNDkuMjM3NEgxMjkuNzA5VjI4LjYzNjVIMTI2LjE2OVY0MC44Mjk4SDEyNi4xNzFaIiBmaWxsPSIjOUM5QzlDIi8+CjxwYXRoIGQ9Ik00MS43MDk3IDUwLjk3NjZMNTEuNjEzNiA0MC45MjUxQzUyLjk0MjMgMzkuNTc2NyA1Mi4wMDEgMzcuMjcwNSA1MC4xMjMgMzcuMjcwNUgyOC4yMDQ3QzI3LjUxOTMgMzcuMjcwNSAyNi44NjIgMzcuNTQ2OCAyNi4zNzYxIDM4LjAzNzZMMTYuNjI3MSA0Ny45MzE4QzE1LjI5ODQgNDkuMjgwMyAxNi4yMzk3IDUxLjU4NjUgMTguMTE3NyA1MS41ODY1SDQwLjI1NDNDNDAuNzk4OSA1MS41ODY1IDQxLjMyIDUxLjM2NzMgNDEuNzA1IDUwLjk3NjZNNDEuNzA5NyAzMi4zNzkzTDUxLjYxMzYgMjIuMzI3OEM1Mi45NDIzIDIwLjk3OTQgNTIuMDAxIDE4LjY3MzIgNTAuMTIzIDE4LjY3MzJIMjguMjA0N0MyNy41MTkzIDE4LjY3MzIgMjYuODYyIDE4Ljk0OTYgMjYuMzc2MSAxOS40NDI3TDE2LjYyNzEgMjkuMzM0NkMxNS4yOTg0IDMwLjY4MyAxNi4yMzk3IDMyLjk4OTIgMTguMTE3NyAzMi45ODkySDQwLjI1NDNDNDAuNzk4OSAzMi45ODkyIDQxLjMyIDMyLjc3IDQxLjcwNSAzMi4zNzkzTTMzLjk5MzYgMC41TDQ0LjI1NjcgOS44NTU4MUw1OC4wMzE2IDEwLjYwNjNMNTguNzcxIDI0LjU4NjRMNjcuOTg5NSAzNS4wMDI0TDU4Ljc3MSA0NS40MTg0TDU4LjAzMTYgNTkuMzk4NUw0NC4yNTY3IDYwLjE0OUwzMy45OTM2IDY5LjUwNDhMMjMuNzMwNSA2MC4xNDlMOS45NTU1OCA1OS4zOTg1TDkuMjE2MTMgNDUuNDE4NEwwIDM1TDkuMjE4NDggMjQuNTg0TDkuOTU3OTMgMTAuNjAzOUwyMy43MzI4IDkuODUzNDNMMzMuOTkzNiAwLjVaIiBmaWxsPSJ1cmwoI3BhaW50MF9saW5lYXJfMzk3XzM2NjIpIi8+CjwvZz4KPGRlZnM+CjxsaW5lYXJHcmFkaWVudCBpZD0icGFpbnQwX2xpbmVhcl8zOTdfMzY2MiIgeDE9Ii0wLjAzMTY2NzEiIHkxPSI2OS41MzI5IiB4Mj0iNjcuNzI0NSIgeTI9IjIuNzY5NzciIGdyYWRpZW50VW5pdHM9InVzZXJTcGFjZU9uVXNlIj4KPHN0b3Agc3RvcC1jb2xvcj0iI0QyMjI2QSIvPgo8c3RvcCBvZmZzZXQ9IjAuMTMiIHN0b3AtY29sb3I9IiNGRTY3MkUiLz4KPHN0b3Agb2Zmc2V0PSIwLjUiIHN0b3AtY29sb3I9IiNGRDlBMDgiLz4KPHN0b3Agb2Zmc2V0PSIwLjg3IiBzdG9wLWNvbG9yPSIjRkVCRjI0Ii8+CjwvbGluZWFyR3JhZGllbnQ+CjxjbGlwUGF0aCBpZD0iY2xpcDBfMzk3XzM2NjIiPgo8cmVjdCB3aWR0aD0iMjU1IiBoZWlnaHQ9IjY5IiBmaWxsPSJ3aGl0ZSIgdHJhbnNmb3JtPSJ0cmFuc2xhdGUoMCAwLjUpIi8+CjwvY2xpcFBhdGg+CjwvZGVmcz4KPC9zdmc+Cg==",
          "x": 0.4,
          "xanchor": "left",
          "xref": "paper",
          "y": 1.18,
          "yanchor": "top",
          "yref": "paper"
         }
        ],
        "paper_bgcolor": "white",
        "plot_bgcolor": "white",
        "showlegend": true,
        "template": {
         "data": {
          "bar": [
           {
            "error_x": {
             "color": "#2a3f5f"
            },
            "error_y": {
             "color": "#2a3f5f"
            },
            "marker": {
             "line": {
              "color": "#E5ECF6",
              "width": 0.5
             },
             "pattern": {
              "fillmode": "overlay",
              "size": 10,
              "solidity": 0.2
             }
            },
            "type": "bar"
           }
          ],
          "barpolar": [
           {
            "marker": {
             "line": {
              "color": "#E5ECF6",
              "width": 0.5
             },
             "pattern": {
              "fillmode": "overlay",
              "size": 10,
              "solidity": 0.2
             }
            },
            "type": "barpolar"
           }
          ],
          "carpet": [
           {
            "aaxis": {
             "endlinecolor": "#2a3f5f",
             "gridcolor": "white",
             "linecolor": "white",
             "minorgridcolor": "white",
             "startlinecolor": "#2a3f5f"
            },
            "baxis": {
             "endlinecolor": "#2a3f5f",
             "gridcolor": "white",
             "linecolor": "white",
             "minorgridcolor": "white",
             "startlinecolor": "#2a3f5f"
            },
            "type": "carpet"
           }
          ],
          "choropleth": [
           {
            "colorbar": {
             "outlinewidth": 0,
             "ticks": ""
            },
            "type": "choropleth"
           }
          ],
          "contour": [
           {
            "colorbar": {
             "outlinewidth": 0,
             "ticks": ""
            },
            "colorscale": [
             [
              0,
              "#0d0887"
             ],
             [
              0.1111111111111111,
              "#46039f"
             ],
             [
              0.2222222222222222,
              "#7201a8"
             ],
             [
              0.3333333333333333,
              "#9c179e"
             ],
             [
              0.4444444444444444,
              "#bd3786"
             ],
             [
              0.5555555555555556,
              "#d8576b"
             ],
             [
              0.6666666666666666,
              "#ed7953"
             ],
             [
              0.7777777777777778,
              "#fb9f3a"
             ],
             [
              0.8888888888888888,
              "#fdca26"
             ],
             [
              1,
              "#f0f921"
             ]
            ],
            "type": "contour"
           }
          ],
          "contourcarpet": [
           {
            "colorbar": {
             "outlinewidth": 0,
             "ticks": ""
            },
            "type": "contourcarpet"
           }
          ],
          "heatmap": [
           {
            "colorbar": {
             "outlinewidth": 0,
             "ticks": ""
            },
            "colorscale": [
             [
              0,
              "#0d0887"
             ],
             [
              0.1111111111111111,
              "#46039f"
             ],
             [
              0.2222222222222222,
              "#7201a8"
             ],
             [
              0.3333333333333333,
              "#9c179e"
             ],
             [
              0.4444444444444444,
              "#bd3786"
             ],
             [
              0.5555555555555556,
              "#d8576b"
             ],
             [
              0.6666666666666666,
              "#ed7953"
             ],
             [
              0.7777777777777778,
              "#fb9f3a"
             ],
             [
              0.8888888888888888,
              "#fdca26"
             ],
             [
              1,
              "#f0f921"
             ]
            ],
            "type": "heatmap"
           }
          ],
          "heatmapgl": [
           {
            "colorbar": {
             "outlinewidth": 0,
             "ticks": ""
            },
            "colorscale": [
             [
              0,
              "#0d0887"
             ],
             [
              0.1111111111111111,
              "#46039f"
             ],
             [
              0.2222222222222222,
              "#7201a8"
             ],
             [
              0.3333333333333333,
              "#9c179e"
             ],
             [
              0.4444444444444444,
              "#bd3786"
             ],
             [
              0.5555555555555556,
              "#d8576b"
             ],
             [
              0.6666666666666666,
              "#ed7953"
             ],
             [
              0.7777777777777778,
              "#fb9f3a"
             ],
             [
              0.8888888888888888,
              "#fdca26"
             ],
             [
              1,
              "#f0f921"
             ]
            ],
            "type": "heatmapgl"
           }
          ],
          "histogram": [
           {
            "marker": {
             "pattern": {
              "fillmode": "overlay",
              "size": 10,
              "solidity": 0.2
             }
            },
            "type": "histogram"
           }
          ],
          "histogram2d": [
           {
            "colorbar": {
             "outlinewidth": 0,
             "ticks": ""
            },
            "colorscale": [
             [
              0,
              "#0d0887"
             ],
             [
              0.1111111111111111,
              "#46039f"
             ],
             [
              0.2222222222222222,
              "#7201a8"
             ],
             [
              0.3333333333333333,
              "#9c179e"
             ],
             [
              0.4444444444444444,
              "#bd3786"
             ],
             [
              0.5555555555555556,
              "#d8576b"
             ],
             [
              0.6666666666666666,
              "#ed7953"
             ],
             [
              0.7777777777777778,
              "#fb9f3a"
             ],
             [
              0.8888888888888888,
              "#fdca26"
             ],
             [
              1,
              "#f0f921"
             ]
            ],
            "type": "histogram2d"
           }
          ],
          "histogram2dcontour": [
           {
            "colorbar": {
             "outlinewidth": 0,
             "ticks": ""
            },
            "colorscale": [
             [
              0,
              "#0d0887"
             ],
             [
              0.1111111111111111,
              "#46039f"
             ],
             [
              0.2222222222222222,
              "#7201a8"
             ],
             [
              0.3333333333333333,
              "#9c179e"
             ],
             [
              0.4444444444444444,
              "#bd3786"
             ],
             [
              0.5555555555555556,
              "#d8576b"
             ],
             [
              0.6666666666666666,
              "#ed7953"
             ],
             [
              0.7777777777777778,
              "#fb9f3a"
             ],
             [
              0.8888888888888888,
              "#fdca26"
             ],
             [
              1,
              "#f0f921"
             ]
            ],
            "type": "histogram2dcontour"
           }
          ],
          "mesh3d": [
           {
            "colorbar": {
             "outlinewidth": 0,
             "ticks": ""
            },
            "type": "mesh3d"
           }
          ],
          "parcoords": [
           {
            "line": {
             "colorbar": {
              "outlinewidth": 0,
              "ticks": ""
             }
            },
            "type": "parcoords"
           }
          ],
          "pie": [
           {
            "automargin": true,
            "type": "pie"
           }
          ],
          "scatter": [
           {
            "fillpattern": {
             "fillmode": "overlay",
             "size": 10,
             "solidity": 0.2
            },
            "type": "scatter"
           }
          ],
          "scatter3d": [
           {
            "line": {
             "colorbar": {
              "outlinewidth": 0,
              "ticks": ""
             }
            },
            "marker": {
             "colorbar": {
              "outlinewidth": 0,
              "ticks": ""
             }
            },
            "type": "scatter3d"
           }
          ],
          "scattercarpet": [
           {
            "marker": {
             "colorbar": {
              "outlinewidth": 0,
              "ticks": ""
             }
            },
            "type": "scattercarpet"
           }
          ],
          "scattergeo": [
           {
            "marker": {
             "colorbar": {
              "outlinewidth": 0,
              "ticks": ""
             }
            },
            "type": "scattergeo"
           }
          ],
          "scattergl": [
           {
            "marker": {
             "colorbar": {
              "outlinewidth": 0,
              "ticks": ""
             }
            },
            "type": "scattergl"
           }
          ],
          "scattermapbox": [
           {
            "marker": {
             "colorbar": {
              "outlinewidth": 0,
              "ticks": ""
             }
            },
            "type": "scattermapbox"
           }
          ],
          "scatterpolar": [
           {
            "marker": {
             "colorbar": {
              "outlinewidth": 0,
              "ticks": ""
             }
            },
            "type": "scatterpolar"
           }
          ],
          "scatterpolargl": [
           {
            "marker": {
             "colorbar": {
              "outlinewidth": 0,
              "ticks": ""
             }
            },
            "type": "scatterpolargl"
           }
          ],
          "scatterternary": [
           {
            "marker": {
             "colorbar": {
              "outlinewidth": 0,
              "ticks": ""
             }
            },
            "type": "scatterternary"
           }
          ],
          "surface": [
           {
            "colorbar": {
             "outlinewidth": 0,
             "ticks": ""
            },
            "colorscale": [
             [
              0,
              "#0d0887"
             ],
             [
              0.1111111111111111,
              "#46039f"
             ],
             [
              0.2222222222222222,
              "#7201a8"
             ],
             [
              0.3333333333333333,
              "#9c179e"
             ],
             [
              0.4444444444444444,
              "#bd3786"
             ],
             [
              0.5555555555555556,
              "#d8576b"
             ],
             [
              0.6666666666666666,
              "#ed7953"
             ],
             [
              0.7777777777777778,
              "#fb9f3a"
             ],
             [
              0.8888888888888888,
              "#fdca26"
             ],
             [
              1,
              "#f0f921"
             ]
            ],
            "type": "surface"
           }
          ],
          "table": [
           {
            "cells": {
             "fill": {
              "color": "#EBF0F8"
             },
             "line": {
              "color": "white"
             }
            },
            "header": {
             "fill": {
              "color": "#C8D4E3"
             },
             "line": {
              "color": "white"
             }
            },
            "type": "table"
           }
          ]
         },
         "layout": {
          "annotationdefaults": {
           "arrowcolor": "#2a3f5f",
           "arrowhead": 0,
           "arrowwidth": 1
          },
          "autotypenumbers": "strict",
          "coloraxis": {
           "colorbar": {
            "outlinewidth": 0,
            "ticks": ""
           }
          },
          "colorscale": {
           "diverging": [
            [
             0,
             "#8e0152"
            ],
            [
             0.1,
             "#c51b7d"
            ],
            [
             0.2,
             "#de77ae"
            ],
            [
             0.3,
             "#f1b6da"
            ],
            [
             0.4,
             "#fde0ef"
            ],
            [
             0.5,
             "#f7f7f7"
            ],
            [
             0.6,
             "#e6f5d0"
            ],
            [
             0.7,
             "#b8e186"
            ],
            [
             0.8,
             "#7fbc41"
            ],
            [
             0.9,
             "#4d9221"
            ],
            [
             1,
             "#276419"
            ]
           ],
           "sequential": [
            [
             0,
             "#0d0887"
            ],
            [
             0.1111111111111111,
             "#46039f"
            ],
            [
             0.2222222222222222,
             "#7201a8"
            ],
            [
             0.3333333333333333,
             "#9c179e"
            ],
            [
             0.4444444444444444,
             "#bd3786"
            ],
            [
             0.5555555555555556,
             "#d8576b"
            ],
            [
             0.6666666666666666,
             "#ed7953"
            ],
            [
             0.7777777777777778,
             "#fb9f3a"
            ],
            [
             0.8888888888888888,
             "#fdca26"
            ],
            [
             1,
             "#f0f921"
            ]
           ],
           "sequentialminus": [
            [
             0,
             "#0d0887"
            ],
            [
             0.1111111111111111,
             "#46039f"
            ],
            [
             0.2222222222222222,
             "#7201a8"
            ],
            [
             0.3333333333333333,
             "#9c179e"
            ],
            [
             0.4444444444444444,
             "#bd3786"
            ],
            [
             0.5555555555555556,
             "#d8576b"
            ],
            [
             0.6666666666666666,
             "#ed7953"
            ],
            [
             0.7777777777777778,
             "#fb9f3a"
            ],
            [
             0.8888888888888888,
             "#fdca26"
            ],
            [
             1,
             "#f0f921"
            ]
           ]
          },
          "colorway": [
           "#636efa",
           "#EF553B",
           "#00cc96",
           "#ab63fa",
           "#FFA15A",
           "#19d3f3",
           "#FF6692",
           "#B6E880",
           "#FF97FF",
           "#FECB52"
          ],
          "font": {
           "color": "#2a3f5f"
          },
          "geo": {
           "bgcolor": "white",
           "lakecolor": "white",
           "landcolor": "#E5ECF6",
           "showlakes": true,
           "showland": true,
           "subunitcolor": "white"
          },
          "hoverlabel": {
           "align": "left"
          },
          "hovermode": "closest",
          "mapbox": {
           "style": "light"
          },
          "paper_bgcolor": "white",
          "plot_bgcolor": "#E5ECF6",
          "polar": {
           "angularaxis": {
            "gridcolor": "white",
            "linecolor": "white",
            "ticks": ""
           },
           "bgcolor": "#E5ECF6",
           "radialaxis": {
            "gridcolor": "white",
            "linecolor": "white",
            "ticks": ""
           }
          },
          "scene": {
           "xaxis": {
            "backgroundcolor": "#E5ECF6",
            "gridcolor": "white",
            "gridwidth": 2,
            "linecolor": "white",
            "showbackground": true,
            "ticks": "",
            "zerolinecolor": "white"
           },
           "yaxis": {
            "backgroundcolor": "#E5ECF6",
            "gridcolor": "white",
            "gridwidth": 2,
            "linecolor": "white",
            "showbackground": true,
            "ticks": "",
            "zerolinecolor": "white"
           },
           "zaxis": {
            "backgroundcolor": "#E5ECF6",
            "gridcolor": "white",
            "gridwidth": 2,
            "linecolor": "white",
            "showbackground": true,
            "ticks": "",
            "zerolinecolor": "white"
           }
          },
          "shapedefaults": {
           "line": {
            "color": "#2a3f5f"
           }
          },
          "ternary": {
           "aaxis": {
            "gridcolor": "white",
            "linecolor": "white",
            "ticks": ""
           },
           "baxis": {
            "gridcolor": "white",
            "linecolor": "white",
            "ticks": ""
           },
           "bgcolor": "#E5ECF6",
           "caxis": {
            "gridcolor": "white",
            "linecolor": "white",
            "ticks": ""
           }
          },
          "title": {
           "x": 0.05
          },
          "xaxis": {
           "automargin": true,
           "gridcolor": "white",
           "linecolor": "white",
           "ticks": "",
           "title": {
            "standoff": 15
           },
           "zerolinecolor": "white",
           "zerolinewidth": 2
          },
          "yaxis": {
           "automargin": true,
           "gridcolor": "white",
           "linecolor": "white",
           "ticks": "",
           "title": {
            "standoff": 15
           },
           "zerolinecolor": "white",
           "zerolinewidth": 2
          }
         }
        },
        "title": {
         "font": {
          "size": 18
         },
         "text": "P-values Relative to Year 1 P50 Yield"
        },
        "width": 900,
        "xaxis": {
         "anchor": "y",
         "domain": [
          0,
          1
         ],
         "linecolor": "black",
         "linewidth": 1,
         "mirror": true,
         "ticks": "outside",
         "title": {
          "text": "Year"
         },
         "type": "category"
        },
        "xaxis2": {
         "linecolor": "black",
         "linewidth": 1,
         "mirror": true,
         "ticks": "outside",
         "type": "category"
        },
        "yaxis": {
         "anchor": "x",
         "domain": [
          0,
          1
         ],
         "gridcolor": "LightGrey",
         "gridwidth": 0.1,
         "linecolor": "black",
         "linewidth": 1,
         "mirror": true,
         "showgrid": true,
         "ticks": "outside",
         "title": {
          "text": "Relative PXX yield"
         }
        }
       }
      }
     },
     "metadata": {},
     "output_type": "display_data"
    }
   ],
   "source": [
    "plot_pvalues(summary, year_one_yield=year_one_yield)"
   ]
  },
  {
   "cell_type": "markdown",
   "id": "SxyhOOuKmIGH",
   "metadata": {
    "id": "SxyhOOuKmIGH"
   },
   "source": [
    "## Export your results"
   ]
  },
  {
   "cell_type": "code",
   "execution_count": 30,
   "id": "8R4z-dreEVMa",
   "metadata": {
    "colab": {
     "base_uri": "https://localhost:8080/"
    },
    "executionInfo": {
     "elapsed": 46,
     "status": "ok",
     "timestamp": 1755653244781,
     "user": {
      "displayName": "Solomon Freer",
      "userId": "07757358301173662182"
     },
     "user_tz": -600
    },
    "id": "8R4z-dreEVMa",
    "outputId": "495daec9-bc07-4b3c-b7ee-1a1d17de08c1"
   },
   "outputs": [
    {
     "name": "stdout",
     "output_type": "stream",
     "text": [
      "Summary data saved to '251009_P90 summary_12x1000.xlsx'\n"
     ]
    }
   ],
   "source": [
    "date_prefix = datetime.date.today().strftime(\"%y%m%d_\")\n",
    "filename = date_prefix + f\"P90 summary_{N_YEARS}x{N_SIMS}\"\n",
    "export_to_excel(summary, filename, p_min=p_min, p_delta=p_delta, used_inputs=used_inputs, dist_list=distribution_list)"
   ]
  },
  {
   "cell_type": "markdown",
   "id": "LgrmYuJtZPXn",
   "metadata": {
    "id": "LgrmYuJtZPXn"
   },
   "source": [
    "## Further analysis\n",
    "\n",
    "Continue your analysis below"
   ]
  },
  {
   "cell_type": "code",
   "execution_count": null,
   "id": "cMVZs7UgtB-9",
   "metadata": {
    "id": "cMVZs7UgtB-9"
   },
   "outputs": [],
   "source": []
  }
 ],
 "metadata": {
  "colab": {
   "provenance": [
    {
     "file_id": "1uejlEdwyHqixTw9Dp3oYArjU6sKN8-th",
     "timestamp": 1754944624735
    }
   ]
  },
  "kernelspec": {
   "display_name": "base",
   "language": "python",
   "name": "python3"
  },
  "language_info": {
   "codemirror_mode": {
    "name": "ipython",
    "version": 3
   },
   "file_extension": ".py",
   "mimetype": "text/x-python",
   "name": "python",
   "nbconvert_exporter": "python",
   "pygments_lexer": "ipython3",
   "version": "3.13.5"
  },
  "widgets": {
   "application/vnd.jupyter.widget-state+json": {
    "01566dea1e754185b5eb6be57fb3e65d": {
     "model_module": "@jupyter-widgets/controls",
     "model_module_version": "1.5.0",
     "model_name": "DescriptionStyleModel",
     "state": {
      "_model_module": "@jupyter-widgets/controls",
      "_model_module_version": "1.5.0",
      "_model_name": "DescriptionStyleModel",
      "_view_count": null,
      "_view_module": "@jupyter-widgets/base",
      "_view_module_version": "1.2.0",
      "_view_name": "StyleView",
      "description_width": ""
     }
    },
    "01cca1f76dfc469f9abb9ba3c2a2ca7d": {
     "model_module": "@jupyter-widgets/controls",
     "model_module_version": "1.5.0",
     "model_name": "FloatTextModel",
     "state": {
      "_dom_classes": [],
      "_model_module": "@jupyter-widgets/controls",
      "_model_module_version": "1.5.0",
      "_model_name": "FloatTextModel",
      "_view_count": null,
      "_view_module": "@jupyter-widgets/controls",
      "_view_module_version": "1.5.0",
      "_view_name": "FloatTextView",
      "continuous_update": false,
      "description": "value:",
      "description_tooltip": null,
      "disabled": false,
      "layout": "IPY_MODEL_634fbed189ae4b0ba539ace26e36dfca",
      "step": 0.1,
      "style": "IPY_MODEL_d7ee9756ee9343ebad76c82bed42642d",
      "value": 1
     }
    },
    "03cfe615c9fe4f618f541782cbc243ff": {
     "model_module": "@jupyter-widgets/controls",
     "model_module_version": "1.5.0",
     "model_name": "FloatTextModel",
     "state": {
      "_dom_classes": [],
      "_model_module": "@jupyter-widgets/controls",
      "_model_module_version": "1.5.0",
      "_model_name": "FloatTextModel",
      "_view_count": null,
      "_view_module": "@jupyter-widgets/controls",
      "_view_module_version": "1.5.0",
      "_view_name": "FloatTextView",
      "continuous_update": false,
      "description": "x_max:",
      "description_tooltip": null,
      "disabled": false,
      "layout": "IPY_MODEL_404c8f29aad145f89cddc0e8fbc241b0",
      "step": 0.1,
      "style": "IPY_MODEL_5b50c46b7d3a4eea8a7fdf495659274e",
      "value": 2
     }
    },
    "04ecb642cccc4837baa99f00522a447a": {
     "model_module": "@jupyter-widgets/controls",
     "model_module_version": "1.5.0",
     "model_name": "DescriptionStyleModel",
     "state": {
      "_model_module": "@jupyter-widgets/controls",
      "_model_module_version": "1.5.0",
      "_model_name": "DescriptionStyleModel",
      "_view_count": null,
      "_view_module": "@jupyter-widgets/base",
      "_view_module_version": "1.2.0",
      "_view_name": "StyleView",
      "description_width": ""
     }
    },
    "0c17d50bd63f40af98f2fe7437704117": {
     "model_module": "@jupyter-widgets/base",
     "model_module_version": "1.2.0",
     "model_name": "LayoutModel",
     "state": {
      "_model_module": "@jupyter-widgets/base",
      "_model_module_version": "1.2.0",
      "_model_name": "LayoutModel",
      "_view_count": null,
      "_view_module": "@jupyter-widgets/base",
      "_view_module_version": "1.2.0",
      "_view_name": "LayoutView",
      "align_content": null,
      "align_items": null,
      "align_self": null,
      "border": null,
      "bottom": null,
      "display": "none",
      "flex": null,
      "flex_flow": null,
      "grid_area": null,
      "grid_auto_columns": null,
      "grid_auto_flow": null,
      "grid_auto_rows": null,
      "grid_column": null,
      "grid_gap": null,
      "grid_row": null,
      "grid_template_areas": null,
      "grid_template_columns": null,
      "grid_template_rows": null,
      "height": null,
      "justify_content": null,
      "justify_items": null,
      "left": null,
      "margin": null,
      "max_height": null,
      "max_width": null,
      "min_height": null,
      "min_width": null,
      "object_fit": null,
      "object_position": null,
      "order": null,
      "overflow": null,
      "overflow_x": null,
      "overflow_y": null,
      "padding": null,
      "right": null,
      "top": null,
      "visibility": null,
      "width": "70%"
     }
    },
    "0dd1f17d8fde4a1c80a30ffadd3f1c67": {
     "model_module": "@jupyter-widgets/controls",
     "model_module_version": "1.5.0",
     "model_name": "DescriptionStyleModel",
     "state": {
      "_model_module": "@jupyter-widgets/controls",
      "_model_module_version": "1.5.0",
      "_model_name": "DescriptionStyleModel",
      "_view_count": null,
      "_view_module": "@jupyter-widgets/base",
      "_view_module_version": "1.2.0",
      "_view_name": "StyleView",
      "description_width": ""
     }
    },
    "12c2126172ae40ef948547b3dfd763b1": {
     "model_module": "@jupyter-widgets/controls",
     "model_module_version": "1.5.0",
     "model_name": "FloatTextModel",
     "state": {
      "_dom_classes": [],
      "_model_module": "@jupyter-widgets/controls",
      "_model_module_version": "1.5.0",
      "_model_name": "FloatTextModel",
      "_view_count": null,
      "_view_module": "@jupyter-widgets/controls",
      "_view_module_version": "1.5.0",
      "_view_name": "FloatTextView",
      "continuous_update": false,
      "description": "x_min:",
      "description_tooltip": null,
      "disabled": false,
      "layout": "IPY_MODEL_8b615f133dbc492b95780e2096cfe179",
      "step": 0.1,
      "style": "IPY_MODEL_9ab92614c9d24cdf962912fbb42fc58c",
      "value": 0
     }
    },
    "17b6047d99d34076b59ee6cf696900ad": {
     "model_module": "@jupyter-widgets/controls",
     "model_module_version": "1.5.0",
     "model_name": "IntSliderModel",
     "state": {
      "_dom_classes": [],
      "_model_module": "@jupyter-widgets/controls",
      "_model_module_version": "1.5.0",
      "_model_name": "IntSliderModel",
      "_view_count": null,
      "_view_module": "@jupyter-widgets/controls",
      "_view_module_version": "1.5.0",
      "_view_name": "IntSliderView",
      "continuous_update": true,
      "description": "Day of year:",
      "description_tooltip": null,
      "disabled": false,
      "layout": "IPY_MODEL_85f9e286b65a4fac8c81511ba7ea4886",
      "max": 365,
      "min": 1,
      "orientation": "horizontal",
      "readout": true,
      "readout_format": "d",
      "step": 1,
      "style": "IPY_MODEL_497e22a63315470e8cd894a82b081b1a",
      "value": 57
     }
    },
    "1f510be95d43417b820c678ba091b352": {
     "model_module": "@jupyter-widgets/base",
     "model_module_version": "1.2.0",
     "model_name": "LayoutModel",
     "state": {
      "_model_module": "@jupyter-widgets/base",
      "_model_module_version": "1.2.0",
      "_model_name": "LayoutModel",
      "_view_count": null,
      "_view_module": "@jupyter-widgets/base",
      "_view_module_version": "1.2.0",
      "_view_name": "LayoutView",
      "align_content": null,
      "align_items": null,
      "align_self": null,
      "border": null,
      "bottom": null,
      "display": "",
      "flex": null,
      "flex_flow": null,
      "grid_area": null,
      "grid_auto_columns": null,
      "grid_auto_flow": null,
      "grid_auto_rows": null,
      "grid_column": null,
      "grid_gap": null,
      "grid_row": null,
      "grid_template_areas": null,
      "grid_template_columns": null,
      "grid_template_rows": null,
      "height": null,
      "justify_content": null,
      "justify_items": null,
      "left": null,
      "margin": null,
      "max_height": null,
      "max_width": null,
      "min_height": null,
      "min_width": null,
      "object_fit": null,
      "object_position": null,
      "order": null,
      "overflow": null,
      "overflow_x": null,
      "overflow_y": null,
      "padding": null,
      "right": null,
      "top": null,
      "visibility": null,
      "width": "70%"
     }
    },
    "1fe7cbca377f495fadfff511a2d1f835": {
     "model_module": "@jupyter-widgets/controls",
     "model_module_version": "1.5.0",
     "model_name": "VBoxModel",
     "state": {
      "_dom_classes": [],
      "_model_module": "@jupyter-widgets/controls",
      "_model_module_version": "1.5.0",
      "_model_name": "VBoxModel",
      "_view_count": null,
      "_view_module": "@jupyter-widgets/controls",
      "_view_module_version": "1.5.0",
      "_view_name": "VBoxView",
      "box_style": "",
      "children": [
       "IPY_MODEL_c9e5cf0c56f34ad7b481171a9243f849",
       "IPY_MODEL_a9406355b3564238978c82a7f0465441"
      ],
      "layout": "IPY_MODEL_bab86dd017c54823b01de015a91dbabb"
     }
    },
    "268ef1e7025d48feb91a9fcbe6656c33": {
     "model_module": "@jupyter-widgets/base",
     "model_module_version": "1.2.0",
     "model_name": "LayoutModel",
     "state": {
      "_model_module": "@jupyter-widgets/base",
      "_model_module_version": "1.2.0",
      "_model_name": "LayoutModel",
      "_view_count": null,
      "_view_module": "@jupyter-widgets/base",
      "_view_module_version": "1.2.0",
      "_view_name": "LayoutView",
      "align_content": null,
      "align_items": null,
      "align_self": null,
      "border": null,
      "bottom": null,
      "display": null,
      "flex": null,
      "flex_flow": null,
      "grid_area": null,
      "grid_auto_columns": null,
      "grid_auto_flow": null,
      "grid_auto_rows": null,
      "grid_column": null,
      "grid_gap": null,
      "grid_row": null,
      "grid_template_areas": null,
      "grid_template_columns": null,
      "grid_template_rows": null,
      "height": null,
      "justify_content": null,
      "justify_items": null,
      "left": null,
      "margin": null,
      "max_height": null,
      "max_width": null,
      "min_height": null,
      "min_width": null,
      "object_fit": null,
      "object_position": null,
      "order": null,
      "overflow": null,
      "overflow_x": null,
      "overflow_y": null,
      "padding": null,
      "right": null,
      "top": null,
      "visibility": null,
      "width": null
     }
    },
    "2a28907842f4428e9f397618fde49977": {
     "model_module": "@jupyter-widgets/controls",
     "model_module_version": "1.5.0",
     "model_name": "VBoxModel",
     "state": {
      "_dom_classes": [],
      "_model_module": "@jupyter-widgets/controls",
      "_model_module_version": "1.5.0",
      "_model_name": "VBoxModel",
      "_view_count": null,
      "_view_module": "@jupyter-widgets/controls",
      "_view_module_version": "1.5.0",
      "_view_name": "VBoxView",
      "box_style": "",
      "children": [
       "IPY_MODEL_1fe7cbca377f495fadfff511a2d1f835",
       "IPY_MODEL_cfdabd99ee58480aa0932b86d76233a9",
       "IPY_MODEL_e89c8ce23aef480882a73508e4cadf0f"
      ],
      "layout": "IPY_MODEL_268ef1e7025d48feb91a9fcbe6656c33"
     }
    },
    "31f84b4b7a914739b1ed4061be49f479": {
     "model_module": "@jupyter-widgets/base",
     "model_module_version": "1.2.0",
     "model_name": "LayoutModel",
     "state": {
      "_model_module": "@jupyter-widgets/base",
      "_model_module_version": "1.2.0",
      "_model_name": "LayoutModel",
      "_view_count": null,
      "_view_module": "@jupyter-widgets/base",
      "_view_module_version": "1.2.0",
      "_view_name": "LayoutView",
      "align_content": null,
      "align_items": null,
      "align_self": null,
      "border": null,
      "bottom": null,
      "display": null,
      "flex": null,
      "flex_flow": null,
      "grid_area": null,
      "grid_auto_columns": null,
      "grid_auto_flow": null,
      "grid_auto_rows": null,
      "grid_column": null,
      "grid_gap": null,
      "grid_row": null,
      "grid_template_areas": null,
      "grid_template_columns": null,
      "grid_template_rows": null,
      "height": null,
      "justify_content": null,
      "justify_items": null,
      "left": null,
      "margin": null,
      "max_height": null,
      "max_width": null,
      "min_height": null,
      "min_width": null,
      "object_fit": null,
      "object_position": null,
      "order": null,
      "overflow": null,
      "overflow_x": null,
      "overflow_y": null,
      "padding": null,
      "right": null,
      "top": null,
      "visibility": null,
      "width": null
     }
    },
    "37c7eb9e966c473b90132b8d5b864597": {
     "model_module": "@jupyter-widgets/base",
     "model_module_version": "1.2.0",
     "model_name": "LayoutModel",
     "state": {
      "_model_module": "@jupyter-widgets/base",
      "_model_module_version": "1.2.0",
      "_model_name": "LayoutModel",
      "_view_count": null,
      "_view_module": "@jupyter-widgets/base",
      "_view_module_version": "1.2.0",
      "_view_name": "LayoutView",
      "align_content": null,
      "align_items": null,
      "align_self": null,
      "border": null,
      "bottom": null,
      "display": null,
      "flex": null,
      "flex_flow": null,
      "grid_area": null,
      "grid_auto_columns": null,
      "grid_auto_flow": null,
      "grid_auto_rows": null,
      "grid_column": null,
      "grid_gap": null,
      "grid_row": null,
      "grid_template_areas": null,
      "grid_template_columns": null,
      "grid_template_rows": null,
      "height": null,
      "justify_content": null,
      "justify_items": null,
      "left": null,
      "margin": null,
      "max_height": null,
      "max_width": null,
      "min_height": null,
      "min_width": null,
      "object_fit": null,
      "object_position": null,
      "order": null,
      "overflow": null,
      "overflow_x": null,
      "overflow_y": null,
      "padding": null,
      "right": null,
      "top": null,
      "visibility": null,
      "width": "30%"
     }
    },
    "3e65724aff1147f1bd3fe3e7bafca8f6": {
     "model_module": "@jupyter-widgets/controls",
     "model_module_version": "1.5.0",
     "model_name": "DescriptionStyleModel",
     "state": {
      "_model_module": "@jupyter-widgets/controls",
      "_model_module_version": "1.5.0",
      "_model_name": "DescriptionStyleModel",
      "_view_count": null,
      "_view_module": "@jupyter-widgets/base",
      "_view_module_version": "1.2.0",
      "_view_name": "StyleView",
      "description_width": ""
     }
    },
    "404c8f29aad145f89cddc0e8fbc241b0": {
     "model_module": "@jupyter-widgets/base",
     "model_module_version": "1.2.0",
     "model_name": "LayoutModel",
     "state": {
      "_model_module": "@jupyter-widgets/base",
      "_model_module_version": "1.2.0",
      "_model_name": "LayoutModel",
      "_view_count": null,
      "_view_module": "@jupyter-widgets/base",
      "_view_module_version": "1.2.0",
      "_view_name": "LayoutView",
      "align_content": null,
      "align_items": null,
      "align_self": null,
      "border": null,
      "bottom": null,
      "display": null,
      "flex": null,
      "flex_flow": null,
      "grid_area": null,
      "grid_auto_columns": null,
      "grid_auto_flow": null,
      "grid_auto_rows": null,
      "grid_column": null,
      "grid_gap": null,
      "grid_row": null,
      "grid_template_areas": null,
      "grid_template_columns": null,
      "grid_template_rows": null,
      "height": null,
      "justify_content": null,
      "justify_items": null,
      "left": null,
      "margin": null,
      "max_height": null,
      "max_width": null,
      "min_height": null,
      "min_width": null,
      "object_fit": null,
      "object_position": null,
      "order": null,
      "overflow": null,
      "overflow_x": null,
      "overflow_y": null,
      "padding": null,
      "right": null,
      "top": null,
      "visibility": null,
      "width": "17%"
     }
    },
    "41b3e82310314cc1b8b7d1d8122c9dff": {
     "model_module": "@jupyter-widgets/base",
     "model_module_version": "1.2.0",
     "model_name": "LayoutModel",
     "state": {
      "_model_module": "@jupyter-widgets/base",
      "_model_module_version": "1.2.0",
      "_model_name": "LayoutModel",
      "_view_count": null,
      "_view_module": "@jupyter-widgets/base",
      "_view_module_version": "1.2.0",
      "_view_name": "LayoutView",
      "align_content": null,
      "align_items": null,
      "align_self": null,
      "border": null,
      "bottom": null,
      "display": null,
      "flex": null,
      "flex_flow": null,
      "grid_area": null,
      "grid_auto_columns": null,
      "grid_auto_flow": null,
      "grid_auto_rows": null,
      "grid_column": null,
      "grid_gap": null,
      "grid_row": null,
      "grid_template_areas": null,
      "grid_template_columns": null,
      "grid_template_rows": null,
      "height": null,
      "justify_content": null,
      "justify_items": null,
      "left": null,
      "margin": null,
      "max_height": null,
      "max_width": null,
      "min_height": null,
      "min_width": null,
      "object_fit": null,
      "object_position": null,
      "order": null,
      "overflow": null,
      "overflow_x": null,
      "overflow_y": null,
      "padding": null,
      "right": null,
      "top": null,
      "visibility": null,
      "width": null
     }
    },
    "46c7e3f15c8144ee9abad13461d4edbb": {
     "model_module": "@jupyter-widgets/controls",
     "model_module_version": "1.5.0",
     "model_name": "DescriptionStyleModel",
     "state": {
      "_model_module": "@jupyter-widgets/controls",
      "_model_module_version": "1.5.0",
      "_model_name": "DescriptionStyleModel",
      "_view_count": null,
      "_view_module": "@jupyter-widgets/base",
      "_view_module_version": "1.2.0",
      "_view_name": "StyleView",
      "description_width": ""
     }
    },
    "497e22a63315470e8cd894a82b081b1a": {
     "model_module": "@jupyter-widgets/controls",
     "model_module_version": "1.5.0",
     "model_name": "SliderStyleModel",
     "state": {
      "_model_module": "@jupyter-widgets/controls",
      "_model_module_version": "1.5.0",
      "_model_name": "SliderStyleModel",
      "_view_count": null,
      "_view_module": "@jupyter-widgets/base",
      "_view_module_version": "1.2.0",
      "_view_name": "StyleView",
      "description_width": "",
      "handle_color": null
     }
    },
    "4a71208f255e44ae958831473f514585": {
     "model_module": "@jupyter-widgets/base",
     "model_module_version": "1.2.0",
     "model_name": "LayoutModel",
     "state": {
      "_model_module": "@jupyter-widgets/base",
      "_model_module_version": "1.2.0",
      "_model_name": "LayoutModel",
      "_view_count": null,
      "_view_module": "@jupyter-widgets/base",
      "_view_module_version": "1.2.0",
      "_view_name": "LayoutView",
      "align_content": null,
      "align_items": null,
      "align_self": null,
      "border": null,
      "bottom": null,
      "display": null,
      "flex": null,
      "flex_flow": null,
      "grid_area": null,
      "grid_auto_columns": null,
      "grid_auto_flow": null,
      "grid_auto_rows": null,
      "grid_column": null,
      "grid_gap": null,
      "grid_row": null,
      "grid_template_areas": null,
      "grid_template_columns": null,
      "grid_template_rows": null,
      "height": null,
      "justify_content": null,
      "justify_items": null,
      "left": null,
      "margin": null,
      "max_height": null,
      "max_width": null,
      "min_height": null,
      "min_width": null,
      "object_fit": null,
      "object_position": null,
      "order": null,
      "overflow": null,
      "overflow_x": null,
      "overflow_y": null,
      "padding": null,
      "right": null,
      "top": null,
      "visibility": null,
      "width": null
     }
    },
    "4ad125b547e044aea3f14c088cd02bae": {
     "model_module": "@jupyter-widgets/controls",
     "model_module_version": "1.5.0",
     "model_name": "DescriptionStyleModel",
     "state": {
      "_model_module": "@jupyter-widgets/controls",
      "_model_module_version": "1.5.0",
      "_model_name": "DescriptionStyleModel",
      "_view_count": null,
      "_view_module": "@jupyter-widgets/base",
      "_view_module_version": "1.2.0",
      "_view_name": "StyleView",
      "description_width": ""
     }
    },
    "4c19cbc612c0488bb38a2553adc348d5": {
     "model_module": "@jupyter-widgets/controls",
     "model_module_version": "1.5.0",
     "model_name": "HBoxModel",
     "state": {
      "_dom_classes": [],
      "_model_module": "@jupyter-widgets/controls",
      "_model_module_version": "1.5.0",
      "_model_name": "HBoxModel",
      "_view_count": null,
      "_view_module": "@jupyter-widgets/controls",
      "_view_module_version": "1.5.0",
      "_view_name": "HBoxView",
      "box_style": "",
      "children": [
       "IPY_MODEL_12c2126172ae40ef948547b3dfd763b1",
       "IPY_MODEL_03cfe615c9fe4f618f541782cbc243ff",
       "IPY_MODEL_742280947e5e4d538804e16d4182dc76"
      ],
      "layout": "IPY_MODEL_81744888b9b84073993f4547b1a4c73a"
     }
    },
    "4eb830e9f9e7433eb46e9cec1ffeee1b": {
     "model_module": "@jupyter-widgets/controls",
     "model_module_version": "1.5.0",
     "model_name": "FloatTextModel",
     "state": {
      "_dom_classes": [],
      "_model_module": "@jupyter-widgets/controls",
      "_model_module_version": "1.5.0",
      "_model_name": "FloatTextModel",
      "_view_count": null,
      "_view_module": "@jupyter-widgets/controls",
      "_view_module_version": "1.5.0",
      "_view_name": "FloatTextView",
      "continuous_update": false,
      "description": "λ:",
      "description_tooltip": null,
      "disabled": false,
      "layout": "IPY_MODEL_5ae6780260434fe7a1cf3408790e5241",
      "step": 0.01,
      "style": "IPY_MODEL_0dd1f17d8fde4a1c80a30ffadd3f1c67",
      "value": 0.05
     }
    },
    "55da9a8b06ec4205808794704dff1838": {
     "model_module": "@jupyter-widgets/controls",
     "model_module_version": "1.5.0",
     "model_name": "DescriptionStyleModel",
     "state": {
      "_model_module": "@jupyter-widgets/controls",
      "_model_module_version": "1.5.0",
      "_model_name": "DescriptionStyleModel",
      "_view_count": null,
      "_view_module": "@jupyter-widgets/base",
      "_view_module_version": "1.2.0",
      "_view_name": "StyleView",
      "description_width": ""
     }
    },
    "5ae6780260434fe7a1cf3408790e5241": {
     "model_module": "@jupyter-widgets/base",
     "model_module_version": "1.2.0",
     "model_name": "LayoutModel",
     "state": {
      "_model_module": "@jupyter-widgets/base",
      "_model_module_version": "1.2.0",
      "_model_name": "LayoutModel",
      "_view_count": null,
      "_view_module": "@jupyter-widgets/base",
      "_view_module_version": "1.2.0",
      "_view_name": "LayoutView",
      "align_content": null,
      "align_items": null,
      "align_self": null,
      "border": null,
      "bottom": null,
      "display": "none",
      "flex": null,
      "flex_flow": null,
      "grid_area": null,
      "grid_auto_columns": null,
      "grid_auto_flow": null,
      "grid_auto_rows": null,
      "grid_column": null,
      "grid_gap": null,
      "grid_row": null,
      "grid_template_areas": null,
      "grid_template_columns": null,
      "grid_template_rows": null,
      "height": null,
      "justify_content": null,
      "justify_items": null,
      "left": null,
      "margin": null,
      "max_height": null,
      "max_width": null,
      "min_height": null,
      "min_width": null,
      "object_fit": null,
      "object_position": null,
      "order": null,
      "overflow": null,
      "overflow_x": null,
      "overflow_y": null,
      "padding": null,
      "right": null,
      "top": null,
      "visibility": null,
      "width": "70%"
     }
    },
    "5b50c46b7d3a4eea8a7fdf495659274e": {
     "model_module": "@jupyter-widgets/controls",
     "model_module_version": "1.5.0",
     "model_name": "DescriptionStyleModel",
     "state": {
      "_model_module": "@jupyter-widgets/controls",
      "_model_module_version": "1.5.0",
      "_model_name": "DescriptionStyleModel",
      "_view_count": null,
      "_view_module": "@jupyter-widgets/base",
      "_view_module_version": "1.2.0",
      "_view_name": "StyleView",
      "description_width": ""
     }
    },
    "5b9d0c0432994973a41f8267a97aca8b": {
     "model_module": "@jupyter-widgets/controls",
     "model_module_version": "1.5.0",
     "model_name": "HTMLModel",
     "state": {
      "_dom_classes": [],
      "_model_module": "@jupyter-widgets/controls",
      "_model_module_version": "1.5.0",
      "_model_name": "HTMLModel",
      "_view_count": null,
      "_view_module": "@jupyter-widgets/controls",
      "_view_module_version": "1.5.0",
      "_view_name": "HTMLView",
      "description": "",
      "description_tooltip": null,
      "layout": "IPY_MODEL_623edc5cb1ec4336b02a4ccd0e502e5b",
      "placeholder": "​",
      "style": "IPY_MODEL_55da9a8b06ec4205808794704dff1838",
      "value": "<b>Plot controls:</b>"
     }
    },
    "61c28a35931c41c5914c597b5a9d62f6": {
     "model_module": "@jupyter-widgets/controls",
     "model_module_version": "1.5.0",
     "model_name": "FloatTextModel",
     "state": {
      "_dom_classes": [],
      "_model_module": "@jupyter-widgets/controls",
      "_model_module_version": "1.5.0",
      "_model_name": "FloatTextModel",
      "_view_count": null,
      "_view_module": "@jupyter-widgets/controls",
      "_view_module_version": "1.5.0",
      "_view_name": "FloatTextView",
      "continuous_update": false,
      "description": "σ:",
      "description_tooltip": null,
      "disabled": false,
      "layout": "IPY_MODEL_8d12d7678f8b4a99806a346f213e7b85",
      "step": 0.01,
      "style": "IPY_MODEL_c26666af2dd34216bbda3991401cb28e",
      "value": 0.05
     }
    },
    "623edc5cb1ec4336b02a4ccd0e502e5b": {
     "model_module": "@jupyter-widgets/base",
     "model_module_version": "1.2.0",
     "model_name": "LayoutModel",
     "state": {
      "_model_module": "@jupyter-widgets/base",
      "_model_module_version": "1.2.0",
      "_model_name": "LayoutModel",
      "_view_count": null,
      "_view_module": "@jupyter-widgets/base",
      "_view_module_version": "1.2.0",
      "_view_name": "LayoutView",
      "align_content": null,
      "align_items": null,
      "align_self": null,
      "border": null,
      "bottom": null,
      "display": null,
      "flex": null,
      "flex_flow": null,
      "grid_area": null,
      "grid_auto_columns": null,
      "grid_auto_flow": null,
      "grid_auto_rows": null,
      "grid_column": null,
      "grid_gap": null,
      "grid_row": null,
      "grid_template_areas": null,
      "grid_template_columns": null,
      "grid_template_rows": null,
      "height": null,
      "justify_content": null,
      "justify_items": null,
      "left": null,
      "margin": null,
      "max_height": null,
      "max_width": null,
      "min_height": null,
      "min_width": null,
      "object_fit": null,
      "object_position": null,
      "order": null,
      "overflow": null,
      "overflow_x": null,
      "overflow_y": null,
      "padding": null,
      "right": null,
      "top": null,
      "visibility": null,
      "width": null
     }
    },
    "63380b1cf8cf4a648f80bd91ebf52b7a": {
     "model_module": "@jupyter-widgets/controls",
     "model_module_version": "1.5.0",
     "model_name": "FloatTextModel",
     "state": {
      "_dom_classes": [],
      "_model_module": "@jupyter-widgets/controls",
      "_model_module_version": "1.5.0",
      "_model_name": "FloatTextModel",
      "_view_count": null,
      "_view_module": "@jupyter-widgets/controls",
      "_view_module_version": "1.5.0",
      "_view_name": "FloatTextView",
      "continuous_update": false,
      "description": "x1:",
      "description_tooltip": null,
      "disabled": false,
      "layout": "IPY_MODEL_0c17d50bd63f40af98f2fe7437704117",
      "step": 0.1,
      "style": "IPY_MODEL_46c7e3f15c8144ee9abad13461d4edbb",
      "value": 1.2
     }
    },
    "634fbed189ae4b0ba539ace26e36dfca": {
     "model_module": "@jupyter-widgets/base",
     "model_module_version": "1.2.0",
     "model_name": "LayoutModel",
     "state": {
      "_model_module": "@jupyter-widgets/base",
      "_model_module_version": "1.2.0",
      "_model_name": "LayoutModel",
      "_view_count": null,
      "_view_module": "@jupyter-widgets/base",
      "_view_module_version": "1.2.0",
      "_view_name": "LayoutView",
      "align_content": null,
      "align_items": null,
      "align_self": null,
      "border": null,
      "bottom": null,
      "display": "none",
      "flex": null,
      "flex_flow": null,
      "grid_area": null,
      "grid_auto_columns": null,
      "grid_auto_flow": null,
      "grid_auto_rows": null,
      "grid_column": null,
      "grid_gap": null,
      "grid_row": null,
      "grid_template_areas": null,
      "grid_template_columns": null,
      "grid_template_rows": null,
      "height": null,
      "justify_content": null,
      "justify_items": null,
      "left": null,
      "margin": null,
      "max_height": null,
      "max_width": null,
      "min_height": null,
      "min_width": null,
      "object_fit": null,
      "object_position": null,
      "order": null,
      "overflow": null,
      "overflow_x": null,
      "overflow_y": null,
      "padding": null,
      "right": null,
      "top": null,
      "visibility": null,
      "width": "70%"
     }
    },
    "670aa4a24dfb438e9a4bcc33b7ed64e3": {
     "model_module": "@jupyter-widgets/base",
     "model_module_version": "1.2.0",
     "model_name": "LayoutModel",
     "state": {
      "_model_module": "@jupyter-widgets/base",
      "_model_module_version": "1.2.0",
      "_model_name": "LayoutModel",
      "_view_count": null,
      "_view_module": "@jupyter-widgets/base",
      "_view_module_version": "1.2.0",
      "_view_name": "LayoutView",
      "align_content": null,
      "align_items": null,
      "align_self": null,
      "border": null,
      "bottom": null,
      "display": null,
      "flex": null,
      "flex_flow": null,
      "grid_area": null,
      "grid_auto_columns": null,
      "grid_auto_flow": null,
      "grid_auto_rows": null,
      "grid_column": null,
      "grid_gap": null,
      "grid_row": null,
      "grid_template_areas": null,
      "grid_template_columns": null,
      "grid_template_rows": null,
      "height": null,
      "justify_content": null,
      "justify_items": null,
      "left": null,
      "margin": null,
      "max_height": null,
      "max_width": null,
      "min_height": null,
      "min_width": null,
      "object_fit": null,
      "object_position": null,
      "order": null,
      "overflow": null,
      "overflow_x": null,
      "overflow_y": null,
      "padding": null,
      "right": null,
      "top": null,
      "visibility": null,
      "width": null
     }
    },
    "68cf0e5b37fa41f0ac6062da308850bb": {
     "model_module": "@jupyter-widgets/base",
     "model_module_version": "1.2.0",
     "model_name": "LayoutModel",
     "state": {
      "_model_module": "@jupyter-widgets/base",
      "_model_module_version": "1.2.0",
      "_model_name": "LayoutModel",
      "_view_count": null,
      "_view_module": "@jupyter-widgets/base",
      "_view_module_version": "1.2.0",
      "_view_name": "LayoutView",
      "align_content": null,
      "align_items": null,
      "align_self": null,
      "border": null,
      "bottom": null,
      "display": null,
      "flex": null,
      "flex_flow": null,
      "grid_area": null,
      "grid_auto_columns": null,
      "grid_auto_flow": null,
      "grid_auto_rows": null,
      "grid_column": null,
      "grid_gap": null,
      "grid_row": null,
      "grid_template_areas": null,
      "grid_template_columns": null,
      "grid_template_rows": null,
      "height": null,
      "justify_content": null,
      "justify_items": null,
      "left": null,
      "margin": null,
      "max_height": null,
      "max_width": null,
      "min_height": null,
      "min_width": null,
      "object_fit": null,
      "object_position": null,
      "order": null,
      "overflow": null,
      "overflow_x": null,
      "overflow_y": null,
      "padding": null,
      "right": null,
      "top": null,
      "visibility": null,
      "width": null
     }
    },
    "742280947e5e4d538804e16d4182dc76": {
     "model_module": "@jupyter-widgets/controls",
     "model_module_version": "1.5.0",
     "model_name": "IntTextModel",
     "state": {
      "_dom_classes": [],
      "_model_module": "@jupyter-widgets/controls",
      "_model_module_version": "1.5.0",
      "_model_name": "IntTextModel",
      "_view_count": null,
      "_view_module": "@jupyter-widgets/controls",
      "_view_module_version": "1.5.0",
      "_view_name": "IntTextView",
      "continuous_update": false,
      "description": "n_points:",
      "description_tooltip": null,
      "disabled": false,
      "layout": "IPY_MODEL_af634f28e8a04c769a348625bd77ec58",
      "step": 50,
      "style": "IPY_MODEL_4ad125b547e044aea3f14c088cd02bae",
      "value": 200
     }
    },
    "811b06b676504d2ebd29671c6da0a9f8": {
     "model_module": "@jupyter-widgets/controls",
     "model_module_version": "1.5.0",
     "model_name": "VBoxModel",
     "state": {
      "_dom_classes": [
       "widget-interact"
      ],
      "_model_module": "@jupyter-widgets/controls",
      "_model_module_version": "1.5.0",
      "_model_name": "VBoxModel",
      "_view_count": null,
      "_view_module": "@jupyter-widgets/controls",
      "_view_module_version": "1.5.0",
      "_view_name": "VBoxView",
      "box_style": "",
      "children": [
       "IPY_MODEL_17b6047d99d34076b59ee6cf696900ad",
       "IPY_MODEL_945f3aa63fc947018f479b3cae14593e"
      ],
      "layout": "IPY_MODEL_ebd7b9ea7b6e4dfbacc1fe1c5b9697ae"
     }
    },
    "81744888b9b84073993f4547b1a4c73a": {
     "model_module": "@jupyter-widgets/base",
     "model_module_version": "1.2.0",
     "model_name": "LayoutModel",
     "state": {
      "_model_module": "@jupyter-widgets/base",
      "_model_module_version": "1.2.0",
      "_model_name": "LayoutModel",
      "_view_count": null,
      "_view_module": "@jupyter-widgets/base",
      "_view_module_version": "1.2.0",
      "_view_name": "LayoutView",
      "align_content": null,
      "align_items": null,
      "align_self": null,
      "border": null,
      "bottom": null,
      "display": null,
      "flex": null,
      "flex_flow": null,
      "grid_area": null,
      "grid_auto_columns": null,
      "grid_auto_flow": null,
      "grid_auto_rows": null,
      "grid_column": null,
      "grid_gap": null,
      "grid_row": null,
      "grid_template_areas": null,
      "grid_template_columns": null,
      "grid_template_rows": null,
      "height": null,
      "justify_content": null,
      "justify_items": null,
      "left": null,
      "margin": null,
      "max_height": null,
      "max_width": null,
      "min_height": null,
      "min_width": null,
      "object_fit": null,
      "object_position": null,
      "order": null,
      "overflow": null,
      "overflow_x": null,
      "overflow_y": null,
      "padding": null,
      "right": null,
      "top": null,
      "visibility": null,
      "width": "95%"
     }
    },
    "85f9e286b65a4fac8c81511ba7ea4886": {
     "model_module": "@jupyter-widgets/base",
     "model_module_version": "1.2.0",
     "model_name": "LayoutModel",
     "state": {
      "_model_module": "@jupyter-widgets/base",
      "_model_module_version": "1.2.0",
      "_model_name": "LayoutModel",
      "_view_count": null,
      "_view_module": "@jupyter-widgets/base",
      "_view_module_version": "1.2.0",
      "_view_name": "LayoutView",
      "align_content": null,
      "align_items": null,
      "align_self": null,
      "border": null,
      "bottom": null,
      "display": null,
      "flex": null,
      "flex_flow": null,
      "grid_area": null,
      "grid_auto_columns": null,
      "grid_auto_flow": null,
      "grid_auto_rows": null,
      "grid_column": null,
      "grid_gap": null,
      "grid_row": null,
      "grid_template_areas": null,
      "grid_template_columns": null,
      "grid_template_rows": null,
      "height": null,
      "justify_content": null,
      "justify_items": null,
      "left": null,
      "margin": null,
      "max_height": null,
      "max_width": null,
      "min_height": null,
      "min_width": null,
      "object_fit": null,
      "object_position": null,
      "order": null,
      "overflow": null,
      "overflow_x": null,
      "overflow_y": null,
      "padding": null,
      "right": null,
      "top": null,
      "visibility": null,
      "width": null
     }
    },
    "8887c6436ed3421fa7e95edf985f73d2": {
     "model_module": "@jupyter-widgets/controls",
     "model_module_version": "1.5.0",
     "model_name": "DescriptionStyleModel",
     "state": {
      "_model_module": "@jupyter-widgets/controls",
      "_model_module_version": "1.5.0",
      "_model_name": "DescriptionStyleModel",
      "_view_count": null,
      "_view_module": "@jupyter-widgets/base",
      "_view_module_version": "1.2.0",
      "_view_name": "StyleView",
      "description_width": ""
     }
    },
    "8b615f133dbc492b95780e2096cfe179": {
     "model_module": "@jupyter-widgets/base",
     "model_module_version": "1.2.0",
     "model_name": "LayoutModel",
     "state": {
      "_model_module": "@jupyter-widgets/base",
      "_model_module_version": "1.2.0",
      "_model_name": "LayoutModel",
      "_view_count": null,
      "_view_module": "@jupyter-widgets/base",
      "_view_module_version": "1.2.0",
      "_view_name": "LayoutView",
      "align_content": null,
      "align_items": null,
      "align_self": null,
      "border": null,
      "bottom": null,
      "display": null,
      "flex": null,
      "flex_flow": null,
      "grid_area": null,
      "grid_auto_columns": null,
      "grid_auto_flow": null,
      "grid_auto_rows": null,
      "grid_column": null,
      "grid_gap": null,
      "grid_row": null,
      "grid_template_areas": null,
      "grid_template_columns": null,
      "grid_template_rows": null,
      "height": null,
      "justify_content": null,
      "justify_items": null,
      "left": null,
      "margin": null,
      "max_height": null,
      "max_width": null,
      "min_height": null,
      "min_width": null,
      "object_fit": null,
      "object_position": null,
      "order": null,
      "overflow": null,
      "overflow_x": null,
      "overflow_y": null,
      "padding": null,
      "right": null,
      "top": null,
      "visibility": null,
      "width": "17%"
     }
    },
    "8d12d7678f8b4a99806a346f213e7b85": {
     "model_module": "@jupyter-widgets/base",
     "model_module_version": "1.2.0",
     "model_name": "LayoutModel",
     "state": {
      "_model_module": "@jupyter-widgets/base",
      "_model_module_version": "1.2.0",
      "_model_name": "LayoutModel",
      "_view_count": null,
      "_view_module": "@jupyter-widgets/base",
      "_view_module_version": "1.2.0",
      "_view_name": "LayoutView",
      "align_content": null,
      "align_items": null,
      "align_self": null,
      "border": null,
      "bottom": null,
      "display": "",
      "flex": null,
      "flex_flow": null,
      "grid_area": null,
      "grid_auto_columns": null,
      "grid_auto_flow": null,
      "grid_auto_rows": null,
      "grid_column": null,
      "grid_gap": null,
      "grid_row": null,
      "grid_template_areas": null,
      "grid_template_columns": null,
      "grid_template_rows": null,
      "height": null,
      "justify_content": null,
      "justify_items": null,
      "left": null,
      "margin": null,
      "max_height": null,
      "max_width": null,
      "min_height": null,
      "min_width": null,
      "object_fit": null,
      "object_position": null,
      "order": null,
      "overflow": null,
      "overflow_x": null,
      "overflow_y": null,
      "padding": null,
      "right": null,
      "top": null,
      "visibility": null,
      "width": "70%"
     }
    },
    "945f3aa63fc947018f479b3cae14593e": {
     "model_module": "@jupyter-widgets/output",
     "model_module_version": "1.0.0",
     "model_name": "OutputModel",
     "state": {
      "_dom_classes": [],
      "_model_module": "@jupyter-widgets/output",
      "_model_module_version": "1.0.0",
      "_model_name": "OutputModel",
      "_view_count": null,
      "_view_module": "@jupyter-widgets/output",
      "_view_module_version": "1.0.0",
      "_view_name": "OutputView",
      "layout": "IPY_MODEL_68cf0e5b37fa41f0ac6062da308850bb",
      "msg_id": "",
      "outputs": [
       {
        "data": {
         "text/html": "<html>\n<head><meta charset=\"utf-8\" /></head>\n<body>\n    <div>            <script src=\"https://cdnjs.cloudflare.com/ajax/libs/mathjax/2.7.5/MathJax.js?config=TeX-AMS-MML_SVG\"></script><script type=\"text/javascript\">if (window.MathJax && window.MathJax.Hub && window.MathJax.Hub.Config) {window.MathJax.Hub.Config({SVG: {font: \"STIX-Web\"}});}</script>                <script type=\"text/javascript\">window.PlotlyConfig = {MathJaxConfig: 'local'};</script>\n        <script charset=\"utf-8\" src=\"https://cdn.plot.ly/plotly-2.35.2.min.js\"></script>                <div id=\"d231a4c4-f121-4d6e-8db1-72443dd865d1\" class=\"plotly-graph-div\" style=\"height:300px; width:500px;\"></div>            <script type=\"text/javascript\">                                    window.PLOTLYENV=window.PLOTLYENV || {};                                    if (document.getElementById(\"d231a4c4-f121-4d6e-8db1-72443dd865d1\")) {                    Plotly.newPlot(                        \"d231a4c4-f121-4d6e-8db1-72443dd865d1\",                        [{\"marker\":{\"color\":\"#d2226a\"},\"mode\":\"lines\",\"name\":\"GHI\",\"x\":[4,5,6,7,8,9,10,11,12,13,14,15,16,17,18,19,20],\"y\":[0.0,0.0,39.599998474121094,150.0,197.85000610351562,302.1499938964844,372.8999938964844,346.0,417.5,175.64999389648438,172.89999389648438,140.9499969482422,230.64999389648438,93.75,13.649999618530273,0.0,0.0],\"type\":\"scatter\"},{\"marker\":{\"color\":\"#27cfff\"},\"mode\":\"lines\",\"name\":\"DHI\",\"x\":[4,5,6,7,8,9,10,11,12,13,14,15,16,17,18,19,20],\"y\":[0.0,0.0,39.599998474121094,88.6500015258789,157.5500030517578,234.1999969482422,298.04998779296875,301.04998779296875,298.1000061035156,158.75,163.1999969482422,140.9499969482422,149.85000610351562,73.94999694824219,12.199999809265137,0.0,0.0],\"type\":\"scatter\"},{\"marker\":{\"color\":\"#febf24\"},\"mode\":\"lines\",\"name\":\"DNI\",\"x\":[4,5,6,7,8,9,10,11,12,13,14,15,16,17,18,19,20],\"y\":[0.0,0.0,0.0,227.52000427246094,85.66999816894531,105.33999633789062,96.05999755859375,51.75,131.99000549316406,19.100000381469727,11.970000267028809,0.0,154.9499969482422,60.599998474121094,12.550000190734863,0.0,0.0],\"type\":\"scatter\"}],                        {\"template\":{\"data\":{\"histogram2dcontour\":[{\"type\":\"histogram2dcontour\",\"colorbar\":{\"outlinewidth\":0,\"ticks\":\"\"},\"colorscale\":[[0.0,\"#0d0887\"],[0.1111111111111111,\"#46039f\"],[0.2222222222222222,\"#7201a8\"],[0.3333333333333333,\"#9c179e\"],[0.4444444444444444,\"#bd3786\"],[0.5555555555555556,\"#d8576b\"],[0.6666666666666666,\"#ed7953\"],[0.7777777777777778,\"#fb9f3a\"],[0.8888888888888888,\"#fdca26\"],[1.0,\"#f0f921\"]]}],\"choropleth\":[{\"type\":\"choropleth\",\"colorbar\":{\"outlinewidth\":0,\"ticks\":\"\"}}],\"histogram2d\":[{\"type\":\"histogram2d\",\"colorbar\":{\"outlinewidth\":0,\"ticks\":\"\"},\"colorscale\":[[0.0,\"#0d0887\"],[0.1111111111111111,\"#46039f\"],[0.2222222222222222,\"#7201a8\"],[0.3333333333333333,\"#9c179e\"],[0.4444444444444444,\"#bd3786\"],[0.5555555555555556,\"#d8576b\"],[0.6666666666666666,\"#ed7953\"],[0.7777777777777778,\"#fb9f3a\"],[0.8888888888888888,\"#fdca26\"],[1.0,\"#f0f921\"]]}],\"heatmap\":[{\"type\":\"heatmap\",\"colorbar\":{\"outlinewidth\":0,\"ticks\":\"\"},\"colorscale\":[[0.0,\"#0d0887\"],[0.1111111111111111,\"#46039f\"],[0.2222222222222222,\"#7201a8\"],[0.3333333333333333,\"#9c179e\"],[0.4444444444444444,\"#bd3786\"],[0.5555555555555556,\"#d8576b\"],[0.6666666666666666,\"#ed7953\"],[0.7777777777777778,\"#fb9f3a\"],[0.8888888888888888,\"#fdca26\"],[1.0,\"#f0f921\"]]}],\"heatmapgl\":[{\"type\":\"heatmapgl\",\"colorbar\":{\"outlinewidth\":0,\"ticks\":\"\"},\"colorscale\":[[0.0,\"#0d0887\"],[0.1111111111111111,\"#46039f\"],[0.2222222222222222,\"#7201a8\"],[0.3333333333333333,\"#9c179e\"],[0.4444444444444444,\"#bd3786\"],[0.5555555555555556,\"#d8576b\"],[0.6666666666666666,\"#ed7953\"],[0.7777777777777778,\"#fb9f3a\"],[0.8888888888888888,\"#fdca26\"],[1.0,\"#f0f921\"]]}],\"contourcarpet\":[{\"type\":\"contourcarpet\",\"colorbar\":{\"outlinewidth\":0,\"ticks\":\"\"}}],\"contour\":[{\"type\":\"contour\",\"colorbar\":{\"outlinewidth\":0,\"ticks\":\"\"},\"colorscale\":[[0.0,\"#0d0887\"],[0.1111111111111111,\"#46039f\"],[0.2222222222222222,\"#7201a8\"],[0.3333333333333333,\"#9c179e\"],[0.4444444444444444,\"#bd3786\"],[0.5555555555555556,\"#d8576b\"],[0.6666666666666666,\"#ed7953\"],[0.7777777777777778,\"#fb9f3a\"],[0.8888888888888888,\"#fdca26\"],[1.0,\"#f0f921\"]]}],\"surface\":[{\"type\":\"surface\",\"colorbar\":{\"outlinewidth\":0,\"ticks\":\"\"},\"colorscale\":[[0.0,\"#0d0887\"],[0.1111111111111111,\"#46039f\"],[0.2222222222222222,\"#7201a8\"],[0.3333333333333333,\"#9c179e\"],[0.4444444444444444,\"#bd3786\"],[0.5555555555555556,\"#d8576b\"],[0.6666666666666666,\"#ed7953\"],[0.7777777777777778,\"#fb9f3a\"],[0.8888888888888888,\"#fdca26\"],[1.0,\"#f0f921\"]]}],\"mesh3d\":[{\"type\":\"mesh3d\",\"colorbar\":{\"outlinewidth\":0,\"ticks\":\"\"}}],\"scatter\":[{\"fillpattern\":{\"fillmode\":\"overlay\",\"size\":10,\"solidity\":0.2},\"type\":\"scatter\"}],\"parcoords\":[{\"type\":\"parcoords\",\"line\":{\"colorbar\":{\"outlinewidth\":0,\"ticks\":\"\"}}}],\"scatterpolargl\":[{\"type\":\"scatterpolargl\",\"marker\":{\"colorbar\":{\"outlinewidth\":0,\"ticks\":\"\"}}}],\"bar\":[{\"error_x\":{\"color\":\"#2a3f5f\"},\"error_y\":{\"color\":\"#2a3f5f\"},\"marker\":{\"line\":{\"color\":\"#E5ECF6\",\"width\":0.5},\"pattern\":{\"fillmode\":\"overlay\",\"size\":10,\"solidity\":0.2}},\"type\":\"bar\"}],\"scattergeo\":[{\"type\":\"scattergeo\",\"marker\":{\"colorbar\":{\"outlinewidth\":0,\"ticks\":\"\"}}}],\"scatterpolar\":[{\"type\":\"scatterpolar\",\"marker\":{\"colorbar\":{\"outlinewidth\":0,\"ticks\":\"\"}}}],\"histogram\":[{\"marker\":{\"pattern\":{\"fillmode\":\"overlay\",\"size\":10,\"solidity\":0.2}},\"type\":\"histogram\"}],\"scattergl\":[{\"type\":\"scattergl\",\"marker\":{\"colorbar\":{\"outlinewidth\":0,\"ticks\":\"\"}}}],\"scatter3d\":[{\"type\":\"scatter3d\",\"line\":{\"colorbar\":{\"outlinewidth\":0,\"ticks\":\"\"}},\"marker\":{\"colorbar\":{\"outlinewidth\":0,\"ticks\":\"\"}}}],\"scattermapbox\":[{\"type\":\"scattermapbox\",\"marker\":{\"colorbar\":{\"outlinewidth\":0,\"ticks\":\"\"}}}],\"scatterternary\":[{\"type\":\"scatterternary\",\"marker\":{\"colorbar\":{\"outlinewidth\":0,\"ticks\":\"\"}}}],\"scattercarpet\":[{\"type\":\"scattercarpet\",\"marker\":{\"colorbar\":{\"outlinewidth\":0,\"ticks\":\"\"}}}],\"carpet\":[{\"aaxis\":{\"endlinecolor\":\"#2a3f5f\",\"gridcolor\":\"white\",\"linecolor\":\"white\",\"minorgridcolor\":\"white\",\"startlinecolor\":\"#2a3f5f\"},\"baxis\":{\"endlinecolor\":\"#2a3f5f\",\"gridcolor\":\"white\",\"linecolor\":\"white\",\"minorgridcolor\":\"white\",\"startlinecolor\":\"#2a3f5f\"},\"type\":\"carpet\"}],\"table\":[{\"cells\":{\"fill\":{\"color\":\"#EBF0F8\"},\"line\":{\"color\":\"white\"}},\"header\":{\"fill\":{\"color\":\"#C8D4E3\"},\"line\":{\"color\":\"white\"}},\"type\":\"table\"}],\"barpolar\":[{\"marker\":{\"line\":{\"color\":\"#E5ECF6\",\"width\":0.5},\"pattern\":{\"fillmode\":\"overlay\",\"size\":10,\"solidity\":0.2}},\"type\":\"barpolar\"}],\"pie\":[{\"automargin\":true,\"type\":\"pie\"}]},\"layout\":{\"autotypenumbers\":\"strict\",\"colorway\":[\"#636efa\",\"#EF553B\",\"#00cc96\",\"#ab63fa\",\"#FFA15A\",\"#19d3f3\",\"#FF6692\",\"#B6E880\",\"#FF97FF\",\"#FECB52\"],\"font\":{\"color\":\"#2a3f5f\"},\"hovermode\":\"closest\",\"hoverlabel\":{\"align\":\"left\"},\"paper_bgcolor\":\"white\",\"plot_bgcolor\":\"#E5ECF6\",\"polar\":{\"bgcolor\":\"#E5ECF6\",\"angularaxis\":{\"gridcolor\":\"white\",\"linecolor\":\"white\",\"ticks\":\"\"},\"radialaxis\":{\"gridcolor\":\"white\",\"linecolor\":\"white\",\"ticks\":\"\"}},\"ternary\":{\"bgcolor\":\"#E5ECF6\",\"aaxis\":{\"gridcolor\":\"white\",\"linecolor\":\"white\",\"ticks\":\"\"},\"baxis\":{\"gridcolor\":\"white\",\"linecolor\":\"white\",\"ticks\":\"\"},\"caxis\":{\"gridcolor\":\"white\",\"linecolor\":\"white\",\"ticks\":\"\"}},\"coloraxis\":{\"colorbar\":{\"outlinewidth\":0,\"ticks\":\"\"}},\"colorscale\":{\"sequential\":[[0.0,\"#0d0887\"],[0.1111111111111111,\"#46039f\"],[0.2222222222222222,\"#7201a8\"],[0.3333333333333333,\"#9c179e\"],[0.4444444444444444,\"#bd3786\"],[0.5555555555555556,\"#d8576b\"],[0.6666666666666666,\"#ed7953\"],[0.7777777777777778,\"#fb9f3a\"],[0.8888888888888888,\"#fdca26\"],[1.0,\"#f0f921\"]],\"sequentialminus\":[[0.0,\"#0d0887\"],[0.1111111111111111,\"#46039f\"],[0.2222222222222222,\"#7201a8\"],[0.3333333333333333,\"#9c179e\"],[0.4444444444444444,\"#bd3786\"],[0.5555555555555556,\"#d8576b\"],[0.6666666666666666,\"#ed7953\"],[0.7777777777777778,\"#fb9f3a\"],[0.8888888888888888,\"#fdca26\"],[1.0,\"#f0f921\"]],\"diverging\":[[0,\"#8e0152\"],[0.1,\"#c51b7d\"],[0.2,\"#de77ae\"],[0.3,\"#f1b6da\"],[0.4,\"#fde0ef\"],[0.5,\"#f7f7f7\"],[0.6,\"#e6f5d0\"],[0.7,\"#b8e186\"],[0.8,\"#7fbc41\"],[0.9,\"#4d9221\"],[1,\"#276419\"]]},\"xaxis\":{\"gridcolor\":\"white\",\"linecolor\":\"white\",\"ticks\":\"\",\"title\":{\"standoff\":15},\"zerolinecolor\":\"white\",\"automargin\":true,\"zerolinewidth\":2},\"yaxis\":{\"gridcolor\":\"white\",\"linecolor\":\"white\",\"ticks\":\"\",\"title\":{\"standoff\":15},\"zerolinecolor\":\"white\",\"automargin\":true,\"zerolinewidth\":2},\"scene\":{\"xaxis\":{\"backgroundcolor\":\"#E5ECF6\",\"gridcolor\":\"white\",\"linecolor\":\"white\",\"showbackground\":true,\"ticks\":\"\",\"zerolinecolor\":\"white\",\"gridwidth\":2},\"yaxis\":{\"backgroundcolor\":\"#E5ECF6\",\"gridcolor\":\"white\",\"linecolor\":\"white\",\"showbackground\":true,\"ticks\":\"\",\"zerolinecolor\":\"white\",\"gridwidth\":2},\"zaxis\":{\"backgroundcolor\":\"#E5ECF6\",\"gridcolor\":\"white\",\"linecolor\":\"white\",\"showbackground\":true,\"ticks\":\"\",\"zerolinecolor\":\"white\",\"gridwidth\":2}},\"shapedefaults\":{\"line\":{\"color\":\"#2a3f5f\"}},\"annotationdefaults\":{\"arrowcolor\":\"#2a3f5f\",\"arrowhead\":0,\"arrowwidth\":1},\"geo\":{\"bgcolor\":\"white\",\"landcolor\":\"#E5ECF6\",\"subunitcolor\":\"white\",\"showland\":true,\"showlakes\":true,\"lakecolor\":\"white\"},\"title\":{\"x\":0.05},\"mapbox\":{\"style\":\"light\"}}},\"xaxis\":{\"title\":{\"text\":\"Hour of Day\"},\"range\":[4,20],\"linewidth\":1,\"linecolor\":\"black\",\"mirror\":true,\"ticks\":\"outside\",\"dtick\":2},\"yaxis\":{\"title\":{\"text\":\"Irradiance (W\\u002fm²)\"},\"range\":[0,1130],\"linewidth\":1,\"linecolor\":\"black\",\"mirror\":true,\"ticks\":\"outside\",\"showgrid\":true,\"gridwidth\":0.1,\"gridcolor\":\"LightGrey\"},\"title\":{\"text\":\"Irradiance on 1990-02-26\",\"x\":0.5,\"font\":{\"size\":18}},\"margin\":{\"l\":20,\"r\":20,\"t\":35,\"b\":20},\"height\":300,\"width\":500,\"font\":{\"size\":16},\"paper_bgcolor\":\"rgba(0,0,0,0)\",\"plot_bgcolor\":\"rgba(0,0,0,0)\"},                        {\"responsive\": true}                    ).then(function(){\n                            \nvar gd = document.getElementById('d231a4c4-f121-4d6e-8db1-72443dd865d1');\nvar x = new MutationObserver(function (mutations, observer) {{\n        var display = window.getComputedStyle(gd).display;\n        if (!display || display === 'none') {{\n            console.log([gd, 'removed!']);\n            Plotly.purge(gd);\n            observer.disconnect();\n        }}\n}});\n\n// Listen for the removal of the full notebook cells\nvar notebookContainer = gd.closest('#notebook-container');\nif (notebookContainer) {{\n    x.observe(notebookContainer, {childList: true});\n}}\n\n// Listen for the clearing of the current output cell\nvar outputEl = gd.closest('.output');\nif (outputEl) {{\n    x.observe(outputEl, {childList: true});\n}}\n\n                        })                };                            </script>        </div>\n</body>\n</html>"
        },
        "metadata": {},
        "output_type": "display_data"
       }
      ]
     }
    },
    "9918703946f9475da7d8449d5941fe29": {
     "model_module": "@jupyter-widgets/controls",
     "model_module_version": "1.5.0",
     "model_name": "VBoxModel",
     "state": {
      "_dom_classes": [],
      "_model_module": "@jupyter-widgets/controls",
      "_model_module_version": "1.5.0",
      "_model_name": "VBoxModel",
      "_view_count": null,
      "_view_module": "@jupyter-widgets/controls",
      "_view_module_version": "1.5.0",
      "_view_name": "VBoxView",
      "box_style": "",
      "children": [
       "IPY_MODEL_d1559228ff9346b99d53caff767596e3",
       "IPY_MODEL_61c28a35931c41c5914c597b5a9d62f6",
       "IPY_MODEL_a0cf098e51484f38ada54085dda166c7",
       "IPY_MODEL_eec2cccf6f964cfb9e741b0350683c71"
      ],
      "layout": "IPY_MODEL_4a71208f255e44ae958831473f514585"
     }
    },
    "9ab92614c9d24cdf962912fbb42fc58c": {
     "model_module": "@jupyter-widgets/controls",
     "model_module_version": "1.5.0",
     "model_name": "DescriptionStyleModel",
     "state": {
      "_model_module": "@jupyter-widgets/controls",
      "_model_module_version": "1.5.0",
      "_model_name": "DescriptionStyleModel",
      "_view_count": null,
      "_view_module": "@jupyter-widgets/base",
      "_view_module_version": "1.2.0",
      "_view_name": "StyleView",
      "description_width": ""
     }
    },
    "9bc35332a9c44880942ce3ea9d778583": {
     "model_module": "@jupyter-widgets/controls",
     "model_module_version": "1.5.0",
     "model_name": "VBoxModel",
     "state": {
      "_dom_classes": [],
      "_model_module": "@jupyter-widgets/controls",
      "_model_module_version": "1.5.0",
      "_model_name": "VBoxModel",
      "_view_count": null,
      "_view_module": "@jupyter-widgets/controls",
      "_view_module_version": "1.5.0",
      "_view_name": "VBoxView",
      "box_style": "",
      "children": [
       "IPY_MODEL_63380b1cf8cf4a648f80bd91ebf52b7a",
       "IPY_MODEL_e6aaacfb0d22470c9dcdc307f5d5f089",
       "IPY_MODEL_4eb830e9f9e7433eb46e9cec1ffeee1b",
       "IPY_MODEL_01cca1f76dfc469f9abb9ba3c2a2ca7d"
      ],
      "layout": "IPY_MODEL_ddc4574c05064b05a92b9240d2af718c"
     }
    },
    "9f5921851d4d4518a2b89d68e364e938": {
     "model_module": "@jupyter-widgets/base",
     "model_module_version": "1.2.0",
     "model_name": "LayoutModel",
     "state": {
      "_model_module": "@jupyter-widgets/base",
      "_model_module_version": "1.2.0",
      "_model_name": "LayoutModel",
      "_view_count": null,
      "_view_module": "@jupyter-widgets/base",
      "_view_module_version": "1.2.0",
      "_view_name": "LayoutView",
      "align_content": null,
      "align_items": null,
      "align_self": null,
      "border": null,
      "bottom": null,
      "display": "none",
      "flex": null,
      "flex_flow": null,
      "grid_area": null,
      "grid_auto_columns": null,
      "grid_auto_flow": null,
      "grid_auto_rows": null,
      "grid_column": null,
      "grid_gap": null,
      "grid_row": null,
      "grid_template_areas": null,
      "grid_template_columns": null,
      "grid_template_rows": null,
      "height": null,
      "justify_content": null,
      "justify_items": null,
      "left": null,
      "margin": null,
      "max_height": null,
      "max_width": null,
      "min_height": null,
      "min_width": null,
      "object_fit": null,
      "object_position": null,
      "order": null,
      "overflow": null,
      "overflow_x": null,
      "overflow_y": null,
      "padding": null,
      "right": null,
      "top": null,
      "visibility": null,
      "width": "70%"
     }
    },
    "9fdebe93701e49889dd16c5abdaea0e9": {
     "model_module": "@jupyter-widgets/controls",
     "model_module_version": "1.5.0",
     "model_name": "DescriptionStyleModel",
     "state": {
      "_model_module": "@jupyter-widgets/controls",
      "_model_module_version": "1.5.0",
      "_model_name": "DescriptionStyleModel",
      "_view_count": null,
      "_view_module": "@jupyter-widgets/base",
      "_view_module_version": "1.2.0",
      "_view_name": "StyleView",
      "description_width": ""
     }
    },
    "a0cf098e51484f38ada54085dda166c7": {
     "model_module": "@jupyter-widgets/controls",
     "model_module_version": "1.5.0",
     "model_name": "FloatTextModel",
     "state": {
      "_dom_classes": [],
      "_model_module": "@jupyter-widgets/controls",
      "_model_module_version": "1.5.0",
      "_model_name": "FloatTextModel",
      "_view_count": null,
      "_view_module": "@jupyter-widgets/controls",
      "_view_module_version": "1.5.0",
      "_view_name": "FloatTextView",
      "continuous_update": false,
      "description": "k:",
      "description_tooltip": null,
      "disabled": false,
      "layout": "IPY_MODEL_9f5921851d4d4518a2b89d68e364e938",
      "step": 0.1,
      "style": "IPY_MODEL_9fdebe93701e49889dd16c5abdaea0e9",
      "value": 2
     }
    },
    "a9406355b3564238978c82a7f0465441": {
     "model_module": "@jupyter-widgets/controls",
     "model_module_version": "1.5.0",
     "model_name": "HBoxModel",
     "state": {
      "_dom_classes": [],
      "_model_module": "@jupyter-widgets/controls",
      "_model_module_version": "1.5.0",
      "_model_name": "HBoxModel",
      "_view_count": null,
      "_view_module": "@jupyter-widgets/controls",
      "_view_module_version": "1.5.0",
      "_view_name": "HBoxView",
      "box_style": "",
      "children": [
       "IPY_MODEL_9918703946f9475da7d8449d5941fe29",
       "IPY_MODEL_9bc35332a9c44880942ce3ea9d778583"
      ],
      "layout": "IPY_MODEL_670aa4a24dfb438e9a4bcc33b7ed64e3"
     }
    },
    "af634f28e8a04c769a348625bd77ec58": {
     "model_module": "@jupyter-widgets/base",
     "model_module_version": "1.2.0",
     "model_name": "LayoutModel",
     "state": {
      "_model_module": "@jupyter-widgets/base",
      "_model_module_version": "1.2.0",
      "_model_name": "LayoutModel",
      "_view_count": null,
      "_view_module": "@jupyter-widgets/base",
      "_view_module_version": "1.2.0",
      "_view_name": "LayoutView",
      "align_content": null,
      "align_items": null,
      "align_self": null,
      "border": null,
      "bottom": null,
      "display": null,
      "flex": null,
      "flex_flow": null,
      "grid_area": null,
      "grid_auto_columns": null,
      "grid_auto_flow": null,
      "grid_auto_rows": null,
      "grid_column": null,
      "grid_gap": null,
      "grid_row": null,
      "grid_template_areas": null,
      "grid_template_columns": null,
      "grid_template_rows": null,
      "height": null,
      "justify_content": null,
      "justify_items": null,
      "left": null,
      "margin": null,
      "max_height": null,
      "max_width": null,
      "min_height": null,
      "min_width": null,
      "object_fit": null,
      "object_position": null,
      "order": null,
      "overflow": null,
      "overflow_x": null,
      "overflow_y": null,
      "padding": null,
      "right": null,
      "top": null,
      "visibility": null,
      "width": "17%"
     }
    },
    "bab86dd017c54823b01de015a91dbabb": {
     "model_module": "@jupyter-widgets/base",
     "model_module_version": "1.2.0",
     "model_name": "LayoutModel",
     "state": {
      "_model_module": "@jupyter-widgets/base",
      "_model_module_version": "1.2.0",
      "_model_name": "LayoutModel",
      "_view_count": null,
      "_view_module": "@jupyter-widgets/base",
      "_view_module_version": "1.2.0",
      "_view_name": "LayoutView",
      "align_content": null,
      "align_items": null,
      "align_self": null,
      "border": null,
      "bottom": null,
      "display": null,
      "flex": null,
      "flex_flow": null,
      "grid_area": null,
      "grid_auto_columns": null,
      "grid_auto_flow": null,
      "grid_auto_rows": null,
      "grid_column": null,
      "grid_gap": null,
      "grid_row": null,
      "grid_template_areas": null,
      "grid_template_columns": null,
      "grid_template_rows": null,
      "height": null,
      "justify_content": null,
      "justify_items": null,
      "left": null,
      "margin": null,
      "max_height": null,
      "max_width": null,
      "min_height": null,
      "min_width": null,
      "object_fit": null,
      "object_position": null,
      "order": null,
      "overflow": null,
      "overflow_x": null,
      "overflow_y": null,
      "padding": null,
      "right": null,
      "top": null,
      "visibility": null,
      "width": null
     }
    },
    "c25c9ed93a78472bba9c4b440b2946d7": {
     "model_module": "@jupyter-widgets/base",
     "model_module_version": "1.2.0",
     "model_name": "LayoutModel",
     "state": {
      "_model_module": "@jupyter-widgets/base",
      "_model_module_version": "1.2.0",
      "_model_name": "LayoutModel",
      "_view_count": null,
      "_view_module": "@jupyter-widgets/base",
      "_view_module_version": "1.2.0",
      "_view_name": "LayoutView",
      "align_content": null,
      "align_items": null,
      "align_self": null,
      "border": null,
      "bottom": null,
      "display": "none",
      "flex": null,
      "flex_flow": null,
      "grid_area": null,
      "grid_auto_columns": null,
      "grid_auto_flow": null,
      "grid_auto_rows": null,
      "grid_column": null,
      "grid_gap": null,
      "grid_row": null,
      "grid_template_areas": null,
      "grid_template_columns": null,
      "grid_template_rows": null,
      "height": null,
      "justify_content": null,
      "justify_items": null,
      "left": null,
      "margin": null,
      "max_height": null,
      "max_width": null,
      "min_height": null,
      "min_width": null,
      "object_fit": null,
      "object_position": null,
      "order": null,
      "overflow": null,
      "overflow_x": null,
      "overflow_y": null,
      "padding": null,
      "right": null,
      "top": null,
      "visibility": null,
      "width": "70%"
     }
    },
    "c26666af2dd34216bbda3991401cb28e": {
     "model_module": "@jupyter-widgets/controls",
     "model_module_version": "1.5.0",
     "model_name": "DescriptionStyleModel",
     "state": {
      "_model_module": "@jupyter-widgets/controls",
      "_model_module_version": "1.5.0",
      "_model_name": "DescriptionStyleModel",
      "_view_count": null,
      "_view_module": "@jupyter-widgets/base",
      "_view_module_version": "1.2.0",
      "_view_name": "StyleView",
      "description_width": ""
     }
    },
    "c9e5cf0c56f34ad7b481171a9243f849": {
     "model_module": "@jupyter-widgets/controls",
     "model_module_version": "1.5.0",
     "model_name": "DropdownModel",
     "state": {
      "_dom_classes": [],
      "_model_module": "@jupyter-widgets/controls",
      "_model_module_version": "1.5.0",
      "_model_name": "DropdownModel",
      "_options_labels": [
       "Gaussian",
       "Skewed Gaussian",
       "Weibull"
      ],
      "_view_count": null,
      "_view_module": "@jupyter-widgets/controls",
      "_view_module_version": "1.5.0",
      "_view_name": "DropdownView",
      "description": "Distribution:",
      "description_tooltip": null,
      "disabled": false,
      "index": 0,
      "layout": "IPY_MODEL_37c7eb9e966c473b90132b8d5b864597",
      "style": "IPY_MODEL_01566dea1e754185b5eb6be57fb3e65d"
     }
    },
    "cfdabd99ee58480aa0932b86d76233a9": {
     "model_module": "@jupyter-widgets/output",
     "model_module_version": "1.0.0",
     "model_name": "OutputModel",
     "state": {
      "_dom_classes": [],
      "_model_module": "@jupyter-widgets/output",
      "_model_module_version": "1.0.0",
      "_model_name": "OutputModel",
      "_view_count": null,
      "_view_module": "@jupyter-widgets/output",
      "_view_module_version": "1.0.0",
      "_view_name": "OutputView",
      "layout": "IPY_MODEL_31f84b4b7a914739b1ed4061be49f479",
      "msg_id": "",
      "outputs": [
       {
        "name": "stdout",
        "output_type": "stream",
        "text": [
         "\t\t['Gaussian', 1, 0.05]\n"
        ]
       },
       {
        "data": {
         "text/html": "<html>\n<head><meta charset=\"utf-8\" /></head>\n<body>\n    <div>            <script src=\"https://cdnjs.cloudflare.com/ajax/libs/mathjax/2.7.5/MathJax.js?config=TeX-AMS-MML_SVG\"></script><script type=\"text/javascript\">if (window.MathJax && window.MathJax.Hub && window.MathJax.Hub.Config) {window.MathJax.Hub.Config({SVG: {font: \"STIX-Web\"}});}</script>                <script type=\"text/javascript\">window.PlotlyConfig = {MathJaxConfig: 'local'};</script>\n        <script charset=\"utf-8\" src=\"https://cdn.plot.ly/plotly-2.35.2.min.js\"></script>                <div id=\"62dae464-bb30-4327-b24a-f126ff287cac\" class=\"plotly-graph-div\" style=\"height:350px; width:400px;\"></div>            <script type=\"text/javascript\">                                    window.PLOTLYENV=window.PLOTLYENV || {};                                    if (document.getElementById(\"62dae464-bb30-4327-b24a-f126ff287cac\")) {                    Plotly.newPlot(                        \"62dae464-bb30-4327-b24a-f126ff287cac\",                        [{\"marker\":{\"color\":\"#d2226a\"},\"mode\":\"lines\",\"name\":\"Relative frequency\",\"x\":[0.0,0.01,0.02,0.03,0.04,0.05,0.06,0.07,0.08,0.09,0.1,0.11,0.12,0.13,0.14,0.15,0.16,0.17,0.18,0.19,0.2,0.21,0.22,0.23,0.24,0.25,0.26,0.27,0.28,0.29,0.3,0.31,0.32,0.33,0.34,0.35000000000000003,0.36,0.37,0.38,0.39,0.4,0.41000000000000003,0.42,0.43,0.44,0.45,0.46,0.47000000000000003,0.48,0.49,0.5,0.51,0.52,0.53,0.54,0.55,0.56,0.5700000000000001,0.58,0.59,0.6,0.61,0.62,0.63,0.64,0.65,0.66,0.67,0.68,0.6900000000000001,0.7000000000000001,0.71,0.72,0.73,0.74,0.75,0.76,0.77,0.78,0.79,0.8,0.81,0.8200000000000001,0.8300000000000001,0.84,0.85,0.86,0.87,0.88,0.89,0.9,0.91,0.92,0.93,0.9400000000000001,0.9500000000000001,0.96,0.97,0.98,0.99,1.0,1.01,1.02,1.03,1.04,1.05,1.06,1.07,1.08,1.09,1.1,1.11,1.12,1.1300000000000001,1.1400000000000001,1.1500000000000001,1.16,1.17,1.18,1.19,1.2,1.21,1.22,1.23,1.24,1.25,1.26,1.27,1.28,1.29,1.3,1.31,1.32,1.33,1.34,1.35,1.36,1.37,1.3800000000000001,1.3900000000000001,1.4000000000000001,1.41,1.42,1.43,1.44,1.45,1.46,1.47,1.48,1.49,1.5,1.51,1.52,1.53,1.54,1.55,1.56,1.57,1.58,1.59,1.6,1.61,1.62,1.6300000000000001,1.6400000000000001,1.6500000000000001,1.6600000000000001,1.67,1.68,1.69,1.7,1.71,1.72,1.73,1.74,1.75,1.76,1.77,1.78,1.79,1.8,1.81,1.82,1.83,1.84,1.85,1.86,1.87,1.8800000000000001,1.8900000000000001,1.9000000000000001,1.9100000000000001,1.92,1.93,1.94,1.95,1.96,1.97,1.98,1.99,2.0],\"y\":[1.3838965267367376e-87,7.406203778867958e-86,3.8081663925606643e-84,1.8813274639386436e-82,8.929786911572053e-81,4.072358625761408e-79,1.784346355085867e-77,7.511739530735145e-76,3.0382961507319073e-74,1.1807226845824186e-72,4.408531331463226e-71,1.581496287947995e-69,5.450930475734714e-68,1.8051002629936473e-66,5.743283267428818e-65,1.7556880978548268e-63,5.156591326842331e-62,1.4551450402017122e-60,3.9452822052174554e-59,1.0277277534252784e-57,2.572209372642415e-56,6.185328486824212e-55,1.4290500583705025e-53,3.1721983574449105e-52,6.765524179769529e-51,1.3863432936411706e-49,2.7294072571903864e-48,5.162904820056606e-47,9.38313827283089e-46,1.6384392170068878e-44,2.7487850079102936e-43,4.43077231241295e-42,6.86193047676156e-41,1.021036846089396e-39,1.4597037932096358e-38,2.005008781961711e-37,2.64603779068766e-36,3.355088856231146e-35,4.087334972866004e-34,4.784148555816903e-33,5.380186160021215e-32,5.813238884889629e-31,6.034860805970919e-30,6.019280276816486e-29,5.768329961247802e-28,5.311092249679096e-27,4.6983548608979803e-26,3.993337409857663e-25,3.261027180711029e-24,2.558592081048686e-23,1.9287498479639178e-22,1.3969439431471188e-21,9.72098502030078e-21,6.499347972070986e-20,4.175010055850544e-19,2.5767571091550176e-18,1.5279799682873156e-17,8.705426622296374e-17,4.765304735299088e-16,2.5062218871452745e-15,1.2664165549094176e-14,6.148396412704777e-14,2.867975008888098e-13,1.2853372251336548e-12,5.534610071701052e-12,2.2897348456455695e-11,9.101470764488e-11,3.475891281239959e-10,1.2754076295260578e-9,4.4963494622809015e-9,1.522997974471279e-8,4.95640531917248e-8,1.5497531357028912e-7,4.655715715783078e-7,1.343812277631519e-6,3.7266531720786714e-6,9.929504305851081e-6,0.000025419346516199295,0.00006252150377482037,0.00014774836023203415,0.00033546262790251305,0.0007318024188804755,0.0015338106793244715,0.0030887154082367856,0.005976022895005932,0.011108996538242287,0.01984109474437027,0.03404745473459933,0.056134762834133725,0.08892161745938638,0.1353352832366128,0.19789869908361493,0.27803730045319447,0.37531109885140007,0.48675225595997235,0.6065306597126342,0.7261490370736905,0.8352702114112718,0.9231163463866356,0.9801986733067553,1.0,0.9801986733067553,0.9231163463866356,0.8352702114112718,0.7261490370736905,0.6065306597126329,0.486752255959971,0.37531109885139896,0.27803730045319347,0.19789869908361413,0.1353352832366122,0.08892161745938594,0.05613476283413343,0.034047454734599136,0.019841094744370145,0.011108996538242218,0.005976022895005975,0.0030887154082367856,0.0015338106793244715,0.0007318024188804755,0.00033546262790251305,0.00014774836023203415,0.00006252150377482037,0.000025419346516199295,9.929504305851081e-6,3.7266531720786714e-6,1.343812277631519e-6,4.655715715783078e-7,1.5497531357028912e-7,4.95640531917248e-8,1.522997974471252e-8,4.496349462280838e-9,1.275407629526035e-9,3.4758912812398977e-10,9.101470764487838e-11,2.2897348456455203e-11,5.5346100717009545e-12,1.2853372251336275e-12,2.8679750088880473e-13,6.148396412704648e-14,1.2664165549093996e-14,2.506221887145328e-15,4.765304735299156e-16,8.705426622296374e-17,1.5279799682873156e-17,2.5767571091550176e-18,4.175010055850544e-19,6.499347972070986e-20,9.72098502030078e-21,1.3969439431471188e-21,1.9287498479639178e-22,2.558592081048686e-23,3.261027180711029e-24,3.993337409857663e-25,4.6983548608979803e-26,5.311092249679096e-27,5.768329961247802e-28,6.019280276816486e-29,6.034860805970919e-30,5.813238884889547e-31,5.380186160020985e-32,4.784148555816768e-33,4.0873349728658285e-34,3.3550888562310496e-35,2.646037790687547e-36,2.005008781961597e-37,1.459703793209532e-38,1.021036846089396e-39,6.86193047676156e-41,4.43077231241295e-42,2.7487850079102936e-43,1.6384392170068878e-44,9.38313827283089e-46,5.162904820056606e-47,2.7294072571903864e-48,1.3863432936411706e-49,6.765524179769529e-51,3.1721983574449105e-52,1.4290500583705025e-53,6.185328486824212e-55,2.572209372642415e-56,1.0277277534252784e-57,3.9452822052174554e-59,1.4551450402016293e-60,5.156591326842038e-62,1.7556880978548268e-63,5.743283267428818e-65,1.8051002629935448e-66,5.450930475734405e-68,1.581496287947995e-69,4.408531331463226e-71,1.1807226845823178e-72,3.0382961507319073e-74,7.511739530735145e-76,1.784346355085867e-77,4.072358625761408e-79,8.929786911572053e-81,1.8813274639386436e-82,3.8081663925606643e-84,7.406203778867958e-86,1.3838965267367376e-87],\"type\":\"scatter\"}],                        {\"template\":{\"data\":{\"histogram2dcontour\":[{\"type\":\"histogram2dcontour\",\"colorbar\":{\"outlinewidth\":0,\"ticks\":\"\"},\"colorscale\":[[0.0,\"#0d0887\"],[0.1111111111111111,\"#46039f\"],[0.2222222222222222,\"#7201a8\"],[0.3333333333333333,\"#9c179e\"],[0.4444444444444444,\"#bd3786\"],[0.5555555555555556,\"#d8576b\"],[0.6666666666666666,\"#ed7953\"],[0.7777777777777778,\"#fb9f3a\"],[0.8888888888888888,\"#fdca26\"],[1.0,\"#f0f921\"]]}],\"choropleth\":[{\"type\":\"choropleth\",\"colorbar\":{\"outlinewidth\":0,\"ticks\":\"\"}}],\"histogram2d\":[{\"type\":\"histogram2d\",\"colorbar\":{\"outlinewidth\":0,\"ticks\":\"\"},\"colorscale\":[[0.0,\"#0d0887\"],[0.1111111111111111,\"#46039f\"],[0.2222222222222222,\"#7201a8\"],[0.3333333333333333,\"#9c179e\"],[0.4444444444444444,\"#bd3786\"],[0.5555555555555556,\"#d8576b\"],[0.6666666666666666,\"#ed7953\"],[0.7777777777777778,\"#fb9f3a\"],[0.8888888888888888,\"#fdca26\"],[1.0,\"#f0f921\"]]}],\"heatmap\":[{\"type\":\"heatmap\",\"colorbar\":{\"outlinewidth\":0,\"ticks\":\"\"},\"colorscale\":[[0.0,\"#0d0887\"],[0.1111111111111111,\"#46039f\"],[0.2222222222222222,\"#7201a8\"],[0.3333333333333333,\"#9c179e\"],[0.4444444444444444,\"#bd3786\"],[0.5555555555555556,\"#d8576b\"],[0.6666666666666666,\"#ed7953\"],[0.7777777777777778,\"#fb9f3a\"],[0.8888888888888888,\"#fdca26\"],[1.0,\"#f0f921\"]]}],\"heatmapgl\":[{\"type\":\"heatmapgl\",\"colorbar\":{\"outlinewidth\":0,\"ticks\":\"\"},\"colorscale\":[[0.0,\"#0d0887\"],[0.1111111111111111,\"#46039f\"],[0.2222222222222222,\"#7201a8\"],[0.3333333333333333,\"#9c179e\"],[0.4444444444444444,\"#bd3786\"],[0.5555555555555556,\"#d8576b\"],[0.6666666666666666,\"#ed7953\"],[0.7777777777777778,\"#fb9f3a\"],[0.8888888888888888,\"#fdca26\"],[1.0,\"#f0f921\"]]}],\"contourcarpet\":[{\"type\":\"contourcarpet\",\"colorbar\":{\"outlinewidth\":0,\"ticks\":\"\"}}],\"contour\":[{\"type\":\"contour\",\"colorbar\":{\"outlinewidth\":0,\"ticks\":\"\"},\"colorscale\":[[0.0,\"#0d0887\"],[0.1111111111111111,\"#46039f\"],[0.2222222222222222,\"#7201a8\"],[0.3333333333333333,\"#9c179e\"],[0.4444444444444444,\"#bd3786\"],[0.5555555555555556,\"#d8576b\"],[0.6666666666666666,\"#ed7953\"],[0.7777777777777778,\"#fb9f3a\"],[0.8888888888888888,\"#fdca26\"],[1.0,\"#f0f921\"]]}],\"surface\":[{\"type\":\"surface\",\"colorbar\":{\"outlinewidth\":0,\"ticks\":\"\"},\"colorscale\":[[0.0,\"#0d0887\"],[0.1111111111111111,\"#46039f\"],[0.2222222222222222,\"#7201a8\"],[0.3333333333333333,\"#9c179e\"],[0.4444444444444444,\"#bd3786\"],[0.5555555555555556,\"#d8576b\"],[0.6666666666666666,\"#ed7953\"],[0.7777777777777778,\"#fb9f3a\"],[0.8888888888888888,\"#fdca26\"],[1.0,\"#f0f921\"]]}],\"mesh3d\":[{\"type\":\"mesh3d\",\"colorbar\":{\"outlinewidth\":0,\"ticks\":\"\"}}],\"scatter\":[{\"fillpattern\":{\"fillmode\":\"overlay\",\"size\":10,\"solidity\":0.2},\"type\":\"scatter\"}],\"parcoords\":[{\"type\":\"parcoords\",\"line\":{\"colorbar\":{\"outlinewidth\":0,\"ticks\":\"\"}}}],\"scatterpolargl\":[{\"type\":\"scatterpolargl\",\"marker\":{\"colorbar\":{\"outlinewidth\":0,\"ticks\":\"\"}}}],\"bar\":[{\"error_x\":{\"color\":\"#2a3f5f\"},\"error_y\":{\"color\":\"#2a3f5f\"},\"marker\":{\"line\":{\"color\":\"#E5ECF6\",\"width\":0.5},\"pattern\":{\"fillmode\":\"overlay\",\"size\":10,\"solidity\":0.2}},\"type\":\"bar\"}],\"scattergeo\":[{\"type\":\"scattergeo\",\"marker\":{\"colorbar\":{\"outlinewidth\":0,\"ticks\":\"\"}}}],\"scatterpolar\":[{\"type\":\"scatterpolar\",\"marker\":{\"colorbar\":{\"outlinewidth\":0,\"ticks\":\"\"}}}],\"histogram\":[{\"marker\":{\"pattern\":{\"fillmode\":\"overlay\",\"size\":10,\"solidity\":0.2}},\"type\":\"histogram\"}],\"scattergl\":[{\"type\":\"scattergl\",\"marker\":{\"colorbar\":{\"outlinewidth\":0,\"ticks\":\"\"}}}],\"scatter3d\":[{\"type\":\"scatter3d\",\"line\":{\"colorbar\":{\"outlinewidth\":0,\"ticks\":\"\"}},\"marker\":{\"colorbar\":{\"outlinewidth\":0,\"ticks\":\"\"}}}],\"scattermapbox\":[{\"type\":\"scattermapbox\",\"marker\":{\"colorbar\":{\"outlinewidth\":0,\"ticks\":\"\"}}}],\"scatterternary\":[{\"type\":\"scatterternary\",\"marker\":{\"colorbar\":{\"outlinewidth\":0,\"ticks\":\"\"}}}],\"scattercarpet\":[{\"type\":\"scattercarpet\",\"marker\":{\"colorbar\":{\"outlinewidth\":0,\"ticks\":\"\"}}}],\"carpet\":[{\"aaxis\":{\"endlinecolor\":\"#2a3f5f\",\"gridcolor\":\"white\",\"linecolor\":\"white\",\"minorgridcolor\":\"white\",\"startlinecolor\":\"#2a3f5f\"},\"baxis\":{\"endlinecolor\":\"#2a3f5f\",\"gridcolor\":\"white\",\"linecolor\":\"white\",\"minorgridcolor\":\"white\",\"startlinecolor\":\"#2a3f5f\"},\"type\":\"carpet\"}],\"table\":[{\"cells\":{\"fill\":{\"color\":\"#EBF0F8\"},\"line\":{\"color\":\"white\"}},\"header\":{\"fill\":{\"color\":\"#C8D4E3\"},\"line\":{\"color\":\"white\"}},\"type\":\"table\"}],\"barpolar\":[{\"marker\":{\"line\":{\"color\":\"#E5ECF6\",\"width\":0.5},\"pattern\":{\"fillmode\":\"overlay\",\"size\":10,\"solidity\":0.2}},\"type\":\"barpolar\"}],\"pie\":[{\"automargin\":true,\"type\":\"pie\"}]},\"layout\":{\"autotypenumbers\":\"strict\",\"colorway\":[\"#636efa\",\"#EF553B\",\"#00cc96\",\"#ab63fa\",\"#FFA15A\",\"#19d3f3\",\"#FF6692\",\"#B6E880\",\"#FF97FF\",\"#FECB52\"],\"font\":{\"color\":\"#2a3f5f\"},\"hovermode\":\"closest\",\"hoverlabel\":{\"align\":\"left\"},\"paper_bgcolor\":\"white\",\"plot_bgcolor\":\"#E5ECF6\",\"polar\":{\"bgcolor\":\"#E5ECF6\",\"angularaxis\":{\"gridcolor\":\"white\",\"linecolor\":\"white\",\"ticks\":\"\"},\"radialaxis\":{\"gridcolor\":\"white\",\"linecolor\":\"white\",\"ticks\":\"\"}},\"ternary\":{\"bgcolor\":\"#E5ECF6\",\"aaxis\":{\"gridcolor\":\"white\",\"linecolor\":\"white\",\"ticks\":\"\"},\"baxis\":{\"gridcolor\":\"white\",\"linecolor\":\"white\",\"ticks\":\"\"},\"caxis\":{\"gridcolor\":\"white\",\"linecolor\":\"white\",\"ticks\":\"\"}},\"coloraxis\":{\"colorbar\":{\"outlinewidth\":0,\"ticks\":\"\"}},\"colorscale\":{\"sequential\":[[0.0,\"#0d0887\"],[0.1111111111111111,\"#46039f\"],[0.2222222222222222,\"#7201a8\"],[0.3333333333333333,\"#9c179e\"],[0.4444444444444444,\"#bd3786\"],[0.5555555555555556,\"#d8576b\"],[0.6666666666666666,\"#ed7953\"],[0.7777777777777778,\"#fb9f3a\"],[0.8888888888888888,\"#fdca26\"],[1.0,\"#f0f921\"]],\"sequentialminus\":[[0.0,\"#0d0887\"],[0.1111111111111111,\"#46039f\"],[0.2222222222222222,\"#7201a8\"],[0.3333333333333333,\"#9c179e\"],[0.4444444444444444,\"#bd3786\"],[0.5555555555555556,\"#d8576b\"],[0.6666666666666666,\"#ed7953\"],[0.7777777777777778,\"#fb9f3a\"],[0.8888888888888888,\"#fdca26\"],[1.0,\"#f0f921\"]],\"diverging\":[[0,\"#8e0152\"],[0.1,\"#c51b7d\"],[0.2,\"#de77ae\"],[0.3,\"#f1b6da\"],[0.4,\"#fde0ef\"],[0.5,\"#f7f7f7\"],[0.6,\"#e6f5d0\"],[0.7,\"#b8e186\"],[0.8,\"#7fbc41\"],[0.9,\"#4d9221\"],[1,\"#276419\"]]},\"xaxis\":{\"gridcolor\":\"white\",\"linecolor\":\"white\",\"ticks\":\"\",\"title\":{\"standoff\":15},\"zerolinecolor\":\"white\",\"automargin\":true,\"zerolinewidth\":2},\"yaxis\":{\"gridcolor\":\"white\",\"linecolor\":\"white\",\"ticks\":\"\",\"title\":{\"standoff\":15},\"zerolinecolor\":\"white\",\"automargin\":true,\"zerolinewidth\":2},\"scene\":{\"xaxis\":{\"backgroundcolor\":\"#E5ECF6\",\"gridcolor\":\"white\",\"linecolor\":\"white\",\"showbackground\":true,\"ticks\":\"\",\"zerolinecolor\":\"white\",\"gridwidth\":2},\"yaxis\":{\"backgroundcolor\":\"#E5ECF6\",\"gridcolor\":\"white\",\"linecolor\":\"white\",\"showbackground\":true,\"ticks\":\"\",\"zerolinecolor\":\"white\",\"gridwidth\":2},\"zaxis\":{\"backgroundcolor\":\"#E5ECF6\",\"gridcolor\":\"white\",\"linecolor\":\"white\",\"showbackground\":true,\"ticks\":\"\",\"zerolinecolor\":\"white\",\"gridwidth\":2}},\"shapedefaults\":{\"line\":{\"color\":\"#2a3f5f\"}},\"annotationdefaults\":{\"arrowcolor\":\"#2a3f5f\",\"arrowhead\":0,\"arrowwidth\":1},\"geo\":{\"bgcolor\":\"white\",\"landcolor\":\"#E5ECF6\",\"subunitcolor\":\"white\",\"showland\":true,\"showlakes\":true,\"lakecolor\":\"white\"},\"title\":{\"x\":0.05},\"mapbox\":{\"style\":\"light\"}}},\"margin\":{\"l\":20,\"r\":20,\"t\":15,\"b\":20},\"xaxis\":{\"title\":{\"text\":\"x\"},\"linewidth\":1,\"linecolor\":\"black\",\"mirror\":true,\"ticks\":\"outside\"},\"yaxis\":{\"title\":{\"text\":\"Relative frequency\"},\"linewidth\":1,\"linecolor\":\"black\",\"mirror\":true,\"ticks\":\"outside\",\"showgrid\":true,\"gridwidth\":0.1,\"gridcolor\":\"LightGrey\"},\"width\":400,\"height\":350,\"font\":{\"size\":16},\"title\":{\"font\":{\"size\":18}},\"paper_bgcolor\":\"rgba(0,0,0,0)\",\"plot_bgcolor\":\"rgba(0,0,0,0)\"},                        {\"responsive\": true}                    ).then(function(){\n                            \nvar gd = document.getElementById('62dae464-bb30-4327-b24a-f126ff287cac');\nvar x = new MutationObserver(function (mutations, observer) {{\n        var display = window.getComputedStyle(gd).display;\n        if (!display || display === 'none') {{\n            console.log([gd, 'removed!']);\n            Plotly.purge(gd);\n            observer.disconnect();\n        }}\n}});\n\n// Listen for the removal of the full notebook cells\nvar notebookContainer = gd.closest('#notebook-container');\nif (notebookContainer) {{\n    x.observe(notebookContainer, {childList: true});\n}}\n\n// Listen for the clearing of the current output cell\nvar outputEl = gd.closest('.output');\nif (outputEl) {{\n    x.observe(outputEl, {childList: true});\n}}\n\n                        })                };                            </script>        </div>\n</body>\n</html>"
        },
        "metadata": {},
        "output_type": "display_data"
       }
      ]
     }
    },
    "d1559228ff9346b99d53caff767596e3": {
     "model_module": "@jupyter-widgets/controls",
     "model_module_version": "1.5.0",
     "model_name": "FloatTextModel",
     "state": {
      "_dom_classes": [],
      "_model_module": "@jupyter-widgets/controls",
      "_model_module_version": "1.5.0",
      "_model_name": "FloatTextModel",
      "_view_count": null,
      "_view_module": "@jupyter-widgets/controls",
      "_view_module_version": "1.5.0",
      "_view_name": "FloatTextView",
      "continuous_update": false,
      "description": "x0:",
      "description_tooltip": null,
      "disabled": false,
      "layout": "IPY_MODEL_1f510be95d43417b820c678ba091b352",
      "step": 0.01,
      "style": "IPY_MODEL_3e65724aff1147f1bd3fe3e7bafca8f6",
      "value": 1
     }
    },
    "d7ee9756ee9343ebad76c82bed42642d": {
     "model_module": "@jupyter-widgets/controls",
     "model_module_version": "1.5.0",
     "model_name": "DescriptionStyleModel",
     "state": {
      "_model_module": "@jupyter-widgets/controls",
      "_model_module_version": "1.5.0",
      "_model_name": "DescriptionStyleModel",
      "_view_count": null,
      "_view_module": "@jupyter-widgets/base",
      "_view_module_version": "1.2.0",
      "_view_name": "StyleView",
      "description_width": ""
     }
    },
    "ddc4574c05064b05a92b9240d2af718c": {
     "model_module": "@jupyter-widgets/base",
     "model_module_version": "1.2.0",
     "model_name": "LayoutModel",
     "state": {
      "_model_module": "@jupyter-widgets/base",
      "_model_module_version": "1.2.0",
      "_model_name": "LayoutModel",
      "_view_count": null,
      "_view_module": "@jupyter-widgets/base",
      "_view_module_version": "1.2.0",
      "_view_name": "LayoutView",
      "align_content": null,
      "align_items": null,
      "align_self": null,
      "border": null,
      "bottom": null,
      "display": null,
      "flex": null,
      "flex_flow": null,
      "grid_area": null,
      "grid_auto_columns": null,
      "grid_auto_flow": null,
      "grid_auto_rows": null,
      "grid_column": null,
      "grid_gap": null,
      "grid_row": null,
      "grid_template_areas": null,
      "grid_template_columns": null,
      "grid_template_rows": null,
      "height": null,
      "justify_content": null,
      "justify_items": null,
      "left": null,
      "margin": null,
      "max_height": null,
      "max_width": null,
      "min_height": null,
      "min_width": null,
      "object_fit": null,
      "object_position": null,
      "order": null,
      "overflow": null,
      "overflow_x": null,
      "overflow_y": null,
      "padding": null,
      "right": null,
      "top": null,
      "visibility": null,
      "width": null
     }
    },
    "e6aaacfb0d22470c9dcdc307f5d5f089": {
     "model_module": "@jupyter-widgets/controls",
     "model_module_version": "1.5.0",
     "model_name": "FloatTextModel",
     "state": {
      "_dom_classes": [],
      "_model_module": "@jupyter-widgets/controls",
      "_model_module_version": "1.5.0",
      "_model_name": "FloatTextModel",
      "_view_count": null,
      "_view_module": "@jupyter-widgets/controls",
      "_view_module_version": "1.5.0",
      "_view_name": "FloatTextView",
      "continuous_update": false,
      "description": "skewness:",
      "description_tooltip": null,
      "disabled": false,
      "layout": "IPY_MODEL_c25c9ed93a78472bba9c4b440b2946d7",
      "step": 0.1,
      "style": "IPY_MODEL_04ecb642cccc4837baa99f00522a447a",
      "value": 2
     }
    },
    "e89c8ce23aef480882a73508e4cadf0f": {
     "model_module": "@jupyter-widgets/controls",
     "model_module_version": "1.5.0",
     "model_name": "VBoxModel",
     "state": {
      "_dom_classes": [],
      "_model_module": "@jupyter-widgets/controls",
      "_model_module_version": "1.5.0",
      "_model_name": "VBoxModel",
      "_view_count": null,
      "_view_module": "@jupyter-widgets/controls",
      "_view_module_version": "1.5.0",
      "_view_name": "VBoxView",
      "box_style": "",
      "children": [
       "IPY_MODEL_5b9d0c0432994973a41f8267a97aca8b",
       "IPY_MODEL_4c19cbc612c0488bb38a2553adc348d5"
      ],
      "layout": "IPY_MODEL_41b3e82310314cc1b8b7d1d8122c9dff"
     }
    },
    "ebd7b9ea7b6e4dfbacc1fe1c5b9697ae": {
     "model_module": "@jupyter-widgets/base",
     "model_module_version": "1.2.0",
     "model_name": "LayoutModel",
     "state": {
      "_model_module": "@jupyter-widgets/base",
      "_model_module_version": "1.2.0",
      "_model_name": "LayoutModel",
      "_view_count": null,
      "_view_module": "@jupyter-widgets/base",
      "_view_module_version": "1.2.0",
      "_view_name": "LayoutView",
      "align_content": null,
      "align_items": null,
      "align_self": null,
      "border": null,
      "bottom": null,
      "display": null,
      "flex": null,
      "flex_flow": null,
      "grid_area": null,
      "grid_auto_columns": null,
      "grid_auto_flow": null,
      "grid_auto_rows": null,
      "grid_column": null,
      "grid_gap": null,
      "grid_row": null,
      "grid_template_areas": null,
      "grid_template_columns": null,
      "grid_template_rows": null,
      "height": null,
      "justify_content": null,
      "justify_items": null,
      "left": null,
      "margin": null,
      "max_height": null,
      "max_width": null,
      "min_height": null,
      "min_width": null,
      "object_fit": null,
      "object_position": null,
      "order": null,
      "overflow": null,
      "overflow_x": null,
      "overflow_y": null,
      "padding": null,
      "right": null,
      "top": null,
      "visibility": null,
      "width": null
     }
    },
    "eec2cccf6f964cfb9e741b0350683c71": {
     "model_module": "@jupyter-widgets/controls",
     "model_module_version": "1.5.0",
     "model_name": "FloatTextModel",
     "state": {
      "_dom_classes": [],
      "_model_module": "@jupyter-widgets/controls",
      "_model_module_version": "1.5.0",
      "_model_name": "FloatTextModel",
      "_view_count": null,
      "_view_module": "@jupyter-widgets/controls",
      "_view_module_version": "1.5.0",
      "_view_name": "FloatTextView",
      "continuous_update": false,
      "description": "height:",
      "description_tooltip": null,
      "disabled": false,
      "layout": "IPY_MODEL_fa88320f0e854db88968435bc4535da4",
      "step": 0.1,
      "style": "IPY_MODEL_8887c6436ed3421fa7e95edf985f73d2",
      "value": 1
     }
    },
    "fa88320f0e854db88968435bc4535da4": {
     "model_module": "@jupyter-widgets/base",
     "model_module_version": "1.2.0",
     "model_name": "LayoutModel",
     "state": {
      "_model_module": "@jupyter-widgets/base",
      "_model_module_version": "1.2.0",
      "_model_name": "LayoutModel",
      "_view_count": null,
      "_view_module": "@jupyter-widgets/base",
      "_view_module_version": "1.2.0",
      "_view_name": "LayoutView",
      "align_content": null,
      "align_items": null,
      "align_self": null,
      "border": null,
      "bottom": null,
      "display": "none",
      "flex": null,
      "flex_flow": null,
      "grid_area": null,
      "grid_auto_columns": null,
      "grid_auto_flow": null,
      "grid_auto_rows": null,
      "grid_column": null,
      "grid_gap": null,
      "grid_row": null,
      "grid_template_areas": null,
      "grid_template_columns": null,
      "grid_template_rows": null,
      "height": null,
      "justify_content": null,
      "justify_items": null,
      "left": null,
      "margin": null,
      "max_height": null,
      "max_width": null,
      "min_height": null,
      "min_width": null,
      "object_fit": null,
      "object_position": null,
      "order": null,
      "overflow": null,
      "overflow_x": null,
      "overflow_y": null,
      "padding": null,
      "right": null,
      "top": null,
      "visibility": null,
      "width": "70%"
     }
    }
   }
  }
 },
 "nbformat": 4,
 "nbformat_minor": 5
}
